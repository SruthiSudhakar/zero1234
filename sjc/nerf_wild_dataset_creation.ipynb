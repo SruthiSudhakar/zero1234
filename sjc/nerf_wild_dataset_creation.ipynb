{
 "cells": [
  {
   "cell_type": "code",
   "execution_count": 1,
   "id": "3c873cf3",
   "metadata": {},
   "outputs": [],
   "source": [
    "import cv2, os, sys, numpy as np, torch, json\n",
    "from tqdm.notebook import tqdm\n",
    "import imageio\n",
    "from PIL import Image\n",
    "import matplotlib.pyplot as plt\n",
    "import math\n",
    "from numpy.linalg import norm, inv\n",
    "import math, torch\n",
    "from numpy import cross, tan\n",
    "\n",
    "def normalize(v):\n",
    "    return v / norm(v)"
   ]
  },
  {
   "cell_type": "code",
   "execution_count": 2,
   "id": "c302b0c6",
   "metadata": {},
   "outputs": [],
   "source": [
    "def camera_pose(eye, front, up):\n",
    "    # print('eye', eye)\n",
    "    # print('front', front)\n",
    "    # print('up', up)\n",
    "    z = normalize(-1 * front) # -1 except for mesh\n",
    "    x = normalize(cross(up, z))\n",
    "    y = normalize(cross(z, x))\n",
    " \n",
    "    # convert to col vector\n",
    "    x = x.reshape(-1, 1)\n",
    "    y = y.reshape(-1, 1)\n",
    "    z = z.reshape(-1, 1)\n",
    "    eye = eye.reshape(-1, 1)\n",
    "\n",
    "    pose = np.block([\n",
    "        [x, y, z, eye],\n",
    "        [0, 0, 0, 1]\n",
    "    ])\n",
    "    return pose"
   ]
  },
  {
   "cell_type": "code",
   "execution_count": 3,
   "id": "081570e3",
   "metadata": {},
   "outputs": [],
   "source": [
    "def sample_spherical(radius_min=1.5, radius_max=2.0, maxz=1.6, minz=-0.75):\n",
    "    correct = False\n",
    "    while not correct:\n",
    "        vec = np.random.uniform(-1, 1, 3)\n",
    "#         vec[2] = np.abs(vec[2])\n",
    "        radius = np.random.uniform(radius_min, radius_max, 1)\n",
    "        vec = vec / np.linalg.norm(vec, axis=0) * radius[0]\n",
    "        if maxz > vec[2] > minz:\n",
    "            correct = True\n",
    "    return vec"
   ]
  },
  {
   "cell_type": "code",
   "execution_count": 4,
   "id": "80d9956c",
   "metadata": {},
   "outputs": [],
   "source": [
    "dataset_root = '/proj/vondrick3/sruthi/zero123-internal-test/sjc/data/nerf_wild/pillowsquish'\n",
    "raw_img_path = '/proj/vondrick3/sruthi/zero123-internal-test/sjc/data/nerf_wild/pillow'"
   ]
  },
  {
   "cell_type": "code",
   "execution_count": 5,
   "id": "3ca83914",
   "metadata": {},
   "outputs": [],
   "source": [
    "imgs = os.listdir(raw_img_path)"
   ]
  },
  {
   "cell_type": "code",
   "execution_count": 8,
   "id": "3a924f22",
   "metadata": {},
   "outputs": [],
   "source": [
    "radius = 2.0\n",
    "up = np.array([0, 0, 1])"
   ]
  },
  {
   "cell_type": "code",
   "execution_count": 9,
   "id": "44af1a08",
   "metadata": {},
   "outputs": [],
   "source": [
    "# polar_angles = [110., 70., 70, 90, 90, 75, 70, 80, 75, 80] # nerf_wild\n",
    "# polar_angles = [90., 70., 80, 80, 85, 90,  45, 80] # nerf_object\n",
    "# polar_angles = [90., 90., 90, 90, 90, 90, 90, 90, 90, 90] # nerf_sculpture\n",
    "# polar_angles = [50., 60., 90, 90, 90, 90, 80, 80, 75, 80] # nerf_art\n",
    "# polar_angles = [85, 90, 90, 90] # nerf_art\n",
    "polar_angles = [90 for i in imgs] # nerf_art\n",
    "fov = math.radians(49.1)"
   ]
  },
  {
   "cell_type": "code",
   "execution_count": 10,
   "id": "6a9c74b4",
   "metadata": {
    "scrolled": true
   },
   "outputs": [],
   "source": [
    "for i_img in range(len(imgs)):\n",
    "    scene_name = i_img\n",
    "    scene_dir = os.path.join(dataset_root, str(scene_name))\n",
    "    os.makedirs(scene_dir, exist_ok=True)\n",
    "    \n",
    "    # move images\n",
    "    img_dir = os.path.join(raw_img_path, '%d.png' % i_img)\n",
    "    img = imageio.imread(img_dir)\n",
    "    img = cv2.resize(img, [800, 800], interpolation = cv2.INTER_LINEAR)\n",
    "    img = Image.fromarray(img)\n",
    "    train_dir = os.path.join(scene_dir, 'train')\n",
    "    os.makedirs(train_dir, exist_ok=True)\n",
    "    new_img_dir = os.path.join(train_dir, 'r_0.png')\n",
    "    img.save(new_img_dir)\n",
    "    \n",
    "    # create transforms\n",
    "    angle = polar_angles[i_img]\n",
    "    eye = normalize(np.array([0, math.tan(math.radians(angle)), 1])) * radius\n",
    "    c2w = camera_pose(eye, -eye, up)\n",
    "    \n",
    "    transformations = {}\n",
    "    transformations[\"camera_angle_x\"] = fov\n",
    "    transformations[\"frames\"] = []\n",
    "    frame = {}\n",
    "    frame[\"file_path\"] = './' + '/'.join(new_img_dir.split('/')[-2:])[:-4]\n",
    "    frame[\"transform_matrix\"] = c2w.tolist()\n",
    "    transformations[\"frames\"].append(frame.copy())\n",
    "    \n",
    "    for i in range(32):\n",
    "        eye = sample_spherical(1.9, 2.1, 2.1, -1.0)\n",
    "        c2w = camera_pose(eye, -eye, up)\n",
    "        frame['transform_matrix'] = c2w.tolist()\n",
    "        transformations[\"frames\"].append(frame.copy())\n",
    "    \n",
    "    json_path = os.path.join(scene_dir, 'transforms_train.json')\n",
    "    with open(json_path, 'w') as f:\n",
    "        json.dump(transformations, f, indent=4)"
   ]
  },
  {
   "cell_type": "code",
   "execution_count": 11,
   "id": "338a85a3",
   "metadata": {},
   "outputs": [
    {
     "name": "stderr",
     "output_type": "stream",
     "text": [
      "/tmp/ipykernel_3649962/4279138343.py:12: RuntimeWarning: invalid value encountered in divide\n",
      "  return v / norm(v)\n"
     ]
    },
    {
     "data": {
      "text/plain": [
       "array([[nan, nan, -1.,  1.],\n",
       "       [nan, nan,  0.,  0.],\n",
       "       [nan, nan,  0.,  0.],\n",
       "       [ 0.,  0.,  0.,  1.]])"
      ]
     },
     "execution_count": 11,
     "metadata": {},
     "output_type": "execute_result"
    }
   ],
   "source": [
    "camera_pose(np.array([1, 0, 0]), np.array([1, 0, 0]), np.array([1, 0, 0]))"
   ]
  }
 ],
 "metadata": {
  "kernelspec": {
   "display_name": "Python 3 (ipykernel)",
   "language": "python",
   "name": "python3"
  },
  "language_info": {
   "codemirror_mode": {
    "name": "ipython",
    "version": 3
   },
   "file_extension": ".py",
   "mimetype": "text/x-python",
   "name": "python",
   "nbconvert_exporter": "python",
   "pygments_lexer": "ipython3",
   "version": "3.9.0"
  }
 },
 "nbformat": 4,
 "nbformat_minor": 5
}
