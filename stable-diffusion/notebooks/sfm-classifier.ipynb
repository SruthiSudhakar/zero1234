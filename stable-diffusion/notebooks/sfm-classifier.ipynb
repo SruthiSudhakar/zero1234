{
 "cells": [
  {
   "cell_type": "code",
   "execution_count": 1,
   "id": "82773050",
   "metadata": {},
   "outputs": [],
   "source": [
    "import torch\n",
    "import json\n",
    "import torch\n",
    "import os\n",
    "import numpy as np\n",
    "from PIL import Image\n",
    "import random\n",
    "import math\n",
    "from torch.utils.data import Dataset\n",
    "from torchvision import datasets\n",
    "import torchvision\n",
    "from torchvision.transforms import ToTensor\n",
    "import matplotlib.pyplot as plt\n",
    "from torch.utils.data import DataLoader\n"
   ]
  },
  {
   "cell_type": "code",
   "execution_count": 2,
   "id": "0cfd9469",
   "metadata": {},
   "outputs": [],
   "source": [
    "dataset_root = '/home/rliu/Desktop/cvfiler04/datasets/objaverse/hf-objaverse-v1/views_whole_sphere'"
   ]
  },
  {
   "cell_type": "markdown",
   "id": "24e057d7",
   "metadata": {},
   "source": [
    "# dataset"
   ]
  },
  {
   "cell_type": "code",
   "execution_count": 3,
   "id": "c3177bc1",
   "metadata": {},
   "outputs": [],
   "source": [
    "class objaverse_sfm(Dataset):\n",
    "    def __init__(self, root_dir, total_view, train=True, transform=None):\n",
    "        self.root_dir = root_dir\n",
    "        self.transform = transform\n",
    "        with open(os.path.join(root_dir, 'valid_paths.json')) as f:\n",
    "            self.paths = json.load(f)\n",
    "        random.shuffle(self.paths)\n",
    "        self.total_view = total_view\n",
    "        self.train = train\n",
    "        total_objects = len(self.paths)\n",
    "        if train:\n",
    "            self.paths = self.paths[:math.floor(total_objects / 100. * 99.)] # used first 99% as training|\n",
    "        else:\n",
    "            self.paths = self.paths[math.floor(total_objects / 100. * 99.):] # used last 1% as validation\n",
    "        \n",
    "    def __len__(self):\n",
    "        return len(self.img_labels)\n",
    "\n",
    "    def __len__(self):\n",
    "        return len(self.paths)\n",
    "        \n",
    "    def cartesian_to_spherical(self, xyz):\n",
    "        ptsnew = np.hstack((xyz, np.zeros(xyz.shape)))\n",
    "        xy = xyz[:,0]**2 + xyz[:,1]**2\n",
    "        z = np.sqrt(xy + xyz[:,2]**2)\n",
    "        theta = np.arctan2(np.sqrt(xy), xyz[:,2]) # for elevation angle defined from Z-axis down\n",
    "        #ptsnew[:,4] = np.arctan2(xyz[:,2], np.sqrt(xy)) # for elevation angle defined from XY-plane up\n",
    "        azimuth = np.arctan2(xyz[:,1], xyz[:,0])\n",
    "        return np.array([theta, azimuth, z])\n",
    "\n",
    "    def get_T(self, target_RT, cond_RT):\n",
    "        R, T = target_RT[:3, :3], target_RT[:, -1]\n",
    "        T_target = -R.T @ T\n",
    "\n",
    "        R, T = cond_RT[:3, :3], cond_RT[:, -1]\n",
    "        T_cond = -R.T @ T\n",
    "\n",
    "        theta_cond, azimuth_cond, z_cond = self.cartesian_to_spherical(T_cond[None, :])\n",
    "        theta_target, azimuth_target, z_target = self.cartesian_to_spherical(T_target[None, :])\n",
    "        \n",
    "        d_theta = theta_target - theta_cond\n",
    "        d_azimuth = azimuth_target - azimuth_cond\n",
    "        d_z = z_target - z_cond\n",
    "        \n",
    "        d_T = torch.tensor([d_theta.item(), math.sin(d_azimuth.item()), math.cos(d_azimuth.item()), d_z.item()])\n",
    "        return d_T\n",
    "\n",
    "    def load_im(self, path):\n",
    "        '''\n",
    "        replace background pixel with white in rendering\n",
    "        '''\n",
    "        img = plt.imread(path)\n",
    "        img[img[:, :, -1] == 0.] = [1., 1., 1., 1.]\n",
    "        img = Image.fromarray(np.uint8(img[:, :, :3] * 255.))\n",
    "        return img\n",
    "\n",
    "    def __getitem__(self, index):\n",
    "        data = {}\n",
    "        index_target, index_cond = random.sample(range(self.total_view), 2) # without replacement\n",
    "        filename = os.path.join(self.root_dir, self.paths[index])\n",
    "\n",
    "        # print(self.paths[index])\n",
    "\n",
    "#         if self.return_paths:\n",
    "#             data[\"path\"] = str(filename)\n",
    "            \n",
    "        target_im = self.process_im(self.load_im(os.path.join(filename, '%03d.png' % index_target)))\n",
    "        target_RT = np.load(os.path.join(filename, '%03d.npy' % index_target))\n",
    "        cond_im = self.process_im(self.load_im(os.path.join(filename, '%03d.png' % index_cond)))\n",
    "        cond_RT = np.load(os.path.join(filename, '%03d.npy' % index_cond))\n",
    "\n",
    "        data[\"image_target\"] = target_im\n",
    "        data[\"image_cond\"] = cond_im\n",
    "        data[\"T\"] = self.get_T(target_RT, cond_RT)\n",
    "\n",
    "        return data\n",
    "    \n",
    "    def process_im(self, im):\n",
    "        im = im.convert(\"RGB\")\n",
    "        im = self.transform(im)\n",
    "        im = torchvision.transforms.functional.resize(im, 224)\n",
    "        im = im * 2. - 1.\n",
    "        return im"
   ]
  },
  {
   "cell_type": "code",
   "execution_count": 4,
   "id": "b00b35d6",
   "metadata": {},
   "outputs": [],
   "source": [
    "dataset = objaverse_sfm(dataset_root, 4, train=True, transform = ToTensor())"
   ]
  },
  {
   "cell_type": "code",
   "execution_count": 5,
   "id": "1f8ec2ce",
   "metadata": {
    "scrolled": true
   },
   "outputs": [
    {
     "data": {
      "text/plain": [
       "torch.Size([3, 224, 224])"
      ]
     },
     "execution_count": 5,
     "metadata": {},
     "output_type": "execute_result"
    }
   ],
   "source": [
    "dataset[0]['image_target'].shape"
   ]
  },
  {
   "cell_type": "code",
   "execution_count": 6,
   "id": "0cbbe165",
   "metadata": {},
   "outputs": [],
   "source": [
    "train_dataloader = DataLoader(objaverse_sfm(dataset_root, 4, train=True, transform = ToTensor()),\\\n",
    "                              batch_size=16, shuffle=True)\n",
    "test_dataloader = DataLoader(objaverse_sfm(dataset_root, 4, train=False, transform = ToTensor()),\\\n",
    "                             batch_size=16, shuffle=False)"
   ]
  },
  {
   "cell_type": "code",
   "execution_count": 7,
   "id": "c18f4f7e",
   "metadata": {},
   "outputs": [],
   "source": [
    "batch = next(iter(train_dataloader))"
   ]
  },
  {
   "cell_type": "code",
   "execution_count": 8,
   "id": "797384ad",
   "metadata": {},
   "outputs": [
    {
     "data": {
      "text/plain": [
       "torch.Size([16, 3, 224, 224])"
      ]
     },
     "execution_count": 8,
     "metadata": {},
     "output_type": "execute_result"
    }
   ],
   "source": [
    "batch['image_target'].shape"
   ]
  },
  {
   "cell_type": "markdown",
   "id": "70985626",
   "metadata": {},
   "source": [
    "# model"
   ]
  },
  {
   "cell_type": "code",
   "execution_count": 9,
   "id": "ce717657",
   "metadata": {},
   "outputs": [],
   "source": [
    "class sfm(torch.nn.Module):\n",
    "    def __init__(self):\n",
    "        super(sfm, self).__init__()\n",
    "    \n",
    "        self.cond_cnn = torchvision.models.resnet18(torchvision.models.ResNet18_Weights.DEFAULT)\n",
    "        self.cond_cnn.fc = torch.nn.Sequential()\n",
    "        self.target_cnn = torchvision.models.resnet18(torchvision.models.ResNet18_Weights.DEFAULT)\n",
    "        self.target_cnn.fc = torch.nn.Sequential()\n",
    "        self.linear1 = torch.nn.Linear(1024, 1024)\n",
    "        self.activation = torch.nn.ReLU()\n",
    "        self.linear2 = torch.nn.Linear(1024, 4)\n",
    "\n",
    "    def forward(self, cond, target):\n",
    "        cond_feature = self.cond_cnn(cond)\n",
    "        target_feature = self.target_cnn(target)\n",
    "        x = torch.cat([cond_feature, target_feature], dim=-1)\n",
    "        x = self.linear1(x)\n",
    "        x = self.activation(x)\n",
    "        x = self.linear2(x)\n",
    "        return x"
   ]
  },
  {
   "cell_type": "code",
   "execution_count": 10,
   "id": "72ce0889",
   "metadata": {},
   "outputs": [
    {
     "name": "stderr",
     "output_type": "stream",
     "text": [
      "/home/rliu/anaconda3/lib/python3.9/site-packages/torchvision/models/_utils.py:135: UserWarning: Using 'weights' as positional parameter(s) is deprecated since 0.13 and may be removed in the future. Please use keyword parameter(s) instead.\n",
      "  warnings.warn(\n"
     ]
    }
   ],
   "source": [
    "model = sfm()"
   ]
  },
  {
   "cell_type": "code",
   "execution_count": 12,
   "id": "31aa7170",
   "metadata": {},
   "outputs": [],
   "source": [
    "image_target, image_cond, T = batch['image_target'], batch['image_cond'], batch['T']"
   ]
  },
  {
   "cell_type": "code",
   "execution_count": 13,
   "id": "505c997b",
   "metadata": {},
   "outputs": [
    {
     "data": {
      "text/plain": [
       "(torch.Size([16, 3, 224, 224]),\n",
       " torch.Size([16, 3, 224, 224]),\n",
       " torch.Size([16, 4]))"
      ]
     },
     "execution_count": 13,
     "metadata": {},
     "output_type": "execute_result"
    }
   ],
   "source": [
    "image_target.shape, image_cond.shape, T.shape"
   ]
  },
  {
   "cell_type": "code",
   "execution_count": 14,
   "id": "5a9e767e",
   "metadata": {},
   "outputs": [],
   "source": [
    "pred = model(image_cond, image_target)"
   ]
  },
  {
   "cell_type": "code",
   "execution_count": 15,
   "id": "3488cbb3",
   "metadata": {},
   "outputs": [],
   "source": [
    "loss = ((pred - T) ** 2).mean()"
   ]
  },
  {
   "cell_type": "code",
   "execution_count": 16,
   "id": "6c25ec5d",
   "metadata": {},
   "outputs": [],
   "source": [
    "loss.backward()"
   ]
  },
  {
   "cell_type": "markdown",
   "id": "75340ad6",
   "metadata": {},
   "source": [
    "# training"
   ]
  },
  {
   "cell_type": "code",
   "execution_count": 129,
   "id": "bd1f6cd1",
   "metadata": {
    "scrolled": true
   },
   "outputs": [
    {
     "name": "stdout",
     "output_type": "stream",
     "text": [
      "[100,   100] loss: 0.566\n",
      "[200,   200] loss: 0.537\n",
      "[300,   300] loss: 0.516\n",
      "[400,   400] loss: 0.517\n",
      "[500,   500] loss: 0.509\n",
      "[600,   600] loss: 0.500\n",
      "[700,   700] loss: 0.491\n",
      "[800,   800] loss: 0.493\n",
      "[900,   900] loss: 0.495\n",
      "[1000,  1000] loss: 0.485\n",
      "[1100,  1100] loss: 0.492\n",
      "[1200,  1200] loss: 0.484\n",
      "[1300,  1300] loss: 0.487\n",
      "[1400,  1400] loss: 0.482\n",
      "[1500,  1500] loss: 0.486\n",
      "[1600,  1600] loss: 0.485\n",
      "[1700,  1700] loss: 0.484\n",
      "[1800,  1800] loss: 0.481\n",
      "[1900,  1900] loss: 0.485\n",
      "[2000,  2000] loss: 0.484\n",
      "[2100,  2100] loss: 0.482\n",
      "[2200,  2200] loss: 0.483\n",
      "[2300,  2300] loss: 0.482\n",
      "[2400,  2400] loss: 0.485\n",
      "[2500,  2500] loss: 0.478\n",
      "[2600,  2600] loss: 0.483\n",
      "[2700,  2700] loss: 0.480\n",
      "[2800,  2800] loss: 0.481\n",
      "[2900,  2900] loss: 0.479\n",
      "[3000,  3000] loss: 0.476\n",
      "[3100,  3100] loss: 0.477\n",
      "[3200,  3200] loss: 0.482\n",
      "[3300,  3300] loss: 0.474\n",
      "[3400,  3400] loss: 0.482\n",
      "[3500,  3500] loss: 0.479\n",
      "[3600,  3600] loss: 0.477\n",
      "[3700,  3700] loss: 0.474\n",
      "[3800,  3800] loss: 0.479\n",
      "[3900,  3900] loss: 0.474\n",
      "[4000,  4000] loss: 0.473\n",
      "[4100,  4100] loss: 0.479\n",
      "[4200,  4200] loss: 0.476\n",
      "[4300,  4300] loss: 0.478\n",
      "[4400,  4400] loss: 0.476\n",
      "[4500,  4500] loss: 0.475\n",
      "[4600,  4600] loss: 0.470\n",
      "[4700,  4700] loss: 0.466\n",
      "[4800,  4800] loss: 0.469\n",
      "[4900,  4900] loss: 0.472\n",
      "[5000,  5000] loss: 0.472\n",
      "[5100,  5100] loss: 0.471\n",
      "[5200,  5200] loss: 0.470\n",
      "[5300,  5300] loss: 0.472\n",
      "[5400,  5400] loss: 0.471\n",
      "[5500,  5500] loss: 0.470\n",
      "[5600,  5600] loss: 0.467\n",
      "[5700,  5700] loss: 0.467\n",
      "[5800,  5800] loss: 0.462\n",
      "[5900,  5900] loss: 0.460\n",
      "[6000,  6000] loss: 0.470\n",
      "[6100,  6100] loss: 0.471\n",
      "[6200,  6200] loss: 0.466\n",
      "[6300,  6300] loss: 0.463\n",
      "[6400,  6400] loss: 0.467\n",
      "[6500,  6500] loss: 0.462\n",
      "[6600,  6600] loss: 0.464\n",
      "[6700,  6700] loss: 0.463\n",
      "[6800,  6800] loss: 0.460\n",
      "[6900,  6900] loss: 0.463\n",
      "[7000,  7000] loss: 0.460\n",
      "[7100,  7100] loss: 0.461\n",
      "[7200,  7200] loss: 0.458\n",
      "[7300,  7300] loss: 0.467\n",
      "[7400,  7400] loss: 0.461\n",
      "[7500,  7500] loss: 0.459\n",
      "[7600,  7600] loss: 0.458\n",
      "[7700,  7700] loss: 0.463\n",
      "[7800,  7800] loss: 0.461\n",
      "[7900,  7900] loss: 0.459\n",
      "[8000,  8000] loss: 0.458\n",
      "[8100,  8100] loss: 0.463\n",
      "[8200,  8200] loss: 0.462\n",
      "[8300,  8300] loss: 0.457\n",
      "[8400,  8400] loss: 0.461\n",
      "[8500,  8500] loss: 0.458\n",
      "[8600,  8600] loss: 0.458\n",
      "[8700,  8700] loss: 0.457\n",
      "[8800,  8800] loss: 0.457\n",
      "[8900,  8900] loss: 0.454\n",
      "[9000,  9000] loss: 0.458\n"
     ]
    },
    {
     "name": "stderr",
     "output_type": "stream",
     "text": [
      "libpng error: IDAT: CRC error\n",
      "libpng error: failed to read file\n"
     ]
    },
    {
     "ename": "ConnectionAbortedError",
     "evalue": "Caught ConnectionAbortedError in DataLoader worker process 0.\nOriginal Traceback (most recent call last):\n  File \"/home/rliu/anaconda3/lib/python3.9/site-packages/matplotlib/image.py\", line 1434, in imread\n    return handler(fd)\n  File \"/home/rliu/anaconda3/lib/python3.9/site-packages/matplotlib/image.py\", line 1390, in read_png\n    return _png.read_png(*args, **kwargs)\nRuntimeError: error setting jump\n\nDuring handling of the above exception, another exception occurred:\n\nTraceback (most recent call last):\n  File \"/home/rliu/anaconda3/lib/python3.9/site-packages/torch/utils/data/_utils/worker.py\", line 302, in _worker_loop\n    data = fetcher.fetch(index)\n  File \"/home/rliu/anaconda3/lib/python3.9/site-packages/torch/utils/data/_utils/fetch.py\", line 58, in fetch\n    data = [self.dataset[idx] for idx in possibly_batched_index]\n  File \"/home/rliu/anaconda3/lib/python3.9/site-packages/torch/utils/data/_utils/fetch.py\", line 58, in <listcomp>\n    data = [self.dataset[idx] for idx in possibly_batched_index]\n  File \"/tmp/ipykernel_1159826/381479019.py\", line 69, in __getitem__\n    cond_im = self.process_im(self.load_im(os.path.join(filename, '%03d.png' % index_cond)))\n  File \"/tmp/ipykernel_1159826/381479019.py\", line 52, in load_im\n    img = plt.imread(path)\n  File \"/home/rliu/anaconda3/lib/python3.9/site-packages/matplotlib/pyplot.py\", line 2135, in imread\n    return matplotlib.image.imread(fname, format)\n  File \"/home/rliu/anaconda3/lib/python3.9/site-packages/matplotlib/image.py\", line 1434, in imread\n    return handler(fd)\nConnectionAbortedError: [Errno 103] Software caused connection abort\n",
     "output_type": "error",
     "traceback": [
      "\u001b[0;31m---------------------------------------------------------------------------\u001b[0m",
      "\u001b[0;31mConnectionAbortedError\u001b[0m                    Traceback (most recent call last)",
      "\u001b[0;32m/tmp/ipykernel_1159826/4064535197.py\u001b[0m in \u001b[0;36m<module>\u001b[0;34m\u001b[0m\n\u001b[1;32m     11\u001b[0m     \u001b[0mrunning_loss\u001b[0m \u001b[0;34m=\u001b[0m \u001b[0;36m0.0\u001b[0m\u001b[0;34m\u001b[0m\u001b[0;34m\u001b[0m\u001b[0m\n\u001b[1;32m     12\u001b[0m \u001b[0;34m\u001b[0m\u001b[0m\n\u001b[0;32m---> 13\u001b[0;31m     \u001b[0;32mfor\u001b[0m \u001b[0mi\u001b[0m\u001b[0;34m,\u001b[0m \u001b[0mbatch\u001b[0m \u001b[0;32min\u001b[0m \u001b[0menumerate\u001b[0m\u001b[0;34m(\u001b[0m\u001b[0mtrain_dataloader\u001b[0m\u001b[0;34m,\u001b[0m \u001b[0;36m0\u001b[0m\u001b[0;34m)\u001b[0m\u001b[0;34m:\u001b[0m\u001b[0;34m\u001b[0m\u001b[0;34m\u001b[0m\u001b[0m\n\u001b[0m\u001b[1;32m     14\u001b[0m         \u001b[0;31m# get the inputs; data is a list of [inputs, labels]\u001b[0m\u001b[0;34m\u001b[0m\u001b[0;34m\u001b[0m\u001b[0m\n\u001b[1;32m     15\u001b[0m         \u001b[0mimage_target\u001b[0m\u001b[0;34m,\u001b[0m \u001b[0mimage_cond\u001b[0m\u001b[0;34m,\u001b[0m \u001b[0mT_gt\u001b[0m \u001b[0;34m=\u001b[0m \u001b[0mbatch\u001b[0m\u001b[0;34m[\u001b[0m\u001b[0;34m'image_target'\u001b[0m\u001b[0;34m]\u001b[0m\u001b[0;34m.\u001b[0m\u001b[0mcuda\u001b[0m\u001b[0;34m(\u001b[0m\u001b[0;34m)\u001b[0m\u001b[0;34m,\u001b[0m \u001b[0mbatch\u001b[0m\u001b[0;34m[\u001b[0m\u001b[0;34m'image_cond'\u001b[0m\u001b[0;34m]\u001b[0m\u001b[0;34m.\u001b[0m\u001b[0mcuda\u001b[0m\u001b[0;34m(\u001b[0m\u001b[0;34m)\u001b[0m\u001b[0;34m,\u001b[0m \u001b[0mbatch\u001b[0m\u001b[0;34m[\u001b[0m\u001b[0;34m'T'\u001b[0m\u001b[0;34m]\u001b[0m\u001b[0;34m.\u001b[0m\u001b[0mcuda\u001b[0m\u001b[0;34m(\u001b[0m\u001b[0;34m)\u001b[0m\u001b[0;34m\u001b[0m\u001b[0;34m\u001b[0m\u001b[0m\n",
      "\u001b[0;32m~/anaconda3/lib/python3.9/site-packages/torch/utils/data/dataloader.py\u001b[0m in \u001b[0;36m__next__\u001b[0;34m(self)\u001b[0m\n\u001b[1;32m    626\u001b[0m                 \u001b[0;31m# TODO(https://github.com/pytorch/pytorch/issues/76750)\u001b[0m\u001b[0;34m\u001b[0m\u001b[0;34m\u001b[0m\u001b[0m\n\u001b[1;32m    627\u001b[0m                 \u001b[0mself\u001b[0m\u001b[0;34m.\u001b[0m\u001b[0m_reset\u001b[0m\u001b[0;34m(\u001b[0m\u001b[0;34m)\u001b[0m  \u001b[0;31m# type: ignore[call-arg]\u001b[0m\u001b[0;34m\u001b[0m\u001b[0;34m\u001b[0m\u001b[0m\n\u001b[0;32m--> 628\u001b[0;31m             \u001b[0mdata\u001b[0m \u001b[0;34m=\u001b[0m \u001b[0mself\u001b[0m\u001b[0;34m.\u001b[0m\u001b[0m_next_data\u001b[0m\u001b[0;34m(\u001b[0m\u001b[0;34m)\u001b[0m\u001b[0;34m\u001b[0m\u001b[0;34m\u001b[0m\u001b[0m\n\u001b[0m\u001b[1;32m    629\u001b[0m             \u001b[0mself\u001b[0m\u001b[0;34m.\u001b[0m\u001b[0m_num_yielded\u001b[0m \u001b[0;34m+=\u001b[0m \u001b[0;36m1\u001b[0m\u001b[0;34m\u001b[0m\u001b[0;34m\u001b[0m\u001b[0m\n\u001b[1;32m    630\u001b[0m             \u001b[0;32mif\u001b[0m \u001b[0mself\u001b[0m\u001b[0;34m.\u001b[0m\u001b[0m_dataset_kind\u001b[0m \u001b[0;34m==\u001b[0m \u001b[0m_DatasetKind\u001b[0m\u001b[0;34m.\u001b[0m\u001b[0mIterable\u001b[0m \u001b[0;32mand\u001b[0m\u001b[0;31m \u001b[0m\u001b[0;31m\\\u001b[0m\u001b[0;34m\u001b[0m\u001b[0;34m\u001b[0m\u001b[0m\n",
      "\u001b[0;32m~/anaconda3/lib/python3.9/site-packages/torch/utils/data/dataloader.py\u001b[0m in \u001b[0;36m_next_data\u001b[0;34m(self)\u001b[0m\n\u001b[1;32m   1331\u001b[0m             \u001b[0;32melse\u001b[0m\u001b[0;34m:\u001b[0m\u001b[0;34m\u001b[0m\u001b[0;34m\u001b[0m\u001b[0m\n\u001b[1;32m   1332\u001b[0m                 \u001b[0;32mdel\u001b[0m \u001b[0mself\u001b[0m\u001b[0;34m.\u001b[0m\u001b[0m_task_info\u001b[0m\u001b[0;34m[\u001b[0m\u001b[0midx\u001b[0m\u001b[0;34m]\u001b[0m\u001b[0;34m\u001b[0m\u001b[0;34m\u001b[0m\u001b[0m\n\u001b[0;32m-> 1333\u001b[0;31m                 \u001b[0;32mreturn\u001b[0m \u001b[0mself\u001b[0m\u001b[0;34m.\u001b[0m\u001b[0m_process_data\u001b[0m\u001b[0;34m(\u001b[0m\u001b[0mdata\u001b[0m\u001b[0;34m)\u001b[0m\u001b[0;34m\u001b[0m\u001b[0;34m\u001b[0m\u001b[0m\n\u001b[0m\u001b[1;32m   1334\u001b[0m \u001b[0;34m\u001b[0m\u001b[0m\n\u001b[1;32m   1335\u001b[0m     \u001b[0;32mdef\u001b[0m \u001b[0m_try_put_index\u001b[0m\u001b[0;34m(\u001b[0m\u001b[0mself\u001b[0m\u001b[0;34m)\u001b[0m\u001b[0;34m:\u001b[0m\u001b[0;34m\u001b[0m\u001b[0;34m\u001b[0m\u001b[0m\n",
      "\u001b[0;32m~/anaconda3/lib/python3.9/site-packages/torch/utils/data/dataloader.py\u001b[0m in \u001b[0;36m_process_data\u001b[0;34m(self, data)\u001b[0m\n\u001b[1;32m   1357\u001b[0m         \u001b[0mself\u001b[0m\u001b[0;34m.\u001b[0m\u001b[0m_try_put_index\u001b[0m\u001b[0;34m(\u001b[0m\u001b[0;34m)\u001b[0m\u001b[0;34m\u001b[0m\u001b[0;34m\u001b[0m\u001b[0m\n\u001b[1;32m   1358\u001b[0m         \u001b[0;32mif\u001b[0m \u001b[0misinstance\u001b[0m\u001b[0;34m(\u001b[0m\u001b[0mdata\u001b[0m\u001b[0;34m,\u001b[0m \u001b[0mExceptionWrapper\u001b[0m\u001b[0;34m)\u001b[0m\u001b[0;34m:\u001b[0m\u001b[0;34m\u001b[0m\u001b[0;34m\u001b[0m\u001b[0m\n\u001b[0;32m-> 1359\u001b[0;31m             \u001b[0mdata\u001b[0m\u001b[0;34m.\u001b[0m\u001b[0mreraise\u001b[0m\u001b[0;34m(\u001b[0m\u001b[0;34m)\u001b[0m\u001b[0;34m\u001b[0m\u001b[0;34m\u001b[0m\u001b[0m\n\u001b[0m\u001b[1;32m   1360\u001b[0m         \u001b[0;32mreturn\u001b[0m \u001b[0mdata\u001b[0m\u001b[0;34m\u001b[0m\u001b[0;34m\u001b[0m\u001b[0m\n\u001b[1;32m   1361\u001b[0m \u001b[0;34m\u001b[0m\u001b[0m\n",
      "\u001b[0;32m~/anaconda3/lib/python3.9/site-packages/torch/_utils.py\u001b[0m in \u001b[0;36mreraise\u001b[0;34m(self)\u001b[0m\n\u001b[1;32m    541\u001b[0m             \u001b[0;31m# instantiate since we don't know how to\u001b[0m\u001b[0;34m\u001b[0m\u001b[0;34m\u001b[0m\u001b[0m\n\u001b[1;32m    542\u001b[0m             \u001b[0;32mraise\u001b[0m \u001b[0mRuntimeError\u001b[0m\u001b[0;34m(\u001b[0m\u001b[0mmsg\u001b[0m\u001b[0;34m)\u001b[0m \u001b[0;32mfrom\u001b[0m \u001b[0;32mNone\u001b[0m\u001b[0;34m\u001b[0m\u001b[0;34m\u001b[0m\u001b[0m\n\u001b[0;32m--> 543\u001b[0;31m         \u001b[0;32mraise\u001b[0m \u001b[0mexception\u001b[0m\u001b[0;34m\u001b[0m\u001b[0;34m\u001b[0m\u001b[0m\n\u001b[0m\u001b[1;32m    544\u001b[0m \u001b[0;34m\u001b[0m\u001b[0m\n\u001b[1;32m    545\u001b[0m \u001b[0;34m\u001b[0m\u001b[0m\n",
      "\u001b[0;31mConnectionAbortedError\u001b[0m: Caught ConnectionAbortedError in DataLoader worker process 0.\nOriginal Traceback (most recent call last):\n  File \"/home/rliu/anaconda3/lib/python3.9/site-packages/matplotlib/image.py\", line 1434, in imread\n    return handler(fd)\n  File \"/home/rliu/anaconda3/lib/python3.9/site-packages/matplotlib/image.py\", line 1390, in read_png\n    return _png.read_png(*args, **kwargs)\nRuntimeError: error setting jump\n\nDuring handling of the above exception, another exception occurred:\n\nTraceback (most recent call last):\n  File \"/home/rliu/anaconda3/lib/python3.9/site-packages/torch/utils/data/_utils/worker.py\", line 302, in _worker_loop\n    data = fetcher.fetch(index)\n  File \"/home/rliu/anaconda3/lib/python3.9/site-packages/torch/utils/data/_utils/fetch.py\", line 58, in fetch\n    data = [self.dataset[idx] for idx in possibly_batched_index]\n  File \"/home/rliu/anaconda3/lib/python3.9/site-packages/torch/utils/data/_utils/fetch.py\", line 58, in <listcomp>\n    data = [self.dataset[idx] for idx in possibly_batched_index]\n  File \"/tmp/ipykernel_1159826/381479019.py\", line 69, in __getitem__\n    cond_im = self.process_im(self.load_im(os.path.join(filename, '%03d.png' % index_cond)))\n  File \"/tmp/ipykernel_1159826/381479019.py\", line 52, in load_im\n    img = plt.imread(path)\n  File \"/home/rliu/anaconda3/lib/python3.9/site-packages/matplotlib/pyplot.py\", line 2135, in imread\n    return matplotlib.image.imread(fname, format)\n  File \"/home/rliu/anaconda3/lib/python3.9/site-packages/matplotlib/image.py\", line 1434, in imread\n    return handler(fd)\nConnectionAbortedError: [Errno 103] Software caused connection abort\n"
     ]
    }
   ],
   "source": [
    "train_dataloader = DataLoader(objaverse_sfm(dataset_root, 4, train=True, transform = ToTensor()),\\\n",
    "                              batch_size=16, shuffle=True, num_workers=4)\n",
    "test_dataloader = DataLoader(objaverse_sfm(dataset_root, 4, train=False, transform = ToTensor()),\\\n",
    "                             batch_size=16, shuffle=False, num_workers=4)\n",
    "\n",
    "model = sfm().cuda()\n",
    "optimizer = torch.optim.AdamW(model.parameters(), lr=1e-4)\n",
    "\n",
    "for epoch in range(100):  # loop over the dataset multiple times\n",
    "\n",
    "    running_loss = 0.0\n",
    "    \n",
    "    for i, batch in enumerate(train_dataloader, 0):\n",
    "        # get the inputs; data is a list of [inputs, labels]\n",
    "        image_target, image_cond, T_gt = batch['image_target'].cuda(), batch['image_cond'].cuda(), batch['T'].cuda()\n",
    "\n",
    "        # zero the parameter gradients\n",
    "        optimizer.zero_grad()\n",
    "\n",
    "        # forward + backward + optimize\n",
    "        T_pred = model(image_cond, image_target)\n",
    "        loss = (T_pred - T_gt).abs().mean()\n",
    "        loss.backward()\n",
    "#         print(loss.item())\n",
    "        optimizer.step()\n",
    "\n",
    "        # print statistics\n",
    "        running_loss += loss.item()\n",
    "        if i % 100 == 99:    # print every 2000 mini-batches\n",
    "            print(f'[{i + 1}, {i + 1:5d}] loss: {running_loss / 100:.3f}')\n",
    "            running_loss = 0.0"
   ]
  },
  {
   "cell_type": "code",
   "execution_count": null,
   "id": "588d074e",
   "metadata": {},
   "outputs": [],
   "source": []
  }
 ],
 "metadata": {
  "kernelspec": {
   "display_name": "sjc",
   "language": "python",
   "name": "sjc"
  },
  "language_info": {
   "codemirror_mode": {
    "name": "ipython",
    "version": 3
   },
   "file_extension": ".py",
   "mimetype": "text/x-python",
   "name": "python",
   "nbconvert_exporter": "python",
   "pygments_lexer": "ipython3",
   "version": "3.9.12"
  }
 },
 "nbformat": 4,
 "nbformat_minor": 5
}
