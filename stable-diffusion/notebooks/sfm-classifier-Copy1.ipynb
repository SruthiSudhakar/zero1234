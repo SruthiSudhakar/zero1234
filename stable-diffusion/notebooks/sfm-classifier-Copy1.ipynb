{
 "cells": [
  {
   "cell_type": "code",
   "execution_count": 1,
   "id": "c551cbc7",
   "metadata": {},
   "outputs": [],
   "source": [
    "import torch\n",
    "import json\n",
    "import torch\n",
    "import os\n",
    "import numpy as np\n",
    "from PIL import Image\n",
    "from tqdm.notebook import tqdm\n",
    "import random\n",
    "import math\n",
    "from torch.utils.data import Dataset\n",
    "from torchvision import datasets\n",
    "import torchvision\n",
    "from torchvision.transforms import ToTensor\n",
    "import matplotlib.pyplot as plt\n",
    "from torch.utils.data import DataLoader\n"
   ]
  },
  {
   "cell_type": "code",
   "execution_count": 2,
   "id": "e7f1d842",
   "metadata": {},
   "outputs": [],
   "source": [
    "dataset_root = '/local/vondrick/ruoshi/objaverse/views_whole_sphere'"
   ]
  },
  {
   "cell_type": "markdown",
   "id": "7e249060",
   "metadata": {},
   "source": [
    "# dataset"
   ]
  },
  {
   "cell_type": "code",
   "execution_count": 19,
   "id": "1ee399ca",
   "metadata": {},
   "outputs": [],
   "source": [
    "class objaverse_sfm(Dataset):\n",
    "    def __init__(self, root_dir, total_view, train=True, transform=None):\n",
    "        self.root_dir = root_dir\n",
    "        self.transform = transform\n",
    "        with open(os.path.join(root_dir, 'valid_paths.json')) as f:\n",
    "            self.paths = json.load(f)\n",
    "        random.shuffle(self.paths)\n",
    "        self.total_view = total_view\n",
    "        self.train = train\n",
    "        total_objects = len(self.paths)\n",
    "        if train:\n",
    "            self.paths = self.paths[:math.floor(total_objects / 100. * 99.)] # used first 99% as training|\n",
    "        else:\n",
    "            self.paths = self.paths[math.floor(total_objects / 100. * 99.):] # used last 1% as validation\n",
    "        \n",
    "    def __len__(self):\n",
    "        return len(self.img_labels)\n",
    "\n",
    "    def __len__(self):\n",
    "        return len(self.paths)\n",
    "        \n",
    "    def cartesian_to_spherical(self, xyz):\n",
    "        ptsnew = np.hstack((xyz, np.zeros(xyz.shape)))\n",
    "        xy = xyz[:,0]**2 + xyz[:,1]**2\n",
    "        z = np.sqrt(xy + xyz[:,2]**2)\n",
    "        theta = np.arctan2(np.sqrt(xy), xyz[:,2]) # for elevation angle defined from Z-axis down\n",
    "        #ptsnew[:,4] = np.arctan2(xyz[:,2], np.sqrt(xy)) # for elevation angle defined from XY-plane up\n",
    "        azimuth = np.arctan2(xyz[:,1], xyz[:,0])\n",
    "        return np.array([theta, azimuth, z])\n",
    "\n",
    "    def get_T(self, target_RT, cond_RT):\n",
    "        R, T = target_RT[:3, :3], target_RT[:, -1]\n",
    "        T_target = -R.T @ T\n",
    "\n",
    "        R, T = cond_RT[:3, :3], cond_RT[:, -1]\n",
    "        T_cond = -R.T @ T\n",
    "\n",
    "        theta_cond, azimuth_cond, z_cond = self.cartesian_to_spherical(T_cond[None, :])\n",
    "        theta_target, azimuth_target, z_target = self.cartesian_to_spherical(T_target[None, :])\n",
    "        \n",
    "        d_theta = theta_target - theta_cond\n",
    "        d_azimuth = (azimuth_target - azimuth_cond) % (2 * math.pi)\n",
    "        d_z = z_target - z_cond\n",
    "        \n",
    "        d_T = torch.tensor([d_theta.item(), math.sin(d_azimuth.item()), math.cos(d_azimuth.item()), d_z.item()])\n",
    "#         d_T = torch.tensor([d_theta.item(), d_azimuth.item(), d_z.item()])\n",
    "        return d_T\n",
    "\n",
    "    def load_im(self, path):\n",
    "        '''\n",
    "        replace background pixel with white in rendering\n",
    "        '''\n",
    "        img = plt.imread(path)\n",
    "        img[img[:, :, -1] == 0.] = [1., 1., 1., 1.]\n",
    "        img = Image.fromarray(np.uint8(img[:, :, :3] * 255.))\n",
    "        return img\n",
    "\n",
    "    def __getitem__(self, index):\n",
    "        data = {}\n",
    "        index_target, index_cond = random.sample(range(self.total_view), 2) # without replacement\n",
    "        filename = os.path.join(self.root_dir, self.paths[index])\n",
    "\n",
    "        # print(self.paths[index])\n",
    "\n",
    "#         if self.return_paths:\n",
    "#             data[\"path\"] = str(filename)\n",
    "            \n",
    "        target_im = self.process_im(self.load_im(os.path.join(filename, '%03d.png' % index_target)))\n",
    "        target_RT = np.load(os.path.join(filename, '%03d.npy' % index_target))\n",
    "        cond_im = self.process_im(self.load_im(os.path.join(filename, '%03d.png' % index_cond)))\n",
    "        cond_RT = np.load(os.path.join(filename, '%03d.npy' % index_cond))\n",
    "\n",
    "        data[\"image_target\"] = target_im\n",
    "        data[\"image_cond\"] = cond_im\n",
    "        data[\"T\"] = self.get_T(target_RT, cond_RT)\n",
    "        return data\n",
    "    \n",
    "    def process_im(self, im):\n",
    "        im = im.convert(\"RGB\")\n",
    "        im = self.transform(im)\n",
    "        im = torchvision.transforms.functional.resize(im, 224)\n",
    "        im = im * 2. - 1.\n",
    "        return im"
   ]
  },
  {
   "cell_type": "code",
   "execution_count": 87,
   "id": "1ece0349",
   "metadata": {},
   "outputs": [],
   "source": [
    "dataset = objaverse_sfm(dataset_root, 4, train=True, transform = ToTensor())"
   ]
  },
  {
   "cell_type": "code",
   "execution_count": 72,
   "id": "9763b7bc",
   "metadata": {
    "scrolled": true
   },
   "outputs": [
    {
     "data": {
      "text/plain": [
       "torch.Size([3, 224, 224])"
      ]
     },
     "execution_count": 72,
     "metadata": {},
     "output_type": "execute_result"
    }
   ],
   "source": [
    "dataset[0]['image_target'].shape"
   ]
  },
  {
   "cell_type": "code",
   "execution_count": 78,
   "id": "96b1e28c",
   "metadata": {},
   "outputs": [],
   "source": [
    "train_dataloader = DataLoader(objaverse_sfm(dataset_root, 4, train=True, transform = ToTensor()),\\\n",
    "                              batch_size=16, shuffle=True, num_workers=4)\n",
    "test_dataloader = DataLoader(objaverse_sfm(dataset_root, 4, train=False, transform = ToTensor()),\\\n",
    "                             batch_size=16, shuffle=False, num_workers=4)"
   ]
  },
  {
   "cell_type": "code",
   "execution_count": 79,
   "id": "4058c620",
   "metadata": {},
   "outputs": [],
   "source": [
    "batch = next(iter(train_dataloader))"
   ]
  },
  {
   "cell_type": "code",
   "execution_count": 80,
   "id": "1c57baf8",
   "metadata": {},
   "outputs": [
    {
     "data": {
      "text/plain": [
       "torch.Size([16, 3, 224, 224])"
      ]
     },
     "execution_count": 80,
     "metadata": {},
     "output_type": "execute_result"
    }
   ],
   "source": [
    "batch['image_target'].shape"
   ]
  },
  {
   "cell_type": "markdown",
   "id": "f6b915ab",
   "metadata": {},
   "source": [
    "# model"
   ]
  },
  {
   "cell_type": "code",
   "execution_count": 22,
   "id": "fb126ada",
   "metadata": {},
   "outputs": [],
   "source": [
    "class sfm(torch.nn.Module):\n",
    "    def __init__(self, resnet=False):\n",
    "        super(sfm, self).__init__()\n",
    "        \n",
    "        if resnet:\n",
    "            print('initializing resnet weights')\n",
    "            self.cond_net = torchvision.models.resnet34(torchvision.models.ResNet34_Weights.DEFAULT)\n",
    "            self.cond_net.fc = torch.nn.Sequential()\n",
    "            self.target_net = torchvision.models.resnet34(torchvision.models.ResNet34_Weights.DEFAULT)\n",
    "            self.target_net.fc = torch.nn.Sequential()\n",
    "            self.linear1 = torch.nn.Linear(1024, 1024)\n",
    "            self.activation = torch.nn.ReLU()\n",
    "            self.linear2 = torch.nn.Linear(1024, 4)\n",
    "    \n",
    "        else:\n",
    "            print('initializing vit weights')\n",
    "            self.cond_net = torchvision.models.vit_b_16(torchvision.models.ViT_B_16_Weights.DEFAULT)\n",
    "            self.cond_net.heads.head = torch.nn.Sequential()\n",
    "            self.target_net = torchvision.models.vit_b_16(torchvision.models.ViT_B_16_Weights.DEFAULT)\n",
    "            self.target_net.heads.head = torch.nn.Sequential()\n",
    "            self.linear1 = torch.nn.Linear(768 * 2, 768 * 2)\n",
    "            self.activation = torch.nn.ReLU()\n",
    "            self.linear2 = torch.nn.Linear(768 * 2, 4)\n",
    "\n",
    "    def forward(self, cond, target):\n",
    "        cond_feature = self.cond_net(cond)\n",
    "        target_feature = self.target_net(target)\n",
    "        x = torch.cat([cond_feature, target_feature], dim=-1)\n",
    "        x = self.linear1(x)\n",
    "        x = self.activation(x)\n",
    "        x = self.linear2(x)\n",
    "        return x"
   ]
  },
  {
   "cell_type": "code",
   "execution_count": 14,
   "id": "d9cbf562",
   "metadata": {},
   "outputs": [
    {
     "name": "stdout",
     "output_type": "stream",
     "text": [
      "initializing vit weights\n"
     ]
    },
    {
     "name": "stderr",
     "output_type": "stream",
     "text": [
      "/home/rliu/ruoshi/anaconda3/lib/python3.8/site-packages/torchvision/models/_utils.py:135: UserWarning: Using 'weights' as positional parameter(s) is deprecated since 0.13 and will be removed in 0.15. Please use keyword parameter(s) instead.\n",
      "  warnings.warn(\n"
     ]
    }
   ],
   "source": [
    "model = sfm()"
   ]
  },
  {
   "cell_type": "code",
   "execution_count": 30,
   "id": "d9c81993",
   "metadata": {},
   "outputs": [],
   "source": [
    "image_target, image_cond, T = batch['image_target'], batch['image_cond'], batch['T']"
   ]
  },
  {
   "cell_type": "code",
   "execution_count": 31,
   "id": "6b0be2d8",
   "metadata": {},
   "outputs": [
    {
     "data": {
      "text/plain": [
       "(torch.Size([16, 3, 224, 224]),\n",
       " torch.Size([16, 3, 224, 224]),\n",
       " torch.Size([16, 3]))"
      ]
     },
     "execution_count": 31,
     "metadata": {},
     "output_type": "execute_result"
    }
   ],
   "source": [
    "image_target.shape, image_cond.shape, T.shape"
   ]
  },
  {
   "cell_type": "code",
   "execution_count": 32,
   "id": "87630e96",
   "metadata": {},
   "outputs": [],
   "source": [
    "pred = model(image_cond, image_target)"
   ]
  },
  {
   "cell_type": "code",
   "execution_count": 33,
   "id": "c0469e09",
   "metadata": {},
   "outputs": [],
   "source": [
    "loss = ((pred - T) ** 2).mean()"
   ]
  },
  {
   "cell_type": "code",
   "execution_count": 82,
   "id": "0fe180d2",
   "metadata": {},
   "outputs": [],
   "source": [
    "# loss.backward()"
   ]
  },
  {
   "cell_type": "code",
   "execution_count": 7,
   "id": "28e33594",
   "metadata": {
    "scrolled": true
   },
   "outputs": [
    {
     "data": {
      "application/vnd.jupyter.widget-view+json": {
       "model_id": "aaa8fcd51b414d2eb6d025e258b21da5",
       "version_major": 2,
       "version_minor": 0
      },
      "text/plain": [
       "  0%|          | 0/50 [00:00<?, ?it/s]"
      ]
     },
     "metadata": {},
     "output_type": "display_data"
    }
   ],
   "source": [
    "train_dataloader = DataLoader(objaverse_sfm(dataset_root, 4, train=True, transform = ToTensor()),\\\n",
    "                              batch_size=64, shuffle=True, num_workers=8)\n",
    "test_dataloader = DataLoader(objaverse_sfm(dataset_root, 4, train=False, transform = ToTensor()),\\\n",
    "                             batch_size=64, shuffle=False, num_workers=8)\n",
    "azimuth = []\n",
    "for i, batch in tqdm(enumerate(train_dataloader, 0), total=50):\n",
    "    azimuth.append(batch['T'][:, 1])\n",
    "    if i == 50:\n",
    "        break"
   ]
  },
  {
   "cell_type": "code",
   "execution_count": 8,
   "id": "799b1fdb",
   "metadata": {},
   "outputs": [
    {
     "data": {
      "text/plain": [
       "(array([ 66.,  91.,  82.,  70.,  69.,  70.,  67., 100.,  95.,  73.,  98.,\n",
       "         91.,  88.,  86.,  74.,  88.,  86.,  83.,  70.,  76.,  87.,  79.,\n",
       "         84.,  80.,  88.,  86.,  75.,  77.,  82.,  69., 101.,  86.,  85.,\n",
       "         92.,  67.,  80.,  76.,  74.,  88.,  85.]),\n",
       " array([4.5274809e-04, 1.5736596e-01, 3.1427917e-01, 4.7119239e-01,\n",
       "        6.2810558e-01, 7.8501880e-01, 9.4193202e-01, 1.0988452e+00,\n",
       "        1.2557585e+00, 1.4126717e+00, 1.5695848e+00, 1.7264981e+00,\n",
       "        1.8834113e+00, 2.0403244e+00, 2.1972377e+00, 2.3541510e+00,\n",
       "        2.5110643e+00, 2.6679773e+00, 2.8248906e+00, 2.9818039e+00,\n",
       "        3.1387169e+00, 3.2956302e+00, 3.4525435e+00, 3.6094568e+00,\n",
       "        3.7663698e+00, 3.9232831e+00, 4.0801964e+00, 4.2371097e+00,\n",
       "        4.3940229e+00, 4.5509362e+00, 4.7078490e+00, 4.8647623e+00,\n",
       "        5.0216756e+00, 5.1785889e+00, 5.3355021e+00, 5.4924154e+00,\n",
       "        5.6493287e+00, 5.8062415e+00, 5.9631548e+00, 6.1200681e+00,\n",
       "        6.2769814e+00], dtype=float32),\n",
       " <BarContainer object of 40 artists>)"
      ]
     },
     "execution_count": 8,
     "metadata": {},
     "output_type": "execute_result"
    },
    {
     "data": {
      "image/png": "[encoded data removed]",
      "text/plain": [
       "<Figure size 432x288 with 1 Axes>"
      ]
     },
     "metadata": {
      "needs_background": "light"
     },
     "output_type": "display_data"
    }
   ],
   "source": [
    "plt.hist(torch.cat(azimuth).numpy(), bins=40)"
   ]
  },
  {
   "cell_type": "markdown",
   "id": "ccf9c16b",
   "metadata": {},
   "source": [
    "# training"
   ]
  },
  {
   "cell_type": "markdown",
   "id": "64ffbe7f",
   "metadata": {},
   "source": [
    "## unzip files"
   ]
  },
  {
   "cell_type": "code",
   "execution_count": 35,
   "id": "cafa4511",
   "metadata": {},
   "outputs": [],
   "source": [
    "# from sh import gunzip\n",
    "# import json\n",
    "# from tqdm.notebook import tqdm\n",
    "# import os\n",
    "\n",
    "# path = '/local/vondrick/ruoshi/objaverse/views_whole_sphere'\n",
    "# with open('/local/vondrick/ruoshi/objaverse/views_whole_sphere/valid_paths.json') as f:\n",
    "#     paths = json.load(f)\n",
    "# total_view = 4\n",
    "# for i, id in tqdm(enumerate(paths), total = len(paths)):\n",
    "#     for filename in os.listdir(os.path.join(path, id)):\n",
    "#         if 'gz' in filename:\n",
    "# #             print(filename[:-3])\n",
    "#             gunzip(os.path.join(path, id, filename[:-3]))"
   ]
  },
  {
   "cell_type": "code",
   "execution_count": 10,
   "id": "9631a306",
   "metadata": {},
   "outputs": [],
   "source": [
    "device = 0"
   ]
  },
  {
   "cell_type": "code",
   "execution_count": null,
   "id": "72ca8da6",
   "metadata": {
    "scrolled": false
   },
   "outputs": [
    {
     "name": "stdout",
     "output_type": "stream",
     "text": [
      "initializing resnet weights\n",
      "validation\n"
     ]
    },
    {
     "data": {
      "application/vnd.jupyter.widget-view+json": {
       "model_id": "6f17692c28cb4e04ac9d6c49d217edea",
       "version_major": 2,
       "version_minor": 0
      },
      "text/plain": [
       "  0%|          | 0/125 [00:00<?, ?it/s]"
      ]
     },
     "metadata": {},
     "output_type": "display_data"
    },
    {
     "name": "stdout",
     "output_type": "stream",
     "text": [
      "validation loss for epoch 0: tensor([0.7816, 0.6491, 0.6420, 0.4641]) 2.536709304920446\n"
     ]
    },
    {
     "data": {
      "application/vnd.jupyter.widget-view+json": {
       "model_id": "125403b392ec47a38efb1a6a190dd478",
       "version_major": 2,
       "version_minor": 0
      },
      "text/plain": [
       "  0%|          | 0/1544 [00:00<?, ?it/s]"
      ]
     },
     "metadata": {},
     "output_type": "display_data"
    },
    {
     "name": "stdout",
     "output_type": "stream",
     "text": [
      "[20,    39] loss:  tensor([0.7545, 0.6441, 0.6587, 0.6656]) tensor(2.7229)\n",
      "[40,    59] loss:  tensor([0.7104, 0.6433, 0.6376, 0.2364]) tensor(2.2277)\n",
      "[60,    79] loss:  tensor([0.6262, 0.6404, 0.6379, 0.2265]) tensor(2.1311)\n",
      "[80,    99] loss:  tensor([0.6019, 0.6353, 0.6397, 0.2195]) tensor(2.0963)\n",
      "[100,   119] loss:  tensor([0.6130, 0.6386, 0.6356, 0.2049]) tensor(2.0921)\n",
      "[120,   139] loss:  tensor([0.6031, 0.6380, 0.6379, 0.2027]) tensor(2.0817)\n",
      "[140,   159] loss:  tensor([0.5960, 0.6350, 0.6390, 0.1989]) tensor(2.0689)\n",
      "[160,   179] loss:  tensor([0.5846, 0.6327, 0.6406, 0.1959]) tensor(2.0539)\n",
      "[180,   199] loss:  tensor([0.5876, 0.6397, 0.6374, 0.1920]) tensor(2.0567)\n",
      "[200,   219] loss:  tensor([0.5836, 0.6380, 0.6366, 0.1924]) tensor(2.0505)\n",
      "[220,   239] loss:  tensor([0.5822, 0.6383, 0.6348, 0.1915]) tensor(2.0467)\n",
      "[240,   259] loss:  tensor([0.5841, 0.6344, 0.6389, 0.1892]) tensor(2.0466)\n",
      "[260,   279] loss:  tensor([0.5823, 0.6388, 0.6322, 0.1887]) tensor(2.0420)\n",
      "[280,   299] loss:  tensor([0.5805, 0.6430, 0.6324, 0.1879]) tensor(2.0439)\n",
      "[300,   319] loss:  tensor([0.5839, 0.6405, 0.6360, 0.1845]) tensor(2.0449)\n",
      "[320,   339] loss:  tensor([0.5792, 0.6412, 0.6269, 0.1852]) tensor(2.0325)\n",
      "[340,   359] loss:  tensor([0.5933, 0.6343, 0.6368, 0.1854]) tensor(2.0499)\n",
      "[360,   379] loss:  tensor([0.5839, 0.6301, 0.6404, 0.1931]) tensor(2.0475)\n",
      "[380,   399] loss:  tensor([0.5680, 0.6330, 0.6375, 0.1839]) tensor(2.0224)\n",
      "[400,   419] loss:  tensor([0.5740, 0.6378, 0.6356, 0.1824]) tensor(2.0299)\n",
      "[420,   439] loss:  tensor([0.5707, 0.6348, 0.6381, 0.1825]) tensor(2.0261)\n",
      "[440,   459] loss:  tensor([0.5613, 0.6427, 0.6289, 0.1869]) tensor(2.0198)\n",
      "[460,   479] loss:  tensor([0.5662, 0.6363, 0.6341, 0.1845]) tensor(2.0211)\n",
      "[480,   499] loss:  tensor([0.5731, 0.6363, 0.6328, 0.1826]) tensor(2.0249)\n",
      "[500,   519] loss:  tensor([0.5682, 0.6374, 0.6342, 0.1821]) tensor(2.0219)\n",
      "[520,   539] loss:  tensor([0.5658, 0.6331, 0.6388, 0.1803]) tensor(2.0180)\n",
      "[540,   559] loss:  tensor([0.5622, 0.6316, 0.6405, 0.1818]) tensor(2.0160)\n",
      "[560,   579] loss:  tensor([0.5697, 0.6328, 0.6389, 0.1816]) tensor(2.0230)\n",
      "[580,   599] loss:  tensor([0.5675, 0.6373, 0.6338, 0.1812]) tensor(2.0198)\n",
      "[600,   619] loss:  tensor([0.5563, 0.6362, 0.6353, 0.1797]) tensor(2.0076)\n",
      "[620,   639] loss:  tensor([0.5660, 0.6329, 0.6365, 0.1830]) tensor(2.0184)\n",
      "[640,   659] loss:  tensor([0.5544, 0.6337, 0.6374, 0.1842]) tensor(2.0097)\n",
      "[660,   679] loss:  tensor([0.5612, 0.6360, 0.6338, 0.1783]) tensor(2.0093)\n",
      "[680,   699] loss:  tensor([0.5707, 0.6328, 0.6363, 0.1796]) tensor(2.0194)\n",
      "[700,   719] loss:  tensor([0.5588, 0.6270, 0.6420, 0.1797]) tensor(2.0074)\n",
      "[720,   739] loss:  tensor([0.5532, 0.6332, 0.6355, 0.1778]) tensor(1.9998)\n",
      "[740,   759] loss:  tensor([0.5501, 0.6360, 0.6344, 0.1774]) tensor(1.9979)\n",
      "[760,   779] loss:  tensor([0.5420, 0.6383, 0.6314, 0.1787]) tensor(1.9904)\n",
      "[780,   799] loss:  tensor([0.5477, 0.6329, 0.6389, 0.1791]) tensor(1.9986)\n",
      "[800,   819] loss:  tensor([0.5590, 0.6308, 0.6399, 0.1787]) tensor(2.0083)\n",
      "[820,   839] loss:  tensor([0.5511, 0.6310, 0.6392, 0.1765]) tensor(1.9979)\n",
      "[840,   859] loss:  tensor([0.5548, 0.6408, 0.6306, 0.1776]) tensor(2.0038)\n",
      "[860,   879] loss:  tensor([0.5632, 0.6355, 0.6360, 0.1799]) tensor(2.0145)\n",
      "[880,   899] loss:  tensor([0.5621, 0.6307, 0.6387, 0.1795]) tensor(2.0110)\n",
      "[900,   919] loss:  tensor([0.5493, 0.6328, 0.6369, 0.1814]) tensor(2.0004)\n",
      "[920,   939] loss:  tensor([0.5481, 0.6352, 0.6339, 0.1787]) tensor(1.9960)\n",
      "[940,   959] loss:  tensor([0.5425, 0.6342, 0.6355, 0.1791]) tensor(1.9911)\n",
      "[960,   979] loss:  tensor([0.5432, 0.6380, 0.6318, 0.1747]) tensor(1.9876)\n",
      "[980,   999] loss:  tensor([0.5469, 0.6367, 0.6345, 0.1770]) tensor(1.9952)\n",
      "[1000,  1019] loss:  tensor([0.5433, 0.6348, 0.6345, 0.1804]) tensor(1.9929)\n",
      "[1020,  1039] loss:  tensor([0.5398, 0.6339, 0.6363, 0.1800]) tensor(1.9900)\n",
      "[1040,  1059] loss:  tensor([0.5438, 0.6382, 0.6332, 0.1757]) tensor(1.9909)\n",
      "[1060,  1079] loss:  tensor([0.5421, 0.6337, 0.6366, 0.1749]) tensor(1.9874)\n",
      "[1080,  1099] loss:  tensor([0.5383, 0.6329, 0.6390, 0.1762]) tensor(1.9864)\n",
      "[1100,  1119] loss:  tensor([0.5370, 0.6372, 0.6337, 0.1749]) tensor(1.9828)\n",
      "[1120,  1139] loss:  tensor([0.5424, 0.6327, 0.6345, 0.1796]) tensor(1.9892)\n",
      "[1140,  1159] loss:  tensor([0.5343, 0.6361, 0.6337, 0.1772]) tensor(1.9814)\n",
      "[1160,  1179] loss:  tensor([0.5349, 0.6316, 0.6375, 0.1740]) tensor(1.9780)\n",
      "[1180,  1199] loss:  tensor([0.5395, 0.6328, 0.6368, 0.1717]) tensor(1.9808)\n",
      "[1200,  1219] loss:  tensor([0.5501, 0.6307, 0.6365, 0.1759]) tensor(1.9931)\n",
      "[1220,  1239] loss:  tensor([0.5458, 0.6371, 0.6346, 0.1746]) tensor(1.9922)\n",
      "[1240,  1259] loss:  tensor([0.5453, 0.6370, 0.6321, 0.1761]) tensor(1.9905)\n",
      "[1260,  1279] loss:  tensor([0.5403, 0.6337, 0.6354, 0.1753]) tensor(1.9847)\n",
      "[1280,  1299] loss:  tensor([0.5427, 0.6359, 0.6338, 0.1777]) tensor(1.9902)\n",
      "[1300,  1319] loss:  tensor([0.5284, 0.6322, 0.6402, 0.1728]) tensor(1.9736)\n",
      "[1320,  1339] loss:  tensor([0.5377, 0.6379, 0.6343, 0.1737]) tensor(1.9837)\n",
      "[1340,  1359] loss:  tensor([0.5389, 0.6364, 0.6330, 0.1752]) tensor(1.9835)\n",
      "[1360,  1379] loss:  tensor([0.5363, 0.6352, 0.6338, 0.1716]) tensor(1.9769)\n",
      "[1380,  1399] loss:  tensor([0.5393, 0.6354, 0.6372, 0.1741]) tensor(1.9860)\n",
      "[1400,  1419] loss:  tensor([0.5338, 0.6391, 0.6303, 0.1729]) tensor(1.9761)\n",
      "[1420,  1439] loss:  tensor([0.5327, 0.6349, 0.6372, 0.1716]) tensor(1.9763)\n",
      "[1440,  1459] loss:  tensor([0.5282, 0.6374, 0.6343, 0.1750]) tensor(1.9749)\n",
      "[1460,  1479] loss:  tensor([0.5269, 0.6389, 0.6306, 0.1723]) tensor(1.9687)\n",
      "[1480,  1499] loss:  tensor([0.5247, 0.6362, 0.6329, 0.1721]) tensor(1.9659)\n",
      "[1500,  1519] loss:  tensor([0.5356, 0.6354, 0.6385, 0.1729]) tensor(1.9824)\n",
      "[1520,  1539] loss:  tensor([0.5332, 0.6331, 0.6359, 0.1702]) tensor(1.9725)\n",
      "[1540,  1559] loss:  tensor([0.5289, 0.6350, 0.6326, 0.1706]) tensor(1.9671)\n",
      "validation\n"
     ]
    },
    {
     "data": {
      "application/vnd.jupyter.widget-view+json": {
       "model_id": "36aead5bdb72492f9e18c8e3ea5951df",
       "version_major": 2,
       "version_minor": 0
      },
      "text/plain": [
       "  0%|          | 0/125 [00:00<?, ?it/s]"
      ]
     },
     "metadata": {},
     "output_type": "display_data"
    },
    {
     "name": "stdout",
     "output_type": "stream",
     "text": [
      "validation loss for epoch 1: tensor([0.5269, 0.6329, 0.6364, 0.1713]) 1.9674158213402029\n"
     ]
    },
    {
     "data": {
      "application/vnd.jupyter.widget-view+json": {
       "model_id": "778c11626f964133894f7d76dc2d376a",
       "version_major": 2,
       "version_minor": 0
      },
      "text/plain": [
       "  0%|          | 0/1544 [00:00<?, ?it/s]"
      ]
     },
     "metadata": {},
     "output_type": "display_data"
    },
    {
     "name": "stdout",
     "output_type": "stream",
     "text": [
      "[20,    39] loss:  tensor([0.5274, 0.6311, 0.6379, 0.1713]) tensor(1.9677)\n",
      "[40,    59] loss:  tensor([0.5362, 0.6342, 0.6341, 0.1732]) tensor(1.9777)\n",
      "[60,    79] loss:  tensor([0.5322, 0.6348, 0.6343, 0.1692]) tensor(1.9705)\n",
      "[80,    99] loss:  tensor([0.5327, 0.6370, 0.6316, 0.1761]) tensor(1.9773)\n",
      "[100,   119] loss:  tensor([0.5330, 0.6340, 0.6361, 0.1720]) tensor(1.9751)\n",
      "[120,   139] loss:  tensor([0.5284, 0.6352, 0.6335, 0.1714]) tensor(1.9685)\n",
      "[140,   159] loss:  tensor([0.5291, 0.6332, 0.6370, 0.1702]) tensor(1.9695)\n",
      "[160,   179] loss:  tensor([0.5239, 0.6338, 0.6377, 0.1687]) tensor(1.9640)\n",
      "[180,   199] loss:  tensor([0.5275, 0.6334, 0.6353, 0.1716]) tensor(1.9678)\n",
      "[200,   219] loss:  tensor([0.5274, 0.6367, 0.6308, 0.1699]) tensor(1.9649)\n",
      "[220,   239] loss:  tensor([0.5281, 0.6387, 0.6327, 0.1731]) tensor(1.9725)\n",
      "[240,   259] loss:  tensor([0.5305, 0.6335, 0.6370, 0.1784]) tensor(1.9793)\n",
      "[260,   279] loss:  tensor([0.5222, 0.6405, 0.6287, 0.1713]) tensor(1.9627)\n",
      "[280,   299] loss:  tensor([0.5261, 0.6323, 0.6375, 0.1697]) tensor(1.9656)\n",
      "[300,   319] loss:  tensor([0.5258, 0.6339, 0.6357, 0.1711]) tensor(1.9665)\n",
      "[320,   339] loss:  tensor([0.5281, 0.6336, 0.6365, 0.1712]) tensor(1.9694)\n",
      "[340,   359] loss:  tensor([0.5324, 0.6386, 0.6308, 0.1712]) tensor(1.9730)\n",
      "[360,   379] loss:  tensor([0.5254, 0.6381, 0.6305, 0.1700]) tensor(1.9640)\n",
      "[380,   399] loss:  tensor([0.5184, 0.6363, 0.6350, 0.1744]) tensor(1.9641)\n",
      "[400,   419] loss:  tensor([0.5156, 0.6371, 0.6322, 0.1721]) tensor(1.9570)\n",
      "[420,   439] loss:  tensor([0.5365, 0.6343, 0.6363, 0.1690]) tensor(1.9761)\n",
      "[440,   459] loss:  tensor([0.5187, 0.6310, 0.6362, 0.1677]) tensor(1.9535)\n",
      "[460,   479] loss:  tensor([0.5161, 0.6384, 0.6293, 0.1710]) tensor(1.9549)\n",
      "[480,   499] loss:  tensor([0.5229, 0.6393, 0.6294, 0.1725]) tensor(1.9641)\n",
      "[500,   519] loss:  tensor([0.5216, 0.6315, 0.6372, 0.1709]) tensor(1.9612)\n",
      "[520,   539] loss:  tensor([0.5288, 0.6334, 0.6373, 0.1691]) tensor(1.9687)\n",
      "[540,   559] loss:  tensor([0.5249, 0.6373, 0.6301, 0.1718]) tensor(1.9641)\n",
      "[560,   579] loss:  tensor([0.5169, 0.6346, 0.6352, 0.1696]) tensor(1.9564)\n",
      "[580,   599] loss:  tensor([0.5182, 0.6380, 0.6298, 0.1682]) tensor(1.9541)\n",
      "[600,   619] loss:  tensor([0.5213, 0.6319, 0.6380, 0.1721]) tensor(1.9632)\n",
      "[620,   639] loss:  tensor([0.5260, 0.6347, 0.6351, 0.1713]) tensor(1.9670)\n",
      "[640,   659] loss:  tensor([0.5261, 0.6391, 0.6315, 0.1703]) tensor(1.9669)\n",
      "[660,   679] loss:  tensor([0.5201, 0.6369, 0.6354, 0.1713]) tensor(1.9638)\n",
      "[680,   699] loss:  tensor([0.5288, 0.6332, 0.6364, 0.1713]) tensor(1.9698)\n",
      "[700,   719] loss:  tensor([0.5110, 0.6381, 0.6319, 0.1680]) tensor(1.9490)\n",
      "[720,   739] loss:  tensor([0.5245, 0.6347, 0.6362, 0.1699]) tensor(1.9653)\n",
      "[740,   759] loss:  tensor([0.5225, 0.6358, 0.6305, 0.1668]) tensor(1.9556)\n",
      "[760,   779] loss:  tensor([0.5164, 0.6377, 0.6346, 0.1701]) tensor(1.9587)\n",
      "[780,   799] loss:  tensor([0.5328, 0.6324, 0.6363, 0.1685]) tensor(1.9699)\n",
      "[800,   819] loss:  tensor([0.5184, 0.6367, 0.6314, 0.1703]) tensor(1.9568)\n",
      "[820,   839] loss:  tensor([0.5154, 0.6360, 0.6339, 0.1681]) tensor(1.9533)\n",
      "[840,   859] loss:  tensor([0.5167, 0.6345, 0.6327, 0.1703]) tensor(1.9543)\n",
      "[860,   879] loss:  tensor([0.5191, 0.6367, 0.6335, 0.1692]) tensor(1.9584)\n",
      "[880,   899] loss:  tensor([0.5161, 0.6339, 0.6338, 0.1681]) tensor(1.9519)\n",
      "[900,   919] loss:  tensor([0.5231, 0.6395, 0.6270, 0.1676]) tensor(1.9572)\n",
      "[920,   939] loss:  tensor([0.5186, 0.6396, 0.6301, 0.1747]) tensor(1.9630)\n",
      "[940,   959] loss:  tensor([0.5281, 0.6386, 0.6307, 0.1712]) tensor(1.9685)\n",
      "[960,   979] loss:  tensor([0.5183, 0.6355, 0.6329, 0.1692]) tensor(1.9559)\n",
      "[980,   999] loss:  tensor([0.5235, 0.6398, 0.6269, 0.1685]) tensor(1.9586)\n",
      "[1000,  1019] loss:  tensor([0.5197, 0.6301, 0.6369, 0.1683]) tensor(1.9549)\n",
      "[1020,  1039] loss:  tensor([0.5131, 0.6378, 0.6320, 0.1731]) tensor(1.9560)\n",
      "[1040,  1059] loss:  tensor([0.5182, 0.6378, 0.6294, 0.1683]) tensor(1.9537)\n",
      "[1060,  1079] loss:  tensor([0.5245, 0.6381, 0.6312, 0.1687]) tensor(1.9625)\n",
      "[1080,  1099] loss:  tensor([0.5140, 0.6322, 0.6375, 0.1676]) tensor(1.9512)\n",
      "[1100,  1119] loss:  tensor([0.5193, 0.6370, 0.6321, 0.1663]) tensor(1.9547)\n",
      "[1120,  1139] loss:  tensor([0.5209, 0.6355, 0.6322, 0.1636]) tensor(1.9522)\n",
      "[1140,  1159] loss:  tensor([0.5131, 0.6361, 0.6351, 0.1681]) tensor(1.9525)\n",
      "[1160,  1179] loss:  tensor([0.5159, 0.6341, 0.6332, 0.1725]) tensor(1.9557)\n",
      "[1180,  1199] loss:  tensor([0.5131, 0.6316, 0.6364, 0.1676]) tensor(1.9487)\n",
      "[1200,  1219] loss:  tensor([0.5176, 0.6368, 0.6313, 0.1660]) tensor(1.9517)\n",
      "[1220,  1239] loss:  tensor([0.5128, 0.6370, 0.6320, 0.1666]) tensor(1.9484)\n",
      "[1240,  1259] loss:  tensor([0.5165, 0.6312, 0.6386, 0.1651]) tensor(1.9514)\n",
      "[1260,  1279] loss:  tensor([0.5008, 0.6357, 0.6306, 0.1681]) tensor(1.9351)\n",
      "[1280,  1299] loss:  tensor([0.5098, 0.6355, 0.6365, 0.1672]) tensor(1.9491)\n",
      "[1300,  1319] loss:  tensor([0.5167, 0.6305, 0.6383, 0.1683]) tensor(1.9539)\n",
      "[1320,  1339] loss:  tensor([0.5171, 0.6338, 0.6343, 0.1704]) tensor(1.9555)\n",
      "[1340,  1359] loss:  tensor([0.5204, 0.6425, 0.6293, 0.1708]) tensor(1.9631)\n",
      "[1360,  1379] loss:  tensor([0.5002, 0.6373, 0.6313, 0.1700]) tensor(1.9389)\n",
      "[1380,  1399] loss:  tensor([0.5102, 0.6385, 0.6307, 0.1686]) tensor(1.9480)\n",
      "[1400,  1419] loss:  tensor([0.5132, 0.6363, 0.6340, 0.1662]) tensor(1.9498)\n",
      "[1420,  1439] loss:  tensor([0.5131, 0.6302, 0.6391, 0.1654]) tensor(1.9479)\n",
      "[1440,  1459] loss:  tensor([0.5129, 0.6399, 0.6309, 0.1677]) tensor(1.9513)\n",
      "[1460,  1479] loss:  tensor([0.5135, 0.6309, 0.6368, 0.1684]) tensor(1.9495)\n",
      "[1480,  1499] loss:  tensor([0.5136, 0.6390, 0.6309, 0.1672]) tensor(1.9506)\n",
      "[1500,  1519] loss:  tensor([0.5036, 0.6361, 0.6331, 0.1674]) tensor(1.9402)\n",
      "[1520,  1539] loss:  tensor([0.5079, 0.6314, 0.6354, 0.1677]) tensor(1.9424)\n",
      "[1540,  1559] loss:  tensor([0.5099, 0.6369, 0.6315, 0.1665]) tensor(1.9447)\n",
      "validation\n"
     ]
    },
    {
     "data": {
      "application/vnd.jupyter.widget-view+json": {
       "model_id": "997e6277867147859d2a950bf61629a8",
       "version_major": 2,
       "version_minor": 0
      },
      "text/plain": [
       "  0%|          | 0/125 [00:00<?, ?it/s]"
      ]
     },
     "metadata": {},
     "output_type": "display_data"
    },
    {
     "name": "stdout",
     "output_type": "stream",
     "text": [
      "validation loss for epoch 2: tensor([0.5093, 0.6369, 0.6322, 0.1700]) 1.9485235823571787\n"
     ]
    },
    {
     "data": {
      "application/vnd.jupyter.widget-view+json": {
       "model_id": "24f54150daa64097a8ee969177952541",
       "version_major": 2,
       "version_minor": 0
      },
      "text/plain": [
       "  0%|          | 0/1544 [00:00<?, ?it/s]"
      ]
     },
     "metadata": {},
     "output_type": "display_data"
    },
    {
     "name": "stdout",
     "output_type": "stream",
     "text": [
      "[20,    39] loss:  tensor([0.5188, 0.6333, 0.6335, 0.1676]) tensor(1.9532)\n",
      "[40,    59] loss:  tensor([0.5055, 0.6369, 0.6329, 0.1652]) tensor(1.9404)\n",
      "[60,    79] loss:  tensor([0.5055, 0.6358, 0.6341, 0.1649]) tensor(1.9403)\n",
      "[80,    99] loss:  tensor([0.5218, 0.6360, 0.6329, 0.1671]) tensor(1.9577)\n",
      "[100,   119] loss:  tensor([0.5137, 0.6330, 0.6376, 0.1638]) tensor(1.9482)\n",
      "[120,   139] loss:  tensor([0.5090, 0.6329, 0.6355, 0.1658]) tensor(1.9432)\n",
      "[140,   159] loss:  tensor([0.5133, 0.6337, 0.6345, 0.1664]) tensor(1.9479)\n",
      "[160,   179] loss:  tensor([0.5117, 0.6346, 0.6320, 0.1666]) tensor(1.9449)\n",
      "[180,   199] loss:  tensor([0.5113, 0.6348, 0.6347, 0.1671]) tensor(1.9480)\n",
      "[200,   219] loss:  tensor([0.5116, 0.6345, 0.6314, 0.1683]) tensor(1.9459)\n",
      "[220,   239] loss:  tensor([0.5014, 0.6346, 0.6335, 0.1681]) tensor(1.9376)\n",
      "[240,   259] loss:  tensor([0.5033, 0.6328, 0.6340, 0.1656]) tensor(1.9357)\n",
      "[260,   279] loss:  tensor([0.4956, 0.6372, 0.6339, 0.1649]) tensor(1.9317)\n",
      "[280,   299] loss:  tensor([0.5058, 0.6327, 0.6383, 0.1636]) tensor(1.9405)\n",
      "[300,   319] loss:  tensor([0.5058, 0.6374, 0.6301, 0.1691]) tensor(1.9424)\n",
      "[320,   339] loss:  tensor([0.5018, 0.6365, 0.6328, 0.1673]) tensor(1.9383)\n",
      "[340,   359] loss:  tensor([0.5063, 0.6321, 0.6367, 0.1682]) tensor(1.9432)\n",
      "[360,   379] loss:  tensor([0.5126, 0.6372, 0.6304, 0.1658]) tensor(1.9460)\n",
      "[380,   399] loss:  tensor([0.5057, 0.6401, 0.6289, 0.1651]) tensor(1.9398)\n",
      "[400,   419] loss:  tensor([0.5131, 0.6319, 0.6357, 0.1671]) tensor(1.9478)\n",
      "[420,   439] loss:  tensor([0.5021, 0.6365, 0.6303, 0.1661]) tensor(1.9350)\n",
      "[440,   459] loss:  tensor([0.5021, 0.6373, 0.6323, 0.1700]) tensor(1.9416)\n",
      "[460,   479] loss:  tensor([0.5145, 0.6388, 0.6315, 0.1656]) tensor(1.9504)\n",
      "[480,   499] loss:  tensor([0.5028, 0.6424, 0.6267, 0.1682]) tensor(1.9400)\n",
      "[500,   519] loss:  tensor([0.5059, 0.6390, 0.6297, 0.1672]) tensor(1.9417)\n",
      "[520,   539] loss:  tensor([0.5149, 0.6358, 0.6350, 0.1663]) tensor(1.9519)\n",
      "[540,   559] loss:  tensor([0.5204, 0.6383, 0.6312, 0.1658]) tensor(1.9556)\n",
      "[560,   579] loss:  tensor([0.5014, 0.6351, 0.6327, 0.1650]) tensor(1.9342)\n",
      "[580,   599] loss:  tensor([0.4966, 0.6360, 0.6333, 0.1657]) tensor(1.9316)\n",
      "[600,   619] loss:  tensor([0.5130, 0.6353, 0.6318, 0.1619]) tensor(1.9420)\n",
      "[620,   639] loss:  tensor([0.5078, 0.6367, 0.6324, 0.1650]) tensor(1.9419)\n",
      "[640,   659] loss:  tensor([0.5021, 0.6378, 0.6309, 0.1669]) tensor(1.9377)\n",
      "[660,   679] loss:  tensor([0.5079, 0.6395, 0.6297, 0.1663]) tensor(1.9433)\n",
      "[680,   699] loss:  tensor([0.5055, 0.6357, 0.6325, 0.1667]) tensor(1.9404)\n",
      "[700,   719] loss:  tensor([0.5047, 0.6315, 0.6377, 0.1702]) tensor(1.9441)\n",
      "[720,   739] loss:  tensor([0.5077, 0.6329, 0.6381, 0.1700]) tensor(1.9486)\n",
      "[740,   759] loss:  tensor([0.5038, 0.6287, 0.6407, 0.1719]) tensor(1.9450)\n",
      "[760,   779] loss:  tensor([0.5069, 0.6278, 0.6370, 0.1652]) tensor(1.9369)\n",
      "[780,   799] loss:  tensor([0.5023, 0.6356, 0.6325, 0.1647]) tensor(1.9351)\n",
      "[800,   819] loss:  tensor([0.4973, 0.6359, 0.6344, 0.1652]) tensor(1.9329)\n",
      "[820,   839] loss:  tensor([0.5019, 0.6349, 0.6336, 0.1673]) tensor(1.9377)\n",
      "[840,   859] loss:  tensor([0.5028, 0.6310, 0.6365, 0.1652]) tensor(1.9355)\n",
      "[860,   879] loss:  tensor([0.5039, 0.6402, 0.6258, 0.1705]) tensor(1.9403)\n",
      "[880,   899] loss:  tensor([0.5051, 0.6305, 0.6402, 0.1647]) tensor(1.9404)\n",
      "[900,   919] loss:  tensor([0.4997, 0.6333, 0.6348, 0.1643]) tensor(1.9321)\n",
      "[920,   939] loss:  tensor([0.5079, 0.6325, 0.6347, 0.1661]) tensor(1.9411)\n",
      "[940,   959] loss:  tensor([0.5033, 0.6282, 0.6388, 0.1629]) tensor(1.9332)\n",
      "[960,   979] loss:  tensor([0.5038, 0.6341, 0.6342, 0.1628]) tensor(1.9348)\n",
      "[980,   999] loss:  tensor([0.5021, 0.6364, 0.6316, 0.1676]) tensor(1.9376)\n",
      "[1000,  1019] loss:  tensor([0.5009, 0.6362, 0.6311, 0.1656]) tensor(1.9338)\n",
      "[1020,  1039] loss:  tensor([0.4991, 0.6331, 0.6386, 0.1681]) tensor(1.9389)\n",
      "[1040,  1059] loss:  tensor([0.4936, 0.6362, 0.6348, 0.1654]) tensor(1.9300)\n",
      "[1060,  1079] loss:  tensor([0.4996, 0.6292, 0.6384, 0.1626]) tensor(1.9298)\n",
      "[1080,  1099] loss:  tensor([0.4972, 0.6336, 0.6346, 0.1647]) tensor(1.9302)\n",
      "[1100,  1119] loss:  tensor([0.5183, 0.6352, 0.6325, 0.1659]) tensor(1.9519)\n",
      "[1120,  1139] loss:  tensor([0.5065, 0.6351, 0.6351, 0.1635]) tensor(1.9402)\n",
      "[1140,  1159] loss:  tensor([0.5081, 0.6340, 0.6337, 0.1640]) tensor(1.9398)\n",
      "[1160,  1179] loss:  tensor([0.5038, 0.6322, 0.6343, 0.1681]) tensor(1.9384)\n",
      "[1180,  1199] loss:  tensor([0.5039, 0.6324, 0.6352, 0.1650]) tensor(1.9365)\n",
      "[1200,  1219] loss:  tensor([0.4905, 0.6321, 0.6343, 0.1617]) tensor(1.9186)\n",
      "[1220,  1239] loss:  tensor([0.5063, 0.6334, 0.6335, 0.1629]) tensor(1.9360)\n",
      "[1240,  1259] loss:  tensor([0.4942, 0.6359, 0.6332, 0.1630]) tensor(1.9263)\n",
      "[1260,  1279] loss:  tensor([0.5127, 0.6358, 0.6336, 0.1647]) tensor(1.9468)\n",
      "[1280,  1299] loss:  tensor([0.5119, 0.6342, 0.6356, 0.1651]) tensor(1.9467)\n",
      "[1300,  1319] loss:  tensor([0.4979, 0.6320, 0.6352, 0.1631]) tensor(1.9282)\n",
      "[1320,  1339] loss:  tensor([0.5123, 0.6347, 0.6302, 0.1619]) tensor(1.9391)\n",
      "[1340,  1359] loss:  tensor([0.5072, 0.6382, 0.6324, 0.1648]) tensor(1.9426)\n",
      "[1360,  1379] loss:  tensor([0.4969, 0.6330, 0.6337, 0.1685]) tensor(1.9320)\n",
      "[1380,  1399] loss:  tensor([0.4997, 0.6335, 0.6345, 0.1734]) tensor(1.9411)\n",
      "[1400,  1419] loss:  tensor([0.5013, 0.6373, 0.6317, 0.1668]) tensor(1.9372)\n",
      "[1420,  1439] loss:  tensor([0.5049, 0.6310, 0.6354, 0.1679]) tensor(1.9392)\n",
      "[1440,  1459] loss:  tensor([0.5087, 0.6389, 0.6299, 0.1647]) tensor(1.9421)\n",
      "[1460,  1479] loss:  tensor([0.4918, 0.6341, 0.6347, 0.1632]) tensor(1.9237)\n",
      "[1480,  1499] loss:  tensor([0.5004, 0.6411, 0.6275, 0.1667]) tensor(1.9356)\n",
      "[1500,  1519] loss:  tensor([0.5053, 0.6379, 0.6305, 0.1630]) tensor(1.9367)\n",
      "[1520,  1539] loss:  tensor([0.4980, 0.6377, 0.6301, 0.1638]) tensor(1.9297)\n",
      "[1540,  1559] loss:  tensor([0.4984, 0.6369, 0.6306, 0.1651]) tensor(1.9311)\n",
      "validation\n"
     ]
    },
    {
     "data": {
      "application/vnd.jupyter.widget-view+json": {
       "model_id": "274d99ea5a5c422498561ddd537c5404",
       "version_major": 2,
       "version_minor": 0
      },
      "text/plain": [
       "  0%|          | 0/125 [00:00<?, ?it/s]"
      ]
     },
     "metadata": {},
     "output_type": "display_data"
    },
    {
     "name": "stdout",
     "output_type": "stream",
     "text": [
      "validation loss for epoch 3: tensor([0.5237, 0.6362, 0.6300, 0.1699]) 1.959776807386933\n"
     ]
    },
    {
     "data": {
      "application/vnd.jupyter.widget-view+json": {
       "model_id": "782b076d3dc0449994ea6eba2715a863",
       "version_major": 2,
       "version_minor": 0
      },
      "text/plain": [
       "  0%|          | 0/1544 [00:00<?, ?it/s]"
      ]
     },
     "metadata": {},
     "output_type": "display_data"
    },
    {
     "name": "stdout",
     "output_type": "stream",
     "text": [
      "[20,    39] loss:  tensor([0.5077, 0.6358, 0.6323, 0.1641]) tensor(1.9399)\n",
      "[40,    59] loss:  tensor([0.5025, 0.6372, 0.6316, 0.1649]) tensor(1.9361)\n",
      "[60,    79] loss:  tensor([0.4985, 0.6333, 0.6356, 0.1640]) tensor(1.9314)\n",
      "[80,    99] loss:  tensor([0.4958, 0.6387, 0.6295, 0.1657]) tensor(1.9297)\n",
      "[100,   119] loss:  tensor([0.4907, 0.6365, 0.6303, 0.1657]) tensor(1.9233)\n",
      "[120,   139] loss:  tensor([0.4987, 0.6371, 0.6266, 0.1626]) tensor(1.9249)\n",
      "[140,   159] loss:  tensor([0.5021, 0.6370, 0.6339, 0.1638]) tensor(1.9368)\n",
      "[160,   179] loss:  tensor([0.5004, 0.6343, 0.6331, 0.1634]) tensor(1.9312)\n",
      "[180,   199] loss:  tensor([0.4995, 0.6301, 0.6356, 0.1629]) tensor(1.9281)\n",
      "[200,   219] loss:  tensor([0.4959, 0.6287, 0.6372, 0.1631]) tensor(1.9249)\n",
      "[220,   239] loss:  tensor([0.4942, 0.6365, 0.6293, 0.1629]) tensor(1.9229)\n",
      "[240,   259] loss:  tensor([0.4981, 0.6378, 0.6306, 0.1632]) tensor(1.9297)\n",
      "[260,   279] loss:  tensor([0.5005, 0.6352, 0.6333, 0.1628]) tensor(1.9319)\n",
      "[280,   299] loss:  tensor([0.4954, 0.6305, 0.6358, 0.1659]) tensor(1.9277)\n",
      "[300,   319] loss:  tensor([0.4968, 0.6358, 0.6314, 0.1623]) tensor(1.9263)\n",
      "[320,   339] loss:  tensor([0.5029, 0.6313, 0.6361, 0.1630]) tensor(1.9332)\n",
      "[340,   359] loss:  tensor([0.5007, 0.6334, 0.6345, 0.1620]) tensor(1.9306)\n",
      "[360,   379] loss:  tensor([0.5019, 0.6384, 0.6309, 0.1652]) tensor(1.9364)\n",
      "[380,   399] loss:  tensor([0.4924, 0.6383, 0.6281, 0.1634]) tensor(1.9222)\n",
      "[400,   419] loss:  tensor([0.4978, 0.6337, 0.6349, 0.1642]) tensor(1.9305)\n",
      "[420,   439] loss:  tensor([0.4973, 0.6322, 0.6351, 0.1640]) tensor(1.9286)\n",
      "[440,   459] loss:  tensor([0.4987, 0.6361, 0.6318, 0.1622]) tensor(1.9288)\n",
      "[460,   479] loss:  tensor([0.5044, 0.6277, 0.6378, 0.1617]) tensor(1.9316)\n",
      "[480,   499] loss:  tensor([0.4943, 0.6358, 0.6300, 0.1660]) tensor(1.9262)\n",
      "[500,   519] loss:  tensor([0.4997, 0.6379, 0.6286, 0.1626]) tensor(1.9287)\n",
      "[520,   539] loss:  tensor([0.4980, 0.6277, 0.6374, 0.1592]) tensor(1.9223)\n",
      "[540,   559] loss:  tensor([0.4916, 0.6339, 0.6331, 0.1631]) tensor(1.9217)\n",
      "[560,   579] loss:  tensor([0.4965, 0.6378, 0.6287, 0.1621]) tensor(1.9251)\n",
      "[580,   599] loss:  tensor([0.4883, 0.6310, 0.6357, 0.1637]) tensor(1.9187)\n",
      "[600,   619] loss:  tensor([0.4917, 0.6378, 0.6291, 0.1675]) tensor(1.9260)\n",
      "[620,   639] loss:  tensor([0.4939, 0.6373, 0.6335, 0.1629]) tensor(1.9276)\n",
      "[640,   659] loss:  tensor([0.5005, 0.6351, 0.6308, 0.1646]) tensor(1.9310)\n",
      "[660,   679] loss:  tensor([0.4924, 0.6400, 0.6274, 0.1641]) tensor(1.9238)\n",
      "[680,   699] loss:  tensor([0.4976, 0.6295, 0.6393, 0.1683]) tensor(1.9347)\n",
      "[700,   719] loss:  tensor([0.4998, 0.6385, 0.6323, 0.1633]) tensor(1.9339)\n",
      "[720,   739] loss:  tensor([0.5010, 0.6405, 0.6276, 0.1603]) tensor(1.9294)\n",
      "[740,   759] loss:  tensor([0.4974, 0.6326, 0.6358, 0.1631]) tensor(1.9289)\n",
      "[760,   779] loss:  tensor([0.4902, 0.6359, 0.6299, 0.1622]) tensor(1.9182)\n",
      "[780,   799] loss:  tensor([0.4951, 0.6345, 0.6317, 0.1689]) tensor(1.9301)\n",
      "[800,   819] loss:  tensor([0.4913, 0.6338, 0.6339, 0.1643]) tensor(1.9234)\n",
      "[820,   839] loss:  tensor([0.4966, 0.6350, 0.6352, 0.1639]) tensor(1.9307)\n",
      "[840,   859] loss:  tensor([0.5040, 0.6376, 0.6328, 0.1643]) tensor(1.9388)\n",
      "[860,   879] loss:  tensor([0.4964, 0.6332, 0.6355, 0.1656]) tensor(1.9307)\n",
      "[880,   899] loss:  tensor([0.5009, 0.6355, 0.6320, 0.1652]) tensor(1.9336)\n",
      "[900,   919] loss:  tensor([0.4966, 0.6378, 0.6298, 0.1611]) tensor(1.9254)\n",
      "[920,   939] loss:  tensor([0.4981, 0.6382, 0.6311, 0.1643]) tensor(1.9317)\n",
      "[940,   959] loss:  tensor([0.5007, 0.6367, 0.6334, 0.1615]) tensor(1.9324)\n",
      "[960,   979] loss:  tensor([0.4948, 0.6419, 0.6264, 0.1645]) tensor(1.9277)\n",
      "[980,   999] loss:  tensor([0.5034, 0.6325, 0.6342, 0.1628]) tensor(1.9330)\n",
      "[1000,  1019] loss:  tensor([0.4892, 0.6349, 0.6324, 0.1620]) tensor(1.9186)\n",
      "[1020,  1039] loss:  tensor([0.4870, 0.6340, 0.6350, 0.1598]) tensor(1.9157)\n",
      "[1040,  1059] loss:  tensor([0.5024, 0.6356, 0.6304, 0.1644]) tensor(1.9328)\n",
      "[1060,  1079] loss:  tensor([0.4952, 0.6324, 0.6350, 0.1637]) tensor(1.9263)\n",
      "[1080,  1099] loss:  tensor([0.5050, 0.6325, 0.6335, 0.1637]) tensor(1.9347)\n",
      "[1100,  1119] loss:  tensor([0.4929, 0.6337, 0.6336, 0.1608]) tensor(1.9210)\n",
      "[1120,  1139] loss:  tensor([0.4921, 0.6361, 0.6323, 0.1622]) tensor(1.9228)\n",
      "[1140,  1159] loss:  tensor([0.4955, 0.6352, 0.6306, 0.1619]) tensor(1.9232)\n",
      "[1160,  1179] loss:  tensor([0.4903, 0.6378, 0.6278, 0.1618]) tensor(1.9177)\n",
      "[1180,  1199] loss:  tensor([0.4994, 0.6366, 0.6315, 0.1610]) tensor(1.9285)\n",
      "[1200,  1219] loss:  tensor([0.4957, 0.6386, 0.6301, 0.1613]) tensor(1.9257)\n",
      "[1220,  1239] loss:  tensor([0.4952, 0.6343, 0.6332, 0.1642]) tensor(1.9269)\n",
      "[1240,  1259] loss:  tensor([0.4912, 0.6390, 0.6288, 0.1620]) tensor(1.9210)\n",
      "[1260,  1279] loss:  tensor([0.4855, 0.6382, 0.6276, 0.1620]) tensor(1.9133)\n",
      "[1280,  1299] loss:  tensor([0.4940, 0.6318, 0.6319, 0.1603]) tensor(1.9180)\n",
      "[1300,  1319] loss:  tensor([0.4928, 0.6316, 0.6365, 0.1610]) tensor(1.9219)\n",
      "[1320,  1339] loss:  tensor([0.4988, 0.6350, 0.6332, 0.1626]) tensor(1.9296)\n",
      "[1340,  1359] loss:  tensor([0.4996, 0.6347, 0.6310, 0.1613]) tensor(1.9265)\n",
      "[1360,  1379] loss:  tensor([0.4907, 0.6331, 0.6312, 0.1641]) tensor(1.9191)\n",
      "[1380,  1399] loss:  tensor([0.4906, 0.6359, 0.6311, 0.1622]) tensor(1.9197)\n",
      "[1400,  1419] loss:  tensor([0.4888, 0.6319, 0.6340, 0.1671]) tensor(1.9218)\n",
      "[1420,  1439] loss:  tensor([0.4889, 0.6391, 0.6314, 0.1648]) tensor(1.9243)\n",
      "[1440,  1459] loss:  tensor([0.4828, 0.6368, 0.6316, 0.1624]) tensor(1.9136)\n",
      "[1460,  1479] loss:  tensor([0.4926, 0.6278, 0.6345, 0.1658]) tensor(1.9208)\n",
      "[1480,  1499] loss:  tensor([0.4852, 0.6292, 0.6377, 0.1610]) tensor(1.9130)\n",
      "[1500,  1519] loss:  tensor([0.4879, 0.6324, 0.6304, 0.1620]) tensor(1.9127)\n",
      "[1520,  1539] loss:  tensor([0.4817, 0.6385, 0.6318, 0.1621]) tensor(1.9141)\n",
      "[1540,  1559] loss:  tensor([0.4955, 0.6362, 0.6304, 0.1613]) tensor(1.9234)\n",
      "validation\n"
     ]
    },
    {
     "data": {
      "application/vnd.jupyter.widget-view+json": {
       "model_id": "6946f62f820745d38d46eeeec00763c1",
       "version_major": 2,
       "version_minor": 0
      },
      "text/plain": [
       "  0%|          | 0/125 [00:00<?, ?it/s]"
      ]
     },
     "metadata": {},
     "output_type": "display_data"
    },
    {
     "name": "stdout",
     "output_type": "stream",
     "text": [
      "validation loss for epoch 4: tensor([0.4906, 0.6391, 0.6266, 0.1682]) 1.9245502086726385\n"
     ]
    },
    {
     "data": {
      "application/vnd.jupyter.widget-view+json": {
       "model_id": "5de03cda9d7344aea972177bb4ae019f",
       "version_major": 2,
       "version_minor": 0
      },
      "text/plain": [
       "  0%|          | 0/1544 [00:00<?, ?it/s]"
      ]
     },
     "metadata": {},
     "output_type": "display_data"
    },
    {
     "name": "stdout",
     "output_type": "stream",
     "text": [
      "[20,    39] loss:  tensor([0.4866, 0.6350, 0.6355, 0.1616]) tensor(1.9187)\n",
      "[40,    59] loss:  tensor([0.4844, 0.6391, 0.6291, 0.1627]) tensor(1.9154)\n",
      "[60,    79] loss:  tensor([0.4883, 0.6369, 0.6301, 0.1625]) tensor(1.9179)\n",
      "[80,    99] loss:  tensor([0.4967, 0.6344, 0.6326, 0.1620]) tensor(1.9257)\n",
      "[100,   119] loss:  tensor([0.4892, 0.6331, 0.6343, 0.1598]) tensor(1.9164)\n",
      "[120,   139] loss:  tensor([0.4879, 0.6327, 0.6363, 0.1612]) tensor(1.9181)\n",
      "[140,   159] loss:  tensor([0.4863, 0.6313, 0.6333, 0.1621]) tensor(1.9129)\n",
      "[160,   179] loss:  tensor([0.4913, 0.6330, 0.6323, 0.1623]) tensor(1.9189)\n",
      "[180,   199] loss:  tensor([0.4942, 0.6396, 0.6258, 0.1628]) tensor(1.9223)\n",
      "[200,   219] loss:  tensor([0.5012, 0.6379, 0.6313, 0.1642]) tensor(1.9346)\n",
      "[220,   239] loss:  tensor([0.4910, 0.6390, 0.6287, 0.1613]) tensor(1.9200)\n",
      "[240,   259] loss:  tensor([0.4975, 0.6400, 0.6264, 0.1613]) tensor(1.9253)\n",
      "[260,   279] loss:  tensor([0.5003, 0.6409, 0.6267, 0.1633]) tensor(1.9312)\n",
      "[280,   299] loss:  tensor([0.4850, 0.6414, 0.6259, 0.1631]) tensor(1.9154)\n",
      "[300,   319] loss:  tensor([0.4970, 0.6305, 0.6371, 0.1646]) tensor(1.9292)\n",
      "[320,   339] loss:  tensor([0.4996, 0.6316, 0.6350, 0.1614]) tensor(1.9276)\n",
      "[340,   359] loss:  tensor([0.4878, 0.6379, 0.6299, 0.1608]) tensor(1.9165)\n",
      "[360,   379] loss:  tensor([0.4885, 0.6315, 0.6352, 0.1606]) tensor(1.9158)\n",
      "[380,   399] loss:  tensor([0.4947, 0.6363, 0.6312, 0.1619]) tensor(1.9242)\n",
      "[400,   419] loss:  tensor([0.4975, 0.6393, 0.6256, 0.1628]) tensor(1.9251)\n",
      "[420,   439] loss:  tensor([0.4894, 0.6335, 0.6309, 0.1627]) tensor(1.9165)\n",
      "[440,   459] loss:  tensor([0.4902, 0.6344, 0.6347, 0.1638]) tensor(1.9230)\n",
      "[460,   479] loss:  tensor([0.4905, 0.6402, 0.6280, 0.1598]) tensor(1.9184)\n",
      "[480,   499] loss:  tensor([0.4899, 0.6340, 0.6334, 0.1613]) tensor(1.9186)\n",
      "[500,   519] loss:  tensor([0.4942, 0.6298, 0.6355, 0.1629]) tensor(1.9224)\n",
      "[520,   539] loss:  tensor([0.4863, 0.6318, 0.6349, 0.1627]) tensor(1.9158)\n",
      "[540,   559] loss:  tensor([0.4943, 0.6363, 0.6328, 0.1622]) tensor(1.9256)\n",
      "[560,   579] loss:  tensor([0.4934, 0.6327, 0.6342, 0.1589]) tensor(1.9193)\n",
      "[580,   599] loss:  tensor([0.4898, 0.6362, 0.6296, 0.1615]) tensor(1.9171)\n",
      "[600,   619] loss:  tensor([0.4860, 0.6359, 0.6321, 0.1614]) tensor(1.9154)\n",
      "[620,   639] loss:  tensor([0.4918, 0.6336, 0.6340, 0.1621]) tensor(1.9216)\n",
      "[640,   659] loss:  tensor([0.4907, 0.6390, 0.6267, 0.1605]) tensor(1.9168)\n",
      "[660,   679] loss:  tensor([0.4892, 0.6347, 0.6317, 0.1624]) tensor(1.9180)\n",
      "[680,   699] loss:  tensor([0.4948, 0.6375, 0.6287, 0.1620]) tensor(1.9230)\n",
      "[700,   719] loss:  tensor([0.4824, 0.6402, 0.6279, 0.1616]) tensor(1.9120)\n",
      "[720,   739] loss:  tensor([0.4968, 0.6374, 0.6286, 0.1632]) tensor(1.9260)\n",
      "[740,   759] loss:  tensor([0.4846, 0.6406, 0.6289, 0.1611]) tensor(1.9153)\n",
      "[760,   779] loss:  tensor([0.4949, 0.6391, 0.6272, 0.1638]) tensor(1.9250)\n",
      "[780,   799] loss:  tensor([0.4919, 0.6357, 0.6294, 0.1641]) tensor(1.9211)\n",
      "[800,   819] loss:  tensor([0.4837, 0.6385, 0.6274, 0.1589]) tensor(1.9084)\n",
      "[820,   839] loss:  tensor([0.4825, 0.6349, 0.6288, 0.1603]) tensor(1.9065)\n",
      "[840,   859] loss:  tensor([0.4960, 0.6353, 0.6308, 0.1630]) tensor(1.9250)\n",
      "[860,   879] loss:  tensor([0.4909, 0.6331, 0.6322, 0.1631]) tensor(1.9193)\n",
      "[880,   899] loss:  tensor([0.4936, 0.6360, 0.6316, 0.1596]) tensor(1.9208)\n",
      "[900,   919] loss:  tensor([0.4912, 0.6339, 0.6323, 0.1615]) tensor(1.9190)\n",
      "[920,   939] loss:  tensor([0.4882, 0.6392, 0.6263, 0.1598]) tensor(1.9134)\n",
      "[940,   959] loss:  tensor([0.4959, 0.6333, 0.6351, 0.1622]) tensor(1.9265)\n",
      "[960,   979] loss:  tensor([0.4941, 0.6321, 0.6342, 0.1668]) tensor(1.9272)\n",
      "[980,   999] loss:  tensor([0.4959, 0.6373, 0.6308, 0.1632]) tensor(1.9271)\n",
      "[1000,  1019] loss:  tensor([0.4992, 0.6388, 0.6273, 0.1611]) tensor(1.9265)\n",
      "[1020,  1039] loss:  tensor([0.4927, 0.6296, 0.6377, 0.1610]) tensor(1.9211)\n",
      "[1040,  1059] loss:  tensor([0.4933, 0.6407, 0.6289, 0.1617]) tensor(1.9246)\n",
      "[1060,  1079] loss:  tensor([0.4858, 0.6362, 0.6327, 0.1615]) tensor(1.9162)\n",
      "[1080,  1099] loss:  tensor([0.4923, 0.6334, 0.6330, 0.1613]) tensor(1.9201)\n",
      "[1100,  1119] loss:  tensor([0.4919, 0.6366, 0.6302, 0.1622]) tensor(1.9209)\n",
      "[1120,  1139] loss:  tensor([0.4990, 0.6359, 0.6296, 0.1633]) tensor(1.9279)\n",
      "[1140,  1159] loss:  tensor([0.4974, 0.6306, 0.6371, 0.1622]) tensor(1.9273)\n",
      "[1160,  1179] loss:  tensor([0.4927, 0.6374, 0.6270, 0.1626]) tensor(1.9197)\n",
      "[1180,  1199] loss:  tensor([0.4881, 0.6320, 0.6325, 0.1626]) tensor(1.9151)\n",
      "[1200,  1219] loss:  tensor([0.4921, 0.6348, 0.6321, 0.1601]) tensor(1.9191)\n",
      "[1220,  1239] loss:  tensor([0.4869, 0.6329, 0.6323, 0.1612]) tensor(1.9133)\n",
      "[1240,  1259] loss:  tensor([0.4836, 0.6372, 0.6280, 0.1615]) tensor(1.9103)\n",
      "[1260,  1279] loss:  tensor([0.4837, 0.6349, 0.6328, 0.1639]) tensor(1.9152)\n",
      "[1280,  1299] loss:  tensor([0.4907, 0.6371, 0.6311, 0.1625]) tensor(1.9214)\n",
      "[1300,  1319] loss:  tensor([0.4923, 0.6367, 0.6296, 0.1609]) tensor(1.9195)\n",
      "[1320,  1339] loss:  tensor([0.4914, 0.6370, 0.6279, 0.1594]) tensor(1.9157)\n",
      "[1340,  1359] loss:  tensor([0.4884, 0.6358, 0.6299, 0.1617]) tensor(1.9158)\n",
      "[1360,  1379] loss:  tensor([0.4901, 0.6337, 0.6307, 0.1601]) tensor(1.9146)\n",
      "[1380,  1399] loss:  tensor([0.4874, 0.6303, 0.6365, 0.1624]) tensor(1.9166)\n",
      "[1400,  1419] loss:  tensor([0.4860, 0.6402, 0.6271, 0.1619]) tensor(1.9152)\n",
      "[1420,  1439] loss:  tensor([0.4837, 0.6392, 0.6278, 0.1617]) tensor(1.9124)\n",
      "[1440,  1459] loss:  tensor([0.4887, 0.6378, 0.6311, 0.1621]) tensor(1.9197)\n",
      "[1460,  1479] loss:  tensor([0.4905, 0.6275, 0.6396, 0.1601]) tensor(1.9177)\n",
      "[1480,  1499] loss:  tensor([0.4895, 0.6315, 0.6344, 0.1602]) tensor(1.9157)\n",
      "[1500,  1519] loss:  tensor([0.5039, 0.6324, 0.6347, 0.1636]) tensor(1.9346)\n",
      "[1520,  1539] loss:  tensor([0.4851, 0.6349, 0.6346, 0.1579]) tensor(1.9125)\n",
      "[1540,  1559] loss:  tensor([0.4826, 0.6407, 0.6301, 0.1608]) tensor(1.9141)\n",
      "validation\n"
     ]
    },
    {
     "data": {
      "application/vnd.jupyter.widget-view+json": {
       "model_id": "21431aadcf3549588d6c3e1a883525e3",
       "version_major": 2,
       "version_minor": 0
      },
      "text/plain": [
       "  0%|          | 0/125 [00:00<?, ?it/s]"
      ]
     },
     "metadata": {},
     "output_type": "display_data"
    },
    {
     "name": "stdout",
     "output_type": "stream",
     "text": [
      "validation loss for epoch 5: tensor([0.5101, 0.6305, 0.6336, 0.1649]) 1.9391000356270358\n"
     ]
    },
    {
     "data": {
      "application/vnd.jupyter.widget-view+json": {
       "model_id": "d29e322e62ed4e0dbed5aa9a5b0cbd21",
       "version_major": 2,
       "version_minor": 0
      },
      "text/plain": [
       "  0%|          | 0/1544 [00:00<?, ?it/s]"
      ]
     },
     "metadata": {},
     "output_type": "display_data"
    },
    {
     "name": "stdout",
     "output_type": "stream",
     "text": [
      "[20,    39] loss:  tensor([0.4924, 0.6372, 0.6296, 0.1628]) tensor(1.9219)\n",
      "[40,    59] loss:  tensor([0.4956, 0.6302, 0.6330, 0.1605]) tensor(1.9193)\n",
      "[60,    79] loss:  tensor([0.4915, 0.6360, 0.6292, 0.1635]) tensor(1.9202)\n",
      "[80,    99] loss:  tensor([0.4829, 0.6322, 0.6348, 0.1644]) tensor(1.9143)\n",
      "[100,   119] loss:  tensor([0.4880, 0.6380, 0.6294, 0.1610]) tensor(1.9165)\n",
      "[120,   139] loss:  tensor([0.4873, 0.6315, 0.6335, 0.1618]) tensor(1.9141)\n",
      "[140,   159] loss:  tensor([0.4861, 0.6405, 0.6259, 0.1606]) tensor(1.9131)\n",
      "[160,   179] loss:  tensor([0.4844, 0.6364, 0.6292, 0.1603]) tensor(1.9102)\n",
      "[180,   199] loss:  tensor([0.4796, 0.6332, 0.6316, 0.1614]) tensor(1.9057)\n",
      "[200,   219] loss:  tensor([0.4828, 0.6348, 0.6335, 0.1591]) tensor(1.9103)\n",
      "[220,   239] loss:  tensor([0.4812, 0.6371, 0.6294, 0.1628]) tensor(1.9105)\n",
      "[240,   259] loss:  tensor([0.4925, 0.6380, 0.6294, 0.1592]) tensor(1.9191)\n",
      "[260,   279] loss:  tensor([0.4890, 0.6343, 0.6321, 0.1618]) tensor(1.9172)\n",
      "[280,   299] loss:  tensor([0.4855, 0.6336, 0.6328, 0.1615]) tensor(1.9134)\n",
      "[300,   319] loss:  tensor([0.4883, 0.6411, 0.6272, 0.1603]) tensor(1.9169)\n",
      "[320,   339] loss:  tensor([0.4933, 0.6342, 0.6331, 0.1625]) tensor(1.9231)\n",
      "[340,   359] loss:  tensor([0.4878, 0.6330, 0.6315, 0.1592]) tensor(1.9115)\n",
      "[360,   379] loss:  tensor([0.4871, 0.6373, 0.6302, 0.1627]) tensor(1.9172)\n",
      "[380,   399] loss:  tensor([0.4763, 0.6378, 0.6303, 0.1605]) tensor(1.9049)\n",
      "[400,   419] loss:  tensor([0.4879, 0.6378, 0.6265, 0.1614]) tensor(1.9137)\n",
      "[420,   439] loss:  tensor([0.4809, 0.6356, 0.6325, 0.1597]) tensor(1.9087)\n",
      "[440,   459] loss:  tensor([0.4922, 0.6343, 0.6350, 0.1604]) tensor(1.9219)\n",
      "[460,   479] loss:  tensor([0.4884, 0.6399, 0.6308, 0.1599]) tensor(1.9190)\n",
      "[480,   499] loss:  tensor([0.4911, 0.6387, 0.6256, 0.1631]) tensor(1.9185)\n",
      "[500,   519] loss:  tensor([0.4845, 0.6374, 0.6278, 0.1602]) tensor(1.9099)\n",
      "[520,   539] loss:  tensor([0.4943, 0.6358, 0.6345, 0.1598]) tensor(1.9244)\n",
      "[540,   559] loss:  tensor([0.4881, 0.6343, 0.6304, 0.1637]) tensor(1.9164)\n",
      "[560,   579] loss:  tensor([0.4939, 0.6290, 0.6378, 0.1602]) tensor(1.9209)\n",
      "[580,   599] loss:  tensor([0.4897, 0.6350, 0.6336, 0.1615]) tensor(1.9198)\n",
      "[600,   619] loss:  tensor([0.4826, 0.6383, 0.6257, 0.1650]) tensor(1.9117)\n",
      "[620,   639] loss:  tensor([0.4877, 0.6384, 0.6271, 0.1614]) tensor(1.9144)\n",
      "[640,   659] loss:  tensor([0.4826, 0.6377, 0.6280, 0.1608]) tensor(1.9090)\n",
      "[660,   679] loss:  tensor([0.4813, 0.6340, 0.6314, 0.1588]) tensor(1.9054)\n",
      "[680,   699] loss:  tensor([0.4975, 0.6335, 0.6303, 0.1624]) tensor(1.9236)\n",
      "[700,   719] loss:  tensor([0.4848, 0.6292, 0.6357, 0.1639]) tensor(1.9136)\n",
      "[720,   739] loss:  tensor([0.4879, 0.6380, 0.6288, 0.1624]) tensor(1.9171)\n",
      "[740,   759] loss:  tensor([0.4869, 0.6352, 0.6313, 0.1611]) tensor(1.9146)\n",
      "[760,   779] loss:  tensor([0.4887, 0.6375, 0.6310, 0.1607]) tensor(1.9179)\n",
      "[780,   799] loss:  tensor([0.4881, 0.6340, 0.6295, 0.1604]) tensor(1.9120)\n",
      "[800,   819] loss:  tensor([0.4919, 0.6362, 0.6335, 0.1620]) tensor(1.9237)\n",
      "[820,   839] loss:  tensor([0.4950, 0.6375, 0.6289, 0.1596]) tensor(1.9210)\n",
      "[840,   859] loss:  tensor([0.4914, 0.6380, 0.6279, 0.1611]) tensor(1.9184)\n",
      "[860,   879] loss:  tensor([0.4846, 0.6377, 0.6291, 0.1641]) tensor(1.9154)\n",
      "[880,   899] loss:  tensor([0.4953, 0.6359, 0.6303, 0.1591]) tensor(1.9206)\n",
      "[900,   919] loss:  tensor([0.4985, 0.6377, 0.6262, 0.1627]) tensor(1.9251)\n",
      "[920,   939] loss:  tensor([0.4921, 0.6372, 0.6283, 0.1617]) tensor(1.9194)\n",
      "[940,   959] loss:  tensor([0.4817, 0.6354, 0.6285, 0.1605]) tensor(1.9061)\n",
      "[960,   979] loss:  tensor([0.4874, 0.6289, 0.6378, 0.1596]) tensor(1.9138)\n",
      "[980,   999] loss:  tensor([0.4943, 0.6374, 0.6313, 0.1590]) tensor(1.9220)\n",
      "[1000,  1019] loss:  tensor([0.4793, 0.6352, 0.6313, 0.1617]) tensor(1.9075)\n",
      "[1020,  1039] loss:  tensor([0.4919, 0.6307, 0.6356, 0.1598]) tensor(1.9180)\n",
      "[1040,  1059] loss:  tensor([0.4841, 0.6324, 0.6308, 0.1609]) tensor(1.9081)\n",
      "[1060,  1079] loss:  tensor([0.4925, 0.6369, 0.6276, 0.1624]) tensor(1.9195)\n",
      "[1080,  1099] loss:  tensor([0.4995, 0.6306, 0.6357, 0.1621]) tensor(1.9280)\n",
      "[1100,  1119] loss:  tensor([0.4831, 0.6326, 0.6339, 0.1626]) tensor(1.9123)\n",
      "[1120,  1139] loss:  tensor([0.4858, 0.6402, 0.6274, 0.1610]) tensor(1.9144)\n",
      "[1140,  1159] loss:  tensor([0.4836, 0.6334, 0.6349, 0.1610]) tensor(1.9129)\n",
      "[1160,  1179] loss:  tensor([0.4827, 0.6349, 0.6312, 0.1608]) tensor(1.9095)\n",
      "[1180,  1199] loss:  tensor([0.4855, 0.6365, 0.6279, 0.1588]) tensor(1.9087)\n",
      "[1200,  1219] loss:  tensor([0.4894, 0.6355, 0.6300, 0.1603]) tensor(1.9153)\n",
      "[1220,  1239] loss:  tensor([0.4775, 0.6381, 0.6243, 0.1592]) tensor(1.8991)\n",
      "[1240,  1259] loss:  tensor([0.4775, 0.6376, 0.6291, 0.1599]) tensor(1.9042)\n",
      "[1260,  1279] loss:  tensor([0.4872, 0.6348, 0.6332, 0.1599]) tensor(1.9150)\n",
      "[1280,  1299] loss:  tensor([0.4837, 0.6376, 0.6312, 0.1592]) tensor(1.9118)\n",
      "[1300,  1319] loss:  tensor([0.4971, 0.6289, 0.6346, 0.1634]) tensor(1.9239)\n",
      "[1320,  1339] loss:  tensor([0.4932, 0.6399, 0.6255, 0.1619]) tensor(1.9204)\n",
      "[1340,  1359] loss:  tensor([0.4783, 0.6339, 0.6298, 0.1597]) tensor(1.9016)\n",
      "[1360,  1379] loss:  tensor([0.4852, 0.6390, 0.6289, 0.1607]) tensor(1.9139)\n",
      "[1380,  1399] loss:  tensor([0.4875, 0.6371, 0.6320, 0.1615]) tensor(1.9181)\n",
      "[1400,  1419] loss:  tensor([0.4805, 0.6313, 0.6325, 0.1589]) tensor(1.9032)\n",
      "[1420,  1439] loss:  tensor([0.4840, 0.6352, 0.6310, 0.1621]) tensor(1.9123)\n",
      "[1440,  1459] loss:  tensor([0.4866, 0.6312, 0.6375, 0.1599]) tensor(1.9152)\n",
      "[1460,  1479] loss:  tensor([0.4891, 0.6311, 0.6349, 0.1610]) tensor(1.9160)\n",
      "[1480,  1499] loss:  tensor([0.4867, 0.6296, 0.6372, 0.1602]) tensor(1.9138)\n",
      "[1500,  1519] loss:  tensor([0.4810, 0.6342, 0.6308, 0.1607]) tensor(1.9067)\n",
      "[1520,  1539] loss:  tensor([0.4825, 0.6373, 0.6304, 0.1607]) tensor(1.9109)\n",
      "[1540,  1559] loss:  tensor([0.4887, 0.6312, 0.6316, 0.1620]) tensor(1.9135)\n",
      "validation\n"
     ]
    },
    {
     "data": {
      "application/vnd.jupyter.widget-view+json": {
       "model_id": "00812dd912b045d5b578e58afe72bb99",
       "version_major": 2,
       "version_minor": 0
      },
      "text/plain": [
       "  0%|          | 0/125 [00:00<?, ?it/s]"
      ]
     },
     "metadata": {},
     "output_type": "display_data"
    },
    {
     "name": "stdout",
     "output_type": "stream",
     "text": [
      "validation loss for epoch 6: tensor([0.4871, 0.6330, 0.6335, 0.1617]) 1.915201170406853\n"
     ]
    },
    {
     "data": {
      "application/vnd.jupyter.widget-view+json": {
       "model_id": "22168db4a6184af59e469d16ec4e290b",
       "version_major": 2,
       "version_minor": 0
      },
      "text/plain": [
       "  0%|          | 0/1544 [00:00<?, ?it/s]"
      ]
     },
     "metadata": {},
     "output_type": "display_data"
    },
    {
     "name": "stdout",
     "output_type": "stream",
     "text": [
      "[20,    39] loss:  tensor([0.4882, 0.6381, 0.6265, 0.1588]) tensor(1.9115)\n",
      "[40,    59] loss:  tensor([0.4785, 0.6403, 0.6259, 0.1616]) tensor(1.9063)\n",
      "[60,    79] loss:  tensor([0.4849, 0.6296, 0.6350, 0.1595]) tensor(1.9089)\n",
      "[80,    99] loss:  tensor([0.4867, 0.6306, 0.6351, 0.1607]) tensor(1.9131)\n",
      "[100,   119] loss:  tensor([0.4868, 0.6308, 0.6351, 0.1625]) tensor(1.9152)\n",
      "[120,   139] loss:  tensor([0.4824, 0.6375, 0.6268, 0.1586]) tensor(1.9053)\n",
      "[140,   159] loss:  tensor([0.4853, 0.6343, 0.6322, 0.1579]) tensor(1.9096)\n",
      "[160,   179] loss:  tensor([0.4891, 0.6349, 0.6287, 0.1600]) tensor(1.9126)\n",
      "[180,   199] loss:  tensor([0.4798, 0.6386, 0.6290, 0.1608]) tensor(1.9081)\n",
      "[200,   219] loss:  tensor([0.4798, 0.6408, 0.6258, 0.1630]) tensor(1.9093)\n",
      "[220,   239] loss:  tensor([0.4888, 0.6364, 0.6307, 0.1627]) tensor(1.9185)\n",
      "[240,   259] loss:  tensor([0.4911, 0.6364, 0.6298, 0.1616]) tensor(1.9189)\n",
      "[260,   279] loss:  tensor([0.4901, 0.6303, 0.6372, 0.1577]) tensor(1.9153)\n",
      "[280,   299] loss:  tensor([0.4778, 0.6329, 0.6322, 0.1593]) tensor(1.9023)\n",
      "[300,   319] loss:  tensor([0.4845, 0.6291, 0.6337, 0.1612]) tensor(1.9085)\n",
      "[320,   339] loss:  tensor([0.4868, 0.6367, 0.6282, 0.1622]) tensor(1.9140)\n",
      "[340,   359] loss:  tensor([0.4888, 0.6363, 0.6303, 0.1583]) tensor(1.9137)\n",
      "[360,   379] loss:  tensor([0.4835, 0.6375, 0.6304, 0.1595]) tensor(1.9109)\n",
      "[380,   399] loss:  tensor([0.4824, 0.6331, 0.6310, 0.1635]) tensor(1.9100)\n",
      "[400,   419] loss:  tensor([0.4779, 0.6311, 0.6351, 0.1586]) tensor(1.9027)\n",
      "[420,   439] loss:  tensor([0.4851, 0.6379, 0.6295, 0.1613]) tensor(1.9138)\n",
      "[440,   459] loss:  tensor([0.4823, 0.6375, 0.6283, 0.1600]) tensor(1.9082)\n",
      "[460,   479] loss:  tensor([0.4792, 0.6373, 0.6282, 0.1598]) tensor(1.9046)\n",
      "[480,   499] loss:  tensor([0.4753, 0.6304, 0.6356, 0.1583]) tensor(1.8995)\n",
      "[500,   519] loss:  tensor([0.4883, 0.6322, 0.6369, 0.1585]) tensor(1.9159)\n",
      "[520,   539] loss:  tensor([0.4814, 0.6341, 0.6334, 0.1622]) tensor(1.9111)\n",
      "[540,   559] loss:  tensor([0.4929, 0.6352, 0.6292, 0.1613]) tensor(1.9186)\n",
      "[560,   579] loss:  tensor([0.4909, 0.6273, 0.6379, 0.1605]) tensor(1.9167)\n",
      "[580,   599] loss:  tensor([0.4780, 0.6333, 0.6336, 0.1584]) tensor(1.9033)\n",
      "[600,   619] loss:  tensor([0.4809, 0.6377, 0.6302, 0.1597]) tensor(1.9085)\n",
      "[620,   639] loss:  tensor([0.4830, 0.6374, 0.6238, 0.1597]) tensor(1.9039)\n",
      "[640,   659] loss:  tensor([0.4842, 0.6337, 0.6350, 0.1604]) tensor(1.9134)\n",
      "[660,   679] loss:  tensor([0.4853, 0.6371, 0.6255, 0.1611]) tensor(1.9090)\n",
      "[680,   699] loss:  tensor([0.4837, 0.6297, 0.6329, 0.1592]) tensor(1.9055)\n",
      "[700,   719] loss:  tensor([0.4813, 0.6378, 0.6290, 0.1578]) tensor(1.9058)\n",
      "[720,   739] loss:  tensor([0.4786, 0.6397, 0.6261, 0.1575]) tensor(1.9020)\n",
      "[740,   759] loss:  tensor([0.4831, 0.6383, 0.6291, 0.1587]) tensor(1.9091)\n",
      "[760,   779] loss:  tensor([0.4772, 0.6342, 0.6309, 0.1576]) tensor(1.9000)\n",
      "[780,   799] loss:  tensor([0.4801, 0.6357, 0.6263, 0.1596]) tensor(1.9018)\n",
      "[800,   819] loss:  tensor([0.4803, 0.6392, 0.6262, 0.1566]) tensor(1.9024)\n",
      "[820,   839] loss:  tensor([0.4779, 0.6359, 0.6301, 0.1590]) tensor(1.9030)\n",
      "[840,   859] loss:  tensor([0.4777, 0.6360, 0.6302, 0.1590]) tensor(1.9029)\n",
      "[860,   879] loss:  tensor([0.4808, 0.6342, 0.6336, 0.1601]) tensor(1.9087)\n",
      "[880,   899] loss:  tensor([0.4896, 0.6352, 0.6297, 0.1583]) tensor(1.9129)\n",
      "[900,   919] loss:  tensor([0.4829, 0.6412, 0.6262, 0.1641]) tensor(1.9144)\n",
      "[920,   939] loss:  tensor([0.4875, 0.6310, 0.6363, 0.1613]) tensor(1.9161)\n",
      "[940,   959] loss:  tensor([0.4853, 0.6377, 0.6274, 0.1593]) tensor(1.9097)\n",
      "[960,   979] loss:  tensor([0.4828, 0.6354, 0.6299, 0.1578]) tensor(1.9059)\n",
      "[980,   999] loss:  tensor([0.4890, 0.6378, 0.6269, 0.1593]) tensor(1.9130)\n",
      "[1000,  1019] loss:  tensor([0.4838, 0.6328, 0.6300, 0.1603]) tensor(1.9069)\n",
      "[1020,  1039] loss:  tensor([0.4892, 0.6383, 0.6285, 0.1586]) tensor(1.9146)\n",
      "[1040,  1059] loss:  tensor([0.4761, 0.6360, 0.6315, 0.1623]) tensor(1.9059)\n",
      "[1060,  1079] loss:  tensor([0.4859, 0.6320, 0.6333, 0.1580]) tensor(1.9092)\n",
      "[1080,  1099] loss:  tensor([0.4792, 0.6369, 0.6313, 0.1598]) tensor(1.9072)\n",
      "[1100,  1119] loss:  tensor([0.4867, 0.6367, 0.6276, 0.1570]) tensor(1.9081)\n",
      "[1120,  1139] loss:  tensor([0.4782, 0.6392, 0.6245, 0.1570]) tensor(1.8989)\n",
      "[1140,  1159] loss:  tensor([0.4788, 0.6316, 0.6359, 0.1630]) tensor(1.9094)\n",
      "[1160,  1179] loss:  tensor([0.4842, 0.6334, 0.6334, 0.1606]) tensor(1.9116)\n",
      "[1180,  1199] loss:  tensor([0.4952, 0.6362, 0.6288, 0.1628]) tensor(1.9230)\n",
      "[1200,  1219] loss:  tensor([0.4851, 0.6367, 0.6308, 0.1602]) tensor(1.9128)\n",
      "[1220,  1239] loss:  tensor([0.4768, 0.6338, 0.6303, 0.1597]) tensor(1.9006)\n",
      "[1240,  1259] loss:  tensor([0.4830, 0.6366, 0.6322, 0.1599]) tensor(1.9117)\n",
      "[1260,  1279] loss:  tensor([0.4879, 0.6356, 0.6331, 0.1580]) tensor(1.9147)\n",
      "[1280,  1299] loss:  tensor([0.4974, 0.6382, 0.6258, 0.1602]) tensor(1.9216)\n",
      "[1300,  1319] loss:  tensor([0.4789, 0.6361, 0.6288, 0.1619]) tensor(1.9057)\n",
      "[1320,  1339] loss:  tensor([0.4910, 0.6328, 0.6327, 0.1585]) tensor(1.9150)\n",
      "[1340,  1359] loss:  tensor([0.4778, 0.6393, 0.6251, 0.1587]) tensor(1.9010)\n",
      "[1360,  1379] loss:  tensor([0.4758, 0.6350, 0.6314, 0.1623]) tensor(1.9045)\n",
      "[1380,  1399] loss:  tensor([0.4814, 0.6337, 0.6340, 0.1569]) tensor(1.9060)\n",
      "[1400,  1419] loss:  tensor([0.4824, 0.6343, 0.6324, 0.1587]) tensor(1.9078)\n",
      "[1420,  1439] loss:  tensor([0.4852, 0.6337, 0.6311, 0.1595]) tensor(1.9095)\n",
      "[1440,  1459] loss:  tensor([0.4770, 0.6395, 0.6268, 0.1590]) tensor(1.9023)\n",
      "[1460,  1479] loss:  tensor([0.4785, 0.6348, 0.6300, 0.1597]) tensor(1.9031)\n",
      "[1480,  1499] loss:  tensor([0.4801, 0.6383, 0.6311, 0.1606]) tensor(1.9100)\n",
      "[1500,  1519] loss:  tensor([0.4785, 0.6326, 0.6318, 0.1581]) tensor(1.9011)\n",
      "[1520,  1539] loss:  tensor([0.4831, 0.6332, 0.6328, 0.1609]) tensor(1.9101)\n",
      "[1540,  1559] loss:  tensor([0.4803, 0.6336, 0.6327, 0.1596]) tensor(1.9063)\n",
      "validation\n"
     ]
    },
    {
     "data": {
      "application/vnd.jupyter.widget-view+json": {
       "model_id": "1ce81fbdeb134c60aad82a1e7587f7f1",
       "version_major": 2,
       "version_minor": 0
      },
      "text/plain": [
       "  0%|          | 0/125 [00:00<?, ?it/s]"
      ]
     },
     "metadata": {},
     "output_type": "display_data"
    },
    {
     "name": "stdout",
     "output_type": "stream",
     "text": [
      "validation loss for epoch 7: tensor([0.4807, 0.6355, 0.6332, 0.1648]) 1.914155360302869\n"
     ]
    },
    {
     "data": {
      "application/vnd.jupyter.widget-view+json": {
       "model_id": "a203b1173ecc429eade2295d77daaafb",
       "version_major": 2,
       "version_minor": 0
      },
      "text/plain": [
       "  0%|          | 0/1544 [00:00<?, ?it/s]"
      ]
     },
     "metadata": {},
     "output_type": "display_data"
    },
    {
     "name": "stdout",
     "output_type": "stream",
     "text": [
      "[20,    39] loss:  tensor([0.4831, 0.6375, 0.6288, 0.1607]) tensor(1.9101)\n",
      "[40,    59] loss:  tensor([0.4788, 0.6351, 0.6298, 0.1587]) tensor(1.9023)\n",
      "[60,    79] loss:  tensor([0.4889, 0.6319, 0.6340, 0.1601]) tensor(1.9148)\n",
      "[80,    99] loss:  tensor([0.4811, 0.6339, 0.6358, 0.1607]) tensor(1.9115)\n",
      "[100,   119] loss:  tensor([0.4771, 0.6341, 0.6305, 0.1598]) tensor(1.9015)\n",
      "[120,   139] loss:  tensor([0.4826, 0.6362, 0.6280, 0.1608]) tensor(1.9077)\n",
      "[140,   159] loss:  tensor([0.4763, 0.6351, 0.6332, 0.1613]) tensor(1.9060)\n",
      "[160,   179] loss:  tensor([0.4825, 0.6382, 0.6279, 0.1601]) tensor(1.9088)\n",
      "[180,   199] loss:  tensor([0.4821, 0.6345, 0.6295, 0.1572]) tensor(1.9033)\n",
      "[200,   219] loss:  tensor([0.4835, 0.6320, 0.6309, 0.1571]) tensor(1.9035)\n",
      "[220,   239] loss:  tensor([0.4787, 0.6316, 0.6327, 0.1593]) tensor(1.9023)\n",
      "[240,   259] loss:  tensor([0.4833, 0.6293, 0.6356, 0.1571]) tensor(1.9053)\n",
      "[260,   279] loss:  tensor([0.4791, 0.6300, 0.6359, 0.1583]) tensor(1.9034)\n",
      "[280,   299] loss:  tensor([0.4868, 0.6369, 0.6294, 0.1595]) tensor(1.9127)\n",
      "[300,   319] loss:  tensor([0.4753, 0.6425, 0.6257, 0.1594]) tensor(1.9030)\n",
      "[320,   339] loss:  tensor([0.4891, 0.6407, 0.6254, 0.1602]) tensor(1.9155)\n",
      "[340,   359] loss:  tensor([0.4764, 0.6391, 0.6286, 0.1572]) tensor(1.9013)\n",
      "[360,   379] loss:  tensor([0.4836, 0.6416, 0.6217, 0.1584]) tensor(1.9053)\n",
      "[380,   399] loss:  tensor([0.4841, 0.6372, 0.6273, 0.1592]) tensor(1.9078)\n",
      "[400,   419] loss:  tensor([0.4818, 0.6373, 0.6249, 0.1595]) tensor(1.9035)\n",
      "[420,   439] loss:  tensor([0.4795, 0.6355, 0.6256, 0.1618]) tensor(1.9024)\n",
      "[440,   459] loss:  tensor([0.4756, 0.6355, 0.6290, 0.1569]) tensor(1.8969)\n",
      "[460,   479] loss:  tensor([0.4872, 0.6327, 0.6315, 0.1586]) tensor(1.9099)\n",
      "[480,   499] loss:  tensor([0.4873, 0.6372, 0.6281, 0.1587]) tensor(1.9113)\n",
      "[500,   519] loss:  tensor([0.4805, 0.6401, 0.6239, 0.1577]) tensor(1.9023)\n",
      "[520,   539] loss:  tensor([0.4823, 0.6340, 0.6316, 0.1579]) tensor(1.9059)\n",
      "[540,   559] loss:  tensor([0.4844, 0.6348, 0.6316, 0.1594]) tensor(1.9102)\n",
      "[560,   579] loss:  tensor([0.4859, 0.6349, 0.6292, 0.1608]) tensor(1.9109)\n",
      "[580,   599] loss:  tensor([0.4813, 0.6383, 0.6311, 0.1624]) tensor(1.9131)\n",
      "[600,   619] loss:  tensor([0.4836, 0.6352, 0.6275, 0.1582]) tensor(1.9045)\n",
      "[620,   639] loss:  tensor([0.4800, 0.6349, 0.6315, 0.1572]) tensor(1.9036)\n",
      "[640,   659] loss:  tensor([0.4871, 0.6340, 0.6329, 0.1575]) tensor(1.9115)\n",
      "[660,   679] loss:  tensor([0.4787, 0.6359, 0.6301, 0.1573]) tensor(1.9020)\n",
      "[680,   699] loss:  tensor([0.4788, 0.6388, 0.6282, 0.1596]) tensor(1.9054)\n",
      "[700,   719] loss:  tensor([0.4817, 0.6390, 0.6259, 0.1564]) tensor(1.9030)\n",
      "[720,   739] loss:  tensor([0.4671, 0.6339, 0.6321, 0.1585]) tensor(1.8915)\n",
      "[740,   759] loss:  tensor([0.4835, 0.6367, 0.6281, 0.1573]) tensor(1.9056)\n",
      "[760,   779] loss:  tensor([0.4912, 0.6397, 0.6258, 0.1586]) tensor(1.9153)\n",
      "[780,   799] loss:  tensor([0.4880, 0.6377, 0.6280, 0.1585]) tensor(1.9122)\n",
      "[800,   819] loss:  tensor([0.4692, 0.6406, 0.6249, 0.1570]) tensor(1.8916)\n",
      "[820,   839] loss:  tensor([0.4755, 0.6425, 0.6221, 0.1578]) tensor(1.8980)\n",
      "[840,   859] loss:  tensor([0.4931, 0.6315, 0.6321, 0.1577]) tensor(1.9144)\n",
      "[860,   879] loss:  tensor([0.4842, 0.6348, 0.6336, 0.1619]) tensor(1.9145)\n",
      "[880,   899] loss:  tensor([0.4763, 0.6328, 0.6329, 0.1604]) tensor(1.9024)\n",
      "[900,   919] loss:  tensor([0.4869, 0.6362, 0.6284, 0.1594]) tensor(1.9109)\n",
      "[920,   939] loss:  tensor([0.4766, 0.6377, 0.6286, 0.1586]) tensor(1.9015)\n",
      "[940,   959] loss:  tensor([0.4715, 0.6386, 0.6293, 0.1566]) tensor(1.8960)\n",
      "[960,   979] loss:  tensor([0.4753, 0.6385, 0.6283, 0.1565]) tensor(1.8986)\n",
      "[980,   999] loss:  tensor([0.4830, 0.6353, 0.6306, 0.1621]) tensor(1.9110)\n",
      "[1000,  1019] loss:  tensor([0.4757, 0.6348, 0.6298, 0.1603]) tensor(1.9006)\n",
      "[1020,  1039] loss:  tensor([0.4790, 0.6324, 0.6327, 0.1621]) tensor(1.9063)\n",
      "[1040,  1059] loss:  tensor([0.4811, 0.6362, 0.6304, 0.1588]) tensor(1.9065)\n",
      "[1060,  1079] loss:  tensor([0.4812, 0.6385, 0.6256, 0.1610]) tensor(1.9064)\n",
      "[1080,  1099] loss:  tensor([0.4677, 0.6384, 0.6294, 0.1579]) tensor(1.8934)\n",
      "[1100,  1119] loss:  tensor([0.4768, 0.6324, 0.6299, 0.1591]) tensor(1.8982)\n",
      "[1120,  1139] loss:  tensor([0.4777, 0.6338, 0.6310, 0.1565]) tensor(1.8990)\n",
      "[1140,  1159] loss:  tensor([0.4778, 0.6399, 0.6264, 0.1584]) tensor(1.9025)\n",
      "[1160,  1179] loss:  tensor([0.4752, 0.6335, 0.6321, 0.1589]) tensor(1.8997)\n",
      "[1180,  1199] loss:  tensor([0.4855, 0.6337, 0.6326, 0.1579]) tensor(1.9097)\n",
      "[1200,  1219] loss:  tensor([0.4836, 0.6351, 0.6309, 0.1569]) tensor(1.9064)\n",
      "[1220,  1239] loss:  tensor([0.4892, 0.6400, 0.6270, 0.1575]) tensor(1.9137)\n",
      "[1240,  1259] loss:  tensor([0.4711, 0.6348, 0.6281, 0.1576]) tensor(1.8916)\n",
      "[1260,  1279] loss:  tensor([0.4803, 0.6371, 0.6295, 0.1598]) tensor(1.9069)\n",
      "[1280,  1299] loss:  tensor([0.4773, 0.6363, 0.6300, 0.1581]) tensor(1.9017)\n",
      "[1300,  1319] loss:  tensor([0.4822, 0.6358, 0.6308, 0.1572]) tensor(1.9060)\n",
      "[1320,  1339] loss:  tensor([0.4779, 0.6355, 0.6290, 0.1605]) tensor(1.9029)\n",
      "[1340,  1359] loss:  tensor([0.4759, 0.6375, 0.6272, 0.1598]) tensor(1.9004)\n",
      "[1360,  1379] loss:  tensor([0.4792, 0.6363, 0.6273, 0.1607]) tensor(1.9034)\n",
      "[1380,  1399] loss:  tensor([0.4805, 0.6325, 0.6310, 0.1589]) tensor(1.9029)\n",
      "[1400,  1419] loss:  tensor([0.4823, 0.6369, 0.6288, 0.1617]) tensor(1.9097)\n",
      "[1420,  1439] loss:  tensor([0.4876, 0.6339, 0.6298, 0.1588]) tensor(1.9101)\n",
      "[1440,  1459] loss:  tensor([0.4819, 0.6306, 0.6361, 0.1565]) tensor(1.9051)\n",
      "[1460,  1479] loss:  tensor([0.4721, 0.6310, 0.6326, 0.1613]) tensor(1.8971)\n",
      "[1480,  1499] loss:  tensor([0.4942, 0.6346, 0.6305, 0.1621]) tensor(1.9214)\n",
      "[1500,  1519] loss:  tensor([0.4728, 0.6354, 0.6316, 0.1616]) tensor(1.9013)\n",
      "[1520,  1539] loss:  tensor([0.4833, 0.6347, 0.6299, 0.1592]) tensor(1.9070)\n",
      "[1540,  1559] loss:  tensor([0.4800, 0.6314, 0.6333, 0.1580]) tensor(1.9026)\n",
      "validation\n"
     ]
    },
    {
     "data": {
      "application/vnd.jupyter.widget-view+json": {
       "model_id": "904f39dbcade4f63ac2ce2b6fee8f530",
       "version_major": 2,
       "version_minor": 0
      },
      "text/plain": [
       "  0%|          | 0/125 [00:00<?, ?it/s]"
      ]
     },
     "metadata": {},
     "output_type": "display_data"
    },
    {
     "name": "stdout",
     "output_type": "stream",
     "text": [
      "validation loss for epoch 8: tensor([0.4814, 0.6260, 0.6356, 0.1661]) 1.9091606015879479\n"
     ]
    },
    {
     "data": {
      "application/vnd.jupyter.widget-view+json": {
       "model_id": "25fdd689191b4bf29662017afc517423",
       "version_major": 2,
       "version_minor": 0
      },
      "text/plain": [
       "  0%|          | 0/1544 [00:00<?, ?it/s]"
      ]
     },
     "metadata": {},
     "output_type": "display_data"
    },
    {
     "name": "stdout",
     "output_type": "stream",
     "text": [
      "[20,    39] loss:  tensor([0.4831, 0.6379, 0.6249, 0.1622]) tensor(1.9081)\n",
      "[40,    59] loss:  tensor([0.4718, 0.6330, 0.6331, 0.1595]) tensor(1.8974)\n",
      "[60,    79] loss:  tensor([0.4806, 0.6429, 0.6227, 0.1618]) tensor(1.9080)\n",
      "[80,    99] loss:  tensor([0.4739, 0.6383, 0.6265, 0.1597]) tensor(1.8984)\n",
      "[100,   119] loss:  tensor([0.4727, 0.6380, 0.6260, 0.1606]) tensor(1.8972)\n",
      "[120,   139] loss:  tensor([0.4829, 0.6357, 0.6264, 0.1608]) tensor(1.9058)\n",
      "[140,   159] loss:  tensor([0.4744, 0.6318, 0.6323, 0.1573]) tensor(1.8958)\n",
      "[160,   179] loss:  tensor([0.4699, 0.6364, 0.6272, 0.1577]) tensor(1.8912)\n",
      "[180,   199] loss:  tensor([0.4785, 0.6349, 0.6320, 0.1579]) tensor(1.9033)\n",
      "[200,   219] loss:  tensor([0.4785, 0.6367, 0.6292, 0.1593]) tensor(1.9036)\n",
      "[220,   239] loss:  tensor([0.4809, 0.6296, 0.6337, 0.1593]) tensor(1.9035)\n",
      "[240,   259] loss:  tensor([0.4757, 0.6343, 0.6310, 0.1575]) tensor(1.8986)\n",
      "[260,   279] loss:  tensor([0.4765, 0.6365, 0.6282, 0.1568]) tensor(1.8979)\n",
      "[280,   299] loss:  tensor([0.4761, 0.6370, 0.6305, 0.1581]) tensor(1.9017)\n",
      "[300,   319] loss:  tensor([0.4732, 0.6348, 0.6288, 0.1565]) tensor(1.8933)\n",
      "[320,   339] loss:  tensor([0.4712, 0.6361, 0.6300, 0.1582]) tensor(1.8957)\n",
      "[340,   359] loss:  tensor([0.4782, 0.6347, 0.6312, 0.1611]) tensor(1.9053)\n",
      "[360,   379] loss:  tensor([0.4687, 0.6363, 0.6283, 0.1592]) tensor(1.8925)\n",
      "[380,   399] loss:  tensor([0.4788, 0.6381, 0.6296, 0.1580]) tensor(1.9045)\n",
      "[400,   419] loss:  tensor([0.4811, 0.6339, 0.6303, 0.1578]) tensor(1.9031)\n",
      "[420,   439] loss:  tensor([0.4791, 0.6282, 0.6381, 0.1582]) tensor(1.9036)\n",
      "[440,   459] loss:  tensor([0.4806, 0.6340, 0.6318, 0.1570]) tensor(1.9034)\n",
      "[460,   479] loss:  tensor([0.4852, 0.6293, 0.6367, 0.1589]) tensor(1.9101)\n",
      "[480,   499] loss:  tensor([0.4870, 0.6294, 0.6373, 0.1593]) tensor(1.9130)\n",
      "[500,   519] loss:  tensor([0.4809, 0.6345, 0.6306, 0.1583]) tensor(1.9043)\n",
      "[520,   539] loss:  tensor([0.4761, 0.6368, 0.6330, 0.1580]) tensor(1.9038)\n",
      "[540,   559] loss:  tensor([0.4709, 0.6347, 0.6285, 0.1567]) tensor(1.8908)\n",
      "[560,   579] loss:  tensor([0.4734, 0.6412, 0.6283, 0.1569]) tensor(1.8998)\n",
      "[580,   599] loss:  tensor([0.4813, 0.6382, 0.6281, 0.1571]) tensor(1.9047)\n",
      "[600,   619] loss:  tensor([0.4797, 0.6356, 0.6309, 0.1592]) tensor(1.9054)\n",
      "[620,   639] loss:  tensor([0.4775, 0.6333, 0.6298, 0.1550]) tensor(1.8956)\n",
      "[640,   659] loss:  tensor([0.4752, 0.6366, 0.6294, 0.1558]) tensor(1.8970)\n",
      "[660,   679] loss:  tensor([0.4774, 0.6336, 0.6325, 0.1622]) tensor(1.9056)\n",
      "[680,   699] loss:  tensor([0.4830, 0.6313, 0.6347, 0.1623]) tensor(1.9113)\n",
      "[700,   719] loss:  tensor([0.4801, 0.6371, 0.6305, 0.1590]) tensor(1.9067)\n",
      "[720,   739] loss:  tensor([0.4830, 0.6368, 0.6264, 0.1593]) tensor(1.9055)\n",
      "[740,   759] loss:  tensor([0.4793, 0.6346, 0.6292, 0.1561]) tensor(1.8992)\n",
      "[760,   779] loss:  tensor([0.4799, 0.6331, 0.6312, 0.1586]) tensor(1.9028)\n",
      "[780,   799] loss:  tensor([0.4777, 0.6376, 0.6255, 0.1577]) tensor(1.8985)\n",
      "[800,   819] loss:  tensor([0.4664, 0.6399, 0.6259, 0.1566]) tensor(1.8888)\n",
      "[820,   839] loss:  tensor([0.4750, 0.6322, 0.6340, 0.1576]) tensor(1.8988)\n",
      "[840,   859] loss:  tensor([0.4807, 0.6394, 0.6264, 0.1576]) tensor(1.9040)\n",
      "[860,   879] loss:  tensor([0.4877, 0.6377, 0.6274, 0.1599]) tensor(1.9126)\n",
      "[880,   899] loss:  tensor([0.4795, 0.6377, 0.6264, 0.1570]) tensor(1.9006)\n",
      "[900,   919] loss:  tensor([0.4790, 0.6387, 0.6267, 0.1569]) tensor(1.9013)\n",
      "[920,   939] loss:  tensor([0.4818, 0.6365, 0.6276, 0.1581]) tensor(1.9039)\n",
      "[940,   959] loss:  tensor([0.4822, 0.6372, 0.6259, 0.1596]) tensor(1.9049)\n",
      "[960,   979] loss:  tensor([0.4775, 0.6400, 0.6265, 0.1593]) tensor(1.9032)\n",
      "[980,   999] loss:  tensor([0.4776, 0.6354, 0.6305, 0.1571]) tensor(1.9007)\n",
      "[1000,  1019] loss:  tensor([0.4730, 0.6359, 0.6275, 0.1576]) tensor(1.8940)\n",
      "[1020,  1039] loss:  tensor([0.4766, 0.6368, 0.6289, 0.1575]) tensor(1.8998)\n",
      "[1040,  1059] loss:  tensor([0.4765, 0.6325, 0.6297, 0.1578]) tensor(1.8966)\n",
      "[1060,  1079] loss:  tensor([0.4775, 0.6304, 0.6349, 0.1583]) tensor(1.9011)\n",
      "[1080,  1099] loss:  tensor([0.4870, 0.6320, 0.6335, 0.1603]) tensor(1.9127)\n",
      "[1100,  1119] loss:  tensor([0.4717, 0.6321, 0.6309, 0.1577]) tensor(1.8925)\n",
      "[1120,  1139] loss:  tensor([0.4739, 0.6384, 0.6304, 0.1596]) tensor(1.9023)\n",
      "[1140,  1159] loss:  tensor([0.4855, 0.6339, 0.6339, 0.1578]) tensor(1.9112)\n",
      "[1160,  1179] loss:  tensor([0.4835, 0.6344, 0.6296, 0.1596]) tensor(1.9072)\n",
      "[1180,  1199] loss:  tensor([0.4868, 0.6363, 0.6304, 0.1593]) tensor(1.9129)\n",
      "[1200,  1219] loss:  tensor([0.4734, 0.6340, 0.6295, 0.1581]) tensor(1.8949)\n",
      "[1220,  1239] loss:  tensor([0.4676, 0.6348, 0.6284, 0.1585]) tensor(1.8893)\n",
      "[1240,  1259] loss:  tensor([0.4824, 0.6345, 0.6312, 0.1586]) tensor(1.9066)\n",
      "[1260,  1279] loss:  tensor([0.4732, 0.6331, 0.6315, 0.1600]) tensor(1.8977)\n",
      "[1280,  1299] loss:  tensor([0.4857, 0.6338, 0.6297, 0.1585]) tensor(1.9078)\n",
      "[1300,  1319] loss:  tensor([0.4740, 0.6336, 0.6286, 0.1580]) tensor(1.8943)\n",
      "[1320,  1339] loss:  tensor([0.4792, 0.6333, 0.6314, 0.1597]) tensor(1.9037)\n",
      "[1340,  1359] loss:  tensor([0.4693, 0.6336, 0.6301, 0.1583]) tensor(1.8913)\n",
      "[1360,  1379] loss:  tensor([0.4854, 0.6365, 0.6254, 0.1570]) tensor(1.9043)\n",
      "[1380,  1399] loss:  tensor([0.4830, 0.6360, 0.6293, 0.1574]) tensor(1.9057)\n",
      "[1400,  1419] loss:  tensor([0.4824, 0.6332, 0.6287, 0.1577]) tensor(1.9021)\n",
      "[1420,  1439] loss:  tensor([0.4768, 0.6394, 0.6249, 0.1574]) tensor(1.8986)\n",
      "[1440,  1459] loss:  tensor([0.4704, 0.6376, 0.6236, 0.1564]) tensor(1.8880)\n",
      "[1460,  1479] loss:  tensor([0.4782, 0.6335, 0.6320, 0.1595]) tensor(1.9032)\n",
      "[1480,  1499] loss:  tensor([0.4752, 0.6303, 0.6338, 0.1574]) tensor(1.8967)\n",
      "[1500,  1519] loss:  tensor([0.4735, 0.6362, 0.6275, 0.1567]) tensor(1.8938)\n",
      "[1520,  1539] loss:  tensor([0.4824, 0.6325, 0.6349, 0.1578]) tensor(1.9076)\n",
      "[1540,  1559] loss:  tensor([0.4672, 0.6366, 0.6317, 0.1579]) tensor(1.8934)\n",
      "validation\n"
     ]
    },
    {
     "data": {
      "application/vnd.jupyter.widget-view+json": {
       "model_id": "7b338ee7bf54460abf4ef14a19821e75",
       "version_major": 2,
       "version_minor": 0
      },
      "text/plain": [
       "  0%|          | 0/125 [00:00<?, ?it/s]"
      ]
     },
     "metadata": {},
     "output_type": "display_data"
    },
    {
     "name": "stdout",
     "output_type": "stream",
     "text": [
      "validation loss for epoch 9: tensor([0.4792, 0.6309, 0.6299, 0.1614]) 1.9014826817370334\n"
     ]
    },
    {
     "data": {
      "application/vnd.jupyter.widget-view+json": {
       "model_id": "55c09f1ed04e42e0961ced8d8501ecb6",
       "version_major": 2,
       "version_minor": 0
      },
      "text/plain": [
       "  0%|          | 0/1544 [00:00<?, ?it/s]"
      ]
     },
     "metadata": {},
     "output_type": "display_data"
    },
    {
     "name": "stdout",
     "output_type": "stream",
     "text": [
      "[20,    39] loss:  tensor([0.4736, 0.6441, 0.6168, 0.1550]) tensor(1.8895)\n",
      "[40,    59] loss:  tensor([0.4809, 0.6371, 0.6280, 0.1610]) tensor(1.9069)\n",
      "[60,    79] loss:  tensor([0.4701, 0.6366, 0.6301, 0.1579]) tensor(1.8947)\n",
      "[80,    99] loss:  tensor([0.4775, 0.6413, 0.6277, 0.1572]) tensor(1.9037)\n",
      "[100,   119] loss:  tensor([0.4738, 0.6329, 0.6304, 0.1568]) tensor(1.8939)\n",
      "[120,   139] loss:  tensor([0.4807, 0.6343, 0.6279, 0.1575]) tensor(1.9003)\n",
      "[140,   159] loss:  tensor([0.4847, 0.6345, 0.6289, 0.1597]) tensor(1.9078)\n",
      "[160,   179] loss:  tensor([0.4790, 0.6431, 0.6242, 0.1583]) tensor(1.9046)\n",
      "[180,   199] loss:  tensor([0.4793, 0.6323, 0.6325, 0.1581]) tensor(1.9021)\n",
      "[200,   219] loss:  tensor([0.4815, 0.6385, 0.6253, 0.1596]) tensor(1.9048)\n",
      "[220,   239] loss:  tensor([0.4687, 0.6309, 0.6337, 0.1620]) tensor(1.8952)\n",
      "[240,   259] loss:  tensor([0.4761, 0.6408, 0.6263, 0.1607]) tensor(1.9039)\n",
      "[260,   279] loss:  tensor([0.4744, 0.6351, 0.6290, 0.1591]) tensor(1.8975)\n",
      "[280,   299] loss:  tensor([0.4725, 0.6389, 0.6249, 0.1610]) tensor(1.8973)\n",
      "[300,   319] loss:  tensor([0.4784, 0.6350, 0.6269, 0.1558]) tensor(1.8962)\n",
      "[320,   339] loss:  tensor([0.4828, 0.6310, 0.6318, 0.1567]) tensor(1.9024)\n",
      "[340,   359] loss:  tensor([0.4787, 0.6362, 0.6305, 0.1560]) tensor(1.9013)\n",
      "[360,   379] loss:  tensor([0.4810, 0.6318, 0.6308, 0.1570]) tensor(1.9006)\n",
      "[380,   399] loss:  tensor([0.4768, 0.6341, 0.6286, 0.1564]) tensor(1.8959)\n",
      "[400,   419] loss:  tensor([0.4836, 0.6341, 0.6343, 0.1574]) tensor(1.9093)\n",
      "[420,   439] loss:  tensor([0.4801, 0.6327, 0.6327, 0.1579]) tensor(1.9034)\n",
      "[440,   459] loss:  tensor([0.4792, 0.6385, 0.6249, 0.1605]) tensor(1.9031)\n",
      "[460,   479] loss:  tensor([0.4779, 0.6348, 0.6273, 0.1564]) tensor(1.8965)\n",
      "[480,   499] loss:  tensor([0.4714, 0.6331, 0.6319, 0.1567]) tensor(1.8931)\n",
      "[500,   519] loss:  tensor([0.4769, 0.6349, 0.6252, 0.1571]) tensor(1.8941)\n",
      "[520,   539] loss:  tensor([0.4814, 0.6277, 0.6367, 0.1577]) tensor(1.9036)\n",
      "[540,   559] loss:  tensor([0.4737, 0.6346, 0.6285, 0.1570]) tensor(1.8939)\n",
      "[560,   579] loss:  tensor([0.4762, 0.6389, 0.6283, 0.1572]) tensor(1.9007)\n",
      "[580,   599] loss:  tensor([0.4670, 0.6381, 0.6294, 0.1575]) tensor(1.8920)\n",
      "[600,   619] loss:  tensor([0.4680, 0.6419, 0.6222, 0.1566]) tensor(1.8887)\n",
      "[620,   639] loss:  tensor([0.4703, 0.6325, 0.6278, 0.1594]) tensor(1.8900)\n",
      "[640,   659] loss:  tensor([0.4724, 0.6342, 0.6268, 0.1580]) tensor(1.8915)\n",
      "[660,   679] loss:  tensor([0.4815, 0.6398, 0.6288, 0.1566]) tensor(1.9067)\n",
      "[680,   699] loss:  tensor([0.4738, 0.6365, 0.6288, 0.1581]) tensor(1.8972)\n",
      "[700,   719] loss:  tensor([0.4819, 0.6350, 0.6302, 0.1586]) tensor(1.9056)\n",
      "[720,   739] loss:  tensor([0.4774, 0.6328, 0.6352, 0.1593]) tensor(1.9048)\n",
      "[740,   759] loss:  tensor([0.4803, 0.6297, 0.6330, 0.1569]) tensor(1.8999)\n",
      "[760,   779] loss:  tensor([0.4756, 0.6350, 0.6285, 0.1572]) tensor(1.8963)\n",
      "[780,   799] loss:  tensor([0.4818, 0.6326, 0.6325, 0.1553]) tensor(1.9022)\n",
      "[800,   819] loss:  tensor([0.4774, 0.6369, 0.6258, 0.1561]) tensor(1.8962)\n",
      "[820,   839] loss:  tensor([0.4762, 0.6341, 0.6324, 0.1591]) tensor(1.9017)\n",
      "[840,   859] loss:  tensor([0.4769, 0.6367, 0.6269, 0.1602]) tensor(1.9008)\n",
      "[860,   879] loss:  tensor([0.4767, 0.6349, 0.6307, 0.1585]) tensor(1.9009)\n",
      "[880,   899] loss:  tensor([0.4753, 0.6324, 0.6316, 0.1590]) tensor(1.8983)\n",
      "[900,   919] loss:  tensor([0.4809, 0.6372, 0.6283, 0.1567]) tensor(1.9031)\n",
      "[920,   939] loss:  tensor([0.4792, 0.6352, 0.6260, 0.1577]) tensor(1.8981)\n",
      "[940,   959] loss:  tensor([0.4775, 0.6359, 0.6304, 0.1599]) tensor(1.9035)\n",
      "[960,   979] loss:  tensor([0.4686, 0.6349, 0.6297, 0.1573]) tensor(1.8904)\n",
      "[980,   999] loss:  tensor([0.4764, 0.6379, 0.6265, 0.1581]) tensor(1.8989)\n",
      "[1000,  1019] loss:  tensor([0.4808, 0.6362, 0.6284, 0.1586]) tensor(1.9041)\n",
      "[1020,  1039] loss:  tensor([0.4752, 0.6381, 0.6237, 0.1574]) tensor(1.8943)\n",
      "[1040,  1059] loss:  tensor([0.4709, 0.6387, 0.6262, 0.1585]) tensor(1.8944)\n",
      "[1060,  1079] loss:  tensor([0.4756, 0.6369, 0.6276, 0.1584]) tensor(1.8985)\n",
      "[1080,  1099] loss:  tensor([0.4718, 0.6425, 0.6261, 0.1583]) tensor(1.8987)\n",
      "[1100,  1119] loss:  tensor([0.4740, 0.6355, 0.6290, 0.1564]) tensor(1.8949)\n",
      "[1120,  1139] loss:  tensor([0.4772, 0.6317, 0.6339, 0.1567]) tensor(1.8995)\n",
      "[1140,  1159] loss:  tensor([0.4777, 0.6349, 0.6285, 0.1584]) tensor(1.8996)\n",
      "[1160,  1179] loss:  tensor([0.4705, 0.6338, 0.6282, 0.1562]) tensor(1.8887)\n",
      "[1180,  1199] loss:  tensor([0.4736, 0.6335, 0.6316, 0.1609]) tensor(1.8995)\n",
      "[1200,  1219] loss:  tensor([0.4716, 0.6341, 0.6299, 0.1588]) tensor(1.8944)\n",
      "[1220,  1239] loss:  tensor([0.4778, 0.6323, 0.6321, 0.1578]) tensor(1.8999)\n",
      "[1240,  1259] loss:  tensor([0.4817, 0.6322, 0.6331, 0.1572]) tensor(1.9042)\n",
      "[1260,  1279] loss:  tensor([0.4785, 0.6320, 0.6322, 0.1596]) tensor(1.9023)\n",
      "[1280,  1299] loss:  tensor([0.4710, 0.6394, 0.6261, 0.1599]) tensor(1.8964)\n",
      "[1300,  1319] loss:  tensor([0.4749, 0.6413, 0.6242, 0.1575]) tensor(1.8979)\n",
      "[1320,  1339] loss:  tensor([0.4733, 0.6415, 0.6258, 0.1549]) tensor(1.8955)\n",
      "[1340,  1359] loss:  tensor([0.4761, 0.6335, 0.6292, 0.1582]) tensor(1.8971)\n",
      "[1360,  1379] loss:  tensor([0.4787, 0.6402, 0.6251, 0.1564]) tensor(1.9005)\n",
      "[1380,  1399] loss:  tensor([0.4928, 0.6350, 0.6295, 0.1563]) tensor(1.9136)\n",
      "[1400,  1419] loss:  tensor([0.4760, 0.6335, 0.6302, 0.1549]) tensor(1.8946)\n",
      "[1420,  1439] loss:  tensor([0.4750, 0.6413, 0.6238, 0.1593]) tensor(1.8994)\n",
      "[1440,  1459] loss:  tensor([0.4737, 0.6382, 0.6260, 0.1617]) tensor(1.8995)\n",
      "[1460,  1479] loss:  tensor([0.4790, 0.6377, 0.6266, 0.1583]) tensor(1.9016)\n",
      "[1480,  1499] loss:  tensor([0.4696, 0.6327, 0.6326, 0.1587]) tensor(1.8936)\n",
      "[1500,  1519] loss:  tensor([0.4715, 0.6377, 0.6263, 0.1616]) tensor(1.8972)\n",
      "[1520,  1539] loss:  tensor([0.4768, 0.6383, 0.6249, 0.1584]) tensor(1.8985)\n",
      "[1540,  1559] loss:  tensor([0.4801, 0.6341, 0.6287, 0.1559]) tensor(1.8988)\n",
      "validation\n"
     ]
    },
    {
     "data": {
      "application/vnd.jupyter.widget-view+json": {
       "model_id": "4d13e5db85ea40eb88f7ac9a89a07814",
       "version_major": 2,
       "version_minor": 0
      },
      "text/plain": [
       "  0%|          | 0/125 [00:00<?, ?it/s]"
      ]
     },
     "metadata": {},
     "output_type": "display_data"
    },
    {
     "name": "stdout",
     "output_type": "stream",
     "text": [
      "validation loss for epoch 10: tensor([0.4739, 0.6347, 0.6315, 0.1581]) 1.8981912183271736\n"
     ]
    },
    {
     "data": {
      "application/vnd.jupyter.widget-view+json": {
       "model_id": "4bef28e709fc4926a480fc3aec702025",
       "version_major": 2,
       "version_minor": 0
      },
      "text/plain": [
       "  0%|          | 0/1544 [00:00<?, ?it/s]"
      ]
     },
     "metadata": {},
     "output_type": "display_data"
    },
    {
     "name": "stdout",
     "output_type": "stream",
     "text": [
      "[20,    39] loss:  tensor([0.4736, 0.6306, 0.6315, 0.1570]) tensor(1.8927)\n",
      "[40,    59] loss:  tensor([0.4718, 0.6328, 0.6340, 0.1597]) tensor(1.8984)\n",
      "[60,    79] loss:  tensor([0.4714, 0.6327, 0.6281, 0.1567]) tensor(1.8889)\n",
      "[80,    99] loss:  tensor([0.4762, 0.6276, 0.6355, 0.1569]) tensor(1.8962)\n",
      "[100,   119] loss:  tensor([0.4865, 0.6366, 0.6285, 0.1588]) tensor(1.9105)\n",
      "[120,   139] loss:  tensor([0.4751, 0.6364, 0.6278, 0.1598]) tensor(1.8992)\n",
      "[140,   159] loss:  tensor([0.4683, 0.6324, 0.6321, 0.1561]) tensor(1.8890)\n",
      "[160,   179] loss:  tensor([0.4738, 0.6380, 0.6322, 0.1563]) tensor(1.9002)\n",
      "[180,   199] loss:  tensor([0.4760, 0.6352, 0.6315, 0.1557]) tensor(1.8984)\n",
      "[200,   219] loss:  tensor([0.4682, 0.6393, 0.6265, 0.1556]) tensor(1.8896)\n",
      "[220,   239] loss:  tensor([0.4789, 0.6370, 0.6296, 0.1559]) tensor(1.9015)\n",
      "[240,   259] loss:  tensor([0.4749, 0.6373, 0.6253, 0.1576]) tensor(1.8952)\n",
      "[260,   279] loss:  tensor([0.4772, 0.6378, 0.6249, 0.1562]) tensor(1.8961)\n",
      "[280,   299] loss:  tensor([0.4644, 0.6323, 0.6289, 0.1534]) tensor(1.8790)\n",
      "[300,   319] loss:  tensor([0.4788, 0.6351, 0.6286, 0.1608]) tensor(1.9033)\n",
      "[320,   339] loss:  tensor([0.4790, 0.6414, 0.6212, 0.1576]) tensor(1.8992)\n",
      "[340,   359] loss:  tensor([0.4756, 0.6375, 0.6250, 0.1576]) tensor(1.8957)\n",
      "[360,   379] loss:  tensor([0.4784, 0.6327, 0.6294, 0.1550]) tensor(1.8955)\n",
      "[380,   399] loss:  tensor([0.4727, 0.6431, 0.6230, 0.1600]) tensor(1.8988)\n",
      "[400,   419] loss:  tensor([0.4670, 0.6377, 0.6254, 0.1598]) tensor(1.8898)\n",
      "[420,   439] loss:  tensor([0.4809, 0.6358, 0.6291, 0.1607]) tensor(1.9065)\n",
      "[440,   459] loss:  tensor([0.4674, 0.6337, 0.6329, 0.1579]) tensor(1.8919)\n",
      "[460,   479] loss:  tensor([0.4745, 0.6351, 0.6286, 0.1562]) tensor(1.8943)\n",
      "[480,   499] loss:  tensor([0.4728, 0.6407, 0.6239, 0.1558]) tensor(1.8932)\n",
      "[500,   519] loss:  tensor([0.4804, 0.6317, 0.6305, 0.1571]) tensor(1.8997)\n",
      "[520,   539] loss:  tensor([0.4824, 0.6353, 0.6289, 0.1603]) tensor(1.9070)\n",
      "[540,   559] loss:  tensor([0.4747, 0.6370, 0.6279, 0.1562]) tensor(1.8958)\n",
      "[560,   579] loss:  tensor([0.4759, 0.6388, 0.6292, 0.1589]) tensor(1.9027)\n",
      "[580,   599] loss:  tensor([0.4690, 0.6429, 0.6237, 0.1558]) tensor(1.8914)\n",
      "[600,   619] loss:  tensor([0.4748, 0.6411, 0.6257, 0.1569]) tensor(1.8985)\n",
      "[620,   639] loss:  tensor([0.4656, 0.6381, 0.6237, 0.1579]) tensor(1.8852)\n",
      "[640,   659] loss:  tensor([0.4683, 0.6345, 0.6271, 0.1565]) tensor(1.8864)\n",
      "[660,   679] loss:  tensor([0.4715, 0.6382, 0.6247, 0.1591]) tensor(1.8936)\n",
      "[680,   699] loss:  tensor([0.4710, 0.6404, 0.6254, 0.1571]) tensor(1.8940)\n",
      "[700,   719] loss:  tensor([0.4720, 0.6368, 0.6291, 0.1563]) tensor(1.8941)\n",
      "[720,   739] loss:  tensor([0.4774, 0.6281, 0.6343, 0.1569]) tensor(1.8967)\n",
      "[740,   759] loss:  tensor([0.4735, 0.6404, 0.6244, 0.1551]) tensor(1.8933)\n",
      "[760,   779] loss:  tensor([0.4687, 0.6372, 0.6262, 0.1568]) tensor(1.8888)\n",
      "[780,   799] loss:  tensor([0.4702, 0.6337, 0.6303, 0.1582]) tensor(1.8924)\n",
      "[800,   819] loss:  tensor([0.4649, 0.6380, 0.6252, 0.1585]) tensor(1.8865)\n",
      "[820,   839] loss:  tensor([0.4783, 0.6351, 0.6291, 0.1599]) tensor(1.9024)\n",
      "[840,   859] loss:  tensor([0.4698, 0.6384, 0.6289, 0.1594]) tensor(1.8966)\n",
      "[860,   879] loss:  tensor([0.4790, 0.6323, 0.6309, 0.1583]) tensor(1.9005)\n",
      "[880,   899] loss:  tensor([0.4751, 0.6311, 0.6347, 0.1568]) tensor(1.8977)\n",
      "[900,   919] loss:  tensor([0.4700, 0.6387, 0.6281, 0.1581]) tensor(1.8948)\n",
      "[920,   939] loss:  tensor([0.4777, 0.6394, 0.6267, 0.1586]) tensor(1.9025)\n",
      "[940,   959] loss:  tensor([0.4779, 0.6326, 0.6313, 0.1587]) tensor(1.9005)\n",
      "[960,   979] loss:  tensor([0.4777, 0.6316, 0.6310, 0.1575]) tensor(1.8978)\n",
      "[980,   999] loss:  tensor([0.4718, 0.6360, 0.6307, 0.1575]) tensor(1.8959)\n",
      "[1000,  1019] loss:  tensor([0.4716, 0.6331, 0.6311, 0.1575]) tensor(1.8932)\n",
      "[1020,  1039] loss:  tensor([0.4809, 0.6364, 0.6298, 0.1553]) tensor(1.9025)\n",
      "[1040,  1059] loss:  tensor([0.4739, 0.6397, 0.6238, 0.1557]) tensor(1.8932)\n",
      "[1060,  1079] loss:  tensor([0.4722, 0.6390, 0.6311, 0.1567]) tensor(1.8990)\n",
      "[1080,  1099] loss:  tensor([0.4734, 0.6336, 0.6343, 0.1591]) tensor(1.9003)\n",
      "[1100,  1119] loss:  tensor([0.4757, 0.6252, 0.6354, 0.1623]) tensor(1.8986)\n",
      "[1120,  1139] loss:  tensor([0.4725, 0.6334, 0.6310, 0.1580]) tensor(1.8949)\n",
      "[1140,  1159] loss:  tensor([0.4740, 0.6317, 0.6338, 0.1562]) tensor(1.8956)\n",
      "[1160,  1179] loss:  tensor([0.4729, 0.6336, 0.6284, 0.1555]) tensor(1.8905)\n",
      "[1180,  1199] loss:  tensor([0.4738, 0.6380, 0.6231, 0.1604]) tensor(1.8952)\n",
      "[1200,  1219] loss:  tensor([0.4730, 0.6322, 0.6314, 0.1589]) tensor(1.8954)\n",
      "[1220,  1239] loss:  tensor([0.4730, 0.6390, 0.6273, 0.1579]) tensor(1.8971)\n",
      "[1240,  1259] loss:  tensor([0.4673, 0.6337, 0.6279, 0.1579]) tensor(1.8869)\n",
      "[1260,  1279] loss:  tensor([0.4746, 0.6322, 0.6289, 0.1584]) tensor(1.8941)\n",
      "[1280,  1299] loss:  tensor([0.4743, 0.6375, 0.6277, 0.1563]) tensor(1.8958)\n",
      "[1300,  1319] loss:  tensor([0.4686, 0.6317, 0.6341, 0.1579]) tensor(1.8924)\n",
      "[1320,  1339] loss:  tensor([0.4715, 0.6336, 0.6310, 0.1556]) tensor(1.8917)\n",
      "[1340,  1359] loss:  tensor([0.4717, 0.6387, 0.6274, 0.1574]) tensor(1.8952)\n",
      "[1360,  1379] loss:  tensor([0.4812, 0.6292, 0.6346, 0.1562]) tensor(1.9012)\n",
      "[1380,  1399] loss:  tensor([0.4756, 0.6371, 0.6287, 0.1569]) tensor(1.8983)\n",
      "[1400,  1419] loss:  tensor([0.4814, 0.6378, 0.6254, 0.1559]) tensor(1.9005)\n",
      "[1420,  1439] loss:  tensor([0.4670, 0.6310, 0.6310, 0.1572]) tensor(1.8863)\n",
      "[1440,  1459] loss:  tensor([0.4726, 0.6274, 0.6368, 0.1570]) tensor(1.8938)\n",
      "[1460,  1479] loss:  tensor([0.4748, 0.6367, 0.6256, 0.1582]) tensor(1.8954)\n",
      "[1480,  1499] loss:  tensor([0.4801, 0.6316, 0.6338, 0.1565]) tensor(1.9020)\n",
      "[1500,  1519] loss:  tensor([0.4683, 0.6395, 0.6283, 0.1568]) tensor(1.8929)\n",
      "[1520,  1539] loss:  tensor([0.4758, 0.6366, 0.6312, 0.1580]) tensor(1.9016)\n",
      "[1540,  1559] loss:  tensor([0.4714, 0.6312, 0.6316, 0.1558]) tensor(1.8901)\n",
      "validation\n"
     ]
    },
    {
     "data": {
      "application/vnd.jupyter.widget-view+json": {
       "model_id": "a7f289b0e1b04377bebc59a095c1e164",
       "version_major": 2,
       "version_minor": 0
      },
      "text/plain": [
       "  0%|          | 0/125 [00:00<?, ?it/s]"
      ]
     },
     "metadata": {},
     "output_type": "display_data"
    },
    {
     "name": "stdout",
     "output_type": "stream",
     "text": [
      "validation loss for epoch 11: tensor([0.4779, 0.6360, 0.6287, 0.1600]) 1.9025877071066148\n"
     ]
    },
    {
     "data": {
      "application/vnd.jupyter.widget-view+json": {
       "model_id": "f1292cde4d154527981ceb7bc6043edc",
       "version_major": 2,
       "version_minor": 0
      },
      "text/plain": [
       "  0%|          | 0/1544 [00:00<?, ?it/s]"
      ]
     },
     "metadata": {},
     "output_type": "display_data"
    },
    {
     "name": "stdout",
     "output_type": "stream",
     "text": [
      "[20,    39] loss:  tensor([0.4736, 0.6413, 0.6224, 0.1556]) tensor(1.8930)\n",
      "[40,    59] loss:  tensor([0.4768, 0.6322, 0.6318, 0.1595]) tensor(1.9003)\n",
      "[60,    79] loss:  tensor([0.4708, 0.6274, 0.6361, 0.1604]) tensor(1.8947)\n",
      "[80,    99] loss:  tensor([0.4785, 0.6349, 0.6327, 0.1569]) tensor(1.9030)\n",
      "[100,   119] loss:  tensor([0.4745, 0.6315, 0.6328, 0.1571]) tensor(1.8959)\n",
      "[120,   139] loss:  tensor([0.4709, 0.6347, 0.6291, 0.1572]) tensor(1.8919)\n",
      "[140,   159] loss:  tensor([0.4661, 0.6295, 0.6310, 0.1569]) tensor(1.8834)\n",
      "[160,   179] loss:  tensor([0.4773, 0.6401, 0.6241, 0.1599]) tensor(1.9015)\n",
      "[180,   199] loss:  tensor([0.4725, 0.6349, 0.6278, 0.1567]) tensor(1.8920)\n",
      "[200,   219] loss:  tensor([0.4696, 0.6379, 0.6275, 0.1560]) tensor(1.8909)\n",
      "[220,   239] loss:  tensor([0.4767, 0.6405, 0.6256, 0.1599]) tensor(1.9026)\n",
      "[240,   259] loss:  tensor([0.4708, 0.6401, 0.6248, 0.1605]) tensor(1.8962)\n",
      "[260,   279] loss:  tensor([0.4759, 0.6374, 0.6254, 0.1595]) tensor(1.8982)\n",
      "[280,   299] loss:  tensor([0.4798, 0.6301, 0.6313, 0.1575]) tensor(1.8987)\n",
      "[300,   319] loss:  tensor([0.4766, 0.6348, 0.6313, 0.1568]) tensor(1.8997)\n",
      "[320,   339] loss:  tensor([0.4640, 0.6386, 0.6237, 0.1564]) tensor(1.8827)\n",
      "[340,   359] loss:  tensor([0.4687, 0.6334, 0.6301, 0.1554]) tensor(1.8877)\n",
      "[360,   379] loss:  tensor([0.4690, 0.6383, 0.6254, 0.1576]) tensor(1.8902)\n",
      "[380,   399] loss:  tensor([0.4715, 0.6365, 0.6286, 0.1579]) tensor(1.8945)\n",
      "[400,   419] loss:  tensor([0.4784, 0.6375, 0.6275, 0.1588]) tensor(1.9022)\n",
      "[420,   439] loss:  tensor([0.4657, 0.6347, 0.6287, 0.1566]) tensor(1.8858)\n",
      "[440,   459] loss:  tensor([0.4705, 0.6396, 0.6279, 0.1562]) tensor(1.8942)\n",
      "[460,   479] loss:  tensor([0.4759, 0.6422, 0.6232, 0.1584]) tensor(1.8997)\n",
      "[480,   499] loss:  tensor([0.4767, 0.6353, 0.6294, 0.1563]) tensor(1.8976)\n",
      "[500,   519] loss:  tensor([0.4764, 0.6357, 0.6285, 0.1573]) tensor(1.8979)\n",
      "[520,   539] loss:  tensor([0.4867, 0.6342, 0.6295, 0.1570]) tensor(1.9074)\n",
      "[540,   559] loss:  tensor([0.4676, 0.6339, 0.6302, 0.1589]) tensor(1.8906)\n",
      "[560,   579] loss:  tensor([0.4700, 0.6335, 0.6303, 0.1578]) tensor(1.8916)\n",
      "[580,   599] loss:  tensor([0.4751, 0.6357, 0.6267, 0.1556]) tensor(1.8931)\n",
      "[600,   619] loss:  tensor([0.4743, 0.6309, 0.6339, 0.1575]) tensor(1.8967)\n",
      "[620,   639] loss:  tensor([0.4686, 0.6382, 0.6261, 0.1575]) tensor(1.8903)\n",
      "[640,   659] loss:  tensor([0.4721, 0.6403, 0.6242, 0.1569]) tensor(1.8934)\n",
      "[660,   679] loss:  tensor([0.4683, 0.6402, 0.6246, 0.1598]) tensor(1.8929)\n",
      "[680,   699] loss:  tensor([0.4727, 0.6358, 0.6280, 0.1613]) tensor(1.8977)\n",
      "[700,   719] loss:  tensor([0.4734, 0.6422, 0.6248, 0.1567]) tensor(1.8971)\n",
      "[720,   739] loss:  tensor([0.4696, 0.6384, 0.6253, 0.1560]) tensor(1.8892)\n",
      "[740,   759] loss:  tensor([0.4695, 0.6330, 0.6311, 0.1546]) tensor(1.8881)\n",
      "[760,   779] loss:  tensor([0.4731, 0.6284, 0.6354, 0.1553]) tensor(1.8922)\n",
      "[780,   799] loss:  tensor([0.4700, 0.6335, 0.6298, 0.1587]) tensor(1.8921)\n",
      "[800,   819] loss:  tensor([0.4693, 0.6343, 0.6255, 0.1584]) tensor(1.8875)\n",
      "[820,   839] loss:  tensor([0.4707, 0.6353, 0.6292, 0.1603]) tensor(1.8956)\n",
      "[840,   859] loss:  tensor([0.4729, 0.6343, 0.6306, 0.1587]) tensor(1.8965)\n",
      "[860,   879] loss:  tensor([0.4719, 0.6379, 0.6260, 0.1547]) tensor(1.8905)\n",
      "[880,   899] loss:  tensor([0.4672, 0.6352, 0.6279, 0.1567]) tensor(1.8870)\n",
      "[900,   919] loss:  tensor([0.4726, 0.6328, 0.6320, 0.1574]) tensor(1.8947)\n",
      "[920,   939] loss:  tensor([0.4760, 0.6315, 0.6323, 0.1562]) tensor(1.8960)\n",
      "[940,   959] loss:  tensor([0.4702, 0.6397, 0.6251, 0.1574]) tensor(1.8924)\n",
      "[960,   979] loss:  tensor([0.4712, 0.6380, 0.6289, 0.1594]) tensor(1.8976)\n",
      "[980,   999] loss:  tensor([0.4691, 0.6388, 0.6265, 0.1577]) tensor(1.8921)\n",
      "[1000,  1019] loss:  tensor([0.4758, 0.6321, 0.6299, 0.1555]) tensor(1.8934)\n",
      "[1020,  1039] loss:  tensor([0.4802, 0.6365, 0.6273, 0.1544]) tensor(1.8984)\n",
      "[1040,  1059] loss:  tensor([0.4764, 0.6349, 0.6295, 0.1578]) tensor(1.8986)\n",
      "[1060,  1079] loss:  tensor([0.4857, 0.6348, 0.6294, 0.1562]) tensor(1.9061)\n",
      "[1080,  1099] loss:  tensor([0.4807, 0.6353, 0.6288, 0.1575]) tensor(1.9023)\n",
      "[1100,  1119] loss:  tensor([0.4709, 0.6325, 0.6333, 0.1567]) tensor(1.8934)\n",
      "[1120,  1139] loss:  tensor([0.4740, 0.6367, 0.6285, 0.1559]) tensor(1.8950)\n",
      "[1140,  1159] loss:  tensor([0.4713, 0.6312, 0.6303, 0.1579]) tensor(1.8906)\n",
      "[1160,  1179] loss:  tensor([0.4752, 0.6400, 0.6251, 0.1564]) tensor(1.8967)\n",
      "[1180,  1199] loss:  tensor([0.4664, 0.6303, 0.6296, 0.1577]) tensor(1.8840)\n",
      "[1200,  1219] loss:  tensor([0.4695, 0.6336, 0.6321, 0.1569]) tensor(1.8921)\n",
      "[1220,  1239] loss:  tensor([0.4720, 0.6352, 0.6284, 0.1585]) tensor(1.8941)\n",
      "[1240,  1259] loss:  tensor([0.4792, 0.6346, 0.6300, 0.1590]) tensor(1.9028)\n",
      "[1260,  1279] loss:  tensor([0.4724, 0.6409, 0.6246, 0.1608]) tensor(1.8987)\n",
      "[1280,  1299] loss:  tensor([0.4729, 0.6294, 0.6370, 0.1576]) tensor(1.8970)\n",
      "[1300,  1319] loss:  tensor([0.4738, 0.6368, 0.6250, 0.1567]) tensor(1.8923)\n",
      "[1320,  1339] loss:  tensor([0.4698, 0.6277, 0.6351, 0.1552]) tensor(1.8878)\n",
      "[1340,  1359] loss:  tensor([0.4784, 0.6288, 0.6356, 0.1544]) tensor(1.8971)\n",
      "[1360,  1379] loss:  tensor([0.4677, 0.6365, 0.6265, 0.1565]) tensor(1.8873)\n",
      "[1380,  1399] loss:  tensor([0.4686, 0.6382, 0.6260, 0.1560]) tensor(1.8888)\n",
      "[1400,  1419] loss:  tensor([0.4658, 0.6345, 0.6258, 0.1605]) tensor(1.8866)\n",
      "[1420,  1439] loss:  tensor([0.4688, 0.6291, 0.6337, 0.1587]) tensor(1.8903)\n",
      "[1440,  1459] loss:  tensor([0.4755, 0.6415, 0.6230, 0.1566]) tensor(1.8965)\n",
      "[1460,  1479] loss:  tensor([0.4731, 0.6320, 0.6302, 0.1555]) tensor(1.8909)\n",
      "[1480,  1499] loss:  tensor([0.4783, 0.6329, 0.6343, 0.1576]) tensor(1.9031)\n",
      "[1500,  1519] loss:  tensor([0.4795, 0.6321, 0.6332, 0.1549]) tensor(1.8997)\n",
      "[1520,  1539] loss:  tensor([0.4755, 0.6335, 0.6285, 0.1553]) tensor(1.8928)\n",
      "[1540,  1559] loss:  tensor([0.4750, 0.6358, 0.6265, 0.1531]) tensor(1.8904)\n",
      "validation\n"
     ]
    },
    {
     "data": {
      "application/vnd.jupyter.widget-view+json": {
       "model_id": "360699d8edfb405fa6f4f39b7fb3cccc",
       "version_major": 2,
       "version_minor": 0
      },
      "text/plain": [
       "  0%|          | 0/125 [00:00<?, ?it/s]"
      ]
     },
     "metadata": {},
     "output_type": "display_data"
    },
    {
     "name": "stdout",
     "output_type": "stream",
     "text": [
      "validation loss for epoch 12: tensor([0.4903, 0.6375, 0.6264, 0.1570]) 1.9112094008393887\n"
     ]
    },
    {
     "data": {
      "application/vnd.jupyter.widget-view+json": {
       "model_id": "7673d3addf294cc398bcbbab292564a1",
       "version_major": 2,
       "version_minor": 0
      },
      "text/plain": [
       "  0%|          | 0/1544 [00:00<?, ?it/s]"
      ]
     },
     "metadata": {},
     "output_type": "display_data"
    },
    {
     "name": "stdout",
     "output_type": "stream",
     "text": [
      "[20,    39] loss:  tensor([0.4727, 0.6346, 0.6319, 0.1581]) tensor(1.8972)\n",
      "[40,    59] loss:  tensor([0.4658, 0.6366, 0.6296, 0.1572]) tensor(1.8893)\n",
      "[60,    79] loss:  tensor([0.4747, 0.6274, 0.6367, 0.1562]) tensor(1.8950)\n",
      "[80,    99] loss:  tensor([0.4729, 0.6370, 0.6244, 0.1578]) tensor(1.8922)\n",
      "[100,   119] loss:  tensor([0.4718, 0.6353, 0.6279, 0.1554]) tensor(1.8905)\n",
      "[120,   139] loss:  tensor([0.4765, 0.6383, 0.6238, 0.1598]) tensor(1.8984)\n",
      "[140,   159] loss:  tensor([0.4776, 0.6348, 0.6253, 0.1552]) tensor(1.8928)\n",
      "[160,   179] loss:  tensor([0.4730, 0.6404, 0.6259, 0.1570]) tensor(1.8963)\n",
      "[180,   199] loss:  tensor([0.4709, 0.6357, 0.6287, 0.1555]) tensor(1.8907)\n",
      "[200,   219] loss:  tensor([0.4801, 0.6366, 0.6260, 0.1573]) tensor(1.9000)\n",
      "[220,   239] loss:  tensor([0.4640, 0.6320, 0.6341, 0.1571]) tensor(1.8872)\n",
      "[240,   259] loss:  tensor([0.4675, 0.6339, 0.6274, 0.1553]) tensor(1.8841)\n",
      "[260,   279] loss:  tensor([0.4718, 0.6327, 0.6313, 0.1591]) tensor(1.8949)\n",
      "[280,   299] loss:  tensor([0.4739, 0.6355, 0.6245, 0.1559]) tensor(1.8897)\n",
      "[300,   319] loss:  tensor([0.4741, 0.6348, 0.6298, 0.1597]) tensor(1.8983)\n",
      "[320,   339] loss:  tensor([0.4792, 0.6363, 0.6296, 0.1614]) tensor(1.9065)\n",
      "[340,   359] loss:  tensor([0.4755, 0.6279, 0.6308, 0.1564]) tensor(1.8907)\n",
      "[360,   379] loss:  tensor([0.4720, 0.6353, 0.6263, 0.1542]) tensor(1.8878)\n",
      "[380,   399] loss:  tensor([0.4699, 0.6371, 0.6242, 0.1556]) tensor(1.8867)\n",
      "[400,   419] loss:  tensor([0.4644, 0.6390, 0.6218, 0.1576]) tensor(1.8828)\n",
      "[420,   439] loss:  tensor([0.4690, 0.6378, 0.6272, 0.1556]) tensor(1.8896)\n",
      "[440,   459] loss:  tensor([0.4657, 0.6340, 0.6287, 0.1586]) tensor(1.8870)\n",
      "[460,   479] loss:  tensor([0.4633, 0.6341, 0.6321, 0.1584]) tensor(1.8880)\n",
      "[480,   499] loss:  tensor([0.4736, 0.6298, 0.6342, 0.1567]) tensor(1.8943)\n",
      "[500,   519] loss:  tensor([0.4722, 0.6327, 0.6318, 0.1571]) tensor(1.8938)\n",
      "[520,   539] loss:  tensor([0.4696, 0.6387, 0.6276, 0.1600]) tensor(1.8959)\n",
      "[540,   559] loss:  tensor([0.4597, 0.6255, 0.6380, 0.1600]) tensor(1.8833)\n",
      "[560,   579] loss:  tensor([0.4675, 0.6392, 0.6240, 0.1583]) tensor(1.8890)\n",
      "[580,   599] loss:  tensor([0.4872, 0.6383, 0.6250, 0.1567]) tensor(1.9073)\n",
      "[600,   619] loss:  tensor([0.4728, 0.6367, 0.6257, 0.1576]) tensor(1.8928)\n",
      "[620,   639] loss:  tensor([0.4738, 0.6349, 0.6277, 0.1580]) tensor(1.8944)\n",
      "[640,   659] loss:  tensor([0.4630, 0.6330, 0.6318, 0.1572]) tensor(1.8850)\n",
      "[660,   679] loss:  tensor([0.4705, 0.6406, 0.6234, 0.1550]) tensor(1.8895)\n",
      "[680,   699] loss:  tensor([0.4690, 0.6376, 0.6250, 0.1566]) tensor(1.8883)\n",
      "[700,   719] loss:  tensor([0.4765, 0.6328, 0.6334, 0.1572]) tensor(1.8999)\n",
      "[720,   739] loss:  tensor([0.4774, 0.6390, 0.6261, 0.1578]) tensor(1.9003)\n",
      "[740,   759] loss:  tensor([0.4747, 0.6316, 0.6324, 0.1583]) tensor(1.8970)\n",
      "[760,   779] loss:  tensor([0.4716, 0.6312, 0.6303, 0.1579]) tensor(1.8911)\n",
      "[780,   799] loss:  tensor([0.4778, 0.6350, 0.6278, 0.1573]) tensor(1.8980)\n",
      "[800,   819] loss:  tensor([0.4711, 0.6373, 0.6272, 0.1575]) tensor(1.8931)\n",
      "[820,   839] loss:  tensor([0.4688, 0.6373, 0.6261, 0.1548]) tensor(1.8869)\n",
      "[840,   859] loss:  tensor([0.4674, 0.6299, 0.6368, 0.1563]) tensor(1.8905)\n",
      "[860,   879] loss:  tensor([0.4762, 0.6368, 0.6263, 0.1598]) tensor(1.8991)\n",
      "[880,   899] loss:  tensor([0.4741, 0.6317, 0.6304, 0.1570]) tensor(1.8932)\n",
      "[900,   919] loss:  tensor([0.4758, 0.6333, 0.6282, 0.1535]) tensor(1.8909)\n",
      "[920,   939] loss:  tensor([0.4633, 0.6380, 0.6257, 0.1547]) tensor(1.8816)\n",
      "[940,   959] loss:  tensor([0.4763, 0.6352, 0.6297, 0.1541]) tensor(1.8953)\n",
      "[960,   979] loss:  tensor([0.4724, 0.6341, 0.6301, 0.1576]) tensor(1.8943)\n",
      "[980,   999] loss:  tensor([0.4671, 0.6342, 0.6289, 0.1579]) tensor(1.8881)\n",
      "[1000,  1019] loss:  tensor([0.4744, 0.6369, 0.6254, 0.1568]) tensor(1.8935)\n",
      "[1020,  1039] loss:  tensor([0.4725, 0.6327, 0.6310, 0.1573]) tensor(1.8935)\n",
      "[1040,  1059] loss:  tensor([0.4728, 0.6348, 0.6239, 0.1571]) tensor(1.8885)\n",
      "[1060,  1079] loss:  tensor([0.4660, 0.6399, 0.6257, 0.1575]) tensor(1.8891)\n",
      "[1080,  1099] loss:  tensor([0.4660, 0.6364, 0.6283, 0.1565]) tensor(1.8872)\n",
      "[1100,  1119] loss:  tensor([0.4728, 0.6417, 0.6250, 0.1576]) tensor(1.8972)\n",
      "[1120,  1139] loss:  tensor([0.4708, 0.6377, 0.6254, 0.1604]) tensor(1.8943)\n",
      "[1140,  1159] loss:  tensor([0.4725, 0.6390, 0.6234, 0.1552]) tensor(1.8901)\n",
      "[1160,  1179] loss:  tensor([0.4636, 0.6340, 0.6290, 0.1571]) tensor(1.8837)\n",
      "[1180,  1199] loss:  tensor([0.4745, 0.6330, 0.6313, 0.1558]) tensor(1.8946)\n",
      "[1200,  1219] loss:  tensor([0.4664, 0.6313, 0.6333, 0.1565]) tensor(1.8875)\n",
      "[1220,  1239] loss:  tensor([0.4730, 0.6348, 0.6276, 0.1565]) tensor(1.8920)\n",
      "[1240,  1259] loss:  tensor([0.4712, 0.6271, 0.6367, 0.1593]) tensor(1.8943)\n",
      "[1260,  1279] loss:  tensor([0.4728, 0.6357, 0.6253, 0.1605]) tensor(1.8944)\n",
      "[1280,  1299] loss:  tensor([0.4648, 0.6356, 0.6250, 0.1569]) tensor(1.8823)\n",
      "[1300,  1319] loss:  tensor([0.4735, 0.6357, 0.6286, 0.1563]) tensor(1.8941)\n",
      "[1320,  1339] loss:  tensor([0.4716, 0.6385, 0.6243, 0.1581]) tensor(1.8925)\n",
      "[1340,  1359] loss:  tensor([0.4663, 0.6389, 0.6239, 0.1583]) tensor(1.8873)\n",
      "[1360,  1379] loss:  tensor([0.4680, 0.6370, 0.6238, 0.1604]) tensor(1.8893)\n",
      "[1380,  1399] loss:  tensor([0.4701, 0.6349, 0.6267, 0.1600]) tensor(1.8918)\n",
      "[1400,  1419] loss:  tensor([0.4732, 0.6382, 0.6277, 0.1554]) tensor(1.8945)\n",
      "[1420,  1439] loss:  tensor([0.4807, 0.6397, 0.6264, 0.1529]) tensor(1.8997)\n",
      "[1440,  1459] loss:  tensor([0.4732, 0.6309, 0.6337, 0.1556]) tensor(1.8935)\n",
      "[1460,  1479] loss:  tensor([0.4678, 0.6308, 0.6357, 0.1553]) tensor(1.8896)\n",
      "[1480,  1499] loss:  tensor([0.4737, 0.6365, 0.6276, 0.1566]) tensor(1.8945)\n",
      "[1500,  1519] loss:  tensor([0.4709, 0.6329, 0.6275, 0.1566]) tensor(1.8880)\n",
      "[1520,  1539] loss:  tensor([0.4737, 0.6360, 0.6311, 0.1555]) tensor(1.8963)\n",
      "[1540,  1559] loss:  tensor([0.4752, 0.6325, 0.6265, 0.1562]) tensor(1.8904)\n",
      "validation\n"
     ]
    },
    {
     "data": {
      "application/vnd.jupyter.widget-view+json": {
       "model_id": "84dc863e42094b1d9f9e6c30191557f0",
       "version_major": 2,
       "version_minor": 0
      },
      "text/plain": [
       "  0%|          | 0/125 [00:00<?, ?it/s]"
      ]
     },
     "metadata": {},
     "output_type": "display_data"
    },
    {
     "name": "stdout",
     "output_type": "stream",
     "text": [
      "validation loss for epoch 13: tensor([0.4671, 0.6393, 0.6273, 0.1626]) 1.8963768332263218\n"
     ]
    },
    {
     "data": {
      "application/vnd.jupyter.widget-view+json": {
       "model_id": "54220205e1b04000b73d3dcc180a8f81",
       "version_major": 2,
       "version_minor": 0
      },
      "text/plain": [
       "  0%|          | 0/1544 [00:00<?, ?it/s]"
      ]
     },
     "metadata": {},
     "output_type": "display_data"
    },
    {
     "name": "stdout",
     "output_type": "stream",
     "text": [
      "[20,    39] loss:  tensor([0.4628, 0.6386, 0.6240, 0.1587]) tensor(1.8841)\n",
      "[40,    59] loss:  tensor([0.4816, 0.6349, 0.6267, 0.1554]) tensor(1.8985)\n",
      "[60,    79] loss:  tensor([0.4688, 0.6341, 0.6300, 0.1562]) tensor(1.8891)\n",
      "[80,    99] loss:  tensor([0.4695, 0.6402, 0.6248, 0.1564]) tensor(1.8909)\n",
      "[100,   119] loss:  tensor([0.4711, 0.6306, 0.6335, 0.1553]) tensor(1.8905)\n",
      "[120,   139] loss:  tensor([0.4740, 0.6334, 0.6314, 0.1574]) tensor(1.8963)\n",
      "[140,   159] loss:  tensor([0.4648, 0.6334, 0.6313, 0.1552]) tensor(1.8847)\n",
      "[160,   179] loss:  tensor([0.4653, 0.6374, 0.6264, 0.1561]) tensor(1.8852)\n",
      "[180,   199] loss:  tensor([0.4717, 0.6428, 0.6220, 0.1577]) tensor(1.8943)\n",
      "[200,   219] loss:  tensor([0.4627, 0.6358, 0.6300, 0.1568]) tensor(1.8854)\n",
      "[220,   239] loss:  tensor([0.4754, 0.6393, 0.6293, 0.1577]) tensor(1.9017)\n",
      "[240,   259] loss:  tensor([0.4640, 0.6353, 0.6256, 0.1577]) tensor(1.8826)\n",
      "[260,   279] loss:  tensor([0.4817, 0.6374, 0.6256, 0.1589]) tensor(1.9036)\n",
      "[280,   299] loss:  tensor([0.4846, 0.6366, 0.6273, 0.1592]) tensor(1.9077)\n",
      "[300,   319] loss:  tensor([0.4681, 0.6375, 0.6253, 0.1595]) tensor(1.8904)\n",
      "[320,   339] loss:  tensor([0.4763, 0.6334, 0.6297, 0.1570]) tensor(1.8965)\n",
      "[340,   359] loss:  tensor([0.4760, 0.6350, 0.6281, 0.1573]) tensor(1.8965)\n",
      "[360,   379] loss:  tensor([0.4773, 0.6372, 0.6268, 0.1563]) tensor(1.8975)\n",
      "[380,   399] loss:  tensor([0.4705, 0.6344, 0.6282, 0.1587]) tensor(1.8918)\n",
      "[400,   419] loss:  tensor([0.4737, 0.6327, 0.6324, 0.1571]) tensor(1.8959)\n",
      "[420,   439] loss:  tensor([0.4782, 0.6346, 0.6322, 0.1554]) tensor(1.9004)\n",
      "[440,   459] loss:  tensor([0.4653, 0.6392, 0.6273, 0.1592]) tensor(1.8911)\n",
      "[460,   479] loss:  tensor([0.4714, 0.6385, 0.6230, 0.1608]) tensor(1.8937)\n",
      "[480,   499] loss:  tensor([0.4671, 0.6377, 0.6289, 0.1560]) tensor(1.8898)\n",
      "[500,   519] loss:  tensor([0.4746, 0.6340, 0.6298, 0.1578]) tensor(1.8962)\n",
      "[520,   539] loss:  tensor([0.4784, 0.6395, 0.6236, 0.1562]) tensor(1.8976)\n",
      "[540,   559] loss:  tensor([0.4681, 0.6353, 0.6249, 0.1553]) tensor(1.8836)\n",
      "[560,   579] loss:  tensor([0.4682, 0.6322, 0.6319, 0.1564]) tensor(1.8887)\n",
      "[580,   599] loss:  tensor([0.4709, 0.6374, 0.6242, 0.1568]) tensor(1.8893)\n",
      "[600,   619] loss:  tensor([0.4668, 0.6363, 0.6285, 0.1581]) tensor(1.8898)\n",
      "[620,   639] loss:  tensor([0.4664, 0.6359, 0.6275, 0.1577]) tensor(1.8875)\n",
      "[640,   659] loss:  tensor([0.4693, 0.6386, 0.6270, 0.1580]) tensor(1.8929)\n",
      "[660,   679] loss:  tensor([0.4747, 0.6406, 0.6231, 0.1543]) tensor(1.8927)\n",
      "[680,   699] loss:  tensor([0.4698, 0.6378, 0.6250, 0.1556]) tensor(1.8882)\n",
      "[700,   719] loss:  tensor([0.4724, 0.6355, 0.6279, 0.1561]) tensor(1.8920)\n",
      "[720,   739] loss:  tensor([0.4703, 0.6353, 0.6290, 0.1597]) tensor(1.8943)\n",
      "[740,   759] loss:  tensor([0.4698, 0.6399, 0.6255, 0.1575]) tensor(1.8926)\n",
      "[760,   779] loss:  tensor([0.4722, 0.6414, 0.6212, 0.1571]) tensor(1.8919)\n",
      "[780,   799] loss:  tensor([0.4661, 0.6414, 0.6227, 0.1560]) tensor(1.8862)\n",
      "[800,   819] loss:  tensor([0.4662, 0.6316, 0.6297, 0.1550]) tensor(1.8825)\n",
      "[820,   839] loss:  tensor([0.4686, 0.6305, 0.6305, 0.1572]) tensor(1.8868)\n",
      "[840,   859] loss:  tensor([0.4675, 0.6360, 0.6279, 0.1570]) tensor(1.8884)\n",
      "[860,   879] loss:  tensor([0.4736, 0.6313, 0.6315, 0.1569]) tensor(1.8933)\n",
      "[880,   899] loss:  tensor([0.4679, 0.6313, 0.6304, 0.1578]) tensor(1.8874)\n",
      "[900,   919] loss:  tensor([0.4679, 0.6332, 0.6273, 0.1554]) tensor(1.8838)\n",
      "[920,   939] loss:  tensor([0.4660, 0.6289, 0.6310, 0.1570]) tensor(1.8829)\n",
      "[940,   959] loss:  tensor([0.4613, 0.6336, 0.6311, 0.1595]) tensor(1.8854)\n",
      "[960,   979] loss:  tensor([0.4693, 0.6364, 0.6291, 0.1574]) tensor(1.8921)\n",
      "[980,   999] loss:  tensor([0.4766, 0.6359, 0.6291, 0.1560]) tensor(1.8977)\n",
      "[1000,  1019] loss:  tensor([0.4646, 0.6345, 0.6286, 0.1548]) tensor(1.8825)\n",
      "[1020,  1039] loss:  tensor([0.4710, 0.6372, 0.6270, 0.1579]) tensor(1.8931)\n",
      "[1040,  1059] loss:  tensor([0.4700, 0.6349, 0.6271, 0.1550]) tensor(1.8870)\n",
      "[1060,  1079] loss:  tensor([0.4706, 0.6371, 0.6263, 0.1553]) tensor(1.8893)\n",
      "[1080,  1099] loss:  tensor([0.4690, 0.6344, 0.6318, 0.1577]) tensor(1.8929)\n",
      "[1100,  1119] loss:  tensor([0.4721, 0.6352, 0.6304, 0.1575]) tensor(1.8953)\n",
      "[1120,  1139] loss:  tensor([0.4797, 0.6378, 0.6249, 0.1554]) tensor(1.8978)\n",
      "[1140,  1159] loss:  tensor([0.4713, 0.6355, 0.6266, 0.1540]) tensor(1.8874)\n",
      "[1160,  1179] loss:  tensor([0.4839, 0.6309, 0.6334, 0.1543]) tensor(1.9025)\n",
      "[1180,  1199] loss:  tensor([0.4632, 0.6417, 0.6210, 0.1565]) tensor(1.8824)\n",
      "[1200,  1219] loss:  tensor([0.4760, 0.6356, 0.6250, 0.1554]) tensor(1.8920)\n",
      "[1220,  1239] loss:  tensor([0.4672, 0.6356, 0.6282, 0.1565]) tensor(1.8875)\n",
      "[1240,  1259] loss:  tensor([0.4784, 0.6323, 0.6288, 0.1591]) tensor(1.8986)\n",
      "[1260,  1279] loss:  tensor([0.4708, 0.6363, 0.6262, 0.1555]) tensor(1.8888)\n",
      "[1280,  1299] loss:  tensor([0.4749, 0.6345, 0.6294, 0.1537]) tensor(1.8925)\n",
      "[1300,  1319] loss:  tensor([0.4798, 0.6358, 0.6272, 0.1581]) tensor(1.9009)\n",
      "[1320,  1339] loss:  tensor([0.4702, 0.6323, 0.6322, 0.1573]) tensor(1.8920)\n",
      "[1340,  1359] loss:  tensor([0.4666, 0.6340, 0.6283, 0.1566]) tensor(1.8854)\n",
      "[1360,  1379] loss:  tensor([0.4805, 0.6414, 0.6240, 0.1557]) tensor(1.9016)\n",
      "[1380,  1399] loss:  tensor([0.4672, 0.6366, 0.6265, 0.1572]) tensor(1.8875)\n",
      "[1400,  1419] loss:  tensor([0.4719, 0.6417, 0.6225, 0.1574]) tensor(1.8935)\n",
      "[1420,  1439] loss:  tensor([0.4629, 0.6355, 0.6284, 0.1564]) tensor(1.8832)\n",
      "[1440,  1459] loss:  tensor([0.4601, 0.6318, 0.6306, 0.1565]) tensor(1.8790)\n",
      "[1460,  1479] loss:  tensor([0.4726, 0.6361, 0.6245, 0.1552]) tensor(1.8885)\n",
      "[1480,  1499] loss:  tensor([0.4700, 0.6352, 0.6283, 0.1551]) tensor(1.8886)\n",
      "[1500,  1519] loss:  tensor([0.4685, 0.6367, 0.6276, 0.1564]) tensor(1.8892)\n",
      "[1520,  1539] loss:  tensor([0.4662, 0.6356, 0.6284, 0.1546]) tensor(1.8847)\n",
      "[1540,  1559] loss:  tensor([0.4631, 0.6354, 0.6311, 0.1560]) tensor(1.8856)\n",
      "validation\n"
     ]
    },
    {
     "data": {
      "application/vnd.jupyter.widget-view+json": {
       "model_id": "130a68fadba842cd8c4df30dc03f34fa",
       "version_major": 2,
       "version_minor": 0
      },
      "text/plain": [
       "  0%|          | 0/125 [00:00<?, ?it/s]"
      ]
     },
     "metadata": {},
     "output_type": "display_data"
    },
    {
     "name": "stdout",
     "output_type": "stream",
     "text": [
      "validation loss for epoch 14: tensor([0.4597, 0.6297, 0.6348, 0.1618]) 1.8859616754885993\n"
     ]
    },
    {
     "data": {
      "application/vnd.jupyter.widget-view+json": {
       "model_id": "9d2e8f0cd39146b3ba8990bfc1a51b67",
       "version_major": 2,
       "version_minor": 0
      },
      "text/plain": [
       "  0%|          | 0/1544 [00:00<?, ?it/s]"
      ]
     },
     "metadata": {},
     "output_type": "display_data"
    },
    {
     "name": "stdout",
     "output_type": "stream",
     "text": [
      "[20,    39] loss:  tensor([0.4637, 0.6354, 0.6268, 0.1536]) tensor(1.8795)\n",
      "[40,    59] loss:  tensor([0.4687, 0.6345, 0.6278, 0.1565]) tensor(1.8876)\n",
      "[60,    79] loss:  tensor([0.4732, 0.6310, 0.6328, 0.1572]) tensor(1.8942)\n",
      "[80,    99] loss:  tensor([0.4740, 0.6382, 0.6243, 0.1549]) tensor(1.8915)\n",
      "[100,   119] loss:  tensor([0.4661, 0.6350, 0.6329, 0.1552]) tensor(1.8891)\n",
      "[120,   139] loss:  tensor([0.4739, 0.6357, 0.6280, 0.1572]) tensor(1.8949)\n",
      "[140,   159] loss:  tensor([0.4753, 0.6374, 0.6267, 0.1557]) tensor(1.8951)\n",
      "[160,   179] loss:  tensor([0.4730, 0.6355, 0.6259, 0.1574]) tensor(1.8917)\n",
      "[180,   199] loss:  tensor([0.4599, 0.6400, 0.6221, 0.1644]) tensor(1.8864)\n",
      "[200,   219] loss:  tensor([0.4775, 0.6329, 0.6307, 0.1580]) tensor(1.8991)\n",
      "[220,   239] loss:  tensor([0.4691, 0.6325, 0.6269, 0.1580]) tensor(1.8865)\n",
      "[240,   259] loss:  tensor([0.4686, 0.6374, 0.6274, 0.1583]) tensor(1.8918)\n",
      "[260,   279] loss:  tensor([0.4687, 0.6428, 0.6233, 0.1571]) tensor(1.8919)\n",
      "[280,   299] loss:  tensor([0.4654, 0.6264, 0.6378, 0.1599]) tensor(1.8895)\n",
      "[300,   319] loss:  tensor([0.4626, 0.6376, 0.6270, 0.1571]) tensor(1.8843)\n",
      "[320,   339] loss:  tensor([0.4592, 0.6361, 0.6267, 0.1587]) tensor(1.8806)\n",
      "[340,   359] loss:  tensor([0.4707, 0.6393, 0.6226, 0.1592]) tensor(1.8918)\n",
      "[360,   379] loss:  tensor([0.4644, 0.6360, 0.6283, 0.1594]) tensor(1.8881)\n",
      "[380,   399] loss:  tensor([0.4713, 0.6336, 0.6318, 0.1587]) tensor(1.8954)\n",
      "[400,   419] loss:  tensor([0.4718, 0.6383, 0.6242, 0.1580]) tensor(1.8924)\n",
      "[420,   439] loss:  tensor([0.4718, 0.6336, 0.6269, 0.1566]) tensor(1.8890)\n",
      "[440,   459] loss:  tensor([0.4714, 0.6359, 0.6278, 0.1571]) tensor(1.8922)\n",
      "[460,   479] loss:  tensor([0.4690, 0.6339, 0.6285, 0.1589]) tensor(1.8902)\n",
      "[480,   499] loss:  tensor([0.4711, 0.6335, 0.6291, 0.1559]) tensor(1.8896)\n",
      "[500,   519] loss:  tensor([0.4731, 0.6349, 0.6307, 0.1546]) tensor(1.8934)\n",
      "[520,   539] loss:  tensor([0.4719, 0.6349, 0.6289, 0.1579]) tensor(1.8937)\n",
      "[540,   559] loss:  tensor([0.4780, 0.6365, 0.6309, 0.1547]) tensor(1.9002)\n",
      "[560,   579] loss:  tensor([0.4652, 0.6420, 0.6208, 0.1573]) tensor(1.8852)\n",
      "[580,   599] loss:  tensor([0.4714, 0.6338, 0.6309, 0.1551]) tensor(1.8912)\n",
      "[600,   619] loss:  tensor([0.4622, 0.6328, 0.6290, 0.1562]) tensor(1.8802)\n",
      "[620,   639] loss:  tensor([0.4682, 0.6402, 0.6269, 0.1559]) tensor(1.8912)\n",
      "[640,   659] loss:  tensor([0.4646, 0.6370, 0.6245, 0.1563]) tensor(1.8825)\n",
      "[660,   679] loss:  tensor([0.4749, 0.6343, 0.6288, 0.1547]) tensor(1.8926)\n",
      "[680,   699] loss:  tensor([0.4674, 0.6334, 0.6316, 0.1540]) tensor(1.8864)\n",
      "[700,   719] loss:  tensor([0.4672, 0.6348, 0.6294, 0.1561]) tensor(1.8875)\n",
      "[720,   739] loss:  tensor([0.4687, 0.6320, 0.6305, 0.1556]) tensor(1.8868)\n",
      "[740,   759] loss:  tensor([0.4584, 0.6365, 0.6267, 0.1568]) tensor(1.8784)\n",
      "[760,   779] loss:  tensor([0.4656, 0.6335, 0.6295, 0.1561]) tensor(1.8846)\n",
      "[780,   799] loss:  tensor([0.4676, 0.6402, 0.6263, 0.1553]) tensor(1.8894)\n",
      "[800,   819] loss:  tensor([0.4605, 0.6373, 0.6260, 0.1548]) tensor(1.8785)\n",
      "[820,   839] loss:  tensor([0.4697, 0.6368, 0.6286, 0.1568]) tensor(1.8919)\n",
      "[840,   859] loss:  tensor([0.4732, 0.6394, 0.6231, 0.1588]) tensor(1.8945)\n",
      "[860,   879] loss:  tensor([0.4745, 0.6384, 0.6235, 0.1572]) tensor(1.8936)\n",
      "[880,   899] loss:  tensor([0.4671, 0.6357, 0.6292, 0.1595]) tensor(1.8916)\n",
      "[900,   919] loss:  tensor([0.4701, 0.6368, 0.6317, 0.1535]) tensor(1.8920)\n",
      "[920,   939] loss:  tensor([0.4731, 0.6396, 0.6254, 0.1570]) tensor(1.8951)\n",
      "[940,   959] loss:  tensor([0.4680, 0.6341, 0.6277, 0.1558]) tensor(1.8855)\n",
      "[960,   979] loss:  tensor([0.4715, 0.6390, 0.6252, 0.1572]) tensor(1.8929)\n",
      "[980,   999] loss:  tensor([0.4741, 0.6307, 0.6328, 0.1564]) tensor(1.8941)\n",
      "[1000,  1019] loss:  tensor([0.4705, 0.6411, 0.6226, 0.1587]) tensor(1.8929)\n",
      "[1020,  1039] loss:  tensor([0.4677, 0.6339, 0.6297, 0.1546]) tensor(1.8859)\n",
      "[1040,  1059] loss:  tensor([0.4663, 0.6379, 0.6255, 0.1553]) tensor(1.8850)\n",
      "[1060,  1079] loss:  tensor([0.4705, 0.6362, 0.6234, 0.1543]) tensor(1.8844)\n",
      "[1080,  1099] loss:  tensor([0.4665, 0.6390, 0.6277, 0.1565]) tensor(1.8897)\n",
      "[1100,  1119] loss:  tensor([0.4738, 0.6353, 0.6269, 0.1555]) tensor(1.8915)\n",
      "[1120,  1139] loss:  tensor([0.4725, 0.6299, 0.6330, 0.1555]) tensor(1.8909)\n",
      "[1140,  1159] loss:  tensor([0.4609, 0.6328, 0.6317, 0.1546]) tensor(1.8801)\n",
      "[1160,  1179] loss:  tensor([0.4625, 0.6303, 0.6329, 0.1545]) tensor(1.8801)\n",
      "[1180,  1199] loss:  tensor([0.4673, 0.6381, 0.6263, 0.1584]) tensor(1.8901)\n",
      "[1200,  1219] loss:  tensor([0.4628, 0.6372, 0.6246, 0.1574]) tensor(1.8820)\n",
      "[1220,  1239] loss:  tensor([0.4666, 0.6377, 0.6263, 0.1552]) tensor(1.8858)\n",
      "[1240,  1259] loss:  tensor([0.4616, 0.6306, 0.6334, 0.1531]) tensor(1.8787)\n",
      "[1260,  1279] loss:  tensor([0.4630, 0.6369, 0.6283, 0.1543]) tensor(1.8826)\n",
      "[1280,  1299] loss:  tensor([0.4686, 0.6416, 0.6277, 0.1535]) tensor(1.8914)\n",
      "[1300,  1319] loss:  tensor([0.4696, 0.6384, 0.6259, 0.1593]) tensor(1.8932)\n",
      "[1320,  1339] loss:  tensor([0.4708, 0.6377, 0.6265, 0.1555]) tensor(1.8905)\n",
      "[1340,  1359] loss:  tensor([0.4708, 0.6317, 0.6324, 0.1554]) tensor(1.8903)\n",
      "[1360,  1379] loss:  tensor([0.4804, 0.6348, 0.6283, 0.1586]) tensor(1.9020)\n",
      "[1380,  1399] loss:  tensor([0.4731, 0.6396, 0.6208, 0.1584]) tensor(1.8919)\n",
      "[1400,  1419] loss:  tensor([0.4677, 0.6369, 0.6261, 0.1546]) tensor(1.8852)\n",
      "[1420,  1439] loss:  tensor([0.4605, 0.6326, 0.6306, 0.1540]) tensor(1.8776)\n",
      "[1440,  1459] loss:  tensor([0.4605, 0.6319, 0.6286, 0.1569]) tensor(1.8780)\n",
      "[1460,  1479] loss:  tensor([0.4765, 0.6385, 0.6252, 0.1548]) tensor(1.8950)\n",
      "[1480,  1499] loss:  tensor([0.4687, 0.6304, 0.6320, 0.1575]) tensor(1.8887)\n",
      "[1500,  1519] loss:  tensor([0.4743, 0.6320, 0.6347, 0.1557]) tensor(1.8968)\n",
      "[1520,  1539] loss:  tensor([0.4724, 0.6396, 0.6249, 0.1561]) tensor(1.8930)\n",
      "[1540,  1559] loss:  tensor([0.4702, 0.6297, 0.6325, 0.1566]) tensor(1.8890)\n",
      "validation\n"
     ]
    },
    {
     "data": {
      "application/vnd.jupyter.widget-view+json": {
       "model_id": "28a0dbd4dfe9465cb536a9c30acc75e1",
       "version_major": 2,
       "version_minor": 0
      },
      "text/plain": [
       "  0%|          | 0/125 [00:00<?, ?it/s]"
      ]
     },
     "metadata": {},
     "output_type": "display_data"
    },
    {
     "name": "stdout",
     "output_type": "stream",
     "text": [
      "validation loss for epoch 15: tensor([0.4721, 0.6348, 0.6276, 0.1649]) 1.8994147965735404\n"
     ]
    },
    {
     "data": {
      "application/vnd.jupyter.widget-view+json": {
       "model_id": "cf1f6261447f4977bb1f4b86385a5679",
       "version_major": 2,
       "version_minor": 0
      },
      "text/plain": [
       "  0%|          | 0/1544 [00:00<?, ?it/s]"
      ]
     },
     "metadata": {},
     "output_type": "display_data"
    },
    {
     "name": "stdout",
     "output_type": "stream",
     "text": [
      "[20,    39] loss:  tensor([0.4761, 0.6312, 0.6311, 0.1580]) tensor(1.8964)\n",
      "[40,    59] loss:  tensor([0.4689, 0.6374, 0.6288, 0.1581]) tensor(1.8931)\n",
      "[60,    79] loss:  tensor([0.4701, 0.6358, 0.6246, 0.1569]) tensor(1.8875)\n",
      "[80,    99] loss:  tensor([0.4612, 0.6338, 0.6303, 0.1551]) tensor(1.8806)\n",
      "[100,   119] loss:  tensor([0.4754, 0.6348, 0.6285, 0.1560]) tensor(1.8947)\n",
      "[120,   139] loss:  tensor([0.4678, 0.6338, 0.6311, 0.1558]) tensor(1.8886)\n",
      "[140,   159] loss:  tensor([0.4620, 0.6439, 0.6151, 0.1550]) tensor(1.8760)\n",
      "[160,   179] loss:  tensor([0.4652, 0.6365, 0.6268, 0.1551]) tensor(1.8836)\n",
      "[180,   199] loss:  tensor([0.4708, 0.6385, 0.6277, 0.1565]) tensor(1.8935)\n",
      "[200,   219] loss:  tensor([0.4748, 0.6376, 0.6269, 0.1552]) tensor(1.8946)\n",
      "[220,   239] loss:  tensor([0.4639, 0.6339, 0.6292, 0.1560]) tensor(1.8830)\n",
      "[240,   259] loss:  tensor([0.4707, 0.6342, 0.6286, 0.1553]) tensor(1.8888)\n",
      "[260,   279] loss:  tensor([0.4711, 0.6373, 0.6253, 0.1562]) tensor(1.8899)\n",
      "[280,   299] loss:  tensor([0.4706, 0.6390, 0.6265, 0.1559]) tensor(1.8920)\n",
      "[300,   319] loss:  tensor([0.4660, 0.6330, 0.6283, 0.1581]) tensor(1.8853)\n",
      "[320,   339] loss:  tensor([0.4715, 0.6369, 0.6249, 0.1563]) tensor(1.8896)\n",
      "[340,   359] loss:  tensor([0.4690, 0.6348, 0.6293, 0.1542]) tensor(1.8873)\n",
      "[360,   379] loss:  tensor([0.4662, 0.6373, 0.6246, 0.1551]) tensor(1.8833)\n",
      "[380,   399] loss:  tensor([0.4584, 0.6400, 0.6241, 0.1584]) tensor(1.8809)\n",
      "[400,   419] loss:  tensor([0.4688, 0.6278, 0.6357, 0.1540]) tensor(1.8862)\n",
      "[420,   439] loss:  tensor([0.4714, 0.6324, 0.6302, 0.1566]) tensor(1.8906)\n",
      "[440,   459] loss:  tensor([0.4771, 0.6313, 0.6321, 0.1564]) tensor(1.8969)\n",
      "[460,   479] loss:  tensor([0.4649, 0.6423, 0.6245, 0.1555]) tensor(1.8872)\n",
      "[480,   499] loss:  tensor([0.4716, 0.6377, 0.6271, 0.1585]) tensor(1.8949)\n",
      "[500,   519] loss:  tensor([0.4713, 0.6296, 0.6345, 0.1575]) tensor(1.8929)\n",
      "[520,   539] loss:  tensor([0.4732, 0.6380, 0.6265, 0.1574]) tensor(1.8951)\n",
      "[540,   559] loss:  tensor([0.4681, 0.6343, 0.6306, 0.1557]) tensor(1.8887)\n",
      "[560,   579] loss:  tensor([0.4718, 0.6388, 0.6284, 0.1565]) tensor(1.8955)\n",
      "[580,   599] loss:  tensor([0.4761, 0.6377, 0.6263, 0.1547]) tensor(1.8948)\n",
      "[600,   619] loss:  tensor([0.4654, 0.6351, 0.6267, 0.1559]) tensor(1.8831)\n",
      "[620,   639] loss:  tensor([0.4755, 0.6345, 0.6316, 0.1557]) tensor(1.8973)\n",
      "[640,   659] loss:  tensor([0.4684, 0.6357, 0.6270, 0.1562]) tensor(1.8873)\n",
      "[660,   679] loss:  tensor([0.4693, 0.6379, 0.6246, 0.1570]) tensor(1.8888)\n",
      "[680,   699] loss:  tensor([0.4670, 0.6362, 0.6286, 0.1549]) tensor(1.8867)\n",
      "[700,   719] loss:  tensor([0.4760, 0.6361, 0.6268, 0.1562]) tensor(1.8952)\n",
      "[720,   739] loss:  tensor([0.4636, 0.6323, 0.6286, 0.1578]) tensor(1.8822)\n",
      "[740,   759] loss:  tensor([0.4684, 0.6388, 0.6230, 0.1561]) tensor(1.8863)\n",
      "[760,   779] loss:  tensor([0.4735, 0.6379, 0.6264, 0.1555]) tensor(1.8933)\n",
      "[780,   799] loss:  tensor([0.4685, 0.6348, 0.6270, 0.1552]) tensor(1.8855)\n",
      "[800,   819] loss:  tensor([0.4658, 0.6385, 0.6222, 0.1562]) tensor(1.8827)\n",
      "[820,   839] loss:  tensor([0.4653, 0.6354, 0.6296, 0.1550]) tensor(1.8853)\n",
      "[840,   859] loss:  tensor([0.4660, 0.6397, 0.6231, 0.1571]) tensor(1.8859)\n",
      "[860,   879] loss:  tensor([0.4701, 0.6377, 0.6246, 0.1553]) tensor(1.8878)\n",
      "[880,   899] loss:  tensor([0.4623, 0.6341, 0.6237, 0.1546]) tensor(1.8747)\n",
      "[900,   919] loss:  tensor([0.4689, 0.6338, 0.6297, 0.1559]) tensor(1.8883)\n",
      "[920,   939] loss:  tensor([0.4738, 0.6366, 0.6256, 0.1586]) tensor(1.8947)\n",
      "[940,   959] loss:  tensor([0.4705, 0.6349, 0.6303, 0.1574]) tensor(1.8930)\n",
      "[960,   979] loss:  tensor([0.4651, 0.6349, 0.6303, 0.1574]) tensor(1.8877)\n",
      "[980,   999] loss:  tensor([0.4633, 0.6369, 0.6284, 0.1570]) tensor(1.8857)\n",
      "[1000,  1019] loss:  tensor([0.4588, 0.6400, 0.6230, 0.1565]) tensor(1.8783)\n",
      "[1020,  1039] loss:  tensor([0.4591, 0.6362, 0.6266, 0.1542]) tensor(1.8760)\n",
      "[1040,  1059] loss:  tensor([0.4617, 0.6398, 0.6218, 0.1559]) tensor(1.8792)\n",
      "[1060,  1079] loss:  tensor([0.4723, 0.6335, 0.6317, 0.1564]) tensor(1.8939)\n",
      "[1080,  1099] loss:  tensor([0.4662, 0.6352, 0.6263, 0.1587]) tensor(1.8864)\n",
      "[1100,  1119] loss:  tensor([0.4653, 0.6346, 0.6303, 0.1534]) tensor(1.8836)\n",
      "[1120,  1139] loss:  tensor([0.4689, 0.6366, 0.6273, 0.1552]) tensor(1.8880)\n",
      "[1140,  1159] loss:  tensor([0.4638, 0.6361, 0.6249, 0.1593]) tensor(1.8841)\n",
      "[1160,  1179] loss:  tensor([0.4648, 0.6291, 0.6302, 0.1564]) tensor(1.8805)\n",
      "[1180,  1199] loss:  tensor([0.4727, 0.6368, 0.6286, 0.1560]) tensor(1.8941)\n",
      "[1200,  1219] loss:  tensor([0.4690, 0.6418, 0.6238, 0.1545]) tensor(1.8891)\n",
      "[1220,  1239] loss:  tensor([0.4674, 0.6405, 0.6252, 0.1535]) tensor(1.8865)\n",
      "[1240,  1259] loss:  tensor([0.4676, 0.6414, 0.6240, 0.1560]) tensor(1.8890)\n",
      "[1260,  1279] loss:  tensor([0.4538, 0.6365, 0.6301, 0.1568]) tensor(1.8773)\n",
      "[1280,  1299] loss:  tensor([0.4676, 0.6316, 0.6332, 0.1565]) tensor(1.8888)\n",
      "[1300,  1319] loss:  tensor([0.4686, 0.6347, 0.6295, 0.1553]) tensor(1.8881)\n",
      "[1320,  1339] loss:  tensor([0.4682, 0.6362, 0.6283, 0.1600]) tensor(1.8926)\n",
      "[1340,  1359] loss:  tensor([0.4599, 0.6349, 0.6235, 0.1542]) tensor(1.8724)\n",
      "[1360,  1379] loss:  tensor([0.4634, 0.6285, 0.6322, 0.1573]) tensor(1.8814)\n",
      "[1380,  1399] loss:  tensor([0.4710, 0.6368, 0.6285, 0.1540]) tensor(1.8903)\n",
      "[1400,  1419] loss:  tensor([0.4599, 0.6354, 0.6292, 0.1555]) tensor(1.8800)\n",
      "[1420,  1439] loss:  tensor([0.4638, 0.6328, 0.6301, 0.1558]) tensor(1.8825)\n",
      "[1440,  1459] loss:  tensor([0.4703, 0.6315, 0.6312, 0.1546]) tensor(1.8876)\n",
      "[1460,  1479] loss:  tensor([0.4646, 0.6348, 0.6268, 0.1551]) tensor(1.8814)\n",
      "[1480,  1499] loss:  tensor([0.4684, 0.6402, 0.6230, 0.1556]) tensor(1.8872)\n",
      "[1500,  1519] loss:  tensor([0.4703, 0.6335, 0.6284, 0.1583]) tensor(1.8906)\n",
      "[1520,  1539] loss:  tensor([0.4840, 0.6408, 0.6219, 0.1566]) tensor(1.9034)\n",
      "[1540,  1559] loss:  tensor([0.4694, 0.6365, 0.6243, 0.1535]) tensor(1.8836)\n",
      "validation\n"
     ]
    },
    {
     "data": {
      "application/vnd.jupyter.widget-view+json": {
       "model_id": "b0283a20f3494152b4373d3b3fb7bad3",
       "version_major": 2,
       "version_minor": 0
      },
      "text/plain": [
       "  0%|          | 0/125 [00:00<?, ?it/s]"
      ]
     },
     "metadata": {},
     "output_type": "display_data"
    },
    {
     "name": "stdout",
     "output_type": "stream",
     "text": [
      "validation loss for epoch 16: tensor([0.4698, 0.6368, 0.6282, 0.1590]) 1.8937697710473564\n"
     ]
    },
    {
     "data": {
      "application/vnd.jupyter.widget-view+json": {
       "model_id": "ec66f3c205184432abcc624cb5b1d66a",
       "version_major": 2,
       "version_minor": 0
      },
      "text/plain": [
       "  0%|          | 0/1544 [00:00<?, ?it/s]"
      ]
     },
     "metadata": {},
     "output_type": "display_data"
    },
    {
     "name": "stdout",
     "output_type": "stream",
     "text": [
      "[20,    39] loss:  tensor([0.4694, 0.6402, 0.6231, 0.1551]) tensor(1.8879)\n",
      "[40,    59] loss:  tensor([0.4708, 0.6354, 0.6263, 0.1546]) tensor(1.8872)\n",
      "[60,    79] loss:  tensor([0.4675, 0.6384, 0.6241, 0.1577]) tensor(1.8876)\n",
      "[80,    99] loss:  tensor([0.4715, 0.6299, 0.6322, 0.1562]) tensor(1.8897)\n",
      "[100,   119] loss:  tensor([0.4792, 0.6308, 0.6318, 0.1550]) tensor(1.8967)\n",
      "[120,   139] loss:  tensor([0.4652, 0.6405, 0.6264, 0.1550]) tensor(1.8872)\n",
      "[140,   159] loss:  tensor([0.4757, 0.6391, 0.6252, 0.1587]) tensor(1.8986)\n",
      "[160,   179] loss:  tensor([0.4778, 0.6350, 0.6272, 0.1538]) tensor(1.8938)\n",
      "[180,   199] loss:  tensor([0.4725, 0.6343, 0.6283, 0.1561]) tensor(1.8912)\n",
      "[200,   219] loss:  tensor([0.4717, 0.6361, 0.6252, 0.1573]) tensor(1.8904)\n",
      "[220,   239] loss:  tensor([0.4610, 0.6347, 0.6287, 0.1558]) tensor(1.8803)\n",
      "[240,   259] loss:  tensor([0.4669, 0.6396, 0.6259, 0.1570]) tensor(1.8894)\n",
      "[260,   279] loss:  tensor([0.4784, 0.6344, 0.6285, 0.1576]) tensor(1.8990)\n",
      "[280,   299] loss:  tensor([0.4736, 0.6376, 0.6251, 0.1521]) tensor(1.8884)\n",
      "[300,   319] loss:  tensor([0.4646, 0.6341, 0.6256, 0.1555]) tensor(1.8798)\n",
      "[320,   339] loss:  tensor([0.4741, 0.6382, 0.6246, 0.1575]) tensor(1.8944)\n",
      "[340,   359] loss:  tensor([0.4726, 0.6382, 0.6245, 0.1558]) tensor(1.8911)\n",
      "[360,   379] loss:  tensor([0.4610, 0.6371, 0.6269, 0.1531]) tensor(1.8780)\n",
      "[380,   399] loss:  tensor([0.4716, 0.6370, 0.6262, 0.1582]) tensor(1.8931)\n",
      "[400,   419] loss:  tensor([0.4646, 0.6346, 0.6281, 0.1565]) tensor(1.8838)\n",
      "[420,   439] loss:  tensor([0.4595, 0.6343, 0.6296, 0.1553]) tensor(1.8787)\n",
      "[440,   459] loss:  tensor([0.4710, 0.6386, 0.6236, 0.1549]) tensor(1.8882)\n",
      "[460,   479] loss:  tensor([0.4744, 0.6376, 0.6252, 0.1559]) tensor(1.8930)\n",
      "[480,   499] loss:  tensor([0.4684, 0.6315, 0.6300, 0.1562]) tensor(1.8862)\n",
      "[500,   519] loss:  tensor([0.4711, 0.6355, 0.6265, 0.1557]) tensor(1.8889)\n",
      "[520,   539] loss:  tensor([0.4777, 0.6347, 0.6289, 0.1562]) tensor(1.8975)\n",
      "[540,   559] loss:  tensor([0.4708, 0.6360, 0.6280, 0.1545]) tensor(1.8892)\n",
      "[560,   579] loss:  tensor([0.4615, 0.6354, 0.6303, 0.1551]) tensor(1.8823)\n",
      "[580,   599] loss:  tensor([0.4665, 0.6342, 0.6296, 0.1565]) tensor(1.8868)\n",
      "[600,   619] loss:  tensor([0.4610, 0.6359, 0.6263, 0.1558]) tensor(1.8791)\n",
      "[620,   639] loss:  tensor([0.4733, 0.6233, 0.6385, 0.1532]) tensor(1.8883)\n",
      "[640,   659] loss:  tensor([0.4627, 0.6350, 0.6288, 0.1549]) tensor(1.8815)\n",
      "[660,   679] loss:  tensor([0.4616, 0.6397, 0.6258, 0.1559]) tensor(1.8831)\n",
      "[680,   699] loss:  tensor([0.4659, 0.6355, 0.6259, 0.1550]) tensor(1.8823)\n",
      "[700,   719] loss:  tensor([0.4713, 0.6407, 0.6219, 0.1570]) tensor(1.8909)\n",
      "[720,   739] loss:  tensor([0.4637, 0.6351, 0.6261, 0.1558]) tensor(1.8807)\n",
      "[740,   759] loss:  tensor([0.4600, 0.6340, 0.6294, 0.1536]) tensor(1.8770)\n",
      "[760,   779] loss:  tensor([0.4688, 0.6405, 0.6229, 0.1561]) tensor(1.8883)\n",
      "[780,   799] loss:  tensor([0.4720, 0.6341, 0.6314, 0.1570]) tensor(1.8945)\n",
      "[800,   819] loss:  tensor([0.4717, 0.6439, 0.6225, 0.1532]) tensor(1.8913)\n",
      "[820,   839] loss:  tensor([0.4663, 0.6331, 0.6289, 0.1570]) tensor(1.8853)\n",
      "[840,   859] loss:  tensor([0.4633, 0.6398, 0.6228, 0.1547]) tensor(1.8806)\n",
      "[860,   879] loss:  tensor([0.4632, 0.6346, 0.6265, 0.1543]) tensor(1.8787)\n",
      "[880,   899] loss:  tensor([0.4712, 0.6400, 0.6236, 0.1555]) tensor(1.8903)\n",
      "[900,   919] loss:  tensor([0.4654, 0.6381, 0.6239, 0.1580]) tensor(1.8854)\n",
      "[920,   939] loss:  tensor([0.4688, 0.6335, 0.6307, 0.1563]) tensor(1.8893)\n",
      "[940,   959] loss:  tensor([0.4711, 0.6355, 0.6280, 0.1572]) tensor(1.8919)\n",
      "[960,   979] loss:  tensor([0.4686, 0.6323, 0.6287, 0.1557]) tensor(1.8853)\n",
      "[980,   999] loss:  tensor([0.4632, 0.6338, 0.6274, 0.1556]) tensor(1.8799)\n",
      "[1000,  1019] loss:  tensor([0.4682, 0.6428, 0.6222, 0.1559]) tensor(1.8891)\n",
      "[1020,  1039] loss:  tensor([0.4581, 0.6322, 0.6321, 0.1565]) tensor(1.8788)\n",
      "[1040,  1059] loss:  tensor([0.4594, 0.6316, 0.6316, 0.1568]) tensor(1.8794)\n",
      "[1060,  1079] loss:  tensor([0.4604, 0.6308, 0.6319, 0.1568]) tensor(1.8799)\n",
      "[1080,  1099] loss:  tensor([0.4667, 0.6314, 0.6331, 0.1549]) tensor(1.8861)\n",
      "[1100,  1119] loss:  tensor([0.4657, 0.6358, 0.6285, 0.1564]) tensor(1.8865)\n",
      "[1120,  1139] loss:  tensor([0.4691, 0.6318, 0.6323, 0.1561]) tensor(1.8894)\n",
      "[1140,  1159] loss:  tensor([0.4691, 0.6329, 0.6311, 0.1550]) tensor(1.8881)\n",
      "[1160,  1179] loss:  tensor([0.4697, 0.6374, 0.6242, 0.1558]) tensor(1.8872)\n",
      "[1180,  1199] loss:  tensor([0.4618, 0.6336, 0.6266, 0.1539]) tensor(1.8759)\n",
      "[1200,  1219] loss:  tensor([0.4684, 0.6372, 0.6263, 0.1569]) tensor(1.8888)\n",
      "[1220,  1239] loss:  tensor([0.4636, 0.6363, 0.6263, 0.1562]) tensor(1.8825)\n",
      "[1240,  1259] loss:  tensor([0.4706, 0.6368, 0.6266, 0.1564]) tensor(1.8904)\n",
      "[1260,  1279] loss:  tensor([0.4620, 0.6263, 0.6337, 0.1583]) tensor(1.8803)\n",
      "[1280,  1299] loss:  tensor([0.4655, 0.6362, 0.6258, 0.1527]) tensor(1.8802)\n",
      "[1300,  1319] loss:  tensor([0.4714, 0.6283, 0.6331, 0.1584]) tensor(1.8912)\n",
      "[1320,  1339] loss:  tensor([0.4697, 0.6337, 0.6300, 0.1545]) tensor(1.8879)\n",
      "[1340,  1359] loss:  tensor([0.4678, 0.6356, 0.6280, 0.1549]) tensor(1.8863)\n",
      "[1360,  1379] loss:  tensor([0.4592, 0.6337, 0.6313, 0.1552]) tensor(1.8794)\n",
      "[1380,  1399] loss:  tensor([0.4608, 0.6366, 0.6256, 0.1549]) tensor(1.8779)\n",
      "[1400,  1419] loss:  tensor([0.4751, 0.6361, 0.6262, 0.1559]) tensor(1.8933)\n",
      "[1420,  1439] loss:  tensor([0.4751, 0.6410, 0.6251, 0.1566]) tensor(1.8979)\n",
      "[1440,  1459] loss:  tensor([0.4619, 0.6349, 0.6302, 0.1564]) tensor(1.8833)\n",
      "[1460,  1479] loss:  tensor([0.4648, 0.6308, 0.6308, 0.1554]) tensor(1.8817)\n",
      "[1480,  1499] loss:  tensor([0.4590, 0.6333, 0.6307, 0.1567]) tensor(1.8797)\n",
      "[1500,  1519] loss:  tensor([0.4693, 0.6370, 0.6252, 0.1574]) tensor(1.8890)\n",
      "[1520,  1539] loss:  tensor([0.4694, 0.6339, 0.6266, 0.1560]) tensor(1.8859)\n",
      "[1540,  1559] loss:  tensor([0.4639, 0.6318, 0.6299, 0.1546]) tensor(1.8803)\n",
      "validation\n"
     ]
    },
    {
     "data": {
      "application/vnd.jupyter.widget-view+json": {
       "model_id": "9da1a43afb56499fa94b24a05baf8cad",
       "version_major": 2,
       "version_minor": 0
      },
      "text/plain": [
       "  0%|          | 0/125 [00:00<?, ?it/s]"
      ]
     },
     "metadata": {},
     "output_type": "display_data"
    },
    {
     "name": "stdout",
     "output_type": "stream",
     "text": [
      "validation loss for epoch 17: tensor([0.4651, 0.6323, 0.6299, 0.1576]) 1.8848469848174016\n"
     ]
    },
    {
     "data": {
      "application/vnd.jupyter.widget-view+json": {
       "model_id": "baaf3c5d4ff14db29bafe997cf2b7fdc",
       "version_major": 2,
       "version_minor": 0
      },
      "text/plain": [
       "  0%|          | 0/1544 [00:00<?, ?it/s]"
      ]
     },
     "metadata": {},
     "output_type": "display_data"
    },
    {
     "name": "stdout",
     "output_type": "stream",
     "text": [
      "[20,    39] loss:  tensor([0.4682, 0.6331, 0.6289, 0.1549]) tensor(1.8851)\n",
      "[40,    59] loss:  tensor([0.4691, 0.6335, 0.6274, 0.1535]) tensor(1.8834)\n",
      "[60,    79] loss:  tensor([0.4695, 0.6376, 0.6258, 0.1570]) tensor(1.8898)\n",
      "[80,    99] loss:  tensor([0.4641, 0.6321, 0.6289, 0.1565]) tensor(1.8815)\n",
      "[100,   119] loss:  tensor([0.4685, 0.6389, 0.6256, 0.1562]) tensor(1.8892)\n",
      "[120,   139] loss:  tensor([0.4639, 0.6372, 0.6278, 0.1558]) tensor(1.8847)\n",
      "[140,   159] loss:  tensor([0.4685, 0.6381, 0.6252, 0.1566]) tensor(1.8885)\n",
      "[160,   179] loss:  tensor([0.4640, 0.6387, 0.6249, 0.1536]) tensor(1.8812)\n",
      "[180,   199] loss:  tensor([0.4578, 0.6335, 0.6307, 0.1564]) tensor(1.8783)\n",
      "[200,   219] loss:  tensor([0.4657, 0.6386, 0.6252, 0.1553]) tensor(1.8849)\n",
      "[220,   239] loss:  tensor([0.4658, 0.6373, 0.6259, 0.1539]) tensor(1.8829)\n",
      "[240,   259] loss:  tensor([0.4715, 0.6406, 0.6231, 0.1551]) tensor(1.8903)\n",
      "[260,   279] loss:  tensor([0.4628, 0.6353, 0.6271, 0.1559]) tensor(1.8812)\n",
      "[280,   299] loss:  tensor([0.4576, 0.6348, 0.6288, 0.1544]) tensor(1.8757)\n",
      "[300,   319] loss:  tensor([0.4739, 0.6368, 0.6295, 0.1561]) tensor(1.8962)\n",
      "[320,   339] loss:  tensor([0.4742, 0.6343, 0.6312, 0.1559]) tensor(1.8956)\n",
      "[340,   359] loss:  tensor([0.4665, 0.6350, 0.6282, 0.1547]) tensor(1.8843)\n",
      "[360,   379] loss:  tensor([0.4660, 0.6387, 0.6260, 0.1544]) tensor(1.8851)\n",
      "[380,   399] loss:  tensor([0.4682, 0.6327, 0.6296, 0.1554]) tensor(1.8859)\n",
      "[400,   419] loss:  tensor([0.4698, 0.6356, 0.6293, 0.1568]) tensor(1.8915)\n",
      "[420,   439] loss:  tensor([0.4640, 0.6400, 0.6266, 0.1586]) tensor(1.8892)\n",
      "[440,   459] loss:  tensor([0.4730, 0.6385, 0.6217, 0.1559]) tensor(1.8892)\n",
      "[460,   479] loss:  tensor([0.4700, 0.6308, 0.6322, 0.1567]) tensor(1.8897)\n",
      "[480,   499] loss:  tensor([0.4607, 0.6342, 0.6274, 0.1548]) tensor(1.8772)\n",
      "[500,   519] loss:  tensor([0.4634, 0.6341, 0.6290, 0.1572]) tensor(1.8836)\n",
      "[520,   539] loss:  tensor([0.4718, 0.6407, 0.6246, 0.1570]) tensor(1.8941)\n",
      "[540,   559] loss:  tensor([0.4758, 0.6373, 0.6277, 0.1536]) tensor(1.8944)\n",
      "[560,   579] loss:  tensor([0.4607, 0.6340, 0.6249, 0.1569]) tensor(1.8765)\n",
      "[580,   599] loss:  tensor([0.4682, 0.6365, 0.6277, 0.1554]) tensor(1.8878)\n",
      "[600,   619] loss:  tensor([0.4762, 0.6396, 0.6226, 0.1553]) tensor(1.8938)\n",
      "[620,   639] loss:  tensor([0.4623, 0.6430, 0.6219, 0.1570]) tensor(1.8843)\n",
      "[640,   659] loss:  tensor([0.4639, 0.6301, 0.6336, 0.1544]) tensor(1.8820)\n",
      "[660,   679] loss:  tensor([0.4637, 0.6342, 0.6306, 0.1556]) tensor(1.8841)\n",
      "[680,   699] loss:  tensor([0.4652, 0.6349, 0.6286, 0.1556]) tensor(1.8842)\n",
      "[700,   719] loss:  tensor([0.4661, 0.6373, 0.6231, 0.1536]) tensor(1.8801)\n",
      "[720,   739] loss:  tensor([0.4739, 0.6366, 0.6266, 0.1544]) tensor(1.8915)\n",
      "[740,   759] loss:  tensor([0.4682, 0.6392, 0.6263, 0.1583]) tensor(1.8920)\n",
      "[760,   779] loss:  tensor([0.4631, 0.6351, 0.6272, 0.1534]) tensor(1.8788)\n",
      "[780,   799] loss:  tensor([0.4704, 0.6426, 0.6210, 0.1575]) tensor(1.8914)\n",
      "[800,   819] loss:  tensor([0.4706, 0.6385, 0.6248, 0.1569]) tensor(1.8908)\n",
      "[820,   839] loss:  tensor([0.4696, 0.6427, 0.6211, 0.1548]) tensor(1.8882)\n",
      "[840,   859] loss:  tensor([0.4598, 0.6337, 0.6292, 0.1551]) tensor(1.8777)\n",
      "[860,   879] loss:  tensor([0.4709, 0.6397, 0.6225, 0.1573]) tensor(1.8903)\n",
      "[880,   899] loss:  tensor([0.4756, 0.6402, 0.6239, 0.1567]) tensor(1.8965)\n",
      "[900,   919] loss:  tensor([0.4625, 0.6312, 0.6312, 0.1562]) tensor(1.8812)\n",
      "[920,   939] loss:  tensor([0.4699, 0.6398, 0.6243, 0.1541]) tensor(1.8881)\n",
      "[940,   959] loss:  tensor([0.4722, 0.6365, 0.6255, 0.1562]) tensor(1.8904)\n",
      "[960,   979] loss:  tensor([0.4671, 0.6400, 0.6233, 0.1552]) tensor(1.8856)\n",
      "[980,   999] loss:  tensor([0.4608, 0.6371, 0.6255, 0.1556]) tensor(1.8790)\n",
      "[1000,  1019] loss:  tensor([0.4728, 0.6381, 0.6242, 0.1558]) tensor(1.8909)\n",
      "[1020,  1039] loss:  tensor([0.4756, 0.6346, 0.6283, 0.1570]) tensor(1.8956)\n",
      "[1040,  1059] loss:  tensor([0.4653, 0.6340, 0.6261, 0.1566]) tensor(1.8820)\n",
      "[1060,  1079] loss:  tensor([0.4628, 0.6376, 0.6274, 0.1587]) tensor(1.8865)\n",
      "[1080,  1099] loss:  tensor([0.4734, 0.6382, 0.6253, 0.1542]) tensor(1.8912)\n",
      "[1100,  1119] loss:  tensor([0.4710, 0.6392, 0.6264, 0.1535]) tensor(1.8899)\n",
      "[1120,  1139] loss:  tensor([0.4571, 0.6362, 0.6278, 0.1555]) tensor(1.8766)\n",
      "[1140,  1159] loss:  tensor([0.4678, 0.6369, 0.6255, 0.1553]) tensor(1.8855)\n",
      "[1160,  1179] loss:  tensor([0.4658, 0.6329, 0.6303, 0.1531]) tensor(1.8821)\n",
      "[1180,  1199] loss:  tensor([0.4648, 0.6378, 0.6279, 0.1537]) tensor(1.8842)\n",
      "[1200,  1219] loss:  tensor([0.4609, 0.6321, 0.6301, 0.1577]) tensor(1.8808)\n",
      "[1220,  1239] loss:  tensor([0.4676, 0.6404, 0.6224, 0.1538]) tensor(1.8842)\n",
      "[1240,  1259] loss:  tensor([0.4759, 0.6356, 0.6261, 0.1540]) tensor(1.8917)\n",
      "[1260,  1279] loss:  tensor([0.4622, 0.6305, 0.6279, 0.1556]) tensor(1.8762)\n",
      "[1280,  1299] loss:  tensor([0.4650, 0.6405, 0.6239, 0.1563]) tensor(1.8856)\n",
      "[1300,  1319] loss:  tensor([0.4679, 0.6321, 0.6313, 0.1567]) tensor(1.8880)\n",
      "[1320,  1339] loss:  tensor([0.4674, 0.6406, 0.6255, 0.1542]) tensor(1.8877)\n",
      "[1340,  1359] loss:  tensor([0.4584, 0.6387, 0.6244, 0.1551]) tensor(1.8767)\n",
      "[1360,  1379] loss:  tensor([0.4645, 0.6351, 0.6285, 0.1566]) tensor(1.8847)\n",
      "[1380,  1399] loss:  tensor([0.4614, 0.6323, 0.6301, 0.1531]) tensor(1.8769)\n",
      "[1400,  1419] loss:  tensor([0.4632, 0.6333, 0.6290, 0.1551]) tensor(1.8807)\n",
      "[1420,  1439] loss:  tensor([0.4644, 0.6352, 0.6280, 0.1561]) tensor(1.8837)\n",
      "[1440,  1459] loss:  tensor([0.4662, 0.6351, 0.6286, 0.1549]) tensor(1.8848)\n",
      "[1460,  1479] loss:  tensor([0.4617, 0.6348, 0.6267, 0.1547]) tensor(1.8779)\n",
      "[1480,  1499] loss:  tensor([0.4686, 0.6433, 0.6198, 0.1567]) tensor(1.8885)\n",
      "[1500,  1519] loss:  tensor([0.4669, 0.6315, 0.6320, 0.1562]) tensor(1.8867)\n",
      "[1520,  1539] loss:  tensor([0.4661, 0.6361, 0.6270, 0.1551]) tensor(1.8843)\n",
      "[1540,  1559] loss:  tensor([0.4640, 0.6276, 0.6337, 0.1553]) tensor(1.8806)\n",
      "validation\n"
     ]
    },
    {
     "data": {
      "application/vnd.jupyter.widget-view+json": {
       "model_id": "d44b167eb9614ef88e95a3d49ea36a8e",
       "version_major": 2,
       "version_minor": 0
      },
      "text/plain": [
       "  0%|          | 0/125 [00:00<?, ?it/s]"
      ]
     },
     "metadata": {},
     "output_type": "display_data"
    },
    {
     "name": "stdout",
     "output_type": "stream",
     "text": [
      "validation loss for epoch 18: tensor([0.4725, 0.6319, 0.6319, 0.1566]) 1.8929737906383113\n"
     ]
    },
    {
     "data": {
      "application/vnd.jupyter.widget-view+json": {
       "model_id": "a6b78fd083bd4ac8b6739cda5b0c862c",
       "version_major": 2,
       "version_minor": 0
      },
      "text/plain": [
       "  0%|          | 0/1544 [00:00<?, ?it/s]"
      ]
     },
     "metadata": {},
     "output_type": "display_data"
    },
    {
     "name": "stdout",
     "output_type": "stream",
     "text": [
      "[20,    39] loss:  tensor([0.4564, 0.6376, 0.6283, 0.1541]) tensor(1.8764)\n",
      "[40,    59] loss:  tensor([0.4712, 0.6310, 0.6308, 0.1567]) tensor(1.8897)\n",
      "[60,    79] loss:  tensor([0.4731, 0.6331, 0.6271, 0.1556]) tensor(1.8889)\n",
      "[80,    99] loss:  tensor([0.4597, 0.6355, 0.6276, 0.1555]) tensor(1.8784)\n",
      "[100,   119] loss:  tensor([0.4600, 0.6368, 0.6259, 0.1534]) tensor(1.8761)\n",
      "[120,   139] loss:  tensor([0.4616, 0.6397, 0.6231, 0.1550]) tensor(1.8795)\n",
      "[140,   159] loss:  tensor([0.4708, 0.6353, 0.6292, 0.1559]) tensor(1.8912)\n",
      "[160,   179] loss:  tensor([0.4691, 0.6342, 0.6281, 0.1559]) tensor(1.8873)\n",
      "[180,   199] loss:  tensor([0.4611, 0.6335, 0.6308, 0.1558]) tensor(1.8811)\n",
      "[200,   219] loss:  tensor([0.4660, 0.6359, 0.6280, 0.1562]) tensor(1.8861)\n",
      "[220,   239] loss:  tensor([0.4726, 0.6399, 0.6251, 0.1546]) tensor(1.8923)\n",
      "[240,   259] loss:  tensor([0.4783, 0.6373, 0.6254, 0.1561]) tensor(1.8971)\n",
      "[260,   279] loss:  tensor([0.4666, 0.6338, 0.6264, 0.1556]) tensor(1.8824)\n",
      "[280,   299] loss:  tensor([0.4676, 0.6378, 0.6227, 0.1593]) tensor(1.8874)\n",
      "[300,   319] loss:  tensor([0.4564, 0.6345, 0.6281, 0.1564]) tensor(1.8754)\n",
      "[320,   339] loss:  tensor([0.4647, 0.6350, 0.6291, 0.1567]) tensor(1.8855)\n",
      "[340,   359] loss:  tensor([0.4674, 0.6349, 0.6289, 0.1561]) tensor(1.8874)\n",
      "[360,   379] loss:  tensor([0.4633, 0.6349, 0.6256, 0.1570]) tensor(1.8808)\n",
      "[380,   399] loss:  tensor([0.4620, 0.6319, 0.6271, 0.1593]) tensor(1.8803)\n",
      "[400,   419] loss:  tensor([0.4579, 0.6359, 0.6272, 0.1541]) tensor(1.8751)\n",
      "[420,   439] loss:  tensor([0.4689, 0.6394, 0.6262, 0.1561]) tensor(1.8905)\n",
      "[440,   459] loss:  tensor([0.4707, 0.6329, 0.6293, 0.1550]) tensor(1.8878)\n",
      "[460,   479] loss:  tensor([0.4726, 0.6348, 0.6284, 0.1555]) tensor(1.8913)\n",
      "[480,   499] loss:  tensor([0.4658, 0.6346, 0.6286, 0.1535]) tensor(1.8826)\n",
      "[500,   519] loss:  tensor([0.4676, 0.6359, 0.6263, 0.1533]) tensor(1.8832)\n",
      "[520,   539] loss:  tensor([0.4700, 0.6314, 0.6305, 0.1585]) tensor(1.8904)\n",
      "[540,   559] loss:  tensor([0.4639, 0.6380, 0.6258, 0.1559]) tensor(1.8836)\n",
      "[560,   579] loss:  tensor([0.4623, 0.6343, 0.6275, 0.1563]) tensor(1.8803)\n",
      "[580,   599] loss:  tensor([0.4660, 0.6302, 0.6303, 0.1546]) tensor(1.8811)\n",
      "[600,   619] loss:  tensor([0.4704, 0.6351, 0.6301, 0.1540]) tensor(1.8896)\n",
      "[620,   639] loss:  tensor([0.4613, 0.6371, 0.6277, 0.1576]) tensor(1.8836)\n",
      "[640,   659] loss:  tensor([0.4538, 0.6346, 0.6250, 0.1541]) tensor(1.8675)\n",
      "[660,   679] loss:  tensor([0.4609, 0.6380, 0.6218, 0.1559]) tensor(1.8765)\n",
      "[680,   699] loss:  tensor([0.4680, 0.6356, 0.6306, 0.1537]) tensor(1.8879)\n",
      "[700,   719] loss:  tensor([0.4609, 0.6392, 0.6280, 0.1574]) tensor(1.8855)\n",
      "[720,   739] loss:  tensor([0.4685, 0.6391, 0.6212, 0.1581]) tensor(1.8869)\n",
      "[740,   759] loss:  tensor([0.4720, 0.6360, 0.6268, 0.1560]) tensor(1.8909)\n",
      "[760,   779] loss:  tensor([0.4658, 0.6326, 0.6290, 0.1577]) tensor(1.8851)\n",
      "[780,   799] loss:  tensor([0.4699, 0.6349, 0.6302, 0.1575]) tensor(1.8925)\n",
      "[800,   819] loss:  tensor([0.4643, 0.6366, 0.6294, 0.1559]) tensor(1.8862)\n",
      "[820,   839] loss:  tensor([0.4660, 0.6360, 0.6277, 0.1553]) tensor(1.8849)\n",
      "[840,   859] loss:  tensor([0.4577, 0.6374, 0.6300, 0.1552]) tensor(1.8804)\n",
      "[860,   879] loss:  tensor([0.4680, 0.6350, 0.6278, 0.1564]) tensor(1.8872)\n",
      "[880,   899] loss:  tensor([0.4628, 0.6384, 0.6202, 0.1566]) tensor(1.8780)\n",
      "[900,   919] loss:  tensor([0.4611, 0.6334, 0.6279, 0.1559]) tensor(1.8783)\n",
      "[920,   939] loss:  tensor([0.4643, 0.6338, 0.6256, 0.1565]) tensor(1.8802)\n",
      "[940,   959] loss:  tensor([0.4686, 0.6321, 0.6308, 0.1554]) tensor(1.8869)\n",
      "[960,   979] loss:  tensor([0.4674, 0.6369, 0.6285, 0.1540]) tensor(1.8868)\n",
      "[980,   999] loss:  tensor([0.4698, 0.6359, 0.6280, 0.1550]) tensor(1.8888)\n",
      "[1000,  1019] loss:  tensor([0.4654, 0.6348, 0.6247, 0.1547]) tensor(1.8797)\n",
      "[1020,  1039] loss:  tensor([0.4681, 0.6346, 0.6289, 0.1541]) tensor(1.8857)\n",
      "[1040,  1059] loss:  tensor([0.4621, 0.6410, 0.6237, 0.1543]) tensor(1.8812)\n",
      "[1060,  1079] loss:  tensor([0.4653, 0.6426, 0.6246, 0.1553]) tensor(1.8879)\n",
      "[1080,  1099] loss:  tensor([0.4634, 0.6335, 0.6302, 0.1531]) tensor(1.8802)\n",
      "[1100,  1119] loss:  tensor([0.4645, 0.6317, 0.6286, 0.1548]) tensor(1.8796)\n",
      "[1120,  1139] loss:  tensor([0.4667, 0.6402, 0.6252, 0.1577]) tensor(1.8899)\n",
      "[1140,  1159] loss:  tensor([0.4629, 0.6333, 0.6288, 0.1562]) tensor(1.8811)\n",
      "[1160,  1179] loss:  tensor([0.4758, 0.6359, 0.6298, 0.1575]) tensor(1.8991)\n",
      "[1180,  1199] loss:  tensor([0.4650, 0.6347, 0.6287, 0.1521]) tensor(1.8806)\n",
      "[1200,  1219] loss:  tensor([0.4659, 0.6315, 0.6301, 0.1529]) tensor(1.8804)\n",
      "[1220,  1239] loss:  tensor([0.4722, 0.6309, 0.6284, 0.1566]) tensor(1.8881)\n",
      "[1240,  1259] loss:  tensor([0.4694, 0.6375, 0.6250, 0.1549]) tensor(1.8868)\n",
      "[1260,  1279] loss:  tensor([0.4739, 0.6335, 0.6284, 0.1561]) tensor(1.8919)\n",
      "[1280,  1299] loss:  tensor([0.4682, 0.6327, 0.6259, 0.1566]) tensor(1.8833)\n",
      "[1300,  1319] loss:  tensor([0.4619, 0.6327, 0.6285, 0.1548]) tensor(1.8779)\n",
      "[1320,  1339] loss:  tensor([0.4671, 0.6332, 0.6278, 0.1555]) tensor(1.8838)\n",
      "[1340,  1359] loss:  tensor([0.4633, 0.6394, 0.6253, 0.1533]) tensor(1.8812)\n",
      "[1360,  1379] loss:  tensor([0.4662, 0.6353, 0.6295, 0.1528]) tensor(1.8838)\n",
      "[1380,  1399] loss:  tensor([0.4599, 0.6389, 0.6253, 0.1576]) tensor(1.8818)\n",
      "[1400,  1419] loss:  tensor([0.4599, 0.6348, 0.6288, 0.1518]) tensor(1.8753)\n",
      "[1420,  1439] loss:  tensor([0.4595, 0.6373, 0.6270, 0.1551]) tensor(1.8789)\n",
      "[1440,  1459] loss:  tensor([0.4548, 0.6335, 0.6279, 0.1553]) tensor(1.8716)\n",
      "[1460,  1479] loss:  tensor([0.4751, 0.6363, 0.6250, 0.1597]) tensor(1.8960)\n",
      "[1480,  1499] loss:  tensor([0.4655, 0.6363, 0.6290, 0.1637]) tensor(1.8945)\n",
      "[1500,  1519] loss:  tensor([0.4644, 0.6335, 0.6303, 0.1579]) tensor(1.8862)\n",
      "[1520,  1539] loss:  tensor([0.4663, 0.6386, 0.6240, 0.1547]) tensor(1.8835)\n",
      "[1540,  1559] loss:  tensor([0.4631, 0.6364, 0.6278, 0.1539]) tensor(1.8813)\n",
      "validation\n"
     ]
    },
    {
     "data": {
      "application/vnd.jupyter.widget-view+json": {
       "model_id": "2c887430b3864433a7b1bc377ab41504",
       "version_major": 2,
       "version_minor": 0
      },
      "text/plain": [
       "  0%|          | 0/125 [00:00<?, ?it/s]"
      ]
     },
     "metadata": {},
     "output_type": "display_data"
    },
    {
     "name": "stdout",
     "output_type": "stream",
     "text": [
      "validation loss for epoch 19: tensor([0.5003, 0.6387, 0.6266, 0.1561]) 1.9216352026434478\n"
     ]
    },
    {
     "data": {
      "application/vnd.jupyter.widget-view+json": {
       "model_id": "0c0a373127a94aff8fee5438a899da40",
       "version_major": 2,
       "version_minor": 0
      },
      "text/plain": [
       "  0%|          | 0/1544 [00:00<?, ?it/s]"
      ]
     },
     "metadata": {},
     "output_type": "display_data"
    },
    {
     "name": "stdout",
     "output_type": "stream",
     "text": [
      "[20,    39] loss:  tensor([0.4787, 0.6327, 0.6295, 0.1514]) tensor(1.8923)\n",
      "[40,    59] loss:  tensor([0.4698, 0.6404, 0.6205, 0.1557]) tensor(1.8865)\n",
      "[60,    79] loss:  tensor([0.4752, 0.6364, 0.6277, 0.1576]) tensor(1.8968)\n",
      "[80,    99] loss:  tensor([0.4597, 0.6363, 0.6259, 0.1547]) tensor(1.8765)\n",
      "[100,   119] loss:  tensor([0.4603, 0.6321, 0.6365, 0.1574]) tensor(1.8862)\n",
      "[120,   139] loss:  tensor([0.4633, 0.6383, 0.6261, 0.1546]) tensor(1.8823)\n",
      "[140,   159] loss:  tensor([0.4735, 0.6371, 0.6252, 0.1568]) tensor(1.8925)\n",
      "[160,   179] loss:  tensor([0.4673, 0.6375, 0.6265, 0.1556]) tensor(1.8869)\n",
      "[180,   199] loss:  tensor([0.4608, 0.6355, 0.6255, 0.1548]) tensor(1.8766)\n",
      "[200,   219] loss:  tensor([0.4637, 0.6371, 0.6263, 0.1554]) tensor(1.8824)\n",
      "[220,   239] loss:  tensor([0.4590, 0.6310, 0.6319, 0.1562]) tensor(1.8781)\n",
      "[240,   259] loss:  tensor([0.4678, 0.6379, 0.6271, 0.1568]) tensor(1.8897)\n",
      "[260,   279] loss:  tensor([0.4612, 0.6365, 0.6250, 0.1547]) tensor(1.8774)\n",
      "[280,   299] loss:  tensor([0.4568, 0.6352, 0.6260, 0.1557]) tensor(1.8737)\n",
      "[300,   319] loss:  tensor([0.4617, 0.6301, 0.6287, 0.1542]) tensor(1.8746)\n",
      "[320,   339] loss:  tensor([0.4615, 0.6360, 0.6273, 0.1554]) tensor(1.8802)\n",
      "[340,   359] loss:  tensor([0.4667, 0.6352, 0.6277, 0.1564]) tensor(1.8859)\n",
      "[360,   379] loss:  tensor([0.4690, 0.6352, 0.6259, 0.1564]) tensor(1.8866)\n",
      "[380,   399] loss:  tensor([0.4618, 0.6340, 0.6285, 0.1563]) tensor(1.8805)\n",
      "[400,   419] loss:  tensor([0.4714, 0.6312, 0.6330, 0.1530]) tensor(1.8886)\n",
      "[420,   439] loss:  tensor([0.4641, 0.6345, 0.6276, 0.1569]) tensor(1.8830)\n",
      "[440,   459] loss:  tensor([0.4603, 0.6355, 0.6268, 0.1553]) tensor(1.8780)\n",
      "[460,   479] loss:  tensor([0.4652, 0.6327, 0.6338, 0.1548]) tensor(1.8864)\n",
      "[480,   499] loss:  tensor([0.4645, 0.6334, 0.6255, 0.1551]) tensor(1.8785)\n",
      "[500,   519] loss:  tensor([0.4649, 0.6352, 0.6268, 0.1553]) tensor(1.8822)\n",
      "[520,   539] loss:  tensor([0.4702, 0.6408, 0.6232, 0.1550]) tensor(1.8892)\n",
      "[540,   559] loss:  tensor([0.4611, 0.6323, 0.6297, 0.1534]) tensor(1.8765)\n",
      "[560,   579] loss:  tensor([0.4682, 0.6355, 0.6286, 0.1551]) tensor(1.8874)\n",
      "[580,   599] loss:  tensor([0.4624, 0.6345, 0.6253, 0.1526]) tensor(1.8748)\n",
      "[600,   619] loss:  tensor([0.4657, 0.6351, 0.6251, 0.1552]) tensor(1.8812)\n",
      "[620,   639] loss:  tensor([0.4628, 0.6350, 0.6291, 0.1537]) tensor(1.8806)\n",
      "[640,   659] loss:  tensor([0.4776, 0.6345, 0.6281, 0.1582]) tensor(1.8984)\n",
      "[660,   679] loss:  tensor([0.4670, 0.6388, 0.6252, 0.1590]) tensor(1.8900)\n",
      "[680,   699] loss:  tensor([0.4663, 0.6320, 0.6291, 0.1591]) tensor(1.8864)\n",
      "[700,   719] loss:  tensor([0.4629, 0.6353, 0.6272, 0.1567]) tensor(1.8821)\n",
      "[720,   739] loss:  tensor([0.4693, 0.6364, 0.6259, 0.1573]) tensor(1.8890)\n",
      "[740,   759] loss:  tensor([0.4679, 0.6261, 0.6345, 0.1525]) tensor(1.8809)\n",
      "[760,   779] loss:  tensor([0.4550, 0.6356, 0.6271, 0.1541]) tensor(1.8718)\n",
      "[780,   799] loss:  tensor([0.4570, 0.6363, 0.6280, 0.1567]) tensor(1.8779)\n",
      "[800,   819] loss:  tensor([0.4679, 0.6335, 0.6299, 0.1549]) tensor(1.8861)\n",
      "[820,   839] loss:  tensor([0.4687, 0.6367, 0.6224, 0.1544]) tensor(1.8822)\n",
      "[840,   859] loss:  tensor([0.4653, 0.6341, 0.6268, 0.1560]) tensor(1.8822)\n",
      "[860,   879] loss:  tensor([0.4672, 0.6279, 0.6367, 0.1537]) tensor(1.8856)\n",
      "[880,   899] loss:  tensor([0.4639, 0.6368, 0.6290, 0.1543]) tensor(1.8840)\n",
      "[900,   919] loss:  tensor([0.4608, 0.6357, 0.6291, 0.1560]) tensor(1.8816)\n",
      "[920,   939] loss:  tensor([0.4589, 0.6376, 0.6236, 0.1554]) tensor(1.8755)\n",
      "[940,   959] loss:  tensor([0.4699, 0.6390, 0.6257, 0.1543]) tensor(1.8888)\n",
      "[960,   979] loss:  tensor([0.4647, 0.6311, 0.6311, 0.1560]) tensor(1.8829)\n",
      "[980,   999] loss:  tensor([0.4663, 0.6309, 0.6320, 0.1571]) tensor(1.8862)\n",
      "[1000,  1019] loss:  tensor([0.4720, 0.6315, 0.6296, 0.1555]) tensor(1.8885)\n",
      "[1020,  1039] loss:  tensor([0.4578, 0.6304, 0.6316, 0.1547]) tensor(1.8745)\n",
      "[1040,  1059] loss:  tensor([0.4569, 0.6324, 0.6320, 0.1557]) tensor(1.8771)\n",
      "[1060,  1079] loss:  tensor([0.4576, 0.6370, 0.6254, 0.1523]) tensor(1.8724)\n",
      "[1080,  1099] loss:  tensor([0.4729, 0.6384, 0.6228, 0.1576]) tensor(1.8916)\n",
      "[1100,  1119] loss:  tensor([0.4645, 0.6392, 0.6238, 0.1555]) tensor(1.8830)\n",
      "[1120,  1139] loss:  tensor([0.4622, 0.6336, 0.6304, 0.1582]) tensor(1.8844)\n",
      "[1140,  1159] loss:  tensor([0.4649, 0.6380, 0.6255, 0.1580]) tensor(1.8865)\n",
      "[1160,  1179] loss:  tensor([0.4662, 0.6396, 0.6226, 0.1555]) tensor(1.8839)\n",
      "[1180,  1199] loss:  tensor([0.4644, 0.6399, 0.6230, 0.1576]) tensor(1.8850)\n",
      "[1200,  1219] loss:  tensor([0.4621, 0.6339, 0.6285, 0.1545]) tensor(1.8790)\n",
      "[1220,  1239] loss:  tensor([0.4737, 0.6356, 0.6240, 0.1540]) tensor(1.8874)\n",
      "[1240,  1259] loss:  tensor([0.4573, 0.6394, 0.6269, 0.1553]) tensor(1.8788)\n",
      "[1260,  1279] loss:  tensor([0.4648, 0.6344, 0.6296, 0.1539]) tensor(1.8827)\n",
      "[1280,  1299] loss:  tensor([0.4641, 0.6405, 0.6219, 0.1553]) tensor(1.8817)\n",
      "[1300,  1319] loss:  tensor([0.4641, 0.6355, 0.6281, 0.1542]) tensor(1.8819)\n",
      "[1320,  1339] loss:  tensor([0.4690, 0.6408, 0.6214, 0.1537]) tensor(1.8849)\n",
      "[1340,  1359] loss:  tensor([0.4665, 0.6413, 0.6219, 0.1557]) tensor(1.8854)\n",
      "[1360,  1379] loss:  tensor([0.4624, 0.6357, 0.6245, 0.1539]) tensor(1.8764)\n",
      "[1380,  1399] loss:  tensor([0.4665, 0.6320, 0.6288, 0.1546]) tensor(1.8818)\n",
      "[1400,  1419] loss:  tensor([0.4603, 0.6386, 0.6246, 0.1576]) tensor(1.8812)\n",
      "[1420,  1439] loss:  tensor([0.4673, 0.6398, 0.6247, 0.1573]) tensor(1.8891)\n",
      "[1440,  1459] loss:  tensor([0.4650, 0.6373, 0.6271, 0.1572]) tensor(1.8866)\n",
      "[1460,  1479] loss:  tensor([0.4635, 0.6344, 0.6277, 0.1537]) tensor(1.8794)\n",
      "[1480,  1499] loss:  tensor([0.4693, 0.6404, 0.6207, 0.1550]) tensor(1.8854)\n",
      "[1500,  1519] loss:  tensor([0.4703, 0.6369, 0.6290, 0.1584]) tensor(1.8946)\n",
      "[1520,  1539] loss:  tensor([0.4618, 0.6308, 0.6351, 0.1583]) tensor(1.8861)\n",
      "[1540,  1559] loss:  tensor([0.4665, 0.6399, 0.6231, 0.1563]) tensor(1.8858)\n",
      "validation\n"
     ]
    },
    {
     "data": {
      "application/vnd.jupyter.widget-view+json": {
       "model_id": "7fe94f51301243f987be97671d5603d8",
       "version_major": 2,
       "version_minor": 0
      },
      "text/plain": [
       "  0%|          | 0/125 [00:00<?, ?it/s]"
      ]
     },
     "metadata": {},
     "output_type": "display_data"
    },
    {
     "name": "stdout",
     "output_type": "stream",
     "text": [
      "validation loss for epoch 20: tensor([0.4635, 0.6395, 0.6215, 0.1558]) 1.8802543760570658\n"
     ]
    },
    {
     "data": {
      "application/vnd.jupyter.widget-view+json": {
       "model_id": "b5bdcd69a29647328d1daa1e97dfd756",
       "version_major": 2,
       "version_minor": 0
      },
      "text/plain": [
       "  0%|          | 0/1544 [00:00<?, ?it/s]"
      ]
     },
     "metadata": {},
     "output_type": "display_data"
    },
    {
     "name": "stdout",
     "output_type": "stream",
     "text": [
      "[20,    39] loss:  tensor([0.4571, 0.6331, 0.6281, 0.1536]) tensor(1.8720)\n",
      "[40,    59] loss:  tensor([0.4654, 0.6320, 0.6309, 0.1540]) tensor(1.8822)\n",
      "[60,    79] loss:  tensor([0.4574, 0.6376, 0.6254, 0.1585]) tensor(1.8788)\n",
      "[80,    99] loss:  tensor([0.4612, 0.6412, 0.6197, 0.1558]) tensor(1.8779)\n",
      "[100,   119] loss:  tensor([0.4647, 0.6348, 0.6281, 0.1561]) tensor(1.8837)\n",
      "[120,   139] loss:  tensor([0.4650, 0.6394, 0.6229, 0.1569]) tensor(1.8842)\n",
      "[140,   159] loss:  tensor([0.4786, 0.6364, 0.6276, 0.1545]) tensor(1.8970)\n",
      "[160,   179] loss:  tensor([0.4633, 0.6395, 0.6219, 0.1563]) tensor(1.8811)\n",
      "[180,   199] loss:  tensor([0.4628, 0.6313, 0.6301, 0.1548]) tensor(1.8790)\n",
      "[200,   219] loss:  tensor([0.4583, 0.6384, 0.6246, 0.1577]) tensor(1.8791)\n",
      "[220,   239] loss:  tensor([0.4562, 0.6377, 0.6234, 0.1573]) tensor(1.8747)\n",
      "[240,   259] loss:  tensor([0.4589, 0.6371, 0.6267, 0.1565]) tensor(1.8791)\n",
      "[260,   279] loss:  tensor([0.4590, 0.6392, 0.6249, 0.1549]) tensor(1.8780)\n",
      "[280,   299] loss:  tensor([0.4619, 0.6319, 0.6291, 0.1567]) tensor(1.8796)\n",
      "[300,   319] loss:  tensor([0.4641, 0.6363, 0.6222, 0.1548]) tensor(1.8774)\n",
      "[320,   339] loss:  tensor([0.4629, 0.6302, 0.6316, 0.1564]) tensor(1.8811)\n",
      "[340,   359] loss:  tensor([0.4632, 0.6366, 0.6238, 0.1555]) tensor(1.8791)\n",
      "[360,   379] loss:  tensor([0.4634, 0.6373, 0.6235, 0.1548]) tensor(1.8790)\n",
      "[380,   399] loss:  tensor([0.4651, 0.6317, 0.6277, 0.1542]) tensor(1.8788)\n",
      "[400,   419] loss:  tensor([0.4647, 0.6377, 0.6225, 0.1537]) tensor(1.8786)\n",
      "[420,   439] loss:  tensor([0.4684, 0.6349, 0.6260, 0.1575]) tensor(1.8869)\n",
      "[440,   459] loss:  tensor([0.4592, 0.6327, 0.6311, 0.1550]) tensor(1.8780)\n",
      "[460,   479] loss:  tensor([0.4614, 0.6347, 0.6277, 0.1556]) tensor(1.8794)\n",
      "[480,   499] loss:  tensor([0.4744, 0.6415, 0.6197, 0.1567]) tensor(1.8922)\n",
      "[500,   519] loss:  tensor([0.4656, 0.6321, 0.6282, 0.1559]) tensor(1.8818)\n",
      "[520,   539] loss:  tensor([0.4663, 0.6339, 0.6258, 0.1573]) tensor(1.8833)\n",
      "[540,   559] loss:  tensor([0.4619, 0.6355, 0.6271, 0.1530]) tensor(1.8776)\n",
      "[560,   579] loss:  tensor([0.4679, 0.6345, 0.6265, 0.1576]) tensor(1.8865)\n",
      "[580,   599] loss:  tensor([0.4652, 0.6386, 0.6249, 0.1556]) tensor(1.8843)\n",
      "[600,   619] loss:  tensor([0.4666, 0.6396, 0.6211, 0.1567]) tensor(1.8841)\n",
      "[620,   639] loss:  tensor([0.4649, 0.6371, 0.6279, 0.1553]) tensor(1.8852)\n",
      "[640,   659] loss:  tensor([0.4637, 0.6347, 0.6296, 0.1581]) tensor(1.8861)\n",
      "[660,   679] loss:  tensor([0.4572, 0.6419, 0.6181, 0.1535]) tensor(1.8707)\n",
      "[680,   699] loss:  tensor([0.4614, 0.6365, 0.6202, 0.1534]) tensor(1.8715)\n",
      "[700,   719] loss:  tensor([0.4681, 0.6342, 0.6269, 0.1540]) tensor(1.8831)\n",
      "[720,   739] loss:  tensor([0.4581, 0.6364, 0.6254, 0.1559]) tensor(1.8758)\n",
      "[740,   759] loss:  tensor([0.4632, 0.6353, 0.6287, 0.1570]) tensor(1.8843)\n",
      "[760,   779] loss:  tensor([0.4577, 0.6385, 0.6215, 0.1565]) tensor(1.8742)\n",
      "[780,   799] loss:  tensor([0.4683, 0.6348, 0.6290, 0.1564]) tensor(1.8885)\n",
      "[800,   819] loss:  tensor([0.4585, 0.6390, 0.6230, 0.1573]) tensor(1.8778)\n",
      "[820,   839] loss:  tensor([0.4651, 0.6402, 0.6253, 0.1553]) tensor(1.8860)\n",
      "[840,   859] loss:  tensor([0.4653, 0.6369, 0.6276, 0.1565]) tensor(1.8863)\n",
      "[860,   879] loss:  tensor([0.4608, 0.6372, 0.6267, 0.1562]) tensor(1.8810)\n",
      "[880,   899] loss:  tensor([0.4639, 0.6338, 0.6313, 0.1589]) tensor(1.8878)\n",
      "[900,   919] loss:  tensor([0.4579, 0.6354, 0.6242, 0.1557]) tensor(1.8732)\n",
      "[920,   939] loss:  tensor([0.4541, 0.6433, 0.6257, 0.1518]) tensor(1.8749)\n",
      "[940,   959] loss:  tensor([0.4640, 0.6397, 0.6236, 0.1547]) tensor(1.8820)\n",
      "[960,   979] loss:  tensor([0.4652, 0.6346, 0.6238, 0.1520]) tensor(1.8755)\n",
      "[980,   999] loss:  tensor([0.4678, 0.6390, 0.6262, 0.1552]) tensor(1.8882)\n",
      "[1000,  1019] loss:  tensor([0.4724, 0.6374, 0.6264, 0.1565]) tensor(1.8927)\n",
      "[1020,  1039] loss:  tensor([0.4621, 0.6368, 0.6267, 0.1569]) tensor(1.8825)\n",
      "[1040,  1059] loss:  tensor([0.4755, 0.6363, 0.6234, 0.1560]) tensor(1.8913)\n",
      "[1060,  1079] loss:  tensor([0.4639, 0.6403, 0.6216, 0.1594]) tensor(1.8852)\n",
      "[1080,  1099] loss:  tensor([0.4572, 0.6343, 0.6297, 0.1544]) tensor(1.8756)\n",
      "[1100,  1119] loss:  tensor([0.4612, 0.6330, 0.6294, 0.1541]) tensor(1.8778)\n",
      "[1120,  1139] loss:  tensor([0.4699, 0.6329, 0.6280, 0.1588]) tensor(1.8896)\n",
      "[1140,  1159] loss:  tensor([0.4621, 0.6317, 0.6282, 0.1553]) tensor(1.8773)\n",
      "[1160,  1179] loss:  tensor([0.4567, 0.6292, 0.6311, 0.1539]) tensor(1.8710)\n",
      "[1180,  1199] loss:  tensor([0.4643, 0.6322, 0.6296, 0.1534]) tensor(1.8795)\n",
      "[1200,  1219] loss:  tensor([0.4647, 0.6343, 0.6282, 0.1547]) tensor(1.8820)\n",
      "[1220,  1239] loss:  tensor([0.4694, 0.6380, 0.6245, 0.1588]) tensor(1.8908)\n",
      "[1240,  1259] loss:  tensor([0.4627, 0.6293, 0.6320, 0.1538]) tensor(1.8778)\n",
      "[1260,  1279] loss:  tensor([0.4582, 0.6390, 0.6263, 0.1545]) tensor(1.8780)\n",
      "[1280,  1299] loss:  tensor([0.4681, 0.6346, 0.6281, 0.1566]) tensor(1.8875)\n",
      "[1300,  1319] loss:  tensor([0.4739, 0.6406, 0.6191, 0.1570]) tensor(1.8907)\n",
      "[1320,  1339] loss:  tensor([0.4655, 0.6353, 0.6296, 0.1542]) tensor(1.8846)\n",
      "[1340,  1359] loss:  tensor([0.4657, 0.6350, 0.6256, 0.1554]) tensor(1.8818)\n",
      "[1360,  1379] loss:  tensor([0.4524, 0.6349, 0.6269, 0.1558]) tensor(1.8699)\n",
      "[1380,  1399] loss:  tensor([0.4641, 0.6317, 0.6321, 0.1555]) tensor(1.8835)\n",
      "[1400,  1419] loss:  tensor([0.4645, 0.6320, 0.6306, 0.1539]) tensor(1.8810)\n",
      "[1420,  1439] loss:  tensor([0.4662, 0.6309, 0.6305, 0.1575]) tensor(1.8851)\n",
      "[1440,  1459] loss:  tensor([0.4680, 0.6360, 0.6237, 0.1556]) tensor(1.8833)\n",
      "[1460,  1479] loss:  tensor([0.4624, 0.6367, 0.6263, 0.1548]) tensor(1.8802)\n",
      "[1480,  1499] loss:  tensor([0.4613, 0.6417, 0.6220, 0.1572]) tensor(1.8822)\n",
      "[1500,  1519] loss:  tensor([0.4727, 0.6376, 0.6239, 0.1550]) tensor(1.8892)\n",
      "[1520,  1539] loss:  tensor([0.4643, 0.6357, 0.6261, 0.1546]) tensor(1.8806)\n",
      "[1540,  1559] loss:  tensor([0.4618, 0.6360, 0.6254, 0.1545]) tensor(1.8777)\n",
      "validation\n"
     ]
    },
    {
     "data": {
      "application/vnd.jupyter.widget-view+json": {
       "model_id": "f695e79cfc014f1ebf8860fc88e0086e",
       "version_major": 2,
       "version_minor": 0
      },
      "text/plain": [
       "  0%|          | 0/125 [00:00<?, ?it/s]"
      ]
     },
     "metadata": {},
     "output_type": "display_data"
    },
    {
     "name": "stdout",
     "output_type": "stream",
     "text": [
      "validation loss for epoch 21: tensor([0.4759, 0.6407, 0.6209, 0.1555]) 1.892975258785392\n"
     ]
    },
    {
     "data": {
      "application/vnd.jupyter.widget-view+json": {
       "model_id": "0799ffa2a0fd49e6a57e45b729115fa9",
       "version_major": 2,
       "version_minor": 0
      },
      "text/plain": [
       "  0%|          | 0/1544 [00:00<?, ?it/s]"
      ]
     },
     "metadata": {},
     "output_type": "display_data"
    },
    {
     "name": "stdout",
     "output_type": "stream",
     "text": [
      "[20,    39] loss:  tensor([0.4660, 0.6321, 0.6312, 0.1539]) tensor(1.8831)\n",
      "[40,    59] loss:  tensor([0.4671, 0.6331, 0.6281, 0.1544]) tensor(1.8828)\n",
      "[60,    79] loss:  tensor([0.4563, 0.6381, 0.6241, 0.1552]) tensor(1.8737)\n",
      "[80,    99] loss:  tensor([0.4684, 0.6341, 0.6306, 0.1557]) tensor(1.8888)\n",
      "[100,   119] loss:  tensor([0.4623, 0.6358, 0.6285, 0.1557]) tensor(1.8823)\n",
      "[120,   139] loss:  tensor([0.4628, 0.6334, 0.6279, 0.1561]) tensor(1.8802)\n",
      "[140,   159] loss:  tensor([0.4640, 0.6341, 0.6246, 0.1534]) tensor(1.8760)\n",
      "[160,   179] loss:  tensor([0.4579, 0.6359, 0.6260, 0.1543]) tensor(1.8741)\n",
      "[180,   199] loss:  tensor([0.4626, 0.6330, 0.6263, 0.1532]) tensor(1.8751)\n",
      "[200,   219] loss:  tensor([0.4645, 0.6407, 0.6249, 0.1567]) tensor(1.8868)\n",
      "[220,   239] loss:  tensor([0.4625, 0.6330, 0.6299, 0.1539]) tensor(1.8793)\n",
      "[240,   259] loss:  tensor([0.4553, 0.6349, 0.6274, 0.1538]) tensor(1.8714)\n",
      "[260,   279] loss:  tensor([0.4704, 0.6332, 0.6314, 0.1528]) tensor(1.8877)\n",
      "[280,   299] loss:  tensor([0.4724, 0.6362, 0.6233, 0.1566]) tensor(1.8885)\n",
      "[300,   319] loss:  tensor([0.4640, 0.6324, 0.6298, 0.1545]) tensor(1.8807)\n",
      "[320,   339] loss:  tensor([0.4646, 0.6330, 0.6268, 0.1581]) tensor(1.8826)\n",
      "[340,   359] loss:  tensor([0.4645, 0.6402, 0.6250, 0.1549]) tensor(1.8846)\n",
      "[360,   379] loss:  tensor([0.4582, 0.6325, 0.6275, 0.1564]) tensor(1.8745)\n",
      "[380,   399] loss:  tensor([0.4639, 0.6336, 0.6290, 0.1574]) tensor(1.8840)\n",
      "[400,   419] loss:  tensor([0.4603, 0.6371, 0.6256, 0.1570]) tensor(1.8801)\n",
      "[420,   439] loss:  tensor([0.4609, 0.6332, 0.6295, 0.1555]) tensor(1.8791)\n",
      "[440,   459] loss:  tensor([0.4670, 0.6311, 0.6308, 0.1547]) tensor(1.8836)\n",
      "[460,   479] loss:  tensor([0.4717, 0.6359, 0.6252, 0.1525]) tensor(1.8853)\n",
      "[480,   499] loss:  tensor([0.4642, 0.6329, 0.6284, 0.1553]) tensor(1.8808)\n",
      "[500,   519] loss:  tensor([0.4562, 0.6352, 0.6268, 0.1552]) tensor(1.8734)\n",
      "[520,   539] loss:  tensor([0.4606, 0.6318, 0.6312, 0.1553]) tensor(1.8789)\n",
      "[540,   559] loss:  tensor([0.4619, 0.6357, 0.6271, 0.1567]) tensor(1.8813)\n",
      "[560,   579] loss:  tensor([0.4581, 0.6363, 0.6252, 0.1553]) tensor(1.8749)\n",
      "[580,   599] loss:  tensor([0.4592, 0.6357, 0.6247, 0.1553]) tensor(1.8749)\n",
      "[600,   619] loss:  tensor([0.4618, 0.6372, 0.6242, 0.1553]) tensor(1.8785)\n",
      "[620,   639] loss:  tensor([0.4610, 0.6356, 0.6270, 0.1548]) tensor(1.8784)\n",
      "[640,   659] loss:  tensor([0.4646, 0.6341, 0.6291, 0.1549]) tensor(1.8827)\n",
      "[660,   679] loss:  tensor([0.4609, 0.6315, 0.6285, 0.1539]) tensor(1.8748)\n",
      "[680,   699] loss:  tensor([0.4628, 0.6371, 0.6254, 0.1545]) tensor(1.8797)\n",
      "[700,   719] loss:  tensor([0.4647, 0.6352, 0.6267, 0.1570]) tensor(1.8836)\n",
      "[720,   739] loss:  tensor([0.4610, 0.6354, 0.6289, 0.1551]) tensor(1.8805)\n",
      "[740,   759] loss:  tensor([0.4577, 0.6321, 0.6315, 0.1575]) tensor(1.8788)\n",
      "[760,   779] loss:  tensor([0.4616, 0.6339, 0.6281, 0.1553]) tensor(1.8788)\n",
      "[780,   799] loss:  tensor([0.4704, 0.6406, 0.6214, 0.1552]) tensor(1.8876)\n",
      "[800,   819] loss:  tensor([0.4684, 0.6360, 0.6281, 0.1563]) tensor(1.8889)\n",
      "[820,   839] loss:  tensor([0.4703, 0.6386, 0.6229, 0.1552]) tensor(1.8871)\n",
      "[840,   859] loss:  tensor([0.4664, 0.6348, 0.6303, 0.1542]) tensor(1.8857)\n",
      "[860,   879] loss:  tensor([0.4700, 0.6317, 0.6299, 0.1579]) tensor(1.8895)\n",
      "[880,   899] loss:  tensor([0.4677, 0.6340, 0.6319, 0.1570]) tensor(1.8905)\n",
      "[900,   919] loss:  tensor([0.4577, 0.6320, 0.6292, 0.1585]) tensor(1.8774)\n",
      "[920,   939] loss:  tensor([0.4646, 0.6338, 0.6288, 0.1536]) tensor(1.8807)\n",
      "[940,   959] loss:  tensor([0.4679, 0.6355, 0.6264, 0.1547]) tensor(1.8844)\n",
      "[960,   979] loss:  tensor([0.4651, 0.6358, 0.6253, 0.1552]) tensor(1.8814)\n",
      "[980,   999] loss:  tensor([0.4630, 0.6341, 0.6303, 0.1549]) tensor(1.8822)\n",
      "[1000,  1019] loss:  tensor([0.4589, 0.6363, 0.6250, 0.1549]) tensor(1.8751)\n",
      "[1020,  1039] loss:  tensor([0.4662, 0.6409, 0.6200, 0.1565]) tensor(1.8835)\n",
      "[1040,  1059] loss:  tensor([0.4670, 0.6339, 0.6251, 0.1561]) tensor(1.8821)\n",
      "[1060,  1079] loss:  tensor([0.4690, 0.6359, 0.6267, 0.1536]) tensor(1.8852)\n",
      "[1080,  1099] loss:  tensor([0.4611, 0.6306, 0.6304, 0.1540]) tensor(1.8760)\n",
      "[1100,  1119] loss:  tensor([0.4775, 0.6332, 0.6284, 0.1551]) tensor(1.8943)\n",
      "[1120,  1139] loss:  tensor([0.4718, 0.6296, 0.6312, 0.1546]) tensor(1.8872)\n",
      "[1140,  1159] loss:  tensor([0.4671, 0.6359, 0.6256, 0.1536]) tensor(1.8821)\n",
      "[1160,  1179] loss:  tensor([0.4605, 0.6377, 0.6289, 0.1546]) tensor(1.8816)\n",
      "[1180,  1199] loss:  tensor([0.4605, 0.6354, 0.6267, 0.1583]) tensor(1.8810)\n",
      "[1200,  1219] loss:  tensor([0.4629, 0.6379, 0.6238, 0.1555]) tensor(1.8801)\n",
      "[1220,  1239] loss:  tensor([0.4655, 0.6351, 0.6272, 0.1538]) tensor(1.8816)\n",
      "[1240,  1259] loss:  tensor([0.4614, 0.6343, 0.6250, 0.1553]) tensor(1.8760)\n",
      "[1260,  1279] loss:  tensor([0.4659, 0.6376, 0.6254, 0.1557]) tensor(1.8845)\n",
      "[1280,  1299] loss:  tensor([0.4547, 0.6398, 0.6218, 0.1549]) tensor(1.8712)\n",
      "[1300,  1319] loss:  tensor([0.4594, 0.6365, 0.6255, 0.1533]) tensor(1.8748)\n",
      "[1320,  1339] loss:  tensor([0.4607, 0.6333, 0.6281, 0.1543]) tensor(1.8764)\n",
      "[1340,  1359] loss:  tensor([0.4610, 0.6382, 0.6248, 0.1563]) tensor(1.8803)\n",
      "[1360,  1379] loss:  tensor([0.4624, 0.6348, 0.6244, 0.1582]) tensor(1.8798)\n",
      "[1380,  1399] loss:  tensor([0.4634, 0.6361, 0.6276, 0.1557]) tensor(1.8829)\n",
      "[1400,  1419] loss:  tensor([0.4658, 0.6349, 0.6273, 0.1556]) tensor(1.8835)\n",
      "[1420,  1439] loss:  tensor([0.4585, 0.6351, 0.6300, 0.1546]) tensor(1.8782)\n",
      "[1440,  1459] loss:  tensor([0.4648, 0.6348, 0.6289, 0.1550]) tensor(1.8836)\n",
      "[1460,  1479] loss:  tensor([0.4679, 0.6360, 0.6267, 0.1536]) tensor(1.8842)\n",
      "[1480,  1499] loss:  tensor([0.4619, 0.6281, 0.6354, 0.1534]) tensor(1.8788)\n",
      "[1500,  1519] loss:  tensor([0.4661, 0.6375, 0.6246, 0.1530]) tensor(1.8811)\n",
      "[1520,  1539] loss:  tensor([0.4634, 0.6311, 0.6283, 0.1546]) tensor(1.8775)\n",
      "[1540,  1559] loss:  tensor([0.4689, 0.6396, 0.6244, 0.1568]) tensor(1.8897)\n",
      "validation\n"
     ]
    },
    {
     "data": {
      "application/vnd.jupyter.widget-view+json": {
       "model_id": "8a3966b371f4402aa7580cb1bf456cbc",
       "version_major": 2,
       "version_minor": 0
      },
      "text/plain": [
       "  0%|          | 0/125 [00:00<?, ?it/s]"
      ]
     },
     "metadata": {},
     "output_type": "display_data"
    },
    {
     "name": "stdout",
     "output_type": "stream",
     "text": [
      "validation loss for epoch 22: tensor([0.4634, 0.6316, 0.6295, 0.1564]) 1.8808741788163994\n"
     ]
    },
    {
     "data": {
      "application/vnd.jupyter.widget-view+json": {
       "model_id": "2ff115de990c4ffea8f274cd162222c3",
       "version_major": 2,
       "version_minor": 0
      },
      "text/plain": [
       "  0%|          | 0/1544 [00:00<?, ?it/s]"
      ]
     },
     "metadata": {},
     "output_type": "display_data"
    },
    {
     "name": "stdout",
     "output_type": "stream",
     "text": [
      "[20,    39] loss:  tensor([0.4678, 0.6370, 0.6267, 0.1554]) tensor(1.8870)\n",
      "[40,    59] loss:  tensor([0.4615, 0.6289, 0.6335, 0.1544]) tensor(1.8782)\n",
      "[60,    79] loss:  tensor([0.4619, 0.6316, 0.6296, 0.1557]) tensor(1.8787)\n",
      "[80,    99] loss:  tensor([0.4614, 0.6360, 0.6271, 0.1556]) tensor(1.8801)\n",
      "[100,   119] loss:  tensor([0.4613, 0.6344, 0.6290, 0.1563]) tensor(1.8810)\n",
      "[120,   139] loss:  tensor([0.4649, 0.6371, 0.6267, 0.1551]) tensor(1.8838)\n",
      "[140,   159] loss:  tensor([0.4658, 0.6334, 0.6304, 0.1548]) tensor(1.8844)\n",
      "[160,   179] loss:  tensor([0.4648, 0.6331, 0.6316, 0.1543]) tensor(1.8837)\n",
      "[180,   199] loss:  tensor([0.4671, 0.6327, 0.6282, 0.1557]) tensor(1.8837)\n",
      "[200,   219] loss:  tensor([0.4642, 0.6292, 0.6309, 0.1551]) tensor(1.8795)\n",
      "[220,   239] loss:  tensor([0.4635, 0.6321, 0.6285, 0.1570]) tensor(1.8812)\n",
      "[240,   259] loss:  tensor([0.4626, 0.6330, 0.6270, 0.1542]) tensor(1.8768)\n",
      "[260,   279] loss:  tensor([0.4640, 0.6351, 0.6228, 0.1562]) tensor(1.8782)\n",
      "[280,   299] loss:  tensor([0.4650, 0.6403, 0.6210, 0.1582]) tensor(1.8845)\n",
      "[300,   319] loss:  tensor([0.4693, 0.6365, 0.6238, 0.1580]) tensor(1.8876)\n",
      "[320,   339] loss:  tensor([0.4599, 0.6336, 0.6304, 0.1559]) tensor(1.8798)\n",
      "[340,   359] loss:  tensor([0.4662, 0.6360, 0.6253, 0.1553]) tensor(1.8828)\n",
      "[360,   379] loss:  tensor([0.4669, 0.6371, 0.6218, 0.1559]) tensor(1.8817)\n",
      "[380,   399] loss:  tensor([0.4627, 0.6349, 0.6229, 0.1563]) tensor(1.8768)\n",
      "[400,   419] loss:  tensor([0.4672, 0.6340, 0.6277, 0.1570]) tensor(1.8859)\n",
      "[420,   439] loss:  tensor([0.4673, 0.6320, 0.6318, 0.1571]) tensor(1.8881)\n",
      "[440,   459] loss:  tensor([0.4616, 0.6340, 0.6265, 0.1554]) tensor(1.8775)\n",
      "[460,   479] loss:  tensor([0.4655, 0.6350, 0.6275, 0.1532]) tensor(1.8812)\n",
      "[480,   499] loss:  tensor([0.4607, 0.6398, 0.6246, 0.1537]) tensor(1.8788)\n",
      "[500,   519] loss:  tensor([0.4649, 0.6345, 0.6260, 0.1553]) tensor(1.8807)\n",
      "[520,   539] loss:  tensor([0.4654, 0.6320, 0.6306, 0.1542]) tensor(1.8822)\n",
      "[540,   559] loss:  tensor([0.4625, 0.6329, 0.6316, 0.1566]) tensor(1.8835)\n",
      "[560,   579] loss:  tensor([0.4602, 0.6356, 0.6260, 0.1548]) tensor(1.8766)\n",
      "[580,   599] loss:  tensor([0.4625, 0.6371, 0.6238, 0.1558]) tensor(1.8792)\n",
      "[600,   619] loss:  tensor([0.4646, 0.6316, 0.6263, 0.1542]) tensor(1.8767)\n",
      "[620,   639] loss:  tensor([0.4720, 0.6371, 0.6276, 0.1550]) tensor(1.8918)\n",
      "[640,   659] loss:  tensor([0.4625, 0.6346, 0.6263, 0.1536]) tensor(1.8771)\n",
      "[660,   679] loss:  tensor([0.4574, 0.6320, 0.6296, 0.1537]) tensor(1.8726)\n",
      "[680,   699] loss:  tensor([0.4610, 0.6337, 0.6296, 0.1565]) tensor(1.8808)\n",
      "[700,   719] loss:  tensor([0.4652, 0.6357, 0.6279, 0.1530]) tensor(1.8817)\n",
      "[720,   739] loss:  tensor([0.4692, 0.6292, 0.6281, 0.1549]) tensor(1.8814)\n",
      "[740,   759] loss:  tensor([0.4668, 0.6324, 0.6253, 0.1533]) tensor(1.8777)\n",
      "[760,   779] loss:  tensor([0.4626, 0.6406, 0.6180, 0.1560]) tensor(1.8771)\n",
      "[780,   799] loss:  tensor([0.4594, 0.6374, 0.6274, 0.1547]) tensor(1.8789)\n",
      "[800,   819] loss:  tensor([0.4606, 0.6344, 0.6309, 0.1539]) tensor(1.8799)\n",
      "[820,   839] loss:  tensor([0.4581, 0.6362, 0.6270, 0.1536]) tensor(1.8748)\n",
      "[840,   859] loss:  tensor([0.4562, 0.6365, 0.6283, 0.1540]) tensor(1.8750)\n",
      "[860,   879] loss:  tensor([0.4612, 0.6335, 0.6290, 0.1518]) tensor(1.8756)\n",
      "[880,   899] loss:  tensor([0.4619, 0.6406, 0.6239, 0.1545]) tensor(1.8810)\n",
      "[900,   919] loss:  tensor([0.4681, 0.6344, 0.6299, 0.1572]) tensor(1.8897)\n",
      "[920,   939] loss:  tensor([0.4656, 0.6364, 0.6252, 0.1543]) tensor(1.8815)\n",
      "[940,   959] loss:  tensor([0.4579, 0.6358, 0.6289, 0.1540]) tensor(1.8766)\n",
      "[960,   979] loss:  tensor([0.4680, 0.6337, 0.6292, 0.1549]) tensor(1.8857)\n",
      "[980,   999] loss:  tensor([0.4640, 0.6332, 0.6273, 0.1554]) tensor(1.8799)\n",
      "[1000,  1019] loss:  tensor([0.4590, 0.6358, 0.6211, 0.1558]) tensor(1.8716)\n",
      "[1020,  1039] loss:  tensor([0.4618, 0.6365, 0.6250, 0.1543]) tensor(1.8777)\n",
      "[1040,  1059] loss:  tensor([0.4577, 0.6355, 0.6246, 0.1541]) tensor(1.8719)\n",
      "[1060,  1079] loss:  tensor([0.4651, 0.6383, 0.6214, 0.1548]) tensor(1.8796)\n",
      "[1080,  1099] loss:  tensor([0.4655, 0.6285, 0.6326, 0.1558]) tensor(1.8823)\n",
      "[1100,  1119] loss:  tensor([0.4700, 0.6374, 0.6260, 0.1550]) tensor(1.8884)\n",
      "[1120,  1139] loss:  tensor([0.4577, 0.6310, 0.6327, 0.1551]) tensor(1.8765)\n",
      "[1140,  1159] loss:  tensor([0.4658, 0.6388, 0.6235, 0.1536]) tensor(1.8817)\n",
      "[1160,  1179] loss:  tensor([0.4644, 0.6355, 0.6231, 0.1533]) tensor(1.8764)\n",
      "[1180,  1199] loss:  tensor([0.4668, 0.6346, 0.6286, 0.1546]) tensor(1.8846)\n",
      "[1200,  1219] loss:  tensor([0.4647, 0.6339, 0.6254, 0.1564]) tensor(1.8805)\n",
      "[1220,  1239] loss:  tensor([0.4614, 0.6354, 0.6273, 0.1524]) tensor(1.8764)\n",
      "[1240,  1259] loss:  tensor([0.4619, 0.6332, 0.6285, 0.1541]) tensor(1.8778)\n",
      "[1260,  1279] loss:  tensor([0.4646, 0.6313, 0.6306, 0.1565]) tensor(1.8829)\n",
      "[1280,  1299] loss:  tensor([0.4636, 0.6425, 0.6206, 0.1547]) tensor(1.8815)\n",
      "[1300,  1319] loss:  tensor([0.4650, 0.6398, 0.6221, 0.1539]) tensor(1.8808)\n",
      "[1320,  1339] loss:  tensor([0.4643, 0.6381, 0.6247, 0.1551]) tensor(1.8822)\n",
      "[1340,  1359] loss:  tensor([0.4692, 0.6408, 0.6240, 0.1565]) tensor(1.8905)\n",
      "[1360,  1379] loss:  tensor([0.4654, 0.6346, 0.6242, 0.1549]) tensor(1.8791)\n",
      "[1380,  1399] loss:  tensor([0.4697, 0.6354, 0.6281, 0.1542]) tensor(1.8874)\n",
      "[1400,  1419] loss:  tensor([0.4657, 0.6381, 0.6181, 0.1544]) tensor(1.8764)\n",
      "[1420,  1439] loss:  tensor([0.4592, 0.6359, 0.6262, 0.1536]) tensor(1.8749)\n",
      "[1440,  1459] loss:  tensor([0.4577, 0.6332, 0.6291, 0.1574]) tensor(1.8775)\n",
      "[1460,  1479] loss:  tensor([0.4618, 0.6369, 0.6244, 0.1537]) tensor(1.8768)\n",
      "[1480,  1499] loss:  tensor([0.4639, 0.6391, 0.6245, 0.1512]) tensor(1.8786)\n",
      "[1500,  1519] loss:  tensor([0.4702, 0.6362, 0.6277, 0.1546]) tensor(1.8887)\n",
      "[1520,  1539] loss:  tensor([0.4600, 0.6365, 0.6250, 0.1542]) tensor(1.8757)\n",
      "[1540,  1559] loss:  tensor([0.4708, 0.6295, 0.6309, 0.1573]) tensor(1.8885)\n",
      "validation\n"
     ]
    },
    {
     "data": {
      "application/vnd.jupyter.widget-view+json": {
       "model_id": "0a39ec3cdae64900a29579d332f3cef3",
       "version_major": 2,
       "version_minor": 0
      },
      "text/plain": [
       "  0%|          | 0/125 [00:00<?, ?it/s]"
      ]
     },
     "metadata": {},
     "output_type": "display_data"
    },
    {
     "name": "stdout",
     "output_type": "stream",
     "text": [
      "validation loss for epoch 23: tensor([0.4623, 0.6342, 0.6248, 0.1702]) 1.8914557265566274\n"
     ]
    },
    {
     "data": {
      "application/vnd.jupyter.widget-view+json": {
       "model_id": "0dfe003fcab4460eb0a7500618d1995c",
       "version_major": 2,
       "version_minor": 0
      },
      "text/plain": [
       "  0%|          | 0/1544 [00:00<?, ?it/s]"
      ]
     },
     "metadata": {},
     "output_type": "display_data"
    },
    {
     "name": "stdout",
     "output_type": "stream",
     "text": [
      "[20,    39] loss:  tensor([0.4594, 0.6355, 0.6275, 0.1608]) tensor(1.8833)\n",
      "[40,    59] loss:  tensor([0.4689, 0.6370, 0.6246, 0.1511]) tensor(1.8816)\n",
      "[60,    79] loss:  tensor([0.4609, 0.6336, 0.6281, 0.1525]) tensor(1.8751)\n",
      "[80,    99] loss:  tensor([0.4622, 0.6367, 0.6267, 0.1552]) tensor(1.8809)\n",
      "[100,   119] loss:  tensor([0.4644, 0.6376, 0.6263, 0.1556]) tensor(1.8838)\n",
      "[120,   139] loss:  tensor([0.4646, 0.6388, 0.6245, 0.1515]) tensor(1.8793)\n",
      "[140,   159] loss:  tensor([0.4635, 0.6322, 0.6270, 0.1548]) tensor(1.8776)\n",
      "[160,   179] loss:  tensor([0.4583, 0.6322, 0.6304, 0.1553]) tensor(1.8762)\n",
      "[180,   199] loss:  tensor([0.4589, 0.6359, 0.6270, 0.1551]) tensor(1.8769)\n",
      "[200,   219] loss:  tensor([0.4636, 0.6335, 0.6255, 0.1566]) tensor(1.8792)\n",
      "[220,   239] loss:  tensor([0.4671, 0.6335, 0.6296, 0.1558]) tensor(1.8859)\n",
      "[240,   259] loss:  tensor([0.4685, 0.6328, 0.6272, 0.1537]) tensor(1.8822)\n",
      "[260,   279] loss:  tensor([0.4699, 0.6347, 0.6249, 0.1531]) tensor(1.8826)\n",
      "[280,   299] loss:  tensor([0.4656, 0.6384, 0.6257, 0.1540]) tensor(1.8837)\n",
      "[300,   319] loss:  tensor([0.4581, 0.6377, 0.6250, 0.1553]) tensor(1.8760)\n",
      "[320,   339] loss:  tensor([0.4598, 0.6341, 0.6255, 0.1560]) tensor(1.8754)\n",
      "[340,   359] loss:  tensor([0.4642, 0.6382, 0.6262, 0.1533]) tensor(1.8819)\n",
      "[360,   379] loss:  tensor([0.4660, 0.6363, 0.6245, 0.1545]) tensor(1.8813)\n",
      "[380,   399] loss:  tensor([0.4521, 0.6376, 0.6232, 0.1542]) tensor(1.8672)\n",
      "[400,   419] loss:  tensor([0.4602, 0.6312, 0.6298, 0.1561]) tensor(1.8773)\n",
      "[420,   439] loss:  tensor([0.4643, 0.6359, 0.6256, 0.1558]) tensor(1.8816)\n",
      "[440,   459] loss:  tensor([0.4691, 0.6379, 0.6227, 0.1550]) tensor(1.8847)\n",
      "[460,   479] loss:  tensor([0.4606, 0.6343, 0.6292, 0.1547]) tensor(1.8788)\n",
      "[480,   499] loss:  tensor([0.4699, 0.6341, 0.6280, 0.1550]) tensor(1.8870)\n",
      "[500,   519] loss:  tensor([0.4675, 0.6420, 0.6191, 0.1551]) tensor(1.8837)\n",
      "[520,   539] loss:  tensor([0.4671, 0.6373, 0.6232, 0.1532]) tensor(1.8809)\n",
      "[540,   559] loss:  tensor([0.4643, 0.6362, 0.6294, 0.1559]) tensor(1.8858)\n",
      "[560,   579] loss:  tensor([0.4591, 0.6406, 0.6215, 0.1541]) tensor(1.8753)\n",
      "[580,   599] loss:  tensor([0.4681, 0.6333, 0.6255, 0.1550]) tensor(1.8820)\n",
      "[600,   619] loss:  tensor([0.4615, 0.6376, 0.6246, 0.1548]) tensor(1.8785)\n",
      "[620,   639] loss:  tensor([0.4607, 0.6357, 0.6266, 0.1546]) tensor(1.8776)\n",
      "[640,   659] loss:  tensor([0.4688, 0.6388, 0.6238, 0.1547]) tensor(1.8861)\n",
      "[660,   679] loss:  tensor([0.4614, 0.6291, 0.6312, 0.1537]) tensor(1.8754)\n",
      "[680,   699] loss:  tensor([0.4644, 0.6353, 0.6260, 0.1533]) tensor(1.8791)\n",
      "[700,   719] loss:  tensor([0.4619, 0.6334, 0.6302, 0.1575]) tensor(1.8830)\n",
      "[720,   739] loss:  tensor([0.4601, 0.6292, 0.6346, 0.1544]) tensor(1.8783)\n",
      "[740,   759] loss:  tensor([0.4614, 0.6370, 0.6249, 0.1554]) tensor(1.8787)\n",
      "[760,   779] loss:  tensor([0.4699, 0.6394, 0.6216, 0.1554]) tensor(1.8863)\n",
      "[780,   799] loss:  tensor([0.4572, 0.6374, 0.6249, 0.1549]) tensor(1.8745)\n",
      "[800,   819] loss:  tensor([0.4619, 0.6374, 0.6257, 0.1528]) tensor(1.8778)\n",
      "[820,   839] loss:  tensor([0.4621, 0.6314, 0.6318, 0.1577]) tensor(1.8830)\n",
      "[840,   859] loss:  tensor([0.4647, 0.6379, 0.6247, 0.1555]) tensor(1.8827)\n",
      "[860,   879] loss:  tensor([0.4596, 0.6341, 0.6268, 0.1536]) tensor(1.8741)\n",
      "[880,   899] loss:  tensor([0.4631, 0.6358, 0.6216, 0.1540]) tensor(1.8745)\n",
      "[900,   919] loss:  tensor([0.4637, 0.6364, 0.6239, 0.1550]) tensor(1.8790)\n",
      "[920,   939] loss:  tensor([0.4639, 0.6367, 0.6231, 0.1568]) tensor(1.8805)\n",
      "[940,   959] loss:  tensor([0.4596, 0.6295, 0.6276, 0.1545]) tensor(1.8711)\n",
      "[960,   979] loss:  tensor([0.4652, 0.6348, 0.6280, 0.1570]) tensor(1.8851)\n",
      "[980,   999] loss:  tensor([0.4621, 0.6387, 0.6227, 0.1567]) tensor(1.8803)\n",
      "[1000,  1019] loss:  tensor([0.4655, 0.6288, 0.6323, 0.1562]) tensor(1.8828)\n",
      "[1020,  1039] loss:  tensor([0.4707, 0.6356, 0.6222, 0.1520]) tensor(1.8806)\n",
      "[1040,  1059] loss:  tensor([0.4641, 0.6302, 0.6322, 0.1552]) tensor(1.8816)\n",
      "[1060,  1079] loss:  tensor([0.4699, 0.6354, 0.6285, 0.1579]) tensor(1.8917)\n",
      "[1080,  1099] loss:  tensor([0.4652, 0.6405, 0.6249, 0.1541]) tensor(1.8847)\n",
      "[1100,  1119] loss:  tensor([0.4565, 0.6357, 0.6258, 0.1528]) tensor(1.8708)\n",
      "[1120,  1139] loss:  tensor([0.4559, 0.6330, 0.6312, 0.1578]) tensor(1.8780)\n",
      "[1140,  1159] loss:  tensor([0.4618, 0.6379, 0.6265, 0.1568]) tensor(1.8830)\n",
      "[1160,  1179] loss:  tensor([0.4556, 0.6369, 0.6285, 0.1548]) tensor(1.8757)\n",
      "[1180,  1199] loss:  tensor([0.4557, 0.6332, 0.6291, 0.1536]) tensor(1.8715)\n",
      "[1200,  1219] loss:  tensor([0.4637, 0.6355, 0.6270, 0.1538]) tensor(1.8801)\n",
      "[1220,  1239] loss:  tensor([0.4599, 0.6323, 0.6278, 0.1548]) tensor(1.8748)\n",
      "[1240,  1259] loss:  tensor([0.4698, 0.6307, 0.6342, 0.1559]) tensor(1.8906)\n",
      "[1260,  1279] loss:  tensor([0.4602, 0.6369, 0.6284, 0.1546]) tensor(1.8802)\n",
      "[1280,  1299] loss:  tensor([0.4608, 0.6254, 0.6383, 0.1523]) tensor(1.8768)\n",
      "[1300,  1319] loss:  tensor([0.4544, 0.6361, 0.6262, 0.1535]) tensor(1.8702)\n",
      "[1320,  1339] loss:  tensor([0.4520, 0.6376, 0.6256, 0.1555]) tensor(1.8707)\n",
      "[1340,  1359] loss:  tensor([0.4671, 0.6323, 0.6294, 0.1548]) tensor(1.8836)\n",
      "[1360,  1379] loss:  tensor([0.4622, 0.6376, 0.6214, 0.1547]) tensor(1.8760)\n",
      "[1380,  1399] loss:  tensor([0.4659, 0.6361, 0.6274, 0.1571]) tensor(1.8865)\n",
      "[1400,  1419] loss:  tensor([0.4625, 0.6382, 0.6273, 0.1539]) tensor(1.8820)\n",
      "[1420,  1439] loss:  tensor([0.4619, 0.6401, 0.6230, 0.1533]) tensor(1.8783)\n",
      "[1440,  1459] loss:  tensor([0.4640, 0.6347, 0.6258, 0.1542]) tensor(1.8787)\n",
      "[1460,  1479] loss:  tensor([0.4666, 0.6362, 0.6251, 0.1558]) tensor(1.8836)\n",
      "[1480,  1499] loss:  tensor([0.4617, 0.6355, 0.6256, 0.1554]) tensor(1.8782)\n",
      "[1500,  1519] loss:  tensor([0.4608, 0.6382, 0.6277, 0.1527]) tensor(1.8793)\n",
      "[1520,  1539] loss:  tensor([0.4552, 0.6312, 0.6294, 0.1538]) tensor(1.8696)\n",
      "[1540,  1559] loss:  tensor([0.4573, 0.6352, 0.6261, 0.1527]) tensor(1.8713)\n",
      "validation\n"
     ]
    },
    {
     "data": {
      "application/vnd.jupyter.widget-view+json": {
       "model_id": "20e4ea19ef6946bb8f434cba38d768e5",
       "version_major": 2,
       "version_minor": 0
      },
      "text/plain": [
       "  0%|          | 0/125 [00:00<?, ?it/s]"
      ]
     },
     "metadata": {},
     "output_type": "display_data"
    },
    {
     "name": "stdout",
     "output_type": "stream",
     "text": [
      "validation loss for epoch 24: tensor([0.4643, 0.6339, 0.6295, 0.1565]) 1.8841908454178151\n"
     ]
    },
    {
     "data": {
      "application/vnd.jupyter.widget-view+json": {
       "model_id": "c31fd8d72608431886b665e5ece2a57e",
       "version_major": 2,
       "version_minor": 0
      },
      "text/plain": [
       "  0%|          | 0/1544 [00:00<?, ?it/s]"
      ]
     },
     "metadata": {},
     "output_type": "display_data"
    },
    {
     "name": "stdout",
     "output_type": "stream",
     "text": [
      "[20,    39] loss:  tensor([0.4517, 0.6350, 0.6254, 0.1552]) tensor(1.8674)\n",
      "[40,    59] loss:  tensor([0.4575, 0.6361, 0.6254, 0.1522]) tensor(1.8712)\n",
      "[60,    79] loss:  tensor([0.4702, 0.6356, 0.6298, 0.1558]) tensor(1.8913)\n",
      "[80,    99] loss:  tensor([0.4652, 0.6345, 0.6247, 0.1532]) tensor(1.8776)\n",
      "[100,   119] loss:  tensor([0.4604, 0.6338, 0.6290, 0.1553]) tensor(1.8786)\n",
      "[120,   139] loss:  tensor([0.4641, 0.6331, 0.6284, 0.1584]) tensor(1.8840)\n",
      "[140,   159] loss:  tensor([0.4602, 0.6360, 0.6256, 0.1557]) tensor(1.8776)\n",
      "[160,   179] loss:  tensor([0.4625, 0.6365, 0.6246, 0.1541]) tensor(1.8776)\n",
      "[180,   199] loss:  tensor([0.4598, 0.6382, 0.6226, 0.1539]) tensor(1.8746)\n",
      "[200,   219] loss:  tensor([0.4618, 0.6384, 0.6263, 0.1551]) tensor(1.8816)\n",
      "[220,   239] loss:  tensor([0.4593, 0.6375, 0.6237, 0.1536]) tensor(1.8739)\n",
      "[240,   259] loss:  tensor([0.4618, 0.6349, 0.6266, 0.1556]) tensor(1.8789)\n",
      "[260,   279] loss:  tensor([0.4607, 0.6398, 0.6231, 0.1579]) tensor(1.8816)\n",
      "[280,   299] loss:  tensor([0.4582, 0.6360, 0.6269, 0.1534]) tensor(1.8746)\n",
      "[300,   319] loss:  tensor([0.4547, 0.6391, 0.6221, 0.1525]) tensor(1.8684)\n",
      "[320,   339] loss:  tensor([0.4596, 0.6319, 0.6263, 0.1527]) tensor(1.8704)\n",
      "[340,   359] loss:  tensor([0.4662, 0.6356, 0.6275, 0.1572]) tensor(1.8864)\n",
      "[360,   379] loss:  tensor([0.4653, 0.6378, 0.6238, 0.1539]) tensor(1.8808)\n",
      "[380,   399] loss:  tensor([0.4538, 0.6344, 0.6316, 0.1520]) tensor(1.8717)\n",
      "[400,   419] loss:  tensor([0.4638, 0.6312, 0.6306, 0.1548]) tensor(1.8804)\n",
      "[420,   439] loss:  tensor([0.4580, 0.6308, 0.6284, 0.1533]) tensor(1.8706)\n",
      "[440,   459] loss:  tensor([0.4599, 0.6356, 0.6297, 0.1529]) tensor(1.8781)\n",
      "[460,   479] loss:  tensor([0.4529, 0.6317, 0.6270, 0.1532]) tensor(1.8648)\n",
      "[480,   499] loss:  tensor([0.4634, 0.6386, 0.6248, 0.1538]) tensor(1.8806)\n",
      "[500,   519] loss:  tensor([0.4584, 0.6349, 0.6273, 0.1530]) tensor(1.8736)\n",
      "[520,   539] loss:  tensor([0.4625, 0.6338, 0.6285, 0.1533]) tensor(1.8781)\n",
      "[540,   559] loss:  tensor([0.4555, 0.6372, 0.6248, 0.1559]) tensor(1.8734)\n",
      "[560,   579] loss:  tensor([0.4631, 0.6366, 0.6225, 0.1536]) tensor(1.8758)\n",
      "[580,   599] loss:  tensor([0.4685, 0.6392, 0.6246, 0.1527]) tensor(1.8850)\n",
      "[600,   619] loss:  tensor([0.4536, 0.6357, 0.6278, 0.1569]) tensor(1.8741)\n",
      "[620,   639] loss:  tensor([0.4605, 0.6369, 0.6247, 0.1561]) tensor(1.8782)\n",
      "[640,   659] loss:  tensor([0.4609, 0.6354, 0.6269, 0.1550]) tensor(1.8781)\n",
      "[660,   679] loss:  tensor([0.4565, 0.6309, 0.6301, 0.1547]) tensor(1.8722)\n",
      "[680,   699] loss:  tensor([0.4489, 0.6356, 0.6251, 0.1552]) tensor(1.8648)\n",
      "[700,   719] loss:  tensor([0.4620, 0.6290, 0.6303, 0.1530]) tensor(1.8743)\n",
      "[720,   739] loss:  tensor([0.4599, 0.6347, 0.6295, 0.1553]) tensor(1.8793)\n",
      "[740,   759] loss:  tensor([0.4631, 0.6329, 0.6297, 0.1537]) tensor(1.8794)\n",
      "[760,   779] loss:  tensor([0.4628, 0.6364, 0.6259, 0.1545]) tensor(1.8796)\n",
      "[780,   799] loss:  tensor([0.4613, 0.6357, 0.6293, 0.1565]) tensor(1.8829)\n",
      "[800,   819] loss:  tensor([0.4631, 0.6348, 0.6266, 0.1566]) tensor(1.8812)\n",
      "[820,   839] loss:  tensor([0.4559, 0.6356, 0.6262, 0.1537]) tensor(1.8715)\n",
      "[840,   859] loss:  tensor([0.4608, 0.6398, 0.6241, 0.1574]) tensor(1.8821)\n",
      "[860,   879] loss:  tensor([0.4646, 0.6369, 0.6273, 0.1558]) tensor(1.8846)\n",
      "[880,   899] loss:  tensor([0.4638, 0.6337, 0.6274, 0.1525]) tensor(1.8773)\n",
      "[900,   919] loss:  tensor([0.4661, 0.6367, 0.6281, 0.1555]) tensor(1.8865)\n",
      "[920,   939] loss:  tensor([0.4624, 0.6324, 0.6286, 0.1552]) tensor(1.8786)\n",
      "[940,   959] loss:  tensor([0.4689, 0.6282, 0.6294, 0.1535]) tensor(1.8800)\n",
      "[960,   979] loss:  tensor([0.4692, 0.6395, 0.6217, 0.1550]) tensor(1.8854)\n",
      "[980,   999] loss:  tensor([0.4677, 0.6370, 0.6239, 0.1560]) tensor(1.8847)\n",
      "[1000,  1019] loss:  tensor([0.4580, 0.6335, 0.6259, 0.1543]) tensor(1.8717)\n",
      "[1020,  1039] loss:  tensor([0.4628, 0.6362, 0.6251, 0.1545]) tensor(1.8786)\n",
      "[1040,  1059] loss:  tensor([0.4635, 0.6330, 0.6284, 0.1566]) tensor(1.8814)\n",
      "[1060,  1079] loss:  tensor([0.4612, 0.6392, 0.6275, 0.1574]) tensor(1.8853)\n",
      "[1080,  1099] loss:  tensor([0.4551, 0.6354, 0.6260, 0.1548]) tensor(1.8713)\n",
      "[1100,  1119] loss:  tensor([0.4618, 0.6377, 0.6214, 0.1550]) tensor(1.8759)\n",
      "[1120,  1139] loss:  tensor([0.4671, 0.6378, 0.6214, 0.1558]) tensor(1.8820)\n",
      "[1140,  1159] loss:  tensor([0.4651, 0.6380, 0.6238, 0.1572]) tensor(1.8842)\n",
      "[1160,  1179] loss:  tensor([0.4657, 0.6356, 0.6251, 0.1569]) tensor(1.8833)\n",
      "[1180,  1199] loss:  tensor([0.4669, 0.6337, 0.6268, 0.1557]) tensor(1.8831)\n",
      "[1200,  1219] loss:  tensor([0.4672, 0.6355, 0.6280, 0.1538]) tensor(1.8845)\n",
      "[1220,  1239] loss:  tensor([0.4728, 0.6365, 0.6274, 0.1545]) tensor(1.8913)\n",
      "[1240,  1259] loss:  tensor([0.4573, 0.6393, 0.6240, 0.1559]) tensor(1.8764)\n",
      "[1260,  1279] loss:  tensor([0.4593, 0.6391, 0.6211, 0.1545]) tensor(1.8740)\n",
      "[1280,  1299] loss:  tensor([0.4682, 0.6355, 0.6248, 0.1573]) tensor(1.8857)\n",
      "[1300,  1319] loss:  tensor([0.4621, 0.6350, 0.6215, 0.1534]) tensor(1.8719)\n",
      "[1320,  1339] loss:  tensor([0.4612, 0.6314, 0.6309, 0.1557]) tensor(1.8793)\n",
      "[1340,  1359] loss:  tensor([0.4629, 0.6364, 0.6254, 0.1549]) tensor(1.8796)\n",
      "[1360,  1379] loss:  tensor([0.4596, 0.6363, 0.6250, 0.1564]) tensor(1.8773)\n",
      "[1380,  1399] loss:  tensor([0.4644, 0.6334, 0.6304, 0.1534]) tensor(1.8816)\n",
      "[1400,  1419] loss:  tensor([0.4612, 0.6351, 0.6231, 0.1564]) tensor(1.8758)\n",
      "[1420,  1439] loss:  tensor([0.4656, 0.6422, 0.6206, 0.1553]) tensor(1.8836)\n",
      "[1440,  1459] loss:  tensor([0.4641, 0.6339, 0.6302, 0.1537]) tensor(1.8819)\n",
      "[1460,  1479] loss:  tensor([0.4634, 0.6309, 0.6314, 0.1571]) tensor(1.8828)\n",
      "[1480,  1499] loss:  tensor([0.4603, 0.6340, 0.6294, 0.1529]) tensor(1.8766)\n",
      "[1500,  1519] loss:  tensor([0.4603, 0.6350, 0.6288, 0.1526]) tensor(1.8767)\n",
      "[1520,  1539] loss:  tensor([0.4578, 0.6399, 0.6223, 0.1550]) tensor(1.8751)\n",
      "[1540,  1559] loss:  tensor([0.4540, 0.6308, 0.6288, 0.1546]) tensor(1.8682)\n",
      "validation\n"
     ]
    },
    {
     "data": {
      "application/vnd.jupyter.widget-view+json": {
       "model_id": "93cc6f85c5ba4e96a49397cdd0af97a2",
       "version_major": 2,
       "version_minor": 0
      },
      "text/plain": [
       "  0%|          | 0/125 [00:00<?, ?it/s]"
      ]
     },
     "metadata": {},
     "output_type": "display_data"
    },
    {
     "name": "stdout",
     "output_type": "stream",
     "text": [
      "validation loss for epoch 25: tensor([0.4617, 0.6381, 0.6268, 0.1581]) 1.8847349162568905\n"
     ]
    },
    {
     "data": {
      "application/vnd.jupyter.widget-view+json": {
       "model_id": "bd822ef2c32c4ae7b09ef82c118c9783",
       "version_major": 2,
       "version_minor": 0
      },
      "text/plain": [
       "  0%|          | 0/1544 [00:00<?, ?it/s]"
      ]
     },
     "metadata": {},
     "output_type": "display_data"
    },
    {
     "name": "stdout",
     "output_type": "stream",
     "text": [
      "[20,    39] loss:  tensor([0.4660, 0.6374, 0.6286, 0.1573]) tensor(1.8893)\n",
      "[40,    59] loss:  tensor([0.4588, 0.6286, 0.6334, 0.1535]) tensor(1.8743)\n",
      "[60,    79] loss:  tensor([0.4573, 0.6327, 0.6310, 0.1560]) tensor(1.8770)\n",
      "[80,    99] loss:  tensor([0.4541, 0.6332, 0.6287, 0.1549]) tensor(1.8709)\n",
      "[100,   119] loss:  tensor([0.4540, 0.6394, 0.6225, 0.1544]) tensor(1.8704)\n",
      "[120,   139] loss:  tensor([0.4552, 0.6322, 0.6287, 0.1532]) tensor(1.8694)\n",
      "[140,   159] loss:  tensor([0.4658, 0.6404, 0.6241, 0.1536]) tensor(1.8839)\n",
      "[160,   179] loss:  tensor([0.4671, 0.6320, 0.6318, 0.1563]) tensor(1.8872)\n",
      "[180,   199] loss:  tensor([0.4532, 0.6316, 0.6299, 0.1536]) tensor(1.8682)\n",
      "[200,   219] loss:  tensor([0.4575, 0.6382, 0.6234, 0.1541]) tensor(1.8732)\n",
      "[220,   239] loss:  tensor([0.4586, 0.6356, 0.6244, 0.1552]) tensor(1.8739)\n",
      "[240,   259] loss:  tensor([0.4640, 0.6301, 0.6321, 0.1537]) tensor(1.8798)\n",
      "[260,   279] loss:  tensor([0.4638, 0.6384, 0.6205, 0.1532]) tensor(1.8758)\n",
      "[280,   299] loss:  tensor([0.4590, 0.6385, 0.6239, 0.1524]) tensor(1.8738)\n",
      "[300,   319] loss:  tensor([0.4737, 0.6381, 0.6240, 0.1566]) tensor(1.8924)\n",
      "[320,   339] loss:  tensor([0.4606, 0.6314, 0.6314, 0.1574]) tensor(1.8808)\n",
      "[340,   359] loss:  tensor([0.4705, 0.6336, 0.6258, 0.1534]) tensor(1.8833)\n",
      "[360,   379] loss:  tensor([0.4602, 0.6384, 0.6260, 0.1545]) tensor(1.8791)\n",
      "[380,   399] loss:  tensor([0.4669, 0.6289, 0.6375, 0.1543]) tensor(1.8876)\n",
      "[400,   419] loss:  tensor([0.4598, 0.6336, 0.6244, 0.1548]) tensor(1.8727)\n",
      "[420,   439] loss:  tensor([0.4594, 0.6370, 0.6229, 0.1572]) tensor(1.8765)\n",
      "[440,   459] loss:  tensor([0.4646, 0.6367, 0.6252, 0.1579]) tensor(1.8843)\n",
      "[460,   479] loss:  tensor([0.4668, 0.6395, 0.6237, 0.1546]) tensor(1.8846)\n",
      "[480,   499] loss:  tensor([0.4570, 0.6370, 0.6188, 0.1552]) tensor(1.8680)\n",
      "[500,   519] loss:  tensor([0.4641, 0.6410, 0.6220, 0.1542]) tensor(1.8813)\n",
      "[520,   539] loss:  tensor([0.4624, 0.6400, 0.6241, 0.1540]) tensor(1.8806)\n",
      "[540,   559] loss:  tensor([0.4618, 0.6341, 0.6295, 0.1566]) tensor(1.8820)\n",
      "[560,   579] loss:  tensor([0.4651, 0.6367, 0.6265, 0.1552]) tensor(1.8835)\n",
      "[580,   599] loss:  tensor([0.4585, 0.6298, 0.6338, 0.1565]) tensor(1.8786)\n",
      "[600,   619] loss:  tensor([0.4545, 0.6351, 0.6282, 0.1565]) tensor(1.8744)\n",
      "[620,   639] loss:  tensor([0.4568, 0.6336, 0.6285, 0.1536]) tensor(1.8725)\n",
      "[640,   659] loss:  tensor([0.4542, 0.6432, 0.6196, 0.1540]) tensor(1.8709)\n",
      "[660,   679] loss:  tensor([0.4631, 0.6367, 0.6242, 0.1559]) tensor(1.8799)\n",
      "[680,   699] loss:  tensor([0.4690, 0.6357, 0.6276, 0.1563]) tensor(1.8885)\n",
      "[700,   719] loss:  tensor([0.4699, 0.6339, 0.6284, 0.1549]) tensor(1.8872)\n",
      "[720,   739] loss:  tensor([0.4631, 0.6380, 0.6255, 0.1552]) tensor(1.8818)\n",
      "[740,   759] loss:  tensor([0.4625, 0.6391, 0.6220, 0.1572]) tensor(1.8808)\n",
      "[760,   779] loss:  tensor([0.4612, 0.6346, 0.6252, 0.1553]) tensor(1.8763)\n",
      "[780,   799] loss:  tensor([0.4552, 0.6370, 0.6248, 0.1549]) tensor(1.8718)\n",
      "[800,   819] loss:  tensor([0.4605, 0.6344, 0.6312, 0.1567]) tensor(1.8828)\n",
      "[820,   839] loss:  tensor([0.4655, 0.6315, 0.6301, 0.1514]) tensor(1.8786)\n",
      "[840,   859] loss:  tensor([0.4652, 0.6387, 0.6232, 0.1562]) tensor(1.8833)\n",
      "[860,   879] loss:  tensor([0.4588, 0.6380, 0.6237, 0.1541]) tensor(1.8745)\n",
      "[880,   899] loss:  tensor([0.4670, 0.6382, 0.6245, 0.1544]) tensor(1.8841)\n",
      "[900,   919] loss:  tensor([0.4599, 0.6422, 0.6201, 0.1550]) tensor(1.8772)\n",
      "[920,   939] loss:  tensor([0.4634, 0.6365, 0.6266, 0.1541]) tensor(1.8805)\n",
      "[940,   959] loss:  tensor([0.4613, 0.6385, 0.6247, 0.1537]) tensor(1.8782)\n",
      "[960,   979] loss:  tensor([0.4642, 0.6318, 0.6309, 0.1555]) tensor(1.8823)\n",
      "[980,   999] loss:  tensor([0.4629, 0.6307, 0.6312, 0.1548]) tensor(1.8795)\n",
      "[1000,  1019] loss:  tensor([0.4578, 0.6334, 0.6283, 0.1563]) tensor(1.8758)\n",
      "[1020,  1039] loss:  tensor([0.4617, 0.6334, 0.6305, 0.1558]) tensor(1.8814)\n",
      "[1040,  1059] loss:  tensor([0.4653, 0.6311, 0.6306, 0.1548]) tensor(1.8818)\n",
      "[1060,  1079] loss:  tensor([0.4697, 0.6389, 0.6237, 0.1538]) tensor(1.8861)\n",
      "[1080,  1099] loss:  tensor([0.4514, 0.6360, 0.6281, 0.1526]) tensor(1.8682)\n",
      "[1100,  1119] loss:  tensor([0.4588, 0.6323, 0.6287, 0.1588]) tensor(1.8787)\n",
      "[1120,  1139] loss:  tensor([0.4544, 0.6323, 0.6267, 0.1551]) tensor(1.8684)\n",
      "[1140,  1159] loss:  tensor([0.4675, 0.6320, 0.6299, 0.1554]) tensor(1.8847)\n",
      "[1160,  1179] loss:  tensor([0.4547, 0.6298, 0.6291, 0.1537]) tensor(1.8673)\n",
      "[1180,  1199] loss:  tensor([0.4653, 0.6351, 0.6265, 0.1533]) tensor(1.8801)\n",
      "[1200,  1219] loss:  tensor([0.4615, 0.6346, 0.6216, 0.1542]) tensor(1.8720)\n",
      "[1220,  1239] loss:  tensor([0.4568, 0.6326, 0.6279, 0.1550]) tensor(1.8723)\n",
      "[1240,  1259] loss:  tensor([0.4645, 0.6336, 0.6251, 0.1549]) tensor(1.8781)\n",
      "[1260,  1279] loss:  tensor([0.4644, 0.6351, 0.6269, 0.1556]) tensor(1.8820)\n",
      "[1280,  1299] loss:  tensor([0.4553, 0.6347, 0.6263, 0.1548]) tensor(1.8711)\n",
      "[1300,  1319] loss:  tensor([0.4632, 0.6341, 0.6282, 0.1541]) tensor(1.8795)\n",
      "[1320,  1339] loss:  tensor([0.4619, 0.6358, 0.6263, 0.1541]) tensor(1.8781)\n",
      "[1340,  1359] loss:  tensor([0.4587, 0.6319, 0.6313, 0.1527]) tensor(1.8745)\n",
      "[1360,  1379] loss:  tensor([0.4689, 0.6339, 0.6297, 0.1550]) tensor(1.8875)\n",
      "[1380,  1399] loss:  tensor([0.4738, 0.6420, 0.6213, 0.1529]) tensor(1.8900)\n",
      "[1400,  1419] loss:  tensor([0.4665, 0.6387, 0.6295, 0.1540]) tensor(1.8886)\n",
      "[1420,  1439] loss:  tensor([0.4660, 0.6362, 0.6268, 0.1534]) tensor(1.8823)\n",
      "[1440,  1459] loss:  tensor([0.4629, 0.6366, 0.6251, 0.1527]) tensor(1.8773)\n",
      "[1460,  1479] loss:  tensor([0.4604, 0.6374, 0.6212, 0.1547]) tensor(1.8737)\n",
      "[1480,  1499] loss:  tensor([0.4640, 0.6344, 0.6309, 0.1562]) tensor(1.8855)\n",
      "[1500,  1519] loss:  tensor([0.4570, 0.6350, 0.6308, 0.1545]) tensor(1.8772)\n",
      "[1520,  1539] loss:  tensor([0.4654, 0.6345, 0.6258, 0.1563]) tensor(1.8820)\n",
      "[1540,  1559] loss:  tensor([0.4602, 0.6386, 0.6245, 0.1542]) tensor(1.8776)\n",
      "validation\n"
     ]
    },
    {
     "data": {
      "application/vnd.jupyter.widget-view+json": {
       "model_id": "f1c9c8a8a3204a2ba9b0755a9d0713fe",
       "version_major": 2,
       "version_minor": 0
      },
      "text/plain": [
       "  0%|          | 0/125 [00:00<?, ?it/s]"
      ]
     },
     "metadata": {},
     "output_type": "display_data"
    },
    {
     "name": "stdout",
     "output_type": "stream",
     "text": [
      "validation loss for epoch 26: tensor([0.4663, 0.6393, 0.6207, 0.1623]) 1.8886909609120521\n"
     ]
    },
    {
     "data": {
      "application/vnd.jupyter.widget-view+json": {
       "model_id": "7c9e0090ca5b476eae52bb0bde099466",
       "version_major": 2,
       "version_minor": 0
      },
      "text/plain": [
       "  0%|          | 0/1544 [00:00<?, ?it/s]"
      ]
     },
     "metadata": {},
     "output_type": "display_data"
    },
    {
     "name": "stdout",
     "output_type": "stream",
     "text": [
      "[20,    39] loss:  tensor([0.4593, 0.6403, 0.6255, 0.1554]) tensor(1.8805)\n",
      "[40,    59] loss:  tensor([0.4628, 0.6366, 0.6241, 0.1545]) tensor(1.8780)\n",
      "[60,    79] loss:  tensor([0.4658, 0.6356, 0.6283, 0.1544]) tensor(1.8840)\n",
      "[80,    99] loss:  tensor([0.4589, 0.6349, 0.6288, 0.1532]) tensor(1.8757)\n",
      "[100,   119] loss:  tensor([0.4695, 0.6377, 0.6267, 0.1552]) tensor(1.8891)\n",
      "[120,   139] loss:  tensor([0.4535, 0.6353, 0.6263, 0.1557]) tensor(1.8707)\n",
      "[140,   159] loss:  tensor([0.4583, 0.6346, 0.6244, 0.1553]) tensor(1.8726)\n",
      "[160,   179] loss:  tensor([0.4605, 0.6335, 0.6312, 0.1562]) tensor(1.8814)\n",
      "[180,   199] loss:  tensor([0.4619, 0.6365, 0.6251, 0.1558]) tensor(1.8794)\n",
      "[200,   219] loss:  tensor([0.4632, 0.6378, 0.6227, 0.1572]) tensor(1.8809)\n",
      "[220,   239] loss:  tensor([0.4652, 0.6334, 0.6291, 0.1557]) tensor(1.8833)\n",
      "[240,   259] loss:  tensor([0.4597, 0.6287, 0.6339, 0.1570]) tensor(1.8794)\n",
      "[260,   279] loss:  tensor([0.4557, 0.6319, 0.6292, 0.1538]) tensor(1.8706)\n",
      "[280,   299] loss:  tensor([0.4572, 0.6374, 0.6230, 0.1551]) tensor(1.8727)\n",
      "[300,   319] loss:  tensor([0.4549, 0.6345, 0.6261, 0.1545]) tensor(1.8701)\n",
      "[320,   339] loss:  tensor([0.4540, 0.6372, 0.6273, 0.1541]) tensor(1.8726)\n",
      "[340,   359] loss:  tensor([0.4647, 0.6368, 0.6254, 0.1529]) tensor(1.8798)\n",
      "[360,   379] loss:  tensor([0.4620, 0.6367, 0.6250, 0.1533]) tensor(1.8771)\n",
      "[380,   399] loss:  tensor([0.4675, 0.6340, 0.6245, 0.1534]) tensor(1.8795)\n",
      "[400,   419] loss:  tensor([0.4653, 0.6350, 0.6247, 0.1540]) tensor(1.8790)\n",
      "[420,   439] loss:  tensor([0.4656, 0.6361, 0.6251, 0.1548]) tensor(1.8815)\n",
      "[440,   459] loss:  tensor([0.4614, 0.6350, 0.6255, 0.1537]) tensor(1.8756)\n",
      "[460,   479] loss:  tensor([0.4635, 0.6344, 0.6239, 0.1555]) tensor(1.8772)\n",
      "[480,   499] loss:  tensor([0.4667, 0.6371, 0.6248, 0.1565]) tensor(1.8851)\n",
      "[500,   519] loss:  tensor([0.4530, 0.6325, 0.6261, 0.1533]) tensor(1.8648)\n",
      "[520,   539] loss:  tensor([0.4563, 0.6340, 0.6244, 0.1544]) tensor(1.8691)\n",
      "[540,   559] loss:  tensor([0.4621, 0.6285, 0.6282, 0.1541]) tensor(1.8728)\n",
      "[560,   579] loss:  tensor([0.4626, 0.6316, 0.6274, 0.1541]) tensor(1.8757)\n",
      "[580,   599] loss:  tensor([0.4615, 0.6335, 0.6292, 0.1548]) tensor(1.8790)\n",
      "[600,   619] loss:  tensor([0.4616, 0.6336, 0.6315, 0.1555]) tensor(1.8822)\n",
      "[620,   639] loss:  tensor([0.4624, 0.6327, 0.6265, 0.1539]) tensor(1.8755)\n",
      "[640,   659] loss:  tensor([0.4695, 0.6375, 0.6252, 0.1581]) tensor(1.8903)\n",
      "[660,   679] loss:  tensor([0.4646, 0.6297, 0.6315, 0.1544]) tensor(1.8802)\n",
      "[680,   699] loss:  tensor([0.4634, 0.6349, 0.6239, 0.1538]) tensor(1.8760)\n",
      "[700,   719] loss:  tensor([0.4653, 0.6340, 0.6260, 0.1540]) tensor(1.8794)\n",
      "[720,   739] loss:  tensor([0.4672, 0.6315, 0.6280, 0.1550]) tensor(1.8817)\n",
      "[740,   759] loss:  tensor([0.4619, 0.6368, 0.6229, 0.1593]) tensor(1.8809)\n",
      "[760,   779] loss:  tensor([0.4714, 0.6341, 0.6287, 0.1580]) tensor(1.8924)\n",
      "[780,   799] loss:  tensor([0.4498, 0.6400, 0.6246, 0.1593]) tensor(1.8737)\n",
      "[800,   819] loss:  tensor([0.4565, 0.6366, 0.6252, 0.1547]) tensor(1.8730)\n",
      "[820,   839] loss:  tensor([0.4626, 0.6312, 0.6277, 0.1552]) tensor(1.8767)\n",
      "[840,   859] loss:  tensor([0.4626, 0.6343, 0.6279, 0.1534]) tensor(1.8781)\n",
      "[860,   879] loss:  tensor([0.4643, 0.6370, 0.6278, 0.1545]) tensor(1.8836)\n",
      "[880,   899] loss:  tensor([0.4630, 0.6364, 0.6256, 0.1541]) tensor(1.8790)\n",
      "[900,   919] loss:  tensor([0.4556, 0.6380, 0.6200, 0.1549]) tensor(1.8686)\n",
      "[920,   939] loss:  tensor([0.4630, 0.6374, 0.6239, 0.1552]) tensor(1.8795)\n",
      "[940,   959] loss:  tensor([0.4577, 0.6382, 0.6238, 0.1556]) tensor(1.8753)\n",
      "[960,   979] loss:  tensor([0.4557, 0.6392, 0.6228, 0.1541]) tensor(1.8718)\n",
      "[980,   999] loss:  tensor([0.4608, 0.6318, 0.6307, 0.1577]) tensor(1.8810)\n",
      "[1000,  1019] loss:  tensor([0.4703, 0.6340, 0.6291, 0.1563]) tensor(1.8897)\n",
      "[1020,  1039] loss:  tensor([0.4597, 0.6375, 0.6240, 0.1549]) tensor(1.8761)\n",
      "[1040,  1059] loss:  tensor([0.4600, 0.6386, 0.6251, 0.1539]) tensor(1.8775)\n",
      "[1060,  1079] loss:  tensor([0.4593, 0.6347, 0.6273, 0.1519]) tensor(1.8732)\n",
      "[1080,  1099] loss:  tensor([0.4666, 0.6345, 0.6282, 0.1522]) tensor(1.8816)\n",
      "[1100,  1119] loss:  tensor([0.4561, 0.6370, 0.6268, 0.1533]) tensor(1.8731)\n",
      "[1120,  1139] loss:  tensor([0.4602, 0.6364, 0.6267, 0.1540]) tensor(1.8773)\n",
      "[1140,  1159] loss:  tensor([0.4621, 0.6363, 0.6262, 0.1531]) tensor(1.8777)\n",
      "[1160,  1179] loss:  tensor([0.4569, 0.6363, 0.6291, 0.1559]) tensor(1.8782)\n",
      "[1180,  1199] loss:  tensor([0.4588, 0.6343, 0.6268, 0.1538]) tensor(1.8738)\n",
      "[1200,  1219] loss:  tensor([0.4585, 0.6366, 0.6267, 0.1541]) tensor(1.8759)\n",
      "[1220,  1239] loss:  tensor([0.4633, 0.6422, 0.6209, 0.1529]) tensor(1.8794)\n",
      "[1240,  1259] loss:  tensor([0.4542, 0.6328, 0.6269, 0.1547]) tensor(1.8685)\n",
      "[1260,  1279] loss:  tensor([0.4675, 0.6332, 0.6292, 0.1559]) tensor(1.8857)\n",
      "[1280,  1299] loss:  tensor([0.4576, 0.6367, 0.6200, 0.1588]) tensor(1.8731)\n",
      "[1300,  1319] loss:  tensor([0.4536, 0.6413, 0.6221, 0.1581]) tensor(1.8750)\n",
      "[1320,  1339] loss:  tensor([0.4679, 0.6393, 0.6237, 0.1560]) tensor(1.8868)\n",
      "[1340,  1359] loss:  tensor([0.4654, 0.6339, 0.6278, 0.1552]) tensor(1.8824)\n",
      "[1360,  1379] loss:  tensor([0.4611, 0.6347, 0.6265, 0.1544]) tensor(1.8768)\n",
      "[1380,  1399] loss:  tensor([0.4640, 0.6383, 0.6241, 0.1545]) tensor(1.8810)\n",
      "[1400,  1419] loss:  tensor([0.4593, 0.6368, 0.6236, 0.1556]) tensor(1.8753)\n",
      "[1420,  1439] loss:  tensor([0.4662, 0.6394, 0.6250, 0.1564]) tensor(1.8869)\n",
      "[1440,  1459] loss:  tensor([0.4606, 0.6392, 0.6233, 0.1523]) tensor(1.8754)\n",
      "[1460,  1479] loss:  tensor([0.4580, 0.6354, 0.6262, 0.1544]) tensor(1.8740)\n",
      "[1480,  1499] loss:  tensor([0.4635, 0.6316, 0.6287, 0.1538]) tensor(1.8776)\n",
      "[1500,  1519] loss:  tensor([0.4638, 0.6351, 0.6267, 0.1553]) tensor(1.8809)\n",
      "[1520,  1539] loss:  tensor([0.4619, 0.6386, 0.6214, 0.1546]) tensor(1.8766)\n",
      "[1540,  1559] loss:  tensor([0.4605, 0.6387, 0.6196, 0.1560]) tensor(1.8749)\n",
      "validation\n"
     ]
    },
    {
     "data": {
      "application/vnd.jupyter.widget-view+json": {
       "model_id": "c2409814d7424c348c78d348095a1000",
       "version_major": 2,
       "version_minor": 0
      },
      "text/plain": [
       "  0%|          | 0/125 [00:00<?, ?it/s]"
      ]
     },
     "metadata": {},
     "output_type": "display_data"
    },
    {
     "name": "stdout",
     "output_type": "stream",
     "text": [
      "validation loss for epoch 27: tensor([0.4655, 0.6359, 0.6260, 0.1583]) 1.8856992441978828\n"
     ]
    },
    {
     "data": {
      "application/vnd.jupyter.widget-view+json": {
       "model_id": "e286d0c06f684347a6ff9de8d21d8f69",
       "version_major": 2,
       "version_minor": 0
      },
      "text/plain": [
       "  0%|          | 0/1544 [00:00<?, ?it/s]"
      ]
     },
     "metadata": {},
     "output_type": "display_data"
    },
    {
     "name": "stdout",
     "output_type": "stream",
     "text": [
      "[20,    39] loss:  tensor([0.4674, 0.6356, 0.6267, 0.1541]) tensor(1.8838)\n",
      "[40,    59] loss:  tensor([0.4659, 0.6404, 0.6201, 0.1555]) tensor(1.8819)\n",
      "[60,    79] loss:  tensor([0.4579, 0.6393, 0.6210, 0.1556]) tensor(1.8737)\n",
      "[80,    99] loss:  tensor([0.4622, 0.6355, 0.6269, 0.1534]) tensor(1.8780)\n",
      "[100,   119] loss:  tensor([0.4553, 0.6348, 0.6237, 0.1541]) tensor(1.8679)\n",
      "[120,   139] loss:  tensor([0.4563, 0.6379, 0.6235, 0.1541]) tensor(1.8718)\n",
      "[140,   159] loss:  tensor([0.4542, 0.6368, 0.6250, 0.1566]) tensor(1.8726)\n",
      "[160,   179] loss:  tensor([0.4614, 0.6342, 0.6256, 0.1529]) tensor(1.8741)\n",
      "[180,   199] loss:  tensor([0.4589, 0.6317, 0.6277, 0.1559]) tensor(1.8743)\n",
      "[200,   219] loss:  tensor([0.4545, 0.6309, 0.6276, 0.1574]) tensor(1.8704)\n",
      "[220,   239] loss:  tensor([0.4745, 0.6391, 0.6221, 0.1563]) tensor(1.8921)\n",
      "[240,   259] loss:  tensor([0.4640, 0.6328, 0.6303, 0.1553]) tensor(1.8825)\n",
      "[260,   279] loss:  tensor([0.4551, 0.6397, 0.6236, 0.1531]) tensor(1.8714)\n",
      "[280,   299] loss:  tensor([0.4599, 0.6421, 0.6216, 0.1541]) tensor(1.8777)\n",
      "[300,   319] loss:  tensor([0.4615, 0.6371, 0.6249, 0.1529]) tensor(1.8763)\n",
      "[320,   339] loss:  tensor([0.4582, 0.6298, 0.6292, 0.1533]) tensor(1.8705)\n",
      "[340,   359] loss:  tensor([0.4628, 0.6388, 0.6229, 0.1572]) tensor(1.8818)\n",
      "[360,   379] loss:  tensor([0.4581, 0.6444, 0.6185, 0.1543]) tensor(1.8753)\n",
      "[380,   399] loss:  tensor([0.4502, 0.6369, 0.6228, 0.1539]) tensor(1.8639)\n",
      "[400,   419] loss:  tensor([0.4630, 0.6364, 0.6247, 0.1572]) tensor(1.8812)\n",
      "[420,   439] loss:  tensor([0.4614, 0.6316, 0.6269, 0.1545]) tensor(1.8744)\n",
      "[440,   459] loss:  tensor([0.4504, 0.6351, 0.6284, 0.1539]) tensor(1.8678)\n",
      "[460,   479] loss:  tensor([0.4528, 0.6327, 0.6299, 0.1546]) tensor(1.8700)\n",
      "[480,   499] loss:  tensor([0.4619, 0.6384, 0.6245, 0.1534]) tensor(1.8781)\n",
      "[500,   519] loss:  tensor([0.4507, 0.6342, 0.6287, 0.1547]) tensor(1.8683)\n",
      "[520,   539] loss:  tensor([0.4542, 0.6342, 0.6249, 0.1555]) tensor(1.8689)\n",
      "[540,   559] loss:  tensor([0.4637, 0.6334, 0.6268, 0.1529]) tensor(1.8768)\n",
      "[560,   579] loss:  tensor([0.4594, 0.6374, 0.6257, 0.1532]) tensor(1.8758)\n",
      "[580,   599] loss:  tensor([0.4616, 0.6378, 0.6261, 0.1535]) tensor(1.8791)\n",
      "[600,   619] loss:  tensor([0.4598, 0.6355, 0.6244, 0.1546]) tensor(1.8743)\n",
      "[620,   639] loss:  tensor([0.4598, 0.6386, 0.6244, 0.1534]) tensor(1.8762)\n",
      "[640,   659] loss:  tensor([0.4624, 0.6324, 0.6257, 0.1526]) tensor(1.8731)\n",
      "[660,   679] loss:  tensor([0.4570, 0.6318, 0.6331, 0.1546]) tensor(1.8764)\n",
      "[680,   699] loss:  tensor([0.4656, 0.6389, 0.6212, 0.1546]) tensor(1.8803)\n",
      "[700,   719] loss:  tensor([0.4560, 0.6394, 0.6204, 0.1556]) tensor(1.8714)\n",
      "[720,   739] loss:  tensor([0.4522, 0.6292, 0.6299, 0.1543]) tensor(1.8656)\n",
      "[740,   759] loss:  tensor([0.4616, 0.6393, 0.6211, 0.1542]) tensor(1.8762)\n",
      "[760,   779] loss:  tensor([0.4700, 0.6356, 0.6261, 0.1532]) tensor(1.8848)\n",
      "[780,   799] loss:  tensor([0.4653, 0.6387, 0.6240, 0.1521]) tensor(1.8800)\n",
      "[800,   819] loss:  tensor([0.4627, 0.6331, 0.6297, 0.1526]) tensor(1.8781)\n",
      "[820,   839] loss:  tensor([0.4566, 0.6311, 0.6277, 0.1534]) tensor(1.8687)\n",
      "[840,   859] loss:  tensor([0.4570, 0.6372, 0.6254, 0.1537]) tensor(1.8734)\n",
      "[860,   879] loss:  tensor([0.4639, 0.6356, 0.6256, 0.1554]) tensor(1.8805)\n",
      "[880,   899] loss:  tensor([0.4502, 0.6391, 0.6227, 0.1525]) tensor(1.8645)\n",
      "[900,   919] loss:  tensor([0.4618, 0.6312, 0.6292, 0.1575]) tensor(1.8797)\n",
      "[920,   939] loss:  tensor([0.4630, 0.6312, 0.6274, 0.1523]) tensor(1.8740)\n",
      "[940,   959] loss:  tensor([0.4687, 0.6371, 0.6237, 0.1534]) tensor(1.8829)\n",
      "[960,   979] loss:  tensor([0.4636, 0.6371, 0.6243, 0.1558]) tensor(1.8807)\n",
      "[980,   999] loss:  tensor([0.4573, 0.6351, 0.6260, 0.1604]) tensor(1.8788)\n",
      "[1000,  1019] loss:  tensor([0.4579, 0.6382, 0.6246, 0.1534]) tensor(1.8741)\n",
      "[1020,  1039] loss:  tensor([0.4596, 0.6351, 0.6244, 0.1560]) tensor(1.8751)\n",
      "[1040,  1059] loss:  tensor([0.4526, 0.6348, 0.6250, 0.1554]) tensor(1.8679)\n",
      "[1060,  1079] loss:  tensor([0.4580, 0.6398, 0.6217, 0.1548]) tensor(1.8743)\n",
      "[1080,  1099] loss:  tensor([0.4632, 0.6350, 0.6287, 0.1551]) tensor(1.8820)\n",
      "[1100,  1119] loss:  tensor([0.4614, 0.6351, 0.6281, 0.1538]) tensor(1.8784)\n",
      "[1120,  1139] loss:  tensor([0.4641, 0.6407, 0.6219, 0.1541]) tensor(1.8807)\n",
      "[1140,  1159] loss:  tensor([0.4676, 0.6381, 0.6220, 0.1524]) tensor(1.8802)\n",
      "[1160,  1179] loss:  tensor([0.4608, 0.6338, 0.6270, 0.1530]) tensor(1.8746)\n",
      "[1180,  1199] loss:  tensor([0.4597, 0.6298, 0.6294, 0.1560]) tensor(1.8750)\n",
      "[1200,  1219] loss:  tensor([0.4540, 0.6329, 0.6293, 0.1532]) tensor(1.8695)\n",
      "[1220,  1239] loss:  tensor([0.4686, 0.6383, 0.6226, 0.1534]) tensor(1.8829)\n",
      "[1240,  1259] loss:  tensor([0.4631, 0.6340, 0.6293, 0.1536]) tensor(1.8800)\n",
      "[1260,  1279] loss:  tensor([0.4597, 0.6333, 0.6268, 0.1552]) tensor(1.8749)\n",
      "[1280,  1299] loss:  tensor([0.4644, 0.6360, 0.6232, 0.1546]) tensor(1.8781)\n",
      "[1300,  1319] loss:  tensor([0.4694, 0.6378, 0.6235, 0.1530]) tensor(1.8838)\n",
      "[1320,  1339] loss:  tensor([0.4609, 0.6333, 0.6287, 0.1544]) tensor(1.8772)\n",
      "[1340,  1359] loss:  tensor([0.4697, 0.6336, 0.6228, 0.1558]) tensor(1.8819)\n",
      "[1360,  1379] loss:  tensor([0.4595, 0.6364, 0.6244, 0.1550]) tensor(1.8752)\n",
      "[1380,  1399] loss:  tensor([0.4611, 0.6402, 0.6243, 0.1534]) tensor(1.8790)\n",
      "[1400,  1419] loss:  tensor([0.4603, 0.6351, 0.6266, 0.1537]) tensor(1.8757)\n",
      "[1420,  1439] loss:  tensor([0.4623, 0.6319, 0.6269, 0.1529]) tensor(1.8739)\n",
      "[1440,  1459] loss:  tensor([0.4640, 0.6398, 0.6195, 0.1517]) tensor(1.8749)\n",
      "[1460,  1479] loss:  tensor([0.4597, 0.6367, 0.6255, 0.1546]) tensor(1.8765)\n",
      "[1480,  1499] loss:  tensor([0.4660, 0.6383, 0.6235, 0.1516]) tensor(1.8793)\n",
      "[1500,  1519] loss:  tensor([0.4576, 0.6393, 0.6247, 0.1539]) tensor(1.8755)\n",
      "[1520,  1539] loss:  tensor([0.4684, 0.6314, 0.6308, 0.1545]) tensor(1.8851)\n",
      "[1540,  1559] loss:  tensor([0.4591, 0.6402, 0.6237, 0.1537]) tensor(1.8767)\n",
      "validation\n"
     ]
    },
    {
     "data": {
      "application/vnd.jupyter.widget-view+json": {
       "model_id": "2a3850dfc9304e71b7f3966ecd046fa8",
       "version_major": 2,
       "version_minor": 0
      },
      "text/plain": [
       "  0%|          | 0/125 [00:00<?, ?it/s]"
      ]
     },
     "metadata": {},
     "output_type": "display_data"
    },
    {
     "name": "stdout",
     "output_type": "stream",
     "text": [
      "validation loss for epoch 28: tensor([0.4661, 0.6395, 0.6219, 0.1561]) 1.8836858028219745\n"
     ]
    },
    {
     "data": {
      "application/vnd.jupyter.widget-view+json": {
       "model_id": "65c7fe04906546e48d3040c958280e6f",
       "version_major": 2,
       "version_minor": 0
      },
      "text/plain": [
       "  0%|          | 0/1544 [00:00<?, ?it/s]"
      ]
     },
     "metadata": {},
     "output_type": "display_data"
    },
    {
     "name": "stdout",
     "output_type": "stream",
     "text": [
      "[20,    39] loss:  tensor([0.4529, 0.6378, 0.6257, 0.1530]) tensor(1.8693)\n",
      "[40,    59] loss:  tensor([0.4523, 0.6361, 0.6256, 0.1525]) tensor(1.8664)\n",
      "[60,    79] loss:  tensor([0.4616, 0.6365, 0.6239, 0.1539]) tensor(1.8759)\n",
      "[80,    99] loss:  tensor([0.4571, 0.6385, 0.6219, 0.1527]) tensor(1.8703)\n",
      "[100,   119] loss:  tensor([0.4580, 0.6365, 0.6237, 0.1548]) tensor(1.8730)\n",
      "[120,   139] loss:  tensor([0.4559, 0.6349, 0.6257, 0.1527]) tensor(1.8692)\n",
      "[140,   159] loss:  tensor([0.4614, 0.6383, 0.6240, 0.1545]) tensor(1.8782)\n",
      "[160,   179] loss:  tensor([0.4616, 0.6419, 0.6223, 0.1541]) tensor(1.8799)\n",
      "[180,   199] loss:  tensor([0.4630, 0.6375, 0.6257, 0.1553]) tensor(1.8816)\n",
      "[200,   219] loss:  tensor([0.4701, 0.6406, 0.6248, 0.1555]) tensor(1.8910)\n",
      "[220,   239] loss:  tensor([0.4632, 0.6334, 0.6296, 0.1537]) tensor(1.8799)\n",
      "[240,   259] loss:  tensor([0.4510, 0.6291, 0.6329, 0.1539]) tensor(1.8670)\n",
      "[260,   279] loss:  tensor([0.4578, 0.6359, 0.6236, 0.1528]) tensor(1.8701)\n",
      "[280,   299] loss:  tensor([0.4555, 0.6331, 0.6288, 0.1546]) tensor(1.8721)\n",
      "[300,   319] loss:  tensor([0.4592, 0.6369, 0.6265, 0.1518]) tensor(1.8744)\n",
      "[320,   339] loss:  tensor([0.4630, 0.6373, 0.6228, 0.1567]) tensor(1.8798)\n",
      "[340,   359] loss:  tensor([0.4587, 0.6333, 0.6245, 0.1529]) tensor(1.8694)\n",
      "[360,   379] loss:  tensor([0.4574, 0.6329, 0.6278, 0.1558]) tensor(1.8738)\n",
      "[380,   399] loss:  tensor([0.4592, 0.6339, 0.6259, 0.1533]) tensor(1.8723)\n",
      "[400,   419] loss:  tensor([0.4590, 0.6367, 0.6254, 0.1559]) tensor(1.8770)\n",
      "[420,   439] loss:  tensor([0.4644, 0.6326, 0.6261, 0.1529]) tensor(1.8760)\n",
      "[440,   459] loss:  tensor([0.4608, 0.6322, 0.6324, 0.1536]) tensor(1.8790)\n",
      "[460,   479] loss:  tensor([0.4615, 0.6342, 0.6261, 0.1539]) tensor(1.8758)\n",
      "[480,   499] loss:  tensor([0.4658, 0.6302, 0.6278, 0.1531]) tensor(1.8769)\n",
      "[500,   519] loss:  tensor([0.4682, 0.6347, 0.6267, 0.1543]) tensor(1.8839)\n",
      "[520,   539] loss:  tensor([0.4557, 0.6391, 0.6204, 0.1537]) tensor(1.8688)\n",
      "[540,   559] loss:  tensor([0.4637, 0.6383, 0.6244, 0.1519]) tensor(1.8782)\n",
      "[560,   579] loss:  tensor([0.4635, 0.6365, 0.6228, 0.1547]) tensor(1.8774)\n",
      "[580,   599] loss:  tensor([0.4607, 0.6405, 0.6208, 0.1560]) tensor(1.8780)\n",
      "[600,   619] loss:  tensor([0.4623, 0.6352, 0.6278, 0.1570]) tensor(1.8824)\n",
      "[620,   639] loss:  tensor([0.4590, 0.6388, 0.6213, 0.1535]) tensor(1.8726)\n",
      "[640,   659] loss:  tensor([0.4635, 0.6343, 0.6252, 0.1536]) tensor(1.8767)\n",
      "[660,   679] loss:  tensor([0.4538, 0.6350, 0.6251, 0.1551]) tensor(1.8689)\n",
      "[680,   699] loss:  tensor([0.4601, 0.6345, 0.6288, 0.1564]) tensor(1.8798)\n",
      "[700,   719] loss:  tensor([0.4610, 0.6360, 0.6231, 0.1575]) tensor(1.8776)\n",
      "[720,   739] loss:  tensor([0.4556, 0.6317, 0.6271, 0.1584]) tensor(1.8728)\n",
      "[740,   759] loss:  tensor([0.4537, 0.6355, 0.6211, 0.1537]) tensor(1.8640)\n",
      "[760,   779] loss:  tensor([0.4642, 0.6365, 0.6236, 0.1533]) tensor(1.8776)\n",
      "[780,   799] loss:  tensor([0.4648, 0.6334, 0.6290, 0.1532]) tensor(1.8804)\n",
      "[800,   819] loss:  tensor([0.4670, 0.6345, 0.6266, 0.1540]) tensor(1.8820)\n",
      "[820,   839] loss:  tensor([0.4679, 0.6379, 0.6272, 0.1554]) tensor(1.8884)\n",
      "[840,   859] loss:  tensor([0.4624, 0.6338, 0.6256, 0.1572]) tensor(1.8790)\n",
      "[860,   879] loss:  tensor([0.4600, 0.6358, 0.6273, 0.1535]) tensor(1.8767)\n",
      "[880,   899] loss:  tensor([0.4552, 0.6332, 0.6255, 0.1545]) tensor(1.8684)\n",
      "[900,   919] loss:  tensor([0.4596, 0.6326, 0.6288, 0.1544]) tensor(1.8754)\n",
      "[920,   939] loss:  tensor([0.4686, 0.6350, 0.6322, 0.1535]) tensor(1.8892)\n",
      "[940,   959] loss:  tensor([0.4625, 0.6368, 0.6279, 0.1536]) tensor(1.8808)\n",
      "[960,   979] loss:  tensor([0.4633, 0.6293, 0.6323, 0.1531]) tensor(1.8780)\n",
      "[980,   999] loss:  tensor([0.4613, 0.6335, 0.6285, 0.1519]) tensor(1.8753)\n",
      "[1000,  1019] loss:  tensor([0.4658, 0.6386, 0.6215, 0.1560]) tensor(1.8818)\n",
      "[1020,  1039] loss:  tensor([0.4633, 0.6363, 0.6252, 0.1556]) tensor(1.8804)\n",
      "[1040,  1059] loss:  tensor([0.4567, 0.6357, 0.6249, 0.1521]) tensor(1.8694)\n",
      "[1060,  1079] loss:  tensor([0.4622, 0.6339, 0.6243, 0.1547]) tensor(1.8751)\n",
      "[1080,  1099] loss:  tensor([0.4564, 0.6338, 0.6277, 0.1549]) tensor(1.8728)\n",
      "[1100,  1119] loss:  tensor([0.4572, 0.6375, 0.6263, 0.1542]) tensor(1.8751)\n",
      "[1120,  1139] loss:  tensor([0.4570, 0.6339, 0.6243, 0.1529]) tensor(1.8680)\n",
      "[1140,  1159] loss:  tensor([0.4677, 0.6346, 0.6244, 0.1540]) tensor(1.8807)\n",
      "[1160,  1179] loss:  tensor([0.4553, 0.6403, 0.6217, 0.1554]) tensor(1.8727)\n",
      "[1180,  1199] loss:  tensor([0.4605, 0.6357, 0.6254, 0.1537]) tensor(1.8753)\n",
      "[1200,  1219] loss:  tensor([0.4597, 0.6416, 0.6212, 0.1537]) tensor(1.8763)\n",
      "[1220,  1239] loss:  tensor([0.4576, 0.6306, 0.6304, 0.1551]) tensor(1.8737)\n",
      "[1240,  1259] loss:  tensor([0.4522, 0.6357, 0.6241, 0.1519]) tensor(1.8639)\n",
      "[1260,  1279] loss:  tensor([0.4650, 0.6349, 0.6252, 0.1531]) tensor(1.8782)\n",
      "[1280,  1299] loss:  tensor([0.4545, 0.6380, 0.6252, 0.1562]) tensor(1.8739)\n",
      "[1300,  1319] loss:  tensor([0.4574, 0.6314, 0.6307, 0.1556]) tensor(1.8752)\n",
      "[1320,  1339] loss:  tensor([0.4532, 0.6332, 0.6290, 0.1548]) tensor(1.8701)\n",
      "[1340,  1359] loss:  tensor([0.4525, 0.6344, 0.6297, 0.1551]) tensor(1.8718)\n",
      "[1360,  1379] loss:  tensor([0.4645, 0.6362, 0.6291, 0.1533]) tensor(1.8832)\n",
      "[1380,  1399] loss:  tensor([0.4589, 0.6350, 0.6263, 0.1540]) tensor(1.8743)\n",
      "[1400,  1419] loss:  tensor([0.4595, 0.6339, 0.6275, 0.1548]) tensor(1.8758)\n",
      "[1420,  1439] loss:  tensor([0.4598, 0.6353, 0.6245, 0.1548]) tensor(1.8744)\n",
      "[1440,  1459] loss:  tensor([0.4685, 0.6276, 0.6326, 0.1563]) tensor(1.8850)\n",
      "[1460,  1479] loss:  tensor([0.4525, 0.6361, 0.6302, 0.1569]) tensor(1.8757)\n",
      "[1480,  1499] loss:  tensor([0.4602, 0.6353, 0.6298, 0.1548]) tensor(1.8800)\n",
      "[1500,  1519] loss:  tensor([0.4619, 0.6345, 0.6284, 0.1532]) tensor(1.8780)\n",
      "[1520,  1539] loss:  tensor([0.4601, 0.6326, 0.6293, 0.1549]) tensor(1.8769)\n",
      "[1540,  1559] loss:  tensor([0.4621, 0.6386, 0.6226, 0.1579]) tensor(1.8813)\n",
      "validation\n"
     ]
    },
    {
     "data": {
      "application/vnd.jupyter.widget-view+json": {
       "model_id": "437e8ccafcef42b89ff649619c65ef41",
       "version_major": 2,
       "version_minor": 0
      },
      "text/plain": [
       "  0%|          | 0/125 [00:00<?, ?it/s]"
      ]
     },
     "metadata": {},
     "output_type": "display_data"
    },
    {
     "name": "stdout",
     "output_type": "stream",
     "text": [
      "validation loss for epoch 29: tensor([0.4609, 0.6328, 0.6236, 0.1557]) 1.87312566556001\n"
     ]
    },
    {
     "data": {
      "application/vnd.jupyter.widget-view+json": {
       "model_id": "b8d01fa8989543bf8a568b0a0202585c",
       "version_major": 2,
       "version_minor": 0
      },
      "text/plain": [
       "  0%|          | 0/1544 [00:00<?, ?it/s]"
      ]
     },
     "metadata": {},
     "output_type": "display_data"
    },
    {
     "name": "stdout",
     "output_type": "stream",
     "text": [
      "[20,    39] loss:  tensor([0.4639, 0.6352, 0.6288, 0.1543]) tensor(1.8823)\n",
      "[40,    59] loss:  tensor([0.4599, 0.6349, 0.6261, 0.1540]) tensor(1.8749)\n",
      "[60,    79] loss:  tensor([0.4627, 0.6368, 0.6246, 0.1550]) tensor(1.8791)\n",
      "[80,    99] loss:  tensor([0.4585, 0.6373, 0.6234, 0.1560]) tensor(1.8751)\n",
      "[100,   119] loss:  tensor([0.4608, 0.6347, 0.6285, 0.1551]) tensor(1.8792)\n",
      "[120,   139] loss:  tensor([0.4605, 0.6383, 0.6232, 0.1563]) tensor(1.8782)\n",
      "[140,   159] loss:  tensor([0.4552, 0.6350, 0.6258, 0.1548]) tensor(1.8708)\n",
      "[160,   179] loss:  tensor([0.4596, 0.6357, 0.6265, 0.1530]) tensor(1.8748)\n",
      "[180,   199] loss:  tensor([0.4541, 0.6351, 0.6285, 0.1543]) tensor(1.8720)\n",
      "[200,   219] loss:  tensor([0.4562, 0.6316, 0.6270, 0.1534]) tensor(1.8682)\n",
      "[220,   239] loss:  tensor([0.4624, 0.6330, 0.6280, 0.1520]) tensor(1.8754)\n",
      "[240,   259] loss:  tensor([0.4545, 0.6339, 0.6269, 0.1524]) tensor(1.8678)\n",
      "[260,   279] loss:  tensor([0.4631, 0.6361, 0.6276, 0.1535]) tensor(1.8804)\n",
      "[280,   299] loss:  tensor([0.4678, 0.6393, 0.6219, 0.1555]) tensor(1.8846)\n",
      "[300,   319] loss:  tensor([0.4610, 0.6337, 0.6273, 0.1533]) tensor(1.8752)\n",
      "[320,   339] loss:  tensor([0.4619, 0.6391, 0.6237, 0.1526]) tensor(1.8773)\n",
      "[340,   359] loss:  tensor([0.4584, 0.6339, 0.6299, 0.1558]) tensor(1.8780)\n",
      "[360,   379] loss:  tensor([0.4644, 0.6357, 0.6254, 0.1545]) tensor(1.8799)\n",
      "[380,   399] loss:  tensor([0.4599, 0.6341, 0.6295, 0.1550]) tensor(1.8786)\n",
      "[400,   419] loss:  tensor([0.4636, 0.6386, 0.6238, 0.1537]) tensor(1.8797)\n",
      "[420,   439] loss:  tensor([0.4485, 0.6336, 0.6267, 0.1545]) tensor(1.8632)\n",
      "[440,   459] loss:  tensor([0.4552, 0.6341, 0.6292, 0.1531]) tensor(1.8715)\n",
      "[460,   479] loss:  tensor([0.4572, 0.6361, 0.6229, 0.1554]) tensor(1.8715)\n",
      "[480,   499] loss:  tensor([0.4576, 0.6378, 0.6245, 0.1540]) tensor(1.8738)\n",
      "[500,   519] loss:  tensor([0.4612, 0.6340, 0.6270, 0.1529]) tensor(1.8752)\n",
      "[520,   539] loss:  tensor([0.4580, 0.6397, 0.6247, 0.1567]) tensor(1.8792)\n",
      "[540,   559] loss:  tensor([0.4606, 0.6362, 0.6237, 0.1551]) tensor(1.8756)\n",
      "[560,   579] loss:  tensor([0.4569, 0.6316, 0.6290, 0.1532]) tensor(1.8707)\n",
      "[580,   599] loss:  tensor([0.4628, 0.6331, 0.6279, 0.1558]) tensor(1.8796)\n",
      "[600,   619] loss:  tensor([0.4659, 0.6375, 0.6253, 0.1526]) tensor(1.8813)\n",
      "[620,   639] loss:  tensor([0.4633, 0.6349, 0.6259, 0.1521]) tensor(1.8762)\n",
      "[640,   659] loss:  tensor([0.4606, 0.6392, 0.6260, 0.1537]) tensor(1.8795)\n",
      "[660,   679] loss:  tensor([0.4579, 0.6377, 0.6228, 0.1556]) tensor(1.8740)\n",
      "[680,   699] loss:  tensor([0.4555, 0.6330, 0.6267, 0.1550]) tensor(1.8703)\n",
      "[700,   719] loss:  tensor([0.4594, 0.6341, 0.6252, 0.1544]) tensor(1.8730)\n",
      "[720,   739] loss:  tensor([0.4528, 0.6390, 0.6220, 0.1545]) tensor(1.8682)\n",
      "[740,   759] loss:  tensor([0.4614, 0.6352, 0.6272, 0.1557]) tensor(1.8795)\n",
      "[760,   779] loss:  tensor([0.4616, 0.6292, 0.6292, 0.1536]) tensor(1.8736)\n",
      "[780,   799] loss:  tensor([0.4553, 0.6294, 0.6315, 0.1560]) tensor(1.8721)\n",
      "[800,   819] loss:  tensor([0.4584, 0.6345, 0.6272, 0.1526]) tensor(1.8726)\n",
      "[820,   839] loss:  tensor([0.4539, 0.6357, 0.6240, 0.1550]) tensor(1.8686)\n",
      "[840,   859] loss:  tensor([0.4509, 0.6357, 0.6260, 0.1564]) tensor(1.8689)\n",
      "[860,   879] loss:  tensor([0.4574, 0.6327, 0.6275, 0.1541]) tensor(1.8717)\n",
      "[880,   899] loss:  tensor([0.4633, 0.6347, 0.6295, 0.1542]) tensor(1.8817)\n",
      "[900,   919] loss:  tensor([0.4660, 0.6363, 0.6233, 0.1526]) tensor(1.8782)\n",
      "[920,   939] loss:  tensor([0.4535, 0.6320, 0.6275, 0.1536]) tensor(1.8666)\n",
      "[940,   959] loss:  tensor([0.4552, 0.6366, 0.6198, 0.1533]) tensor(1.8648)\n",
      "[960,   979] loss:  tensor([0.4614, 0.6334, 0.6284, 0.1522]) tensor(1.8754)\n",
      "[980,   999] loss:  tensor([0.4629, 0.6390, 0.6235, 0.1557]) tensor(1.8811)\n",
      "[1000,  1019] loss:  tensor([0.4627, 0.6307, 0.6333, 0.1552]) tensor(1.8819)\n",
      "[1020,  1039] loss:  tensor([0.4650, 0.6297, 0.6323, 0.1560]) tensor(1.8830)\n",
      "[1040,  1059] loss:  tensor([0.4620, 0.6406, 0.6220, 0.1535]) tensor(1.8781)\n",
      "[1060,  1079] loss:  tensor([0.4653, 0.6407, 0.6201, 0.1562]) tensor(1.8823)\n",
      "[1080,  1099] loss:  tensor([0.4638, 0.6362, 0.6249, 0.1545]) tensor(1.8794)\n",
      "[1100,  1119] loss:  tensor([0.4622, 0.6400, 0.6225, 0.1550]) tensor(1.8796)\n",
      "[1120,  1139] loss:  tensor([0.4569, 0.6393, 0.6186, 0.1554]) tensor(1.8702)\n",
      "[1140,  1159] loss:  tensor([0.4632, 0.6311, 0.6316, 0.1570]) tensor(1.8829)\n",
      "[1160,  1179] loss:  tensor([0.4646, 0.6339, 0.6291, 0.1551]) tensor(1.8829)\n",
      "[1180,  1199] loss:  tensor([0.4640, 0.6326, 0.6285, 0.1531]) tensor(1.8781)\n",
      "[1200,  1219] loss:  tensor([0.4529, 0.6395, 0.6237, 0.1545]) tensor(1.8706)\n",
      "[1220,  1239] loss:  tensor([0.4574, 0.6355, 0.6274, 0.1555]) tensor(1.8759)\n",
      "[1240,  1259] loss:  tensor([0.4591, 0.6415, 0.6224, 0.1558]) tensor(1.8788)\n",
      "[1260,  1279] loss:  tensor([0.4624, 0.6402, 0.6231, 0.1553]) tensor(1.8811)\n",
      "[1280,  1299] loss:  tensor([0.4607, 0.6385, 0.6221, 0.1533]) tensor(1.8747)\n",
      "[1300,  1319] loss:  tensor([0.4554, 0.6408, 0.6218, 0.1578]) tensor(1.8757)\n",
      "[1320,  1339] loss:  tensor([0.4572, 0.6407, 0.6207, 0.1529]) tensor(1.8715)\n",
      "[1340,  1359] loss:  tensor([0.4649, 0.6312, 0.6279, 0.1549]) tensor(1.8789)\n",
      "[1360,  1379] loss:  tensor([0.4611, 0.6343, 0.6294, 0.1550]) tensor(1.8798)\n",
      "[1380,  1399] loss:  tensor([0.4624, 0.6401, 0.6215, 0.1535]) tensor(1.8774)\n",
      "[1400,  1419] loss:  tensor([0.4608, 0.6363, 0.6232, 0.1536]) tensor(1.8738)\n",
      "[1420,  1439] loss:  tensor([0.4644, 0.6354, 0.6224, 0.1512]) tensor(1.8734)\n",
      "[1440,  1459] loss:  tensor([0.4589, 0.6327, 0.6280, 0.1521]) tensor(1.8717)\n",
      "[1460,  1479] loss:  tensor([0.4604, 0.6353, 0.6292, 0.1577]) tensor(1.8826)\n",
      "[1480,  1499] loss:  tensor([0.4672, 0.6406, 0.6183, 0.1530]) tensor(1.8791)\n",
      "[1500,  1519] loss:  tensor([0.4586, 0.6316, 0.6308, 0.1550]) tensor(1.8760)\n",
      "[1520,  1539] loss:  tensor([0.4633, 0.6338, 0.6256, 0.1532]) tensor(1.8759)\n",
      "[1540,  1559] loss:  tensor([0.4614, 0.6353, 0.6271, 0.1570]) tensor(1.8808)\n",
      "validation\n"
     ]
    },
    {
     "data": {
      "application/vnd.jupyter.widget-view+json": {
       "model_id": "9af65cd8380b48d28260df94ad0bc080",
       "version_major": 2,
       "version_minor": 0
      },
      "text/plain": [
       "  0%|          | 0/125 [00:00<?, ?it/s]"
      ]
     },
     "metadata": {},
     "output_type": "display_data"
    },
    {
     "name": "stdout",
     "output_type": "stream",
     "text": [
      "validation loss for epoch 30: tensor([0.4668, 0.6386, 0.6249, 0.1581]) 1.8883976985326358\n"
     ]
    },
    {
     "data": {
      "application/vnd.jupyter.widget-view+json": {
       "model_id": "eaf4ba21f2484008bbf70ba0be4bd618",
       "version_major": 2,
       "version_minor": 0
      },
      "text/plain": [
       "  0%|          | 0/1544 [00:00<?, ?it/s]"
      ]
     },
     "metadata": {},
     "output_type": "display_data"
    },
    {
     "name": "stdout",
     "output_type": "stream",
     "text": [
      "[20,    39] loss:  tensor([0.4612, 0.6336, 0.6267, 0.1534]) tensor(1.8750)\n",
      "[40,    59] loss:  tensor([0.4583, 0.6358, 0.6247, 0.1528]) tensor(1.8715)\n",
      "[60,    79] loss:  tensor([0.4556, 0.6346, 0.6273, 0.1529]) tensor(1.8704)\n",
      "[80,    99] loss:  tensor([0.4641, 0.6381, 0.6234, 0.1508]) tensor(1.8764)\n",
      "[100,   119] loss:  tensor([0.4597, 0.6391, 0.6227, 0.1547]) tensor(1.8761)\n",
      "[120,   139] loss:  tensor([0.4538, 0.6353, 0.6247, 0.1552]) tensor(1.8689)\n",
      "[140,   159] loss:  tensor([0.4586, 0.6381, 0.6231, 0.1522]) tensor(1.8719)\n",
      "[160,   179] loss:  tensor([0.4619, 0.6352, 0.6243, 0.1544]) tensor(1.8758)\n",
      "[180,   199] loss:  tensor([0.4587, 0.6396, 0.6184, 0.1551]) tensor(1.8718)\n",
      "[200,   219] loss:  tensor([0.4596, 0.6354, 0.6263, 0.1534]) tensor(1.8746)\n",
      "[220,   239] loss:  tensor([0.4663, 0.6365, 0.6248, 0.1539]) tensor(1.8815)\n",
      "[240,   259] loss:  tensor([0.4596, 0.6329, 0.6266, 0.1545]) tensor(1.8735)\n",
      "[260,   279] loss:  tensor([0.4586, 0.6389, 0.6202, 0.1530]) tensor(1.8707)\n",
      "[280,   299] loss:  tensor([0.4599, 0.6351, 0.6273, 0.1549]) tensor(1.8772)\n",
      "[300,   319] loss:  tensor([0.4612, 0.6372, 0.6277, 0.1535]) tensor(1.8796)\n",
      "[320,   339] loss:  tensor([0.4605, 0.6387, 0.6233, 0.1537]) tensor(1.8761)\n",
      "[340,   359] loss:  tensor([0.4587, 0.6287, 0.6334, 0.1540]) tensor(1.8747)\n",
      "[360,   379] loss:  tensor([0.4606, 0.6334, 0.6267, 0.1566]) tensor(1.8773)\n",
      "[380,   399] loss:  tensor([0.4590, 0.6374, 0.6250, 0.1545]) tensor(1.8760)\n",
      "[400,   419] loss:  tensor([0.4596, 0.6391, 0.6244, 0.1530]) tensor(1.8761)\n",
      "[420,   439] loss:  tensor([0.4561, 0.6368, 0.6254, 0.1531]) tensor(1.8715)\n",
      "[440,   459] loss:  tensor([0.4635, 0.6379, 0.6245, 0.1542]) tensor(1.8801)\n",
      "[460,   479] loss:  tensor([0.4542, 0.6335, 0.6279, 0.1532]) tensor(1.8688)\n",
      "[480,   499] loss:  tensor([0.4619, 0.6366, 0.6249, 0.1527]) tensor(1.8761)\n",
      "[500,   519] loss:  tensor([0.4559, 0.6382, 0.6214, 0.1552]) tensor(1.8708)\n",
      "[520,   539] loss:  tensor([0.4650, 0.6318, 0.6286, 0.1567]) tensor(1.8821)\n",
      "[540,   559] loss:  tensor([0.4571, 0.6336, 0.6295, 0.1539]) tensor(1.8740)\n",
      "[560,   579] loss:  tensor([0.4661, 0.6367, 0.6241, 0.1529]) tensor(1.8798)\n",
      "[580,   599] loss:  tensor([0.4618, 0.6402, 0.6194, 0.1543]) tensor(1.8757)\n",
      "[600,   619] loss:  tensor([0.4621, 0.6325, 0.6296, 0.1537]) tensor(1.8779)\n",
      "[620,   639] loss:  tensor([0.4641, 0.6403, 0.6234, 0.1557]) tensor(1.8835)\n",
      "[640,   659] loss:  tensor([0.4619, 0.6360, 0.6260, 0.1551]) tensor(1.8791)\n",
      "[660,   679] loss:  tensor([0.4591, 0.6360, 0.6246, 0.1530]) tensor(1.8727)\n",
      "[680,   699] loss:  tensor([0.4616, 0.6334, 0.6284, 0.1532]) tensor(1.8765)\n",
      "[700,   719] loss:  tensor([0.4573, 0.6344, 0.6281, 0.1557]) tensor(1.8756)\n",
      "[720,   739] loss:  tensor([0.4561, 0.6386, 0.6238, 0.1552]) tensor(1.8737)\n",
      "[740,   759] loss:  tensor([0.4580, 0.6380, 0.6228, 0.1530]) tensor(1.8718)\n",
      "[760,   779] loss:  tensor([0.4615, 0.6375, 0.6236, 0.1576]) tensor(1.8803)\n",
      "[780,   799] loss:  tensor([0.4596, 0.6372, 0.6238, 0.1516]) tensor(1.8722)\n",
      "[800,   819] loss:  tensor([0.4576, 0.6352, 0.6258, 0.1558]) tensor(1.8744)\n",
      "[820,   839] loss:  tensor([0.4626, 0.6310, 0.6278, 0.1524]) tensor(1.8738)\n",
      "[840,   859] loss:  tensor([0.4591, 0.6317, 0.6289, 0.1541]) tensor(1.8738)\n",
      "[860,   879] loss:  tensor([0.4578, 0.6394, 0.6219, 0.1543]) tensor(1.8733)\n",
      "[880,   899] loss:  tensor([0.4611, 0.6370, 0.6273, 0.1538]) tensor(1.8793)\n",
      "[900,   919] loss:  tensor([0.4591, 0.6388, 0.6243, 0.1565]) tensor(1.8787)\n",
      "[920,   939] loss:  tensor([0.4651, 0.6346, 0.6246, 0.1574]) tensor(1.8817)\n",
      "[940,   959] loss:  tensor([0.4686, 0.6341, 0.6255, 0.1582]) tensor(1.8865)\n",
      "[960,   979] loss:  tensor([0.4636, 0.6325, 0.6299, 0.1553]) tensor(1.8813)\n",
      "[980,   999] loss:  tensor([0.4652, 0.6345, 0.6258, 0.1517]) tensor(1.8773)\n",
      "[1000,  1019] loss:  tensor([0.4578, 0.6377, 0.6266, 0.1568]) tensor(1.8790)\n",
      "[1020,  1039] loss:  tensor([0.4630, 0.6383, 0.6263, 0.1566]) tensor(1.8842)\n",
      "[1040,  1059] loss:  tensor([0.4606, 0.6389, 0.6248, 0.1544]) tensor(1.8788)\n",
      "[1060,  1079] loss:  tensor([0.4534, 0.6344, 0.6241, 0.1560]) tensor(1.8678)\n",
      "[1080,  1099] loss:  tensor([0.4615, 0.6380, 0.6219, 0.1557]) tensor(1.8772)\n",
      "[1100,  1119] loss:  tensor([0.4612, 0.6377, 0.6250, 0.1572]) tensor(1.8811)\n",
      "[1120,  1139] loss:  tensor([0.4599, 0.6333, 0.6296, 0.1547]) tensor(1.8775)\n",
      "[1140,  1159] loss:  tensor([0.4563, 0.6336, 0.6260, 0.1528]) tensor(1.8689)\n",
      "[1160,  1179] loss:  tensor([0.4640, 0.6355, 0.6236, 0.1561]) tensor(1.8791)\n",
      "[1180,  1199] loss:  tensor([0.4590, 0.6374, 0.6231, 0.1564]) tensor(1.8759)\n",
      "[1200,  1219] loss:  tensor([0.4603, 0.6339, 0.6263, 0.1542]) tensor(1.8746)\n",
      "[1220,  1239] loss:  tensor([0.4601, 0.6332, 0.6325, 0.1541]) tensor(1.8798)\n",
      "[1240,  1259] loss:  tensor([0.4574, 0.6351, 0.6257, 0.1523]) tensor(1.8704)\n",
      "[1260,  1279] loss:  tensor([0.4539, 0.6367, 0.6239, 0.1556]) tensor(1.8701)\n",
      "[1280,  1299] loss:  tensor([0.4638, 0.6349, 0.6263, 0.1551]) tensor(1.8802)\n",
      "[1300,  1319] loss:  tensor([0.4623, 0.6391, 0.6245, 0.1534]) tensor(1.8793)\n",
      "[1320,  1339] loss:  tensor([0.4603, 0.6297, 0.6340, 0.1543]) tensor(1.8783)\n",
      "[1340,  1359] loss:  tensor([0.4617, 0.6373, 0.6232, 0.1545]) tensor(1.8768)\n",
      "[1360,  1379] loss:  tensor([0.4562, 0.6289, 0.6304, 0.1506]) tensor(1.8661)\n",
      "[1380,  1399] loss:  tensor([0.4588, 0.6380, 0.6243, 0.1551]) tensor(1.8763)\n",
      "[1400,  1419] loss:  tensor([0.4642, 0.6333, 0.6310, 0.1562]) tensor(1.8848)\n",
      "[1420,  1439] loss:  tensor([0.4541, 0.6300, 0.6300, 0.1555]) tensor(1.8696)\n",
      "[1440,  1459] loss:  tensor([0.4578, 0.6303, 0.6302, 0.1554]) tensor(1.8738)\n",
      "[1460,  1479] loss:  tensor([0.4638, 0.6332, 0.6306, 0.1530]) tensor(1.8807)\n",
      "[1480,  1499] loss:  tensor([0.4591, 0.6328, 0.6290, 0.1545]) tensor(1.8753)\n",
      "[1500,  1519] loss:  tensor([0.4653, 0.6404, 0.6253, 0.1572]) tensor(1.8881)\n",
      "[1520,  1539] loss:  tensor([0.4631, 0.6322, 0.6289, 0.1568]) tensor(1.8809)\n",
      "[1540,  1559] loss:  tensor([0.4569, 0.6290, 0.6318, 0.1538]) tensor(1.8716)\n",
      "validation\n"
     ]
    },
    {
     "data": {
      "application/vnd.jupyter.widget-view+json": {
       "model_id": "e6714087118a4ed780c8b0d68787816e",
       "version_major": 2,
       "version_minor": 0
      },
      "text/plain": [
       "  0%|          | 0/125 [00:00<?, ?it/s]"
      ]
     },
     "metadata": {},
     "output_type": "display_data"
    },
    {
     "name": "stdout",
     "output_type": "stream",
     "text": [
      "validation loss for epoch 31: tensor([0.4589, 0.6313, 0.6292, 0.1549]) 1.8742538142461163\n"
     ]
    },
    {
     "data": {
      "application/vnd.jupyter.widget-view+json": {
       "model_id": "1a59e41b52ee42ccb754182f8ee0fa33",
       "version_major": 2,
       "version_minor": 0
      },
      "text/plain": [
       "  0%|          | 0/1544 [00:00<?, ?it/s]"
      ]
     },
     "metadata": {},
     "output_type": "display_data"
    },
    {
     "name": "stdout",
     "output_type": "stream",
     "text": [
      "[20,    39] loss:  tensor([0.4649, 0.6364, 0.6240, 0.1541]) tensor(1.8794)\n",
      "[40,    59] loss:  tensor([0.4600, 0.6335, 0.6308, 0.1558]) tensor(1.8802)\n",
      "[60,    79] loss:  tensor([0.4554, 0.6366, 0.6205, 0.1543]) tensor(1.8668)\n",
      "[80,    99] loss:  tensor([0.4606, 0.6314, 0.6281, 0.1535]) tensor(1.8735)\n",
      "[100,   119] loss:  tensor([0.4622, 0.6350, 0.6240, 0.1567]) tensor(1.8779)\n",
      "[120,   139] loss:  tensor([0.4577, 0.6346, 0.6249, 0.1553]) tensor(1.8726)\n",
      "[140,   159] loss:  tensor([0.4592, 0.6356, 0.6243, 0.1551]) tensor(1.8742)\n",
      "[160,   179] loss:  tensor([0.4540, 0.6368, 0.6227, 0.1575]) tensor(1.8709)\n",
      "[180,   199] loss:  tensor([0.4605, 0.6378, 0.6264, 0.1558]) tensor(1.8805)\n",
      "[200,   219] loss:  tensor([0.4595, 0.6335, 0.6284, 0.1560]) tensor(1.8773)\n",
      "[220,   239] loss:  tensor([0.4620, 0.6375, 0.6259, 0.1574]) tensor(1.8827)\n",
      "[240,   259] loss:  tensor([0.4601, 0.6422, 0.6223, 0.1561]) tensor(1.8806)\n",
      "[260,   279] loss:  tensor([0.4637, 0.6283, 0.6309, 0.1534]) tensor(1.8764)\n",
      "[280,   299] loss:  tensor([0.4596, 0.6376, 0.6227, 0.1534]) tensor(1.8734)\n",
      "[300,   319] loss:  tensor([0.4562, 0.6338, 0.6260, 0.1550]) tensor(1.8709)\n",
      "[320,   339] loss:  tensor([0.4602, 0.6350, 0.6292, 0.1519]) tensor(1.8763)\n",
      "[340,   359] loss:  tensor([0.4652, 0.6378, 0.6248, 0.1550]) tensor(1.8829)\n",
      "[360,   379] loss:  tensor([0.4567, 0.6319, 0.6338, 0.1547]) tensor(1.8771)\n",
      "[380,   399] loss:  tensor([0.4611, 0.6351, 0.6270, 0.1571]) tensor(1.8803)\n",
      "[400,   419] loss:  tensor([0.4589, 0.6410, 0.6204, 0.1538]) tensor(1.8741)\n",
      "[420,   439] loss:  tensor([0.4609, 0.6341, 0.6234, 0.1534]) tensor(1.8718)\n",
      "[440,   459] loss:  tensor([0.4584, 0.6351, 0.6263, 0.1550]) tensor(1.8748)\n",
      "[460,   479] loss:  tensor([0.4637, 0.6347, 0.6297, 0.1567]) tensor(1.8848)\n",
      "[480,   499] loss:  tensor([0.4621, 0.6390, 0.6236, 0.1561]) tensor(1.8809)\n",
      "[500,   519] loss:  tensor([0.4591, 0.6363, 0.6262, 0.1538]) tensor(1.8754)\n",
      "[520,   539] loss:  tensor([0.4620, 0.6347, 0.6253, 0.1542]) tensor(1.8763)\n",
      "[540,   559] loss:  tensor([0.4560, 0.6299, 0.6289, 0.1527]) tensor(1.8675)\n",
      "[560,   579] loss:  tensor([0.4624, 0.6315, 0.6310, 0.1512]) tensor(1.8761)\n",
      "[580,   599] loss:  tensor([0.4598, 0.6348, 0.6257, 0.1520]) tensor(1.8722)\n",
      "[600,   619] loss:  tensor([0.4664, 0.6380, 0.6222, 0.1556]) tensor(1.8822)\n",
      "[620,   639] loss:  tensor([0.4641, 0.6304, 0.6313, 0.1532]) tensor(1.8790)\n",
      "[640,   659] loss:  tensor([0.4582, 0.6347, 0.6280, 0.1536]) tensor(1.8744)\n",
      "[660,   679] loss:  tensor([0.4545, 0.6321, 0.6281, 0.1525]) tensor(1.8673)\n",
      "[680,   699] loss:  tensor([0.4512, 0.6326, 0.6293, 0.1536]) tensor(1.8666)\n",
      "[700,   719] loss:  tensor([0.4572, 0.6352, 0.6279, 0.1525]) tensor(1.8728)\n",
      "[720,   739] loss:  tensor([0.4536, 0.6313, 0.6318, 0.1555]) tensor(1.8722)\n",
      "[740,   759] loss:  tensor([0.4492, 0.6325, 0.6274, 0.1538]) tensor(1.8629)\n",
      "[760,   779] loss:  tensor([0.4536, 0.6271, 0.6340, 0.1540]) tensor(1.8687)\n",
      "[780,   799] loss:  tensor([0.4680, 0.6325, 0.6260, 0.1571]) tensor(1.8837)\n",
      "[800,   819] loss:  tensor([0.4628, 0.6341, 0.6286, 0.1534]) tensor(1.8789)\n",
      "[820,   839] loss:  tensor([0.4565, 0.6367, 0.6228, 0.1527]) tensor(1.8688)\n",
      "[840,   859] loss:  tensor([0.4554, 0.6347, 0.6275, 0.1528]) tensor(1.8704)\n",
      "[860,   879] loss:  tensor([0.4536, 0.6378, 0.6252, 0.1522]) tensor(1.8687)\n",
      "[880,   899] loss:  tensor([0.4573, 0.6358, 0.6277, 0.1552]) tensor(1.8760)\n",
      "[900,   919] loss:  tensor([0.4591, 0.6328, 0.6305, 0.1553]) tensor(1.8776)\n",
      "[920,   939] loss:  tensor([0.4573, 0.6340, 0.6285, 0.1523]) tensor(1.8722)\n",
      "[940,   959] loss:  tensor([0.4513, 0.6364, 0.6251, 0.1539]) tensor(1.8667)\n",
      "[960,   979] loss:  tensor([0.4581, 0.6361, 0.6289, 0.1552]) tensor(1.8782)\n",
      "[980,   999] loss:  tensor([0.4587, 0.6313, 0.6250, 0.1551]) tensor(1.8701)\n",
      "[1000,  1019] loss:  tensor([0.4636, 0.6391, 0.6220, 0.1545]) tensor(1.8791)\n",
      "[1020,  1039] loss:  tensor([0.4575, 0.6393, 0.6217, 0.1535]) tensor(1.8720)\n",
      "[1040,  1059] loss:  tensor([0.4569, 0.6358, 0.6250, 0.1513]) tensor(1.8690)\n",
      "[1060,  1079] loss:  tensor([0.4668, 0.6342, 0.6260, 0.1540]) tensor(1.8810)\n",
      "[1080,  1099] loss:  tensor([0.4614, 0.6314, 0.6293, 0.1533]) tensor(1.8755)\n",
      "[1100,  1119] loss:  tensor([0.4571, 0.6285, 0.6308, 0.1548]) tensor(1.8712)\n",
      "[1120,  1139] loss:  tensor([0.4500, 0.6342, 0.6273, 0.1524]) tensor(1.8639)\n",
      "[1140,  1159] loss:  tensor([0.4557, 0.6328, 0.6256, 0.1551]) tensor(1.8692)\n",
      "[1160,  1179] loss:  tensor([0.4559, 0.6340, 0.6273, 0.1535]) tensor(1.8707)\n",
      "[1180,  1199] loss:  tensor([0.4578, 0.6389, 0.6198, 0.1531]) tensor(1.8695)\n",
      "[1200,  1219] loss:  tensor([0.4498, 0.6346, 0.6266, 0.1520]) tensor(1.8629)\n",
      "[1220,  1239] loss:  tensor([0.4589, 0.6290, 0.6307, 0.1551]) tensor(1.8738)\n",
      "[1240,  1259] loss:  tensor([0.4669, 0.6311, 0.6286, 0.1556]) tensor(1.8822)\n",
      "[1260,  1279] loss:  tensor([0.4585, 0.6325, 0.6291, 0.1552]) tensor(1.8753)\n",
      "[1280,  1299] loss:  tensor([0.4618, 0.6326, 0.6260, 0.1531]) tensor(1.8735)\n",
      "[1300,  1319] loss:  tensor([0.4612, 0.6339, 0.6243, 0.1511]) tensor(1.8706)\n",
      "[1320,  1339] loss:  tensor([0.4564, 0.6357, 0.6261, 0.1524]) tensor(1.8705)\n",
      "[1340,  1359] loss:  tensor([0.4550, 0.6313, 0.6290, 0.1542]) tensor(1.8695)\n",
      "[1360,  1379] loss:  tensor([0.4655, 0.6338, 0.6257, 0.1531]) tensor(1.8781)\n",
      "[1380,  1399] loss:  tensor([0.4595, 0.6401, 0.6247, 0.1556]) tensor(1.8798)\n",
      "[1400,  1419] loss:  tensor([0.4603, 0.6321, 0.6327, 0.1537]) tensor(1.8788)\n",
      "[1420,  1439] loss:  tensor([0.4644, 0.6294, 0.6306, 0.1534]) tensor(1.8778)\n",
      "[1440,  1459] loss:  tensor([0.4617, 0.6315, 0.6265, 0.1510]) tensor(1.8706)\n",
      "[1460,  1479] loss:  tensor([0.4611, 0.6300, 0.6283, 0.1526]) tensor(1.8719)\n",
      "[1480,  1499] loss:  tensor([0.4587, 0.6379, 0.6221, 0.1554]) tensor(1.8741)\n",
      "[1500,  1519] loss:  tensor([0.4583, 0.6377, 0.6223, 0.1536]) tensor(1.8719)\n",
      "[1520,  1539] loss:  tensor([0.4619, 0.6395, 0.6267, 0.1533]) tensor(1.8813)\n",
      "[1540,  1559] loss:  tensor([0.4609, 0.6357, 0.6268, 0.1556]) tensor(1.8790)\n",
      "validation\n"
     ]
    },
    {
     "data": {
      "application/vnd.jupyter.widget-view+json": {
       "model_id": "0c43f1a8ecfb49bbb14f5a73b57f564c",
       "version_major": 2,
       "version_minor": 0
      },
      "text/plain": [
       "  0%|          | 0/125 [00:00<?, ?it/s]"
      ]
     },
     "metadata": {},
     "output_type": "display_data"
    },
    {
     "name": "stdout",
     "output_type": "stream",
     "text": [
      "validation loss for epoch 32: tensor([0.4583, 0.6308, 0.6318, 0.1574]) 1.8783192358588072\n"
     ]
    },
    {
     "data": {
      "application/vnd.jupyter.widget-view+json": {
       "model_id": "77c73ed7322d481eae0717ff7f2d57fe",
       "version_major": 2,
       "version_minor": 0
      },
      "text/plain": [
       "  0%|          | 0/1544 [00:00<?, ?it/s]"
      ]
     },
     "metadata": {},
     "output_type": "display_data"
    },
    {
     "name": "stdout",
     "output_type": "stream",
     "text": [
      "[20,    39] loss:  tensor([0.4580, 0.6354, 0.6253, 0.1544]) tensor(1.8731)\n",
      "[40,    59] loss:  tensor([0.4506, 0.6360, 0.6273, 0.1522]) tensor(1.8662)\n",
      "[60,    79] loss:  tensor([0.4569, 0.6331, 0.6276, 0.1536]) tensor(1.8711)\n",
      "[80,    99] loss:  tensor([0.4562, 0.6370, 0.6223, 0.1538]) tensor(1.8693)\n",
      "[100,   119] loss:  tensor([0.4535, 0.6374, 0.6221, 0.1534]) tensor(1.8663)\n",
      "[120,   139] loss:  tensor([0.4600, 0.6341, 0.6291, 0.1512]) tensor(1.8743)\n",
      "[140,   159] loss:  tensor([0.4575, 0.6379, 0.6264, 0.1569]) tensor(1.8788)\n",
      "[160,   179] loss:  tensor([0.4624, 0.6271, 0.6323, 0.1517]) tensor(1.8736)\n",
      "[180,   199] loss:  tensor([0.4573, 0.6351, 0.6262, 0.1564]) tensor(1.8749)\n",
      "[200,   219] loss:  tensor([0.4544, 0.6409, 0.6213, 0.1541]) tensor(1.8707)\n",
      "[220,   239] loss:  tensor([0.4713, 0.6362, 0.6248, 0.1522]) tensor(1.8844)\n",
      "[240,   259] loss:  tensor([0.4589, 0.6333, 0.6259, 0.1539]) tensor(1.8720)\n",
      "[260,   279] loss:  tensor([0.4590, 0.6355, 0.6253, 0.1540]) tensor(1.8738)\n",
      "[280,   299] loss:  tensor([0.4532, 0.6389, 0.6229, 0.1558]) tensor(1.8708)\n",
      "[300,   319] loss:  tensor([0.4582, 0.6386, 0.6216, 0.1535]) tensor(1.8719)\n",
      "[320,   339] loss:  tensor([0.4522, 0.6370, 0.6217, 0.1535]) tensor(1.8644)\n",
      "[340,   359] loss:  tensor([0.4632, 0.6319, 0.6321, 0.1543]) tensor(1.8815)\n",
      "[360,   379] loss:  tensor([0.4489, 0.6325, 0.6312, 0.1523]) tensor(1.8650)\n",
      "[380,   399] loss:  tensor([0.4611, 0.6396, 0.6197, 0.1544]) tensor(1.8748)\n",
      "[400,   419] loss:  tensor([0.4575, 0.6380, 0.6256, 0.1555]) tensor(1.8766)\n",
      "[420,   439] loss:  tensor([0.4624, 0.6346, 0.6279, 0.1533]) tensor(1.8781)\n",
      "[440,   459] loss:  tensor([0.4541, 0.6368, 0.6226, 0.1539]) tensor(1.8674)\n",
      "[460,   479] loss:  tensor([0.4554, 0.6358, 0.6268, 0.1531]) tensor(1.8712)\n",
      "[480,   499] loss:  tensor([0.4657, 0.6385, 0.6239, 0.1537]) tensor(1.8818)\n",
      "[500,   519] loss:  tensor([0.4556, 0.6339, 0.6257, 0.1547]) tensor(1.8699)\n",
      "[520,   539] loss:  tensor([0.4618, 0.6315, 0.6294, 0.1533]) tensor(1.8760)\n",
      "[540,   559] loss:  tensor([0.4601, 0.6350, 0.6263, 0.1561]) tensor(1.8776)\n",
      "[560,   579] loss:  tensor([0.4619, 0.6387, 0.6229, 0.1561]) tensor(1.8796)\n",
      "[580,   599] loss:  tensor([0.4517, 0.6330, 0.6274, 0.1536]) tensor(1.8655)\n",
      "[600,   619] loss:  tensor([0.4574, 0.6377, 0.6221, 0.1530]) tensor(1.8702)\n",
      "[620,   639] loss:  tensor([0.4574, 0.6343, 0.6264, 0.1541]) tensor(1.8722)\n",
      "[640,   659] loss:  tensor([0.4566, 0.6331, 0.6287, 0.1551]) tensor(1.8735)\n",
      "[660,   679] loss:  tensor([0.4504, 0.6346, 0.6220, 0.1534]) tensor(1.8604)\n",
      "[680,   699] loss:  tensor([0.4465, 0.6401, 0.6237, 0.1532]) tensor(1.8636)\n",
      "[700,   719] loss:  tensor([0.4587, 0.6338, 0.6273, 0.1559]) tensor(1.8757)\n",
      "[720,   739] loss:  tensor([0.4588, 0.6347, 0.6275, 0.1594]) tensor(1.8804)\n",
      "[740,   759] loss:  tensor([0.4606, 0.6317, 0.6310, 0.1529]) tensor(1.8762)\n",
      "[760,   779] loss:  tensor([0.4575, 0.6332, 0.6274, 0.1534]) tensor(1.8715)\n",
      "[780,   799] loss:  tensor([0.4579, 0.6403, 0.6234, 0.1547]) tensor(1.8763)\n",
      "[800,   819] loss:  tensor([0.4644, 0.6358, 0.6262, 0.1550]) tensor(1.8814)\n",
      "[820,   839] loss:  tensor([0.4591, 0.6337, 0.6248, 0.1527]) tensor(1.8704)\n",
      "[840,   859] loss:  tensor([0.4622, 0.6336, 0.6270, 0.1546]) tensor(1.8775)\n",
      "[860,   879] loss:  tensor([0.4495, 0.6326, 0.6264, 0.1533]) tensor(1.8618)\n",
      "[880,   899] loss:  tensor([0.4545, 0.6336, 0.6225, 0.1524]) tensor(1.8630)\n",
      "[900,   919] loss:  tensor([0.4542, 0.6360, 0.6229, 0.1558]) tensor(1.8689)\n",
      "[920,   939] loss:  tensor([0.4555, 0.6378, 0.6219, 0.1547]) tensor(1.8700)\n",
      "[940,   959] loss:  tensor([0.4683, 0.6358, 0.6276, 0.1499]) tensor(1.8816)\n",
      "[960,   979] loss:  tensor([0.4565, 0.6414, 0.6209, 0.1557]) tensor(1.8746)\n",
      "[980,   999] loss:  tensor([0.4551, 0.6347, 0.6268, 0.1526]) tensor(1.8692)\n",
      "[1000,  1019] loss:  tensor([0.4608, 0.6399, 0.6251, 0.1520]) tensor(1.8777)\n",
      "[1020,  1039] loss:  tensor([0.4635, 0.6329, 0.6245, 0.1529]) tensor(1.8739)\n",
      "[1040,  1059] loss:  tensor([0.4655, 0.6324, 0.6280, 0.1519]) tensor(1.8778)\n",
      "[1060,  1079] loss:  tensor([0.4495, 0.6315, 0.6283, 0.1562]) tensor(1.8655)\n",
      "[1080,  1099] loss:  tensor([0.4506, 0.6344, 0.6237, 0.1521]) tensor(1.8608)\n",
      "[1100,  1119] loss:  tensor([0.4545, 0.6349, 0.6217, 0.1540]) tensor(1.8651)\n",
      "[1120,  1139] loss:  tensor([0.4583, 0.6363, 0.6266, 0.1550]) tensor(1.8762)\n",
      "[1140,  1159] loss:  tensor([0.4570, 0.6305, 0.6301, 0.1553]) tensor(1.8729)\n",
      "[1160,  1179] loss:  tensor([0.4629, 0.6392, 0.6238, 0.1521]) tensor(1.8779)\n",
      "[1180,  1199] loss:  tensor([0.4584, 0.6314, 0.6284, 0.1531]) tensor(1.8713)\n",
      "[1200,  1219] loss:  tensor([0.4524, 0.6318, 0.6285, 0.1536]) tensor(1.8662)\n",
      "[1220,  1239] loss:  tensor([0.4606, 0.6370, 0.6274, 0.1532]) tensor(1.8783)\n",
      "[1240,  1259] loss:  tensor([0.4504, 0.6319, 0.6262, 0.1556]) tensor(1.8642)\n",
      "[1260,  1279] loss:  tensor([0.4605, 0.6363, 0.6275, 0.1532]) tensor(1.8775)\n",
      "[1280,  1299] loss:  tensor([0.4595, 0.6302, 0.6264, 0.1584]) tensor(1.8744)\n",
      "[1300,  1319] loss:  tensor([0.4525, 0.6306, 0.6273, 0.1567]) tensor(1.8671)\n",
      "[1320,  1339] loss:  tensor([0.4599, 0.6390, 0.6245, 0.1530]) tensor(1.8764)\n",
      "[1340,  1359] loss:  tensor([0.4562, 0.6334, 0.6257, 0.1540]) tensor(1.8694)\n",
      "[1360,  1379] loss:  tensor([0.4625, 0.6413, 0.6238, 0.1554]) tensor(1.8830)\n",
      "[1380,  1399] loss:  tensor([0.4650, 0.6411, 0.6185, 0.1538]) tensor(1.8785)\n",
      "[1400,  1419] loss:  tensor([0.4635, 0.6405, 0.6224, 0.1551]) tensor(1.8815)\n",
      "[1420,  1439] loss:  tensor([0.4592, 0.6318, 0.6284, 0.1521]) tensor(1.8716)\n",
      "[1440,  1459] loss:  tensor([0.4631, 0.6290, 0.6325, 0.1514]) tensor(1.8760)\n",
      "[1460,  1479] loss:  tensor([0.4585, 0.6408, 0.6222, 0.1551]) tensor(1.8766)\n",
      "[1480,  1499] loss:  tensor([0.4585, 0.6361, 0.6259, 0.1543]) tensor(1.8748)\n",
      "[1500,  1519] loss:  tensor([0.4530, 0.6365, 0.6274, 0.1566]) tensor(1.8735)\n",
      "[1520,  1539] loss:  tensor([0.4601, 0.6366, 0.6253, 0.1544]) tensor(1.8764)\n",
      "[1540,  1559] loss:  tensor([0.4613, 0.6323, 0.6305, 0.1559]) tensor(1.8800)\n",
      "validation\n"
     ]
    },
    {
     "data": {
      "application/vnd.jupyter.widget-view+json": {
       "model_id": "bc393357c9014faba53d8ded8be6abea",
       "version_major": 2,
       "version_minor": 0
      },
      "text/plain": [
       "  0%|          | 0/125 [00:00<?, ?it/s]"
      ]
     },
     "metadata": {},
     "output_type": "display_data"
    },
    {
     "name": "stdout",
     "output_type": "stream",
     "text": [
      "validation loss for epoch 33: tensor([0.4606, 0.6342, 0.6243, 0.1547]) 1.8737988109966175\n"
     ]
    },
    {
     "data": {
      "application/vnd.jupyter.widget-view+json": {
       "model_id": "c9424c943d4e40649ad93e2a06c38af6",
       "version_major": 2,
       "version_minor": 0
      },
      "text/plain": [
       "  0%|          | 0/1544 [00:00<?, ?it/s]"
      ]
     },
     "metadata": {},
     "output_type": "display_data"
    },
    {
     "name": "stdout",
     "output_type": "stream",
     "text": [
      "[20,    39] loss:  tensor([0.4595, 0.6374, 0.6263, 0.1574]) tensor(1.8805)\n",
      "[40,    59] loss:  tensor([0.4540, 0.6352, 0.6246, 0.1550]) tensor(1.8688)\n",
      "[60,    79] loss:  tensor([0.4563, 0.6347, 0.6250, 0.1528]) tensor(1.8689)\n",
      "[80,    99] loss:  tensor([0.4624, 0.6354, 0.6280, 0.1532]) tensor(1.8790)\n",
      "[100,   119] loss:  tensor([0.4522, 0.6409, 0.6215, 0.1576]) tensor(1.8722)\n",
      "[120,   139] loss:  tensor([0.4643, 0.6360, 0.6235, 0.1523]) tensor(1.8762)\n",
      "[140,   159] loss:  tensor([0.4617, 0.6388, 0.6201, 0.1536]) tensor(1.8743)\n",
      "[160,   179] loss:  tensor([0.4499, 0.6374, 0.6241, 0.1559]) tensor(1.8673)\n",
      "[180,   199] loss:  tensor([0.4546, 0.6335, 0.6254, 0.1531]) tensor(1.8666)\n",
      "[200,   219] loss:  tensor([0.4599, 0.6370, 0.6272, 0.1534]) tensor(1.8775)\n",
      "[220,   239] loss:  tensor([0.4630, 0.6355, 0.6224, 0.1525]) tensor(1.8734)\n",
      "[240,   259] loss:  tensor([0.4637, 0.6323, 0.6283, 0.1516]) tensor(1.8758)\n",
      "[260,   279] loss:  tensor([0.4682, 0.6388, 0.6257, 0.1536]) tensor(1.8862)\n",
      "[280,   299] loss:  tensor([0.4618, 0.6402, 0.6213, 0.1532]) tensor(1.8765)\n",
      "[300,   319] loss:  tensor([0.4547, 0.6360, 0.6259, 0.1546]) tensor(1.8713)\n",
      "[320,   339] loss:  tensor([0.4587, 0.6392, 0.6232, 0.1524]) tensor(1.8735)\n",
      "[340,   359] loss:  tensor([0.4578, 0.6392, 0.6218, 0.1540]) tensor(1.8729)\n",
      "[360,   379] loss:  tensor([0.4616, 0.6372, 0.6243, 0.1545]) tensor(1.8776)\n",
      "[380,   399] loss:  tensor([0.4632, 0.6398, 0.6208, 0.1537]) tensor(1.8775)\n",
      "[400,   419] loss:  tensor([0.4548, 0.6349, 0.6241, 0.1553]) tensor(1.8691)\n",
      "[420,   439] loss:  tensor([0.4615, 0.6345, 0.6285, 0.1561]) tensor(1.8806)\n",
      "[440,   459] loss:  tensor([0.4516, 0.6354, 0.6214, 0.1521]) tensor(1.8605)\n",
      "[460,   479] loss:  tensor([0.4532, 0.6323, 0.6262, 0.1536]) tensor(1.8654)\n",
      "[480,   499] loss:  tensor([0.4589, 0.6380, 0.6234, 0.1526]) tensor(1.8729)\n",
      "[500,   519] loss:  tensor([0.4565, 0.6382, 0.6245, 0.1543]) tensor(1.8736)\n",
      "[520,   539] loss:  tensor([0.4612, 0.6338, 0.6293, 0.1553]) tensor(1.8797)\n",
      "[540,   559] loss:  tensor([0.4601, 0.6339, 0.6211, 0.1546]) tensor(1.8697)\n",
      "[560,   579] loss:  tensor([0.4565, 0.6379, 0.6244, 0.1548]) tensor(1.8736)\n",
      "[580,   599] loss:  tensor([0.4614, 0.6338, 0.6269, 0.1539]) tensor(1.8760)\n",
      "[600,   619] loss:  tensor([0.4637, 0.6343, 0.6255, 0.1521]) tensor(1.8757)\n",
      "[620,   639] loss:  tensor([0.4603, 0.6315, 0.6276, 0.1519]) tensor(1.8713)\n",
      "[640,   659] loss:  tensor([0.4640, 0.6365, 0.6250, 0.1547]) tensor(1.8802)\n",
      "[660,   679] loss:  tensor([0.4646, 0.6364, 0.6265, 0.1550]) tensor(1.8824)\n",
      "[680,   699] loss:  tensor([0.4609, 0.6387, 0.6238, 0.1554]) tensor(1.8788)\n",
      "[700,   719] loss:  tensor([0.4631, 0.6371, 0.6256, 0.1566]) tensor(1.8824)\n",
      "[720,   739] loss:  tensor([0.4526, 0.6309, 0.6308, 0.1532]) tensor(1.8675)\n",
      "[740,   759] loss:  tensor([0.4578, 0.6381, 0.6250, 0.1529]) tensor(1.8738)\n",
      "[760,   779] loss:  tensor([0.4519, 0.6373, 0.6248, 0.1528]) tensor(1.8668)\n",
      "[780,   799] loss:  tensor([0.4594, 0.6365, 0.6267, 0.1554]) tensor(1.8780)\n",
      "[800,   819] loss:  tensor([0.4524, 0.6321, 0.6275, 0.1521]) tensor(1.8641)\n",
      "[820,   839] loss:  tensor([0.4593, 0.6407, 0.6225, 0.1544]) tensor(1.8769)\n",
      "[840,   859] loss:  tensor([0.4624, 0.6350, 0.6257, 0.1524]) tensor(1.8756)\n",
      "[860,   879] loss:  tensor([0.4595, 0.6383, 0.6216, 0.1558]) tensor(1.8752)\n",
      "[880,   899] loss:  tensor([0.4519, 0.6341, 0.6277, 0.1550]) tensor(1.8686)\n",
      "[900,   919] loss:  tensor([0.4528, 0.6372, 0.6250, 0.1525]) tensor(1.8676)\n",
      "[920,   939] loss:  tensor([0.4629, 0.6398, 0.6234, 0.1528]) tensor(1.8789)\n",
      "[940,   959] loss:  tensor([0.4556, 0.6359, 0.6276, 0.1529]) tensor(1.8720)\n",
      "[960,   979] loss:  tensor([0.4586, 0.6374, 0.6239, 0.1548]) tensor(1.8747)\n",
      "[980,   999] loss:  tensor([0.4663, 0.6333, 0.6312, 0.1542]) tensor(1.8850)\n",
      "[1000,  1019] loss:  tensor([0.4619, 0.6367, 0.6264, 0.1525]) tensor(1.8776)\n",
      "[1020,  1039] loss:  tensor([0.4558, 0.6349, 0.6240, 0.1543]) tensor(1.8689)\n",
      "[1040,  1059] loss:  tensor([0.4665, 0.6359, 0.6251, 0.1561]) tensor(1.8836)\n",
      "[1060,  1079] loss:  tensor([0.4593, 0.6326, 0.6298, 0.1520]) tensor(1.8737)\n",
      "[1080,  1099] loss:  tensor([0.4519, 0.6418, 0.6174, 0.1518]) tensor(1.8629)\n",
      "[1100,  1119] loss:  tensor([0.4648, 0.6331, 0.6266, 0.1560]) tensor(1.8805)\n",
      "[1120,  1139] loss:  tensor([0.4534, 0.6358, 0.6221, 0.1520]) tensor(1.8632)\n",
      "[1140,  1159] loss:  tensor([0.4609, 0.6349, 0.6297, 0.1532]) tensor(1.8787)\n",
      "[1160,  1179] loss:  tensor([0.4529, 0.6358, 0.6236, 0.1525]) tensor(1.8648)\n",
      "[1180,  1199] loss:  tensor([0.4583, 0.6299, 0.6346, 0.1567]) tensor(1.8795)\n",
      "[1200,  1219] loss:  tensor([0.4713, 0.6416, 0.6179, 0.1571]) tensor(1.8878)\n",
      "[1220,  1239] loss:  tensor([0.4589, 0.6332, 0.6287, 0.1546]) tensor(1.8754)\n",
      "[1240,  1259] loss:  tensor([0.4635, 0.6355, 0.6273, 0.1504]) tensor(1.8767)\n",
      "[1260,  1279] loss:  tensor([0.4598, 0.6316, 0.6302, 0.1530]) tensor(1.8746)\n",
      "[1280,  1299] loss:  tensor([0.4554, 0.6387, 0.6229, 0.1529]) tensor(1.8699)\n",
      "[1300,  1319] loss:  tensor([0.4608, 0.6343, 0.6268, 0.1526]) tensor(1.8745)\n",
      "[1320,  1339] loss:  tensor([0.4597, 0.6403, 0.6218, 0.1551]) tensor(1.8769)\n",
      "[1340,  1359] loss:  tensor([0.4608, 0.6343, 0.6260, 0.1539]) tensor(1.8750)\n",
      "[1360,  1379] loss:  tensor([0.4627, 0.6296, 0.6295, 0.1533]) tensor(1.8750)\n",
      "[1380,  1399] loss:  tensor([0.4604, 0.6359, 0.6279, 0.1556]) tensor(1.8797)\n",
      "[1400,  1419] loss:  tensor([0.4566, 0.6331, 0.6261, 0.1534]) tensor(1.8693)\n",
      "[1420,  1439] loss:  tensor([0.4633, 0.6354, 0.6269, 0.1538]) tensor(1.8794)\n",
      "[1440,  1459] loss:  tensor([0.4588, 0.6391, 0.6224, 0.1541]) tensor(1.8745)\n",
      "[1460,  1479] loss:  tensor([0.4558, 0.6369, 0.6235, 0.1537]) tensor(1.8699)\n",
      "[1480,  1499] loss:  tensor([0.4552, 0.6341, 0.6258, 0.1525]) tensor(1.8676)\n",
      "[1500,  1519] loss:  tensor([0.4604, 0.6330, 0.6269, 0.1541]) tensor(1.8744)\n",
      "[1520,  1539] loss:  tensor([0.4569, 0.6373, 0.6217, 0.1574]) tensor(1.8732)\n",
      "[1540,  1559] loss:  tensor([0.4559, 0.6337, 0.6265, 0.1540]) tensor(1.8701)\n",
      "validation\n"
     ]
    },
    {
     "data": {
      "application/vnd.jupyter.widget-view+json": {
       "model_id": "677934188837477ea572edb895308e15",
       "version_major": 2,
       "version_minor": 0
      },
      "text/plain": [
       "  0%|          | 0/125 [00:00<?, ?it/s]"
      ]
     },
     "metadata": {},
     "output_type": "display_data"
    },
    {
     "name": "stdout",
     "output_type": "stream",
     "text": [
      "validation loss for epoch 34: tensor([0.4564, 0.6310, 0.6289, 0.1537]) 1.8699861553730268\n"
     ]
    },
    {
     "data": {
      "application/vnd.jupyter.widget-view+json": {
       "model_id": "71f25247301d4e278bc6d7e843986642",
       "version_major": 2,
       "version_minor": 0
      },
      "text/plain": [
       "  0%|          | 0/1544 [00:00<?, ?it/s]"
      ]
     },
     "metadata": {},
     "output_type": "display_data"
    },
    {
     "name": "stdout",
     "output_type": "stream",
     "text": [
      "[20,    39] loss:  tensor([0.4559, 0.6373, 0.6246, 0.1554]) tensor(1.8732)\n",
      "[40,    59] loss:  tensor([0.4611, 0.6374, 0.6218, 0.1539]) tensor(1.8742)\n",
      "[60,    79] loss:  tensor([0.4604, 0.6357, 0.6181, 0.1532]) tensor(1.8674)\n",
      "[80,    99] loss:  tensor([0.4538, 0.6364, 0.6270, 0.1545]) tensor(1.8717)\n",
      "[100,   119] loss:  tensor([0.4592, 0.6348, 0.6253, 0.1513]) tensor(1.8707)\n",
      "[120,   139] loss:  tensor([0.4604, 0.6381, 0.6254, 0.1575]) tensor(1.8814)\n",
      "[140,   159] loss:  tensor([0.4530, 0.6354, 0.6231, 0.1548]) tensor(1.8663)\n",
      "[160,   179] loss:  tensor([0.4583, 0.6369, 0.6264, 0.1559]) tensor(1.8775)\n",
      "[180,   199] loss:  tensor([0.4549, 0.6327, 0.6282, 0.1539]) tensor(1.8698)\n",
      "[200,   219] loss:  tensor([0.4567, 0.6377, 0.6231, 0.1543]) tensor(1.8717)\n",
      "[220,   239] loss:  tensor([0.4583, 0.6332, 0.6255, 0.1544]) tensor(1.8714)\n",
      "[240,   259] loss:  tensor([0.4555, 0.6387, 0.6247, 0.1535]) tensor(1.8724)\n",
      "[260,   279] loss:  tensor([0.4581, 0.6319, 0.6292, 0.1540]) tensor(1.8732)\n",
      "[280,   299] loss:  tensor([0.4586, 0.6297, 0.6303, 0.1524]) tensor(1.8710)\n",
      "[300,   319] loss:  tensor([0.4560, 0.6375, 0.6227, 0.1524]) tensor(1.8686)\n",
      "[320,   339] loss:  tensor([0.4590, 0.6365, 0.6258, 0.1521]) tensor(1.8733)\n",
      "[340,   359] loss:  tensor([0.4530, 0.6315, 0.6252, 0.1522]) tensor(1.8618)\n",
      "[360,   379] loss:  tensor([0.4617, 0.6364, 0.6277, 0.1531]) tensor(1.8789)\n",
      "[380,   399] loss:  tensor([0.4616, 0.6294, 0.6306, 0.1516]) tensor(1.8733)\n",
      "[400,   419] loss:  tensor([0.4579, 0.6352, 0.6286, 0.1553]) tensor(1.8769)\n",
      "[420,   439] loss:  tensor([0.4608, 0.6337, 0.6254, 0.1541]) tensor(1.8740)\n",
      "[440,   459] loss:  tensor([0.4567, 0.6376, 0.6272, 0.1567]) tensor(1.8782)\n",
      "[460,   479] loss:  tensor([0.4572, 0.6385, 0.6254, 0.1531]) tensor(1.8742)\n",
      "[480,   499] loss:  tensor([0.4629, 0.6329, 0.6300, 0.1527]) tensor(1.8785)\n",
      "[500,   519] loss:  tensor([0.4495, 0.6356, 0.6238, 0.1529]) tensor(1.8619)\n",
      "[520,   539] loss:  tensor([0.4544, 0.6378, 0.6256, 0.1538]) tensor(1.8716)\n",
      "[540,   559] loss:  tensor([0.4562, 0.6429, 0.6184, 0.1561]) tensor(1.8735)\n",
      "[560,   579] loss:  tensor([0.4544, 0.6370, 0.6232, 0.1529]) tensor(1.8676)\n",
      "[580,   599] loss:  tensor([0.4560, 0.6321, 0.6253, 0.1552]) tensor(1.8685)\n",
      "[600,   619] loss:  tensor([0.4543, 0.6346, 0.6249, 0.1528]) tensor(1.8666)\n",
      "[620,   639] loss:  tensor([0.4609, 0.6302, 0.6284, 0.1533]) tensor(1.8728)\n",
      "[640,   659] loss:  tensor([0.4562, 0.6335, 0.6304, 0.1553]) tensor(1.8754)\n",
      "[660,   679] loss:  tensor([0.4537, 0.6384, 0.6211, 0.1519]) tensor(1.8651)\n",
      "[680,   699] loss:  tensor([0.4620, 0.6399, 0.6207, 0.1537]) tensor(1.8763)\n",
      "[700,   719] loss:  tensor([0.4565, 0.6322, 0.6288, 0.1536]) tensor(1.8710)\n",
      "[720,   739] loss:  tensor([0.4547, 0.6350, 0.6233, 0.1532]) tensor(1.8662)\n",
      "[740,   759] loss:  tensor([0.4533, 0.6376, 0.6260, 0.1535]) tensor(1.8704)\n",
      "[760,   779] loss:  tensor([0.4576, 0.6353, 0.6247, 0.1539]) tensor(1.8715)\n",
      "[780,   799] loss:  tensor([0.4590, 0.6383, 0.6232, 0.1542]) tensor(1.8746)\n",
      "[800,   819] loss:  tensor([0.4617, 0.6381, 0.6202, 0.1541]) tensor(1.8742)\n",
      "[820,   839] loss:  tensor([0.4545, 0.6352, 0.6257, 0.1548]) tensor(1.8702)\n",
      "[840,   859] loss:  tensor([0.4643, 0.6387, 0.6240, 0.1511]) tensor(1.8781)\n",
      "[860,   879] loss:  tensor([0.4591, 0.6336, 0.6271, 0.1526]) tensor(1.8724)\n",
      "[880,   899] loss:  tensor([0.4554, 0.6326, 0.6276, 0.1525]) tensor(1.8681)\n",
      "[900,   919] loss:  tensor([0.4568, 0.6323, 0.6293, 0.1587]) tensor(1.8771)\n",
      "[920,   939] loss:  tensor([0.4553, 0.6313, 0.6282, 0.1555]) tensor(1.8703)\n",
      "[940,   959] loss:  tensor([0.4541, 0.6342, 0.6264, 0.1536]) tensor(1.8683)\n",
      "[960,   979] loss:  tensor([0.4619, 0.6412, 0.6213, 0.1551]) tensor(1.8796)\n",
      "[980,   999] loss:  tensor([0.4558, 0.6394, 0.6224, 0.1538]) tensor(1.8714)\n",
      "[1000,  1019] loss:  tensor([0.4638, 0.6351, 0.6250, 0.1527]) tensor(1.8766)\n",
      "[1020,  1039] loss:  tensor([0.4566, 0.6383, 0.6231, 0.1549]) tensor(1.8729)\n",
      "[1040,  1059] loss:  tensor([0.4498, 0.6356, 0.6263, 0.1540]) tensor(1.8657)\n",
      "[1060,  1079] loss:  tensor([0.4579, 0.6398, 0.6247, 0.1549]) tensor(1.8772)\n",
      "[1080,  1099] loss:  tensor([0.4641, 0.6327, 0.6259, 0.1556]) tensor(1.8783)\n",
      "[1100,  1119] loss:  tensor([0.4624, 0.6348, 0.6252, 0.1530]) tensor(1.8753)\n",
      "[1120,  1139] loss:  tensor([0.4553, 0.6406, 0.6203, 0.1530]) tensor(1.8693)\n",
      "[1140,  1159] loss:  tensor([0.4600, 0.6365, 0.6238, 0.1539]) tensor(1.8743)\n",
      "[1160,  1179] loss:  tensor([0.4676, 0.6393, 0.6230, 0.1537]) tensor(1.8835)\n",
      "[1180,  1199] loss:  tensor([0.4652, 0.6358, 0.6289, 0.1535]) tensor(1.8834)\n",
      "[1200,  1219] loss:  tensor([0.4587, 0.6295, 0.6284, 0.1542]) tensor(1.8707)\n",
      "[1220,  1239] loss:  tensor([0.4535, 0.6353, 0.6262, 0.1523]) tensor(1.8672)\n",
      "[1240,  1259] loss:  tensor([0.4602, 0.6367, 0.6234, 0.1546]) tensor(1.8749)\n",
      "[1260,  1279] loss:  tensor([0.4587, 0.6345, 0.6264, 0.1540]) tensor(1.8736)\n",
      "[1280,  1299] loss:  tensor([0.4554, 0.6376, 0.6234, 0.1564]) tensor(1.8729)\n",
      "[1300,  1319] loss:  tensor([0.4590, 0.6375, 0.6226, 0.1546]) tensor(1.8737)\n",
      "[1320,  1339] loss:  tensor([0.4567, 0.6414, 0.6180, 0.1526]) tensor(1.8688)\n",
      "[1340,  1359] loss:  tensor([0.4461, 0.6362, 0.6233, 0.1515]) tensor(1.8570)\n",
      "[1360,  1379] loss:  tensor([0.4574, 0.6362, 0.6293, 0.1563]) tensor(1.8792)\n",
      "[1380,  1399] loss:  tensor([0.4594, 0.6393, 0.6203, 0.1517]) tensor(1.8707)\n",
      "[1400,  1419] loss:  tensor([0.4540, 0.6356, 0.6245, 0.1540]) tensor(1.8682)\n",
      "[1420,  1439] loss:  tensor([0.4573, 0.6368, 0.6274, 0.1544]) tensor(1.8759)\n",
      "[1440,  1459] loss:  tensor([0.4641, 0.6327, 0.6271, 0.1523]) tensor(1.8763)\n",
      "[1460,  1479] loss:  tensor([0.4600, 0.6407, 0.6223, 0.1556]) tensor(1.8785)\n",
      "[1480,  1499] loss:  tensor([0.4611, 0.6338, 0.6283, 0.1549]) tensor(1.8781)\n",
      "[1500,  1519] loss:  tensor([0.4551, 0.6414, 0.6231, 0.1560]) tensor(1.8757)\n",
      "[1520,  1539] loss:  tensor([0.4618, 0.6396, 0.6230, 0.1526]) tensor(1.8770)\n",
      "[1540,  1559] loss:  tensor([0.4599, 0.6398, 0.6196, 0.1552]) tensor(1.8746)\n",
      "validation\n"
     ]
    },
    {
     "data": {
      "application/vnd.jupyter.widget-view+json": {
       "model_id": "5b83a42ba767402fbfd9ab835ed68f8e",
       "version_major": 2,
       "version_minor": 0
      },
      "text/plain": [
       "  0%|          | 0/125 [00:00<?, ?it/s]"
      ]
     },
     "metadata": {},
     "output_type": "display_data"
    },
    {
     "name": "stdout",
     "output_type": "stream",
     "text": [
      "validation loss for epoch 35: tensor([0.4664, 0.6279, 0.6325, 0.1540]) 1.8808156976243422\n"
     ]
    },
    {
     "data": {
      "application/vnd.jupyter.widget-view+json": {
       "model_id": "846fabac81874ff0a2847feaf3593fb0",
       "version_major": 2,
       "version_minor": 0
      },
      "text/plain": [
       "  0%|          | 0/1544 [00:00<?, ?it/s]"
      ]
     },
     "metadata": {},
     "output_type": "display_data"
    },
    {
     "name": "stdout",
     "output_type": "stream",
     "text": [
      "[20,    39] loss:  tensor([0.4551, 0.6358, 0.6275, 0.1546]) tensor(1.8730)\n",
      "[40,    59] loss:  tensor([0.4601, 0.6318, 0.6280, 0.1529]) tensor(1.8728)\n",
      "[60,    79] loss:  tensor([0.4622, 0.6334, 0.6258, 0.1550]) tensor(1.8763)\n",
      "[80,    99] loss:  tensor([0.4602, 0.6318, 0.6309, 0.1542]) tensor(1.8771)\n",
      "[100,   119] loss:  tensor([0.4540, 0.6375, 0.6241, 0.1536]) tensor(1.8692)\n",
      "[120,   139] loss:  tensor([0.4515, 0.6347, 0.6280, 0.1554]) tensor(1.8696)\n",
      "[140,   159] loss:  tensor([0.4489, 0.6379, 0.6246, 0.1551]) tensor(1.8665)\n",
      "[160,   179] loss:  tensor([0.4596, 0.6362, 0.6236, 0.1529]) tensor(1.8723)\n",
      "[180,   199] loss:  tensor([0.4547, 0.6335, 0.6256, 0.1518]) tensor(1.8656)\n",
      "[200,   219] loss:  tensor([0.4596, 0.6382, 0.6259, 0.1545]) tensor(1.8782)\n",
      "[220,   239] loss:  tensor([0.4535, 0.6331, 0.6286, 0.1547]) tensor(1.8699)\n",
      "[240,   259] loss:  tensor([0.4590, 0.6390, 0.6222, 0.1529]) tensor(1.8731)\n",
      "[260,   279] loss:  tensor([0.4553, 0.6415, 0.6226, 0.1562]) tensor(1.8757)\n",
      "[280,   299] loss:  tensor([0.4575, 0.6332, 0.6272, 0.1543]) tensor(1.8723)\n",
      "[300,   319] loss:  tensor([0.4619, 0.6362, 0.6249, 0.1544]) tensor(1.8773)\n",
      "[320,   339] loss:  tensor([0.4584, 0.6407, 0.6200, 0.1535]) tensor(1.8725)\n",
      "[340,   359] loss:  tensor([0.4658, 0.6335, 0.6254, 0.1539]) tensor(1.8787)\n",
      "[360,   379] loss:  tensor([0.4642, 0.6375, 0.6214, 0.1515]) tensor(1.8745)\n",
      "[380,   399] loss:  tensor([0.4640, 0.6366, 0.6251, 0.1523]) tensor(1.8779)\n",
      "[400,   419] loss:  tensor([0.4577, 0.6364, 0.6254, 0.1550]) tensor(1.8745)\n",
      "[420,   439] loss:  tensor([0.4526, 0.6352, 0.6275, 0.1541]) tensor(1.8693)\n",
      "[440,   459] loss:  tensor([0.4578, 0.6405, 0.6201, 0.1539]) tensor(1.8723)\n",
      "[460,   479] loss:  tensor([0.4633, 0.6359, 0.6254, 0.1543]) tensor(1.8788)\n",
      "[480,   499] loss:  tensor([0.4588, 0.6376, 0.6262, 0.1535]) tensor(1.8761)\n",
      "[500,   519] loss:  tensor([0.4500, 0.6313, 0.6292, 0.1533]) tensor(1.8637)\n",
      "[520,   539] loss:  tensor([0.4604, 0.6350, 0.6272, 0.1528]) tensor(1.8754)\n",
      "[540,   559] loss:  tensor([0.4546, 0.6376, 0.6244, 0.1532]) tensor(1.8696)\n",
      "[560,   579] loss:  tensor([0.4625, 0.6347, 0.6286, 0.1526]) tensor(1.8784)\n",
      "[580,   599] loss:  tensor([0.4605, 0.6345, 0.6290, 0.1538]) tensor(1.8778)\n",
      "[600,   619] loss:  tensor([0.4665, 0.6360, 0.6259, 0.1541]) tensor(1.8826)\n",
      "[620,   639] loss:  tensor([0.4631, 0.6382, 0.6243, 0.1548]) tensor(1.8804)\n",
      "[640,   659] loss:  tensor([0.4616, 0.6321, 0.6300, 0.1528]) tensor(1.8765)\n",
      "[660,   679] loss:  tensor([0.4586, 0.6372, 0.6246, 0.1538]) tensor(1.8742)\n",
      "[680,   699] loss:  tensor([0.4507, 0.6332, 0.6276, 0.1528]) tensor(1.8644)\n",
      "[700,   719] loss:  tensor([0.4575, 0.6366, 0.6221, 0.1528]) tensor(1.8690)\n",
      "[720,   739] loss:  tensor([0.4594, 0.6331, 0.6277, 0.1528]) tensor(1.8731)\n",
      "[740,   759] loss:  tensor([0.4608, 0.6390, 0.6251, 0.1527]) tensor(1.8776)\n",
      "[760,   779] loss:  tensor([0.4603, 0.6435, 0.6217, 0.1522]) tensor(1.8776)\n",
      "[780,   799] loss:  tensor([0.4571, 0.6334, 0.6280, 0.1553]) tensor(1.8738)\n",
      "[800,   819] loss:  tensor([0.4534, 0.6375, 0.6204, 0.1513]) tensor(1.8626)\n",
      "[820,   839] loss:  tensor([0.4671, 0.6357, 0.6244, 0.1546]) tensor(1.8818)\n",
      "[840,   859] loss:  tensor([0.4557, 0.6361, 0.6250, 0.1512]) tensor(1.8681)\n",
      "[860,   879] loss:  tensor([0.4544, 0.6367, 0.6258, 0.1527]) tensor(1.8696)\n",
      "[880,   899] loss:  tensor([0.4582, 0.6364, 0.6254, 0.1567]) tensor(1.8768)\n",
      "[900,   919] loss:  tensor([0.4607, 0.6347, 0.6272, 0.1529]) tensor(1.8755)\n",
      "[920,   939] loss:  tensor([0.4526, 0.6360, 0.6237, 0.1529]) tensor(1.8652)\n",
      "[940,   959] loss:  tensor([0.4491, 0.6373, 0.6256, 0.1571]) tensor(1.8691)\n",
      "[960,   979] loss:  tensor([0.4546, 0.6352, 0.6249, 0.1554]) tensor(1.8700)\n",
      "[980,   999] loss:  tensor([0.4555, 0.6347, 0.6265, 0.1567]) tensor(1.8734)\n",
      "[1000,  1019] loss:  tensor([0.4661, 0.6349, 0.6261, 0.1540]) tensor(1.8811)\n",
      "[1020,  1039] loss:  tensor([0.4600, 0.6334, 0.6267, 0.1530]) tensor(1.8730)\n",
      "[1040,  1059] loss:  tensor([0.4502, 0.6350, 0.6239, 0.1554]) tensor(1.8644)\n",
      "[1060,  1079] loss:  tensor([0.4619, 0.6329, 0.6273, 0.1538]) tensor(1.8760)\n",
      "[1080,  1099] loss:  tensor([0.4610, 0.6381, 0.6227, 0.1541]) tensor(1.8759)\n",
      "[1100,  1119] loss:  tensor([0.4565, 0.6360, 0.6253, 0.1539]) tensor(1.8717)\n",
      "[1120,  1139] loss:  tensor([0.4534, 0.6345, 0.6241, 0.1540]) tensor(1.8660)\n",
      "[1140,  1159] loss:  tensor([0.4570, 0.6333, 0.6261, 0.1537]) tensor(1.8701)\n",
      "[1160,  1179] loss:  tensor([0.4526, 0.6413, 0.6185, 0.1526]) tensor(1.8650)\n",
      "[1180,  1199] loss:  tensor([0.4596, 0.6368, 0.6239, 0.1544]) tensor(1.8748)\n",
      "[1200,  1219] loss:  tensor([0.4490, 0.6351, 0.6260, 0.1531]) tensor(1.8632)\n",
      "[1220,  1239] loss:  tensor([0.4594, 0.6364, 0.6269, 0.1517]) tensor(1.8744)\n",
      "[1240,  1259] loss:  tensor([0.4509, 0.6327, 0.6279, 0.1527]) tensor(1.8642)\n",
      "[1260,  1279] loss:  tensor([0.4527, 0.6327, 0.6254, 0.1530]) tensor(1.8639)\n",
      "[1280,  1299] loss:  tensor([0.4559, 0.6358, 0.6284, 0.1556]) tensor(1.8758)\n",
      "[1300,  1319] loss:  tensor([0.4582, 0.6352, 0.6220, 0.1542]) tensor(1.8696)\n",
      "[1320,  1339] loss:  tensor([0.4476, 0.6358, 0.6279, 0.1534]) tensor(1.8649)\n",
      "[1340,  1359] loss:  tensor([0.4572, 0.6353, 0.6249, 0.1588]) tensor(1.8762)\n",
      "[1360,  1379] loss:  tensor([0.4560, 0.6352, 0.6269, 0.1532]) tensor(1.8713)\n",
      "[1380,  1399] loss:  tensor([0.4646, 0.6324, 0.6254, 0.1543]) tensor(1.8767)\n",
      "[1400,  1419] loss:  tensor([0.4591, 0.6289, 0.6309, 0.1542]) tensor(1.8731)\n",
      "[1420,  1439] loss:  tensor([0.4623, 0.6375, 0.6224, 0.1539]) tensor(1.8761)\n",
      "[1440,  1459] loss:  tensor([0.4561, 0.6343, 0.6243, 0.1524]) tensor(1.8671)\n",
      "[1460,  1479] loss:  tensor([0.4532, 0.6347, 0.6260, 0.1536]) tensor(1.8675)\n",
      "[1480,  1499] loss:  tensor([0.4559, 0.6344, 0.6294, 0.1541]) tensor(1.8738)\n",
      "[1500,  1519] loss:  tensor([0.4624, 0.6347, 0.6249, 0.1556]) tensor(1.8776)\n",
      "[1520,  1539] loss:  tensor([0.4521, 0.6389, 0.6220, 0.1536]) tensor(1.8666)\n",
      "[1540,  1559] loss:  tensor([0.4548, 0.6328, 0.6252, 0.1531]) tensor(1.8659)\n",
      "validation\n"
     ]
    },
    {
     "data": {
      "application/vnd.jupyter.widget-view+json": {
       "model_id": "247a6a0016ad4eebab8bee845c47037c",
       "version_major": 2,
       "version_minor": 0
      },
      "text/plain": [
       "  0%|          | 0/125 [00:00<?, ?it/s]"
      ]
     },
     "metadata": {},
     "output_type": "display_data"
    },
    {
     "name": "stdout",
     "output_type": "stream",
     "text": [
      "validation loss for epoch 36: tensor([0.4496, 0.6361, 0.6247, 0.1546]) 1.8649728001284138\n"
     ]
    },
    {
     "data": {
      "application/vnd.jupyter.widget-view+json": {
       "model_id": "06b919dbe7394ada85f8d6fe0dc4466e",
       "version_major": 2,
       "version_minor": 0
      },
      "text/plain": [
       "  0%|          | 0/1544 [00:00<?, ?it/s]"
      ]
     },
     "metadata": {},
     "output_type": "display_data"
    },
    {
     "name": "stdout",
     "output_type": "stream",
     "text": [
      "[20,    39] loss:  tensor([0.4569, 0.6301, 0.6291, 0.1514]) tensor(1.8674)\n",
      "[40,    59] loss:  tensor([0.4572, 0.6344, 0.6283, 0.1523]) tensor(1.8721)\n",
      "[60,    79] loss:  tensor([0.4618, 0.6412, 0.6224, 0.1572]) tensor(1.8825)\n",
      "[80,    99] loss:  tensor([0.4625, 0.6349, 0.6252, 0.1555]) tensor(1.8781)\n",
      "[100,   119] loss:  tensor([0.4536, 0.6380, 0.6277, 0.1532]) tensor(1.8725)\n",
      "[120,   139] loss:  tensor([0.4595, 0.6373, 0.6207, 0.1528]) tensor(1.8703)\n",
      "[140,   159] loss:  tensor([0.4591, 0.6376, 0.6208, 0.1524]) tensor(1.8699)\n",
      "[160,   179] loss:  tensor([0.4531, 0.6400, 0.6196, 0.1535]) tensor(1.8663)\n",
      "[180,   199] loss:  tensor([0.4581, 0.6350, 0.6272, 0.1523]) tensor(1.8727)\n",
      "[200,   219] loss:  tensor([0.4523, 0.6366, 0.6233, 0.1523]) tensor(1.8644)\n",
      "[220,   239] loss:  tensor([0.4534, 0.6326, 0.6265, 0.1538]) tensor(1.8662)\n",
      "[240,   259] loss:  tensor([0.4607, 0.6363, 0.6230, 0.1557]) tensor(1.8757)\n",
      "[260,   279] loss:  tensor([0.4529, 0.6357, 0.6234, 0.1545]) tensor(1.8665)\n",
      "[280,   299] loss:  tensor([0.4608, 0.6344, 0.6258, 0.1527]) tensor(1.8738)\n",
      "[300,   319] loss:  tensor([0.4547, 0.6340, 0.6243, 0.1541]) tensor(1.8672)\n",
      "[320,   339] loss:  tensor([0.4570, 0.6416, 0.6210, 0.1551]) tensor(1.8746)\n",
      "[340,   359] loss:  tensor([0.4643, 0.6417, 0.6221, 0.1567]) tensor(1.8847)\n",
      "[360,   379] loss:  tensor([0.4570, 0.6315, 0.6290, 0.1553]) tensor(1.8728)\n",
      "[380,   399] loss:  tensor([0.4583, 0.6364, 0.6217, 0.1523]) tensor(1.8687)\n",
      "[400,   419] loss:  tensor([0.4564, 0.6349, 0.6314, 0.1548]) tensor(1.8775)\n",
      "[420,   439] loss:  tensor([0.4638, 0.6340, 0.6266, 0.1524]) tensor(1.8768)\n",
      "[440,   459] loss:  tensor([0.4531, 0.6317, 0.6272, 0.1523]) tensor(1.8642)\n",
      "[460,   479] loss:  tensor([0.4481, 0.6403, 0.6183, 0.1522]) tensor(1.8590)\n",
      "[480,   499] loss:  tensor([0.4459, 0.6339, 0.6314, 0.1558]) tensor(1.8671)\n",
      "[500,   519] loss:  tensor([0.4673, 0.6348, 0.6284, 0.1543]) tensor(1.8849)\n",
      "[520,   539] loss:  tensor([0.4574, 0.6308, 0.6270, 0.1526]) tensor(1.8677)\n",
      "[540,   559] loss:  tensor([0.4669, 0.6371, 0.6251, 0.1544]) tensor(1.8835)\n",
      "[560,   579] loss:  tensor([0.4603, 0.6410, 0.6169, 0.1540]) tensor(1.8722)\n",
      "[580,   599] loss:  tensor([0.4574, 0.6349, 0.6261, 0.1514]) tensor(1.8699)\n",
      "[600,   619] loss:  tensor([0.4542, 0.6375, 0.6198, 0.1534]) tensor(1.8648)\n",
      "[620,   639] loss:  tensor([0.4596, 0.6386, 0.6220, 0.1525]) tensor(1.8727)\n",
      "[640,   659] loss:  tensor([0.4608, 0.6350, 0.6235, 0.1542]) tensor(1.8735)\n",
      "[660,   679] loss:  tensor([0.4536, 0.6358, 0.6277, 0.1545]) tensor(1.8717)\n",
      "[680,   699] loss:  tensor([0.4540, 0.6296, 0.6288, 0.1521]) tensor(1.8646)\n",
      "[700,   719] loss:  tensor([0.4657, 0.6342, 0.6293, 0.1538]) tensor(1.8830)\n",
      "[720,   739] loss:  tensor([0.4627, 0.6346, 0.6263, 0.1525]) tensor(1.8761)\n",
      "[740,   759] loss:  tensor([0.4505, 0.6316, 0.6291, 0.1557]) tensor(1.8669)\n",
      "[760,   779] loss:  tensor([0.4631, 0.6315, 0.6281, 0.1565]) tensor(1.8792)\n",
      "[780,   799] loss:  tensor([0.4597, 0.6373, 0.6234, 0.1562]) tensor(1.8766)\n",
      "[800,   819] loss:  tensor([0.4612, 0.6357, 0.6279, 0.1536]) tensor(1.8784)\n",
      "[820,   839] loss:  tensor([0.4609, 0.6317, 0.6282, 0.1533]) tensor(1.8742)\n",
      "[840,   859] loss:  tensor([0.4593, 0.6356, 0.6249, 0.1562]) tensor(1.8760)\n",
      "[860,   879] loss:  tensor([0.4557, 0.6328, 0.6249, 0.1527]) tensor(1.8661)\n",
      "[880,   899] loss:  tensor([0.4532, 0.6366, 0.6241, 0.1505]) tensor(1.8644)\n",
      "[900,   919] loss:  tensor([0.4530, 0.6399, 0.6245, 0.1564]) tensor(1.8737)\n",
      "[920,   939] loss:  tensor([0.4523, 0.6375, 0.6207, 0.1560]) tensor(1.8664)\n",
      "[940,   959] loss:  tensor([0.4589, 0.6368, 0.6260, 0.1545]) tensor(1.8761)\n",
      "[960,   979] loss:  tensor([0.4560, 0.6362, 0.6280, 0.1537]) tensor(1.8740)\n",
      "[980,   999] loss:  tensor([0.4557, 0.6434, 0.6222, 0.1529]) tensor(1.8742)\n",
      "[1000,  1019] loss:  tensor([0.4544, 0.6297, 0.6310, 0.1529]) tensor(1.8681)\n",
      "[1020,  1039] loss:  tensor([0.4549, 0.6390, 0.6207, 0.1517]) tensor(1.8663)\n",
      "[1040,  1059] loss:  tensor([0.4571, 0.6344, 0.6252, 0.1522]) tensor(1.8689)\n",
      "[1060,  1079] loss:  tensor([0.4634, 0.6331, 0.6272, 0.1535]) tensor(1.8771)\n",
      "[1080,  1099] loss:  tensor([0.4564, 0.6371, 0.6212, 0.1533]) tensor(1.8680)\n",
      "[1100,  1119] loss:  tensor([0.4551, 0.6380, 0.6259, 0.1538]) tensor(1.8727)\n",
      "[1120,  1139] loss:  tensor([0.4604, 0.6344, 0.6247, 0.1535]) tensor(1.8729)\n",
      "[1140,  1159] loss:  tensor([0.4587, 0.6403, 0.6219, 0.1544]) tensor(1.8752)\n",
      "[1160,  1179] loss:  tensor([0.4508, 0.6319, 0.6316, 0.1539]) tensor(1.8682)\n",
      "[1180,  1199] loss:  tensor([0.4519, 0.6366, 0.6261, 0.1539]) tensor(1.8686)\n",
      "[1200,  1219] loss:  tensor([0.4660, 0.6326, 0.6287, 0.1533]) tensor(1.8806)\n",
      "[1220,  1239] loss:  tensor([0.4561, 0.6324, 0.6251, 0.1537]) tensor(1.8673)\n",
      "[1240,  1259] loss:  tensor([0.4516, 0.6384, 0.6233, 0.1545]) tensor(1.8678)\n",
      "[1260,  1279] loss:  tensor([0.4576, 0.6363, 0.6270, 0.1541]) tensor(1.8751)\n",
      "[1280,  1299] loss:  tensor([0.4563, 0.6312, 0.6271, 0.1533]) tensor(1.8679)\n",
      "[1300,  1319] loss:  tensor([0.4630, 0.6386, 0.6251, 0.1542]) tensor(1.8809)\n",
      "[1320,  1339] loss:  tensor([0.4567, 0.6338, 0.6247, 0.1550]) tensor(1.8703)\n",
      "[1340,  1359] loss:  tensor([0.4501, 0.6368, 0.6213, 0.1527]) tensor(1.8609)\n",
      "[1360,  1379] loss:  tensor([0.4584, 0.6356, 0.6245, 0.1541]) tensor(1.8725)\n",
      "[1380,  1399] loss:  tensor([0.4586, 0.6374, 0.6260, 0.1546]) tensor(1.8766)\n",
      "[1400,  1419] loss:  tensor([0.4561, 0.6380, 0.6222, 0.1522]) tensor(1.8685)\n",
      "[1420,  1439] loss:  tensor([0.4612, 0.6369, 0.6235, 0.1520]) tensor(1.8735)\n",
      "[1440,  1459] loss:  tensor([0.4605, 0.6388, 0.6204, 0.1537]) tensor(1.8735)\n",
      "[1460,  1479] loss:  tensor([0.4594, 0.6360, 0.6244, 0.1561]) tensor(1.8758)\n",
      "[1480,  1499] loss:  tensor([0.4562, 0.6343, 0.6270, 0.1547]) tensor(1.8723)\n",
      "[1500,  1519] loss:  tensor([0.4573, 0.6362, 0.6241, 0.1549]) tensor(1.8725)\n",
      "[1520,  1539] loss:  tensor([0.4544, 0.6355, 0.6234, 0.1547]) tensor(1.8681)\n",
      "[1540,  1559] loss:  tensor([0.4635, 0.6405, 0.6209, 0.1537]) tensor(1.8786)\n",
      "validation\n"
     ]
    },
    {
     "data": {
      "application/vnd.jupyter.widget-view+json": {
       "model_id": "e634620001dc47fb9a9680897681e7f7",
       "version_major": 2,
       "version_minor": 0
      },
      "text/plain": [
       "  0%|          | 0/125 [00:00<?, ?it/s]"
      ]
     },
     "metadata": {},
     "output_type": "display_data"
    },
    {
     "name": "stdout",
     "output_type": "stream",
     "text": [
      "validation loss for epoch 37: tensor([0.4618, 0.6289, 0.6295, 0.1569]) 1.8772087049376722\n"
     ]
    },
    {
     "data": {
      "application/vnd.jupyter.widget-view+json": {
       "model_id": "db13083f8a7b47f5b67aebccea8cc158",
       "version_major": 2,
       "version_minor": 0
      },
      "text/plain": [
       "  0%|          | 0/1544 [00:00<?, ?it/s]"
      ]
     },
     "metadata": {},
     "output_type": "display_data"
    },
    {
     "name": "stdout",
     "output_type": "stream",
     "text": [
      "[20,    39] loss:  tensor([0.4566, 0.6360, 0.6231, 0.1540]) tensor(1.8697)\n",
      "[40,    59] loss:  tensor([0.4599, 0.6424, 0.6166, 0.1522]) tensor(1.8712)\n",
      "[60,    79] loss:  tensor([0.4541, 0.6326, 0.6259, 0.1554]) tensor(1.8681)\n",
      "[80,    99] loss:  tensor([0.4516, 0.6342, 0.6283, 0.1549]) tensor(1.8690)\n",
      "[100,   119] loss:  tensor([0.4562, 0.6357, 0.6241, 0.1548]) tensor(1.8708)\n",
      "[120,   139] loss:  tensor([0.4587, 0.6430, 0.6167, 0.1531]) tensor(1.8716)\n",
      "[140,   159] loss:  tensor([0.4542, 0.6346, 0.6278, 0.1516]) tensor(1.8682)\n",
      "[160,   179] loss:  tensor([0.4555, 0.6291, 0.6334, 0.1545]) tensor(1.8725)\n",
      "[180,   199] loss:  tensor([0.4575, 0.6349, 0.6272, 0.1541]) tensor(1.8738)\n",
      "[200,   219] loss:  tensor([0.4564, 0.6317, 0.6301, 0.1540]) tensor(1.8722)\n",
      "[220,   239] loss:  tensor([0.4621, 0.6353, 0.6265, 0.1557]) tensor(1.8796)\n",
      "[240,   259] loss:  tensor([0.4612, 0.6341, 0.6289, 0.1529]) tensor(1.8772)\n",
      "[260,   279] loss:  tensor([0.4515, 0.6371, 0.6237, 0.1532]) tensor(1.8655)\n",
      "[280,   299] loss:  tensor([0.4597, 0.6343, 0.6257, 0.1531]) tensor(1.8728)\n",
      "[300,   319] loss:  tensor([0.4631, 0.6338, 0.6277, 0.1529]) tensor(1.8776)\n",
      "[320,   339] loss:  tensor([0.4631, 0.6397, 0.6214, 0.1560]) tensor(1.8801)\n",
      "[340,   359] loss:  tensor([0.4552, 0.6322, 0.6280, 0.1520]) tensor(1.8674)\n",
      "[360,   379] loss:  tensor([0.4499, 0.6328, 0.6270, 0.1543]) tensor(1.8640)\n",
      "[380,   399] loss:  tensor([0.4602, 0.6403, 0.6216, 0.1552]) tensor(1.8773)\n",
      "[400,   419] loss:  tensor([0.4620, 0.6292, 0.6295, 0.1549]) tensor(1.8756)\n",
      "[420,   439] loss:  tensor([0.4552, 0.6360, 0.6228, 0.1556]) tensor(1.8695)\n",
      "[440,   459] loss:  tensor([0.4536, 0.6323, 0.6265, 0.1536]) tensor(1.8660)\n",
      "[460,   479] loss:  tensor([0.4532, 0.6363, 0.6246, 0.1534]) tensor(1.8674)\n",
      "[480,   499] loss:  tensor([0.4609, 0.6353, 0.6235, 0.1553]) tensor(1.8751)\n",
      "[500,   519] loss:  tensor([0.4561, 0.6317, 0.6315, 0.1534]) tensor(1.8727)\n",
      "[520,   539] loss:  tensor([0.4636, 0.6344, 0.6270, 0.1537]) tensor(1.8788)\n",
      "[540,   559] loss:  tensor([0.4599, 0.6302, 0.6322, 0.1522]) tensor(1.8745)\n",
      "[560,   579] loss:  tensor([0.4611, 0.6390, 0.6242, 0.1544]) tensor(1.8786)\n",
      "[580,   599] loss:  tensor([0.4531, 0.6376, 0.6204, 0.1579]) tensor(1.8690)\n",
      "[600,   619] loss:  tensor([0.4535, 0.6306, 0.6273, 0.1523]) tensor(1.8637)\n",
      "[620,   639] loss:  tensor([0.4534, 0.6350, 0.6272, 0.1549]) tensor(1.8705)\n",
      "[640,   659] loss:  tensor([0.4604, 0.6354, 0.6242, 0.1552]) tensor(1.8751)\n",
      "[660,   679] loss:  tensor([0.4631, 0.6411, 0.6220, 0.1555]) tensor(1.8817)\n",
      "[680,   699] loss:  tensor([0.4580, 0.6336, 0.6281, 0.1529]) tensor(1.8726)\n",
      "[700,   719] loss:  tensor([0.4614, 0.6329, 0.6277, 0.1510]) tensor(1.8729)\n",
      "[720,   739] loss:  tensor([0.4592, 0.6365, 0.6276, 0.1552]) tensor(1.8785)\n",
      "[740,   759] loss:  tensor([0.4541, 0.6378, 0.6246, 0.1539]) tensor(1.8704)\n",
      "[760,   779] loss:  tensor([0.4553, 0.6409, 0.6256, 0.1553]) tensor(1.8771)\n",
      "[780,   799] loss:  tensor([0.4612, 0.6325, 0.6303, 0.1526]) tensor(1.8767)\n",
      "[800,   819] loss:  tensor([0.4576, 0.6318, 0.6277, 0.1555]) tensor(1.8725)\n",
      "[820,   839] loss:  tensor([0.4534, 0.6321, 0.6276, 0.1539]) tensor(1.8670)\n",
      "[840,   859] loss:  tensor([0.4555, 0.6379, 0.6185, 0.1531]) tensor(1.8651)\n",
      "[860,   879] loss:  tensor([0.4553, 0.6317, 0.6261, 0.1553]) tensor(1.8684)\n",
      "[880,   899] loss:  tensor([0.4489, 0.6344, 0.6273, 0.1553]) tensor(1.8660)\n",
      "[900,   919] loss:  tensor([0.4554, 0.6286, 0.6313, 0.1559]) tensor(1.8713)\n",
      "[920,   939] loss:  tensor([0.4720, 0.6344, 0.6272, 0.1548]) tensor(1.8883)\n",
      "[940,   959] loss:  tensor([0.4559, 0.6378, 0.6204, 0.1581]) tensor(1.8723)\n",
      "[960,   979] loss:  tensor([0.4543, 0.6405, 0.6218, 0.1529]) tensor(1.8696)\n",
      "[980,   999] loss:  tensor([0.4576, 0.6372, 0.6245, 0.1524]) tensor(1.8718)\n",
      "[1000,  1019] loss:  tensor([0.4587, 0.6348, 0.6275, 0.1546]) tensor(1.8756)\n",
      "[1020,  1039] loss:  tensor([0.4573, 0.6323, 0.6272, 0.1538]) tensor(1.8706)\n",
      "[1040,  1059] loss:  tensor([0.4569, 0.6373, 0.6262, 0.1552]) tensor(1.8757)\n",
      "[1060,  1079] loss:  tensor([0.4554, 0.6336, 0.6300, 0.1533]) tensor(1.8723)\n",
      "[1080,  1099] loss:  tensor([0.4594, 0.6375, 0.6249, 0.1510]) tensor(1.8728)\n",
      "[1100,  1119] loss:  tensor([0.4581, 0.6348, 0.6284, 0.1548]) tensor(1.8761)\n",
      "[1120,  1139] loss:  tensor([0.4537, 0.6358, 0.6266, 0.1555]) tensor(1.8715)\n",
      "[1140,  1159] loss:  tensor([0.4662, 0.6375, 0.6237, 0.1534]) tensor(1.8808)\n",
      "[1160,  1179] loss:  tensor([0.4606, 0.6369, 0.6219, 0.1543]) tensor(1.8737)\n",
      "[1180,  1199] loss:  tensor([0.4590, 0.6352, 0.6236, 0.1526]) tensor(1.8704)\n",
      "[1200,  1219] loss:  tensor([0.4560, 0.6400, 0.6233, 0.1516]) tensor(1.8709)\n",
      "[1220,  1239] loss:  tensor([0.4602, 0.6403, 0.6226, 0.1530]) tensor(1.8762)\n",
      "[1240,  1259] loss:  tensor([0.4601, 0.6381, 0.6252, 0.1527]) tensor(1.8761)\n",
      "[1260,  1279] loss:  tensor([0.4550, 0.6366, 0.6222, 0.1570]) tensor(1.8709)\n",
      "[1280,  1299] loss:  tensor([0.4595, 0.6315, 0.6311, 0.1571]) tensor(1.8792)\n",
      "[1300,  1319] loss:  tensor([0.4582, 0.6290, 0.6300, 0.1535]) tensor(1.8707)\n",
      "[1320,  1339] loss:  tensor([0.4600, 0.6363, 0.6234, 0.1529]) tensor(1.8726)\n",
      "[1340,  1359] loss:  tensor([0.4549, 0.6331, 0.6261, 0.1555]) tensor(1.8697)\n",
      "[1360,  1379] loss:  tensor([0.4568, 0.6367, 0.6217, 0.1516]) tensor(1.8668)\n",
      "[1380,  1399] loss:  tensor([0.4531, 0.6384, 0.6232, 0.1533]) tensor(1.8680)\n",
      "[1400,  1419] loss:  tensor([0.4537, 0.6416, 0.6218, 0.1520]) tensor(1.8691)\n",
      "[1420,  1439] loss:  tensor([0.4616, 0.6404, 0.6211, 0.1534]) tensor(1.8765)\n",
      "[1440,  1459] loss:  tensor([0.4506, 0.6405, 0.6227, 0.1518]) tensor(1.8656)\n",
      "[1460,  1479] loss:  tensor([0.4577, 0.6350, 0.6240, 0.1524]) tensor(1.8691)\n",
      "[1480,  1499] loss:  tensor([0.4653, 0.6376, 0.6226, 0.1554]) tensor(1.8810)\n",
      "[1500,  1519] loss:  tensor([0.4617, 0.6331, 0.6267, 0.1554]) tensor(1.8770)\n",
      "[1520,  1539] loss:  tensor([0.4587, 0.6414, 0.6221, 0.1536]) tensor(1.8758)\n",
      "[1540,  1559] loss:  tensor([0.4619, 0.6369, 0.6211, 0.1550]) tensor(1.8749)\n",
      "validation\n"
     ]
    },
    {
     "data": {
      "application/vnd.jupyter.widget-view+json": {
       "model_id": "0ea73d6ca9a5493891cf890c67ad5be9",
       "version_major": 2,
       "version_minor": 0
      },
      "text/plain": [
       "  0%|          | 0/125 [00:00<?, ?it/s]"
      ]
     },
     "metadata": {},
     "output_type": "display_data"
    },
    {
     "name": "stdout",
     "output_type": "stream",
     "text": [
      "validation loss for epoch 38: tensor([0.4690, 0.6344, 0.6252, 0.1563]) 1.8849062000829993\n"
     ]
    },
    {
     "data": {
      "application/vnd.jupyter.widget-view+json": {
       "model_id": "0ff5c28ed2934fa49d60b5c5855af399",
       "version_major": 2,
       "version_minor": 0
      },
      "text/plain": [
       "  0%|          | 0/1544 [00:00<?, ?it/s]"
      ]
     },
     "metadata": {},
     "output_type": "display_data"
    },
    {
     "name": "stdout",
     "output_type": "stream",
     "text": [
      "[20,    39] loss:  tensor([0.4564, 0.6310, 0.6302, 0.1543]) tensor(1.8719)\n",
      "[40,    59] loss:  tensor([0.4613, 0.6378, 0.6239, 0.1534]) tensor(1.8763)\n",
      "[60,    79] loss:  tensor([0.4579, 0.6382, 0.6187, 0.1518]) tensor(1.8667)\n",
      "[80,    99] loss:  tensor([0.4673, 0.6337, 0.6267, 0.1551]) tensor(1.8828)\n",
      "[100,   119] loss:  tensor([0.4600, 0.6321, 0.6287, 0.1523]) tensor(1.8732)\n",
      "[120,   139] loss:  tensor([0.4518, 0.6342, 0.6251, 0.1530]) tensor(1.8642)\n",
      "[140,   159] loss:  tensor([0.4604, 0.6345, 0.6300, 0.1533]) tensor(1.8783)\n",
      "[160,   179] loss:  tensor([0.4588, 0.6380, 0.6244, 0.1553]) tensor(1.8764)\n",
      "[180,   199] loss:  tensor([0.4622, 0.6349, 0.6259, 0.1513]) tensor(1.8743)\n",
      "[200,   219] loss:  tensor([0.4569, 0.6380, 0.6246, 0.1529]) tensor(1.8724)\n",
      "[220,   239] loss:  tensor([0.4557, 0.6316, 0.6255, 0.1530]) tensor(1.8657)\n",
      "[240,   259] loss:  tensor([0.4518, 0.6395, 0.6202, 0.1544]) tensor(1.8658)\n",
      "[260,   279] loss:  tensor([0.4510, 0.6358, 0.6249, 0.1531]) tensor(1.8648)\n",
      "[280,   299] loss:  tensor([0.4517, 0.6352, 0.6287, 0.1550]) tensor(1.8707)\n",
      "[300,   319] loss:  tensor([0.4510, 0.6376, 0.6229, 0.1551]) tensor(1.8667)\n",
      "[320,   339] loss:  tensor([0.4514, 0.6401, 0.6219, 0.1520]) tensor(1.8654)\n",
      "[340,   359] loss:  tensor([0.4533, 0.6381, 0.6244, 0.1507]) tensor(1.8666)\n",
      "[360,   379] loss:  tensor([0.4585, 0.6305, 0.6319, 0.1541]) tensor(1.8750)\n",
      "[380,   399] loss:  tensor([0.4565, 0.6420, 0.6202, 0.1532]) tensor(1.8720)\n",
      "[400,   419] loss:  tensor([0.4617, 0.6340, 0.6274, 0.1511]) tensor(1.8742)\n",
      "[420,   439] loss:  tensor([0.4597, 0.6358, 0.6267, 0.1521]) tensor(1.8744)\n",
      "[440,   459] loss:  tensor([0.4557, 0.6414, 0.6208, 0.1544]) tensor(1.8723)\n",
      "[460,   479] loss:  tensor([0.4535, 0.6332, 0.6268, 0.1544]) tensor(1.8679)\n",
      "[480,   499] loss:  tensor([0.4566, 0.6356, 0.6273, 0.1552]) tensor(1.8746)\n",
      "[500,   519] loss:  tensor([0.4525, 0.6391, 0.6228, 0.1536]) tensor(1.8680)\n",
      "[520,   539] loss:  tensor([0.4571, 0.6332, 0.6271, 0.1551]) tensor(1.8726)\n",
      "[540,   559] loss:  tensor([0.4618, 0.6302, 0.6305, 0.1553]) tensor(1.8779)\n",
      "[560,   579] loss:  tensor([0.4561, 0.6361, 0.6256, 0.1538]) tensor(1.8716)\n",
      "[580,   599] loss:  tensor([0.4510, 0.6304, 0.6321, 0.1527]) tensor(1.8662)\n",
      "[600,   619] loss:  tensor([0.4603, 0.6363, 0.6239, 0.1538]) tensor(1.8743)\n",
      "[620,   639] loss:  tensor([0.4674, 0.6289, 0.6276, 0.1530]) tensor(1.8769)\n",
      "[640,   659] loss:  tensor([0.4583, 0.6291, 0.6324, 0.1556]) tensor(1.8754)\n",
      "[660,   679] loss:  tensor([0.4535, 0.6333, 0.6249, 0.1537]) tensor(1.8655)\n",
      "[680,   699] loss:  tensor([0.4543, 0.6376, 0.6239, 0.1537]) tensor(1.8695)\n",
      "[700,   719] loss:  tensor([0.4624, 0.6395, 0.6202, 0.1528]) tensor(1.8749)\n",
      "[720,   739] loss:  tensor([0.4481, 0.6339, 0.6279, 0.1551]) tensor(1.8650)\n",
      "[740,   759] loss:  tensor([0.4616, 0.6327, 0.6288, 0.1530]) tensor(1.8761)\n",
      "[760,   779] loss:  tensor([0.4558, 0.6366, 0.6282, 0.1516]) tensor(1.8721)\n",
      "[780,   799] loss:  tensor([0.4540, 0.6372, 0.6244, 0.1540]) tensor(1.8696)\n",
      "[800,   819] loss:  tensor([0.4596, 0.6341, 0.6275, 0.1543]) tensor(1.8755)\n",
      "[820,   839] loss:  tensor([0.4593, 0.6344, 0.6260, 0.1543]) tensor(1.8740)\n",
      "[840,   859] loss:  tensor([0.4618, 0.6328, 0.6267, 0.1541]) tensor(1.8754)\n",
      "[860,   879] loss:  tensor([0.4616, 0.6337, 0.6242, 0.1535]) tensor(1.8730)\n",
      "[880,   899] loss:  tensor([0.4551, 0.6351, 0.6282, 0.1519]) tensor(1.8704)\n",
      "[900,   919] loss:  tensor([0.4549, 0.6359, 0.6214, 0.1552]) tensor(1.8674)\n",
      "[920,   939] loss:  tensor([0.4608, 0.6418, 0.6204, 0.1531]) tensor(1.8760)\n",
      "[940,   959] loss:  tensor([0.4627, 0.6357, 0.6240, 0.1543]) tensor(1.8767)\n",
      "[960,   979] loss:  tensor([0.4502, 0.6324, 0.6269, 0.1509]) tensor(1.8603)\n",
      "[980,   999] loss:  tensor([0.4524, 0.6358, 0.6243, 0.1531]) tensor(1.8655)\n",
      "[1000,  1019] loss:  tensor([0.4515, 0.6373, 0.6222, 0.1541]) tensor(1.8651)\n",
      "[1020,  1039] loss:  tensor([0.4554, 0.6394, 0.6263, 0.1506]) tensor(1.8716)\n",
      "[1040,  1059] loss:  tensor([0.4585, 0.6378, 0.6253, 0.1552]) tensor(1.8768)\n",
      "[1060,  1079] loss:  tensor([0.4563, 0.6346, 0.6252, 0.1509]) tensor(1.8670)\n",
      "[1080,  1099] loss:  tensor([0.4552, 0.6391, 0.6209, 0.1539]) tensor(1.8691)\n",
      "[1100,  1119] loss:  tensor([0.4628, 0.6328, 0.6327, 0.1547]) tensor(1.8830)\n",
      "[1120,  1139] loss:  tensor([0.4573, 0.6341, 0.6263, 0.1529]) tensor(1.8706)\n",
      "[1140,  1159] loss:  tensor([0.4548, 0.6320, 0.6271, 0.1515]) tensor(1.8654)\n",
      "[1160,  1179] loss:  tensor([0.4666, 0.6358, 0.6244, 0.1548]) tensor(1.8815)\n",
      "[1180,  1199] loss:  tensor([0.4504, 0.6354, 0.6277, 0.1555]) tensor(1.8690)\n",
      "[1200,  1219] loss:  tensor([0.4520, 0.6342, 0.6244, 0.1553]) tensor(1.8658)\n",
      "[1220,  1239] loss:  tensor([0.4484, 0.6369, 0.6256, 0.1535]) tensor(1.8644)\n",
      "[1240,  1259] loss:  tensor([0.4553, 0.6310, 0.6255, 0.1554]) tensor(1.8672)\n",
      "[1260,  1279] loss:  tensor([0.4602, 0.6373, 0.6252, 0.1548]) tensor(1.8777)\n",
      "[1280,  1299] loss:  tensor([0.4642, 0.6359, 0.6253, 0.1541]) tensor(1.8796)\n",
      "[1300,  1319] loss:  tensor([0.4592, 0.6369, 0.6233, 0.1532]) tensor(1.8726)\n",
      "[1320,  1339] loss:  tensor([0.4548, 0.6355, 0.6211, 0.1528]) tensor(1.8642)\n",
      "[1340,  1359] loss:  tensor([0.4580, 0.6396, 0.6213, 0.1534]) tensor(1.8723)\n",
      "[1360,  1379] loss:  tensor([0.4616, 0.6332, 0.6291, 0.1533]) tensor(1.8772)\n",
      "[1380,  1399] loss:  tensor([0.4607, 0.6373, 0.6273, 0.1536]) tensor(1.8789)\n",
      "[1400,  1419] loss:  tensor([0.4496, 0.6337, 0.6255, 0.1543]) tensor(1.8631)\n",
      "[1420,  1439] loss:  tensor([0.4493, 0.6340, 0.6269, 0.1539]) tensor(1.8641)\n",
      "[1440,  1459] loss:  tensor([0.4460, 0.6315, 0.6290, 0.1524]) tensor(1.8588)\n",
      "[1460,  1479] loss:  tensor([0.4618, 0.6357, 0.6276, 0.1523]) tensor(1.8774)\n",
      "[1480,  1499] loss:  tensor([0.4519, 0.6320, 0.6296, 0.1536]) tensor(1.8671)\n",
      "[1500,  1519] loss:  tensor([0.4604, 0.6339, 0.6274, 0.1530]) tensor(1.8746)\n",
      "[1520,  1539] loss:  tensor([0.4593, 0.6361, 0.6264, 0.1525]) tensor(1.8743)\n",
      "[1540,  1559] loss:  tensor([0.4573, 0.6371, 0.6223, 0.1543]) tensor(1.8709)\n",
      "validation\n"
     ]
    },
    {
     "data": {
      "application/vnd.jupyter.widget-view+json": {
       "model_id": "7084e1edcf274a779093a95bee014832",
       "version_major": 2,
       "version_minor": 0
      },
      "text/plain": [
       "  0%|          | 0/125 [00:00<?, ?it/s]"
      ]
     },
     "metadata": {},
     "output_type": "display_data"
    },
    {
     "name": "stdout",
     "output_type": "stream",
     "text": [
      "validation loss for epoch 39: tensor([0.4561, 0.6321, 0.6294, 0.1562]) 1.8737217332748684\n"
     ]
    },
    {
     "data": {
      "application/vnd.jupyter.widget-view+json": {
       "model_id": "753333d1b8dc4d0391137d6b185dcc76",
       "version_major": 2,
       "version_minor": 0
      },
      "text/plain": [
       "  0%|          | 0/1544 [00:00<?, ?it/s]"
      ]
     },
     "metadata": {},
     "output_type": "display_data"
    },
    {
     "name": "stdout",
     "output_type": "stream",
     "text": [
      "[20,    39] loss:  tensor([0.4535, 0.6322, 0.6284, 0.1527]) tensor(1.8668)\n",
      "[40,    59] loss:  tensor([0.4497, 0.6405, 0.6197, 0.1502]) tensor(1.8601)\n",
      "[60,    79] loss:  tensor([0.4563, 0.6357, 0.6264, 0.1512]) tensor(1.8697)\n",
      "[80,    99] loss:  tensor([0.4562, 0.6324, 0.6311, 0.1515]) tensor(1.8712)\n",
      "[100,   119] loss:  tensor([0.4536, 0.6391, 0.6210, 0.1532]) tensor(1.8669)\n",
      "[120,   139] loss:  tensor([0.4577, 0.6386, 0.6243, 0.1513]) tensor(1.8720)\n",
      "[140,   159] loss:  tensor([0.4590, 0.6412, 0.6166, 0.1543]) tensor(1.8710)\n",
      "[160,   179] loss:  tensor([0.4589, 0.6352, 0.6261, 0.1561]) tensor(1.8762)\n",
      "[180,   199] loss:  tensor([0.4544, 0.6308, 0.6328, 0.1533]) tensor(1.8713)\n",
      "[200,   219] loss:  tensor([0.4610, 0.6402, 0.6209, 0.1528]) tensor(1.8749)\n",
      "[220,   239] loss:  tensor([0.4527, 0.6390, 0.6197, 0.1550]) tensor(1.8663)\n",
      "[240,   259] loss:  tensor([0.4584, 0.6373, 0.6222, 0.1525]) tensor(1.8705)\n",
      "[260,   279] loss:  tensor([0.4533, 0.6392, 0.6229, 0.1560]) tensor(1.8714)\n",
      "[280,   299] loss:  tensor([0.4613, 0.6355, 0.6270, 0.1557]) tensor(1.8796)\n",
      "[300,   319] loss:  tensor([0.4550, 0.6381, 0.6199, 0.1544]) tensor(1.8673)\n",
      "[320,   339] loss:  tensor([0.4560, 0.6384, 0.6249, 0.1555]) tensor(1.8749)\n",
      "[340,   359] loss:  tensor([0.4529, 0.6385, 0.6228, 0.1551]) tensor(1.8692)\n",
      "[360,   379] loss:  tensor([0.4540, 0.6342, 0.6280, 0.1522]) tensor(1.8684)\n",
      "[380,   399] loss:  tensor([0.4482, 0.6319, 0.6291, 0.1562]) tensor(1.8654)\n",
      "[400,   419] loss:  tensor([0.4665, 0.6376, 0.6260, 0.1557]) tensor(1.8858)\n",
      "[420,   439] loss:  tensor([0.4564, 0.6306, 0.6270, 0.1544]) tensor(1.8685)\n",
      "[440,   459] loss:  tensor([0.4513, 0.6380, 0.6177, 0.1550]) tensor(1.8621)\n",
      "[460,   479] loss:  tensor([0.4481, 0.6338, 0.6256, 0.1573]) tensor(1.8647)\n",
      "[480,   499] loss:  tensor([0.4523, 0.6347, 0.6274, 0.1542]) tensor(1.8686)\n",
      "[500,   519] loss:  tensor([0.4524, 0.6337, 0.6313, 0.1514]) tensor(1.8687)\n",
      "[520,   539] loss:  tensor([0.4618, 0.6435, 0.6198, 0.1541]) tensor(1.8791)\n",
      "[540,   559] loss:  tensor([0.4573, 0.6386, 0.6225, 0.1508]) tensor(1.8692)\n",
      "[560,   579] loss:  tensor([0.4584, 0.6385, 0.6254, 0.1522]) tensor(1.8746)\n",
      "[580,   599] loss:  tensor([0.4572, 0.6355, 0.6224, 0.1537]) tensor(1.8689)\n",
      "[600,   619] loss:  tensor([0.4545, 0.6368, 0.6230, 0.1530]) tensor(1.8674)\n",
      "[620,   639] loss:  tensor([0.4512, 0.6331, 0.6294, 0.1521]) tensor(1.8658)\n",
      "[640,   659] loss:  tensor([0.4542, 0.6384, 0.6210, 0.1556]) tensor(1.8693)\n",
      "[660,   679] loss:  tensor([0.4596, 0.6391, 0.6240, 0.1599]) tensor(1.8827)\n",
      "[680,   699] loss:  tensor([0.4619, 0.6350, 0.6269, 0.1539]) tensor(1.8776)\n",
      "[700,   719] loss:  tensor([0.4554, 0.6314, 0.6283, 0.1527]) tensor(1.8678)\n",
      "[720,   739] loss:  tensor([0.4643, 0.6358, 0.6235, 0.1530]) tensor(1.8767)\n",
      "[740,   759] loss:  tensor([0.4558, 0.6305, 0.6276, 0.1520]) tensor(1.8659)\n",
      "[760,   779] loss:  tensor([0.4567, 0.6330, 0.6250, 0.1545]) tensor(1.8692)\n",
      "[780,   799] loss:  tensor([0.4567, 0.6345, 0.6251, 0.1529]) tensor(1.8692)\n",
      "[800,   819] loss:  tensor([0.4539, 0.6413, 0.6223, 0.1538]) tensor(1.8713)\n",
      "[820,   839] loss:  tensor([0.4534, 0.6343, 0.6302, 0.1540]) tensor(1.8720)\n",
      "[840,   859] loss:  tensor([0.4553, 0.6408, 0.6245, 0.1530]) tensor(1.8736)\n",
      "[860,   879] loss:  tensor([0.4614, 0.6356, 0.6239, 0.1527]) tensor(1.8735)\n",
      "[880,   899] loss:  tensor([0.4579, 0.6327, 0.6273, 0.1543]) tensor(1.8722)\n",
      "[900,   919] loss:  tensor([0.4511, 0.6406, 0.6208, 0.1537]) tensor(1.8662)\n",
      "[920,   939] loss:  tensor([0.4519, 0.6360, 0.6200, 0.1541]) tensor(1.8620)\n",
      "[940,   959] loss:  tensor([0.4498, 0.6362, 0.6279, 0.1511]) tensor(1.8650)\n",
      "[960,   979] loss:  tensor([0.4514, 0.6308, 0.6318, 0.1545]) tensor(1.8685)\n",
      "[980,   999] loss:  tensor([0.4556, 0.6377, 0.6215, 0.1528]) tensor(1.8676)\n",
      "[1000,  1019] loss:  tensor([0.4590, 0.6359, 0.6289, 0.1525]) tensor(1.8762)\n",
      "[1020,  1039] loss:  tensor([0.4619, 0.6416, 0.6212, 0.1519]) tensor(1.8766)\n",
      "[1040,  1059] loss:  tensor([0.4575, 0.6337, 0.6288, 0.1553]) tensor(1.8754)\n",
      "[1060,  1079] loss:  tensor([0.4515, 0.6400, 0.6194, 0.1544]) tensor(1.8653)\n",
      "[1080,  1099] loss:  tensor([0.4471, 0.6344, 0.6281, 0.1524]) tensor(1.8620)\n",
      "[1100,  1119] loss:  tensor([0.4555, 0.6411, 0.6159, 0.1516]) tensor(1.8641)\n",
      "[1120,  1139] loss:  tensor([0.4612, 0.6383, 0.6226, 0.1541]) tensor(1.8763)\n",
      "[1140,  1159] loss:  tensor([0.4656, 0.6386, 0.6249, 0.1548]) tensor(1.8840)\n",
      "[1160,  1179] loss:  tensor([0.4612, 0.6333, 0.6309, 0.1515]) tensor(1.8769)\n",
      "[1180,  1199] loss:  tensor([0.4592, 0.6371, 0.6222, 0.1558]) tensor(1.8742)\n",
      "[1200,  1219] loss:  tensor([0.4584, 0.6394, 0.6221, 0.1519]) tensor(1.8719)\n",
      "[1220,  1239] loss:  tensor([0.4542, 0.6310, 0.6329, 0.1537]) tensor(1.8718)\n",
      "[1240,  1259] loss:  tensor([0.4574, 0.6371, 0.6225, 0.1538]) tensor(1.8708)\n",
      "[1260,  1279] loss:  tensor([0.4533, 0.6358, 0.6200, 0.1532]) tensor(1.8622)\n",
      "[1280,  1299] loss:  tensor([0.4521, 0.6376, 0.6231, 0.1519]) tensor(1.8647)\n",
      "[1300,  1319] loss:  tensor([0.4561, 0.6374, 0.6205, 0.1523]) tensor(1.8663)\n",
      "[1320,  1339] loss:  tensor([0.4539, 0.6322, 0.6285, 0.1550]) tensor(1.8696)\n",
      "[1340,  1359] loss:  tensor([0.4622, 0.6354, 0.6271, 0.1524]) tensor(1.8770)\n",
      "[1360,  1379] loss:  tensor([0.4557, 0.6382, 0.6245, 0.1553]) tensor(1.8737)\n",
      "[1380,  1399] loss:  tensor([0.4587, 0.6389, 0.6203, 0.1543]) tensor(1.8723)\n",
      "[1400,  1419] loss:  tensor([0.4512, 0.6375, 0.6247, 0.1554]) tensor(1.8688)\n",
      "[1420,  1439] loss:  tensor([0.4547, 0.6430, 0.6176, 0.1530]) tensor(1.8683)\n",
      "[1440,  1459] loss:  tensor([0.4625, 0.6331, 0.6284, 0.1536]) tensor(1.8776)\n",
      "[1460,  1479] loss:  tensor([0.4667, 0.6398, 0.6217, 0.1551]) tensor(1.8833)\n",
      "[1480,  1499] loss:  tensor([0.4613, 0.6360, 0.6256, 0.1539]) tensor(1.8768)\n",
      "[1500,  1519] loss:  tensor([0.4568, 0.6325, 0.6290, 0.1540]) tensor(1.8723)\n",
      "[1520,  1539] loss:  tensor([0.4580, 0.6328, 0.6272, 0.1527]) tensor(1.8707)\n",
      "[1540,  1559] loss:  tensor([0.4561, 0.6353, 0.6266, 0.1571]) tensor(1.8750)\n",
      "validation\n"
     ]
    },
    {
     "data": {
      "application/vnd.jupyter.widget-view+json": {
       "model_id": "2774c8c526454bf09a62e5bc4da4f7a5",
       "version_major": 2,
       "version_minor": 0
      },
      "text/plain": [
       "  0%|          | 0/125 [00:00<?, ?it/s]"
      ]
     },
     "metadata": {},
     "output_type": "display_data"
    },
    {
     "name": "stdout",
     "output_type": "stream",
     "text": [
      "validation loss for epoch 40: tensor([0.4711, 0.6308, 0.6327, 0.1546]) 1.8891984504196944\n"
     ]
    },
    {
     "data": {
      "application/vnd.jupyter.widget-view+json": {
       "model_id": "9db1da0cb8564d1a95e4bf29bff8adc5",
       "version_major": 2,
       "version_minor": 0
      },
      "text/plain": [
       "  0%|          | 0/1544 [00:00<?, ?it/s]"
      ]
     },
     "metadata": {},
     "output_type": "display_data"
    },
    {
     "name": "stdout",
     "output_type": "stream",
     "text": [
      "[20,    39] loss:  tensor([0.4585, 0.6330, 0.6269, 0.1540]) tensor(1.8723)\n",
      "[40,    59] loss:  tensor([0.4574, 0.6333, 0.6271, 0.1535]) tensor(1.8714)\n",
      "[60,    79] loss:  tensor([0.4584, 0.6393, 0.6209, 0.1545]) tensor(1.8732)\n",
      "[80,    99] loss:  tensor([0.4575, 0.6351, 0.6260, 0.1532]) tensor(1.8718)\n",
      "[100,   119] loss:  tensor([0.4559, 0.6317, 0.6316, 0.1536]) tensor(1.8728)\n",
      "[120,   139] loss:  tensor([0.4582, 0.6339, 0.6256, 0.1555]) tensor(1.8732)\n",
      "[140,   159] loss:  tensor([0.4579, 0.6376, 0.6247, 0.1531]) tensor(1.8733)\n",
      "[160,   179] loss:  tensor([0.4570, 0.6380, 0.6243, 0.1514]) tensor(1.8706)\n",
      "[180,   199] loss:  tensor([0.4582, 0.6392, 0.6223, 0.1551]) tensor(1.8749)\n",
      "[200,   219] loss:  tensor([0.4566, 0.6343, 0.6247, 0.1526]) tensor(1.8681)\n",
      "[220,   239] loss:  tensor([0.4488, 0.6369, 0.6226, 0.1535]) tensor(1.8618)\n",
      "[240,   259] loss:  tensor([0.4565, 0.6339, 0.6288, 0.1531]) tensor(1.8724)\n",
      "[260,   279] loss:  tensor([0.4577, 0.6335, 0.6254, 0.1545]) tensor(1.8712)\n",
      "[280,   299] loss:  tensor([0.4551, 0.6344, 0.6270, 0.1540]) tensor(1.8705)\n",
      "[300,   319] loss:  tensor([0.4530, 0.6333, 0.6263, 0.1518]) tensor(1.8644)\n",
      "[320,   339] loss:  tensor([0.4531, 0.6373, 0.6223, 0.1513]) tensor(1.8640)\n",
      "[340,   359] loss:  tensor([0.4613, 0.6365, 0.6242, 0.1544]) tensor(1.8763)\n",
      "[360,   379] loss:  tensor([0.4588, 0.6389, 0.6213, 0.1537]) tensor(1.8728)\n",
      "[380,   399] loss:  tensor([0.4595, 0.6305, 0.6302, 0.1550]) tensor(1.8752)\n",
      "[400,   419] loss:  tensor([0.4577, 0.6293, 0.6297, 0.1534]) tensor(1.8701)\n",
      "[420,   439] loss:  tensor([0.4573, 0.6354, 0.6227, 0.1527]) tensor(1.8681)\n",
      "[440,   459] loss:  tensor([0.4628, 0.6370, 0.6179, 0.1546]) tensor(1.8722)\n",
      "[460,   479] loss:  tensor([0.4571, 0.6376, 0.6205, 0.1526]) tensor(1.8678)\n",
      "[480,   499] loss:  tensor([0.4603, 0.6344, 0.6247, 0.1536]) tensor(1.8730)\n",
      "[500,   519] loss:  tensor([0.4639, 0.6329, 0.6288, 0.1524]) tensor(1.8781)\n",
      "[520,   539] loss:  tensor([0.4490, 0.6350, 0.6227, 0.1541]) tensor(1.8608)\n",
      "[540,   559] loss:  tensor([0.4588, 0.6342, 0.6240, 0.1536]) tensor(1.8705)\n",
      "[560,   579] loss:  tensor([0.4570, 0.6358, 0.6237, 0.1540]) tensor(1.8704)\n",
      "[580,   599] loss:  tensor([0.4507, 0.6328, 0.6306, 0.1525]) tensor(1.8665)\n",
      "[600,   619] loss:  tensor([0.4551, 0.6366, 0.6263, 0.1547]) tensor(1.8726)\n",
      "[620,   639] loss:  tensor([0.4578, 0.6397, 0.6243, 0.1551]) tensor(1.8769)\n",
      "[640,   659] loss:  tensor([0.4614, 0.6396, 0.6248, 0.1537]) tensor(1.8794)\n",
      "[660,   679] loss:  tensor([0.4593, 0.6325, 0.6286, 0.1552]) tensor(1.8757)\n",
      "[680,   699] loss:  tensor([0.4552, 0.6358, 0.6251, 0.1534]) tensor(1.8695)\n",
      "[700,   719] loss:  tensor([0.4539, 0.6338, 0.6270, 0.1541]) tensor(1.8688)\n",
      "[720,   739] loss:  tensor([0.4520, 0.6340, 0.6275, 0.1534]) tensor(1.8669)\n",
      "[740,   759] loss:  tensor([0.4548, 0.6378, 0.6263, 0.1550]) tensor(1.8739)\n",
      "[760,   779] loss:  tensor([0.4528, 0.6377, 0.6199, 0.1545]) tensor(1.8649)\n",
      "[780,   799] loss:  tensor([0.4558, 0.6390, 0.6200, 0.1540]) tensor(1.8688)\n",
      "[800,   819] loss:  tensor([0.4492, 0.6368, 0.6237, 0.1543]) tensor(1.8640)\n",
      "[820,   839] loss:  tensor([0.4533, 0.6387, 0.6209, 0.1535]) tensor(1.8665)\n",
      "[840,   859] loss:  tensor([0.4587, 0.6359, 0.6242, 0.1552]) tensor(1.8740)\n",
      "[860,   879] loss:  tensor([0.4530, 0.6390, 0.6243, 0.1534]) tensor(1.8697)\n",
      "[880,   899] loss:  tensor([0.4511, 0.6326, 0.6263, 0.1522]) tensor(1.8621)\n",
      "[900,   919] loss:  tensor([0.4508, 0.6420, 0.6237, 0.1548]) tensor(1.8713)\n",
      "[920,   939] loss:  tensor([0.4610, 0.6326, 0.6256, 0.1544]) tensor(1.8737)\n",
      "[940,   959] loss:  tensor([0.4607, 0.6338, 0.6238, 0.1517]) tensor(1.8701)\n",
      "[960,   979] loss:  tensor([0.4496, 0.6355, 0.6247, 0.1540]) tensor(1.8639)\n",
      "[980,   999] loss:  tensor([0.4558, 0.6432, 0.6178, 0.1531]) tensor(1.8700)\n",
      "[1000,  1019] loss:  tensor([0.4550, 0.6373, 0.6225, 0.1548]) tensor(1.8697)\n",
      "[1020,  1039] loss:  tensor([0.4524, 0.6382, 0.6254, 0.1516]) tensor(1.8676)\n",
      "[1040,  1059] loss:  tensor([0.4558, 0.6379, 0.6233, 0.1564]) tensor(1.8734)\n",
      "[1060,  1079] loss:  tensor([0.4539, 0.6344, 0.6240, 0.1518]) tensor(1.8641)\n",
      "[1080,  1099] loss:  tensor([0.4584, 0.6364, 0.6266, 0.1537]) tensor(1.8751)\n",
      "[1100,  1119] loss:  tensor([0.4630, 0.6342, 0.6253, 0.1527]) tensor(1.8751)\n",
      "[1120,  1139] loss:  tensor([0.4635, 0.6260, 0.6336, 0.1530]) tensor(1.8761)\n",
      "[1140,  1159] loss:  tensor([0.4593, 0.6281, 0.6278, 0.1551]) tensor(1.8702)\n",
      "[1160,  1179] loss:  tensor([0.4586, 0.6364, 0.6261, 0.1535]) tensor(1.8746)\n",
      "[1180,  1199] loss:  tensor([0.4530, 0.6386, 0.6230, 0.1535]) tensor(1.8681)\n",
      "[1200,  1219] loss:  tensor([0.4496, 0.6327, 0.6266, 0.1539]) tensor(1.8627)\n",
      "[1220,  1239] loss:  tensor([0.4466, 0.6383, 0.6262, 0.1520]) tensor(1.8632)\n",
      "[1240,  1259] loss:  tensor([0.4548, 0.6330, 0.6337, 0.1543]) tensor(1.8757)\n",
      "[1260,  1279] loss:  tensor([0.4595, 0.6322, 0.6279, 0.1529]) tensor(1.8725)\n",
      "[1280,  1299] loss:  tensor([0.4525, 0.6357, 0.6224, 0.1536]) tensor(1.8642)\n",
      "[1300,  1319] loss:  tensor([0.4479, 0.6374, 0.6238, 0.1544]) tensor(1.8636)\n",
      "[1320,  1339] loss:  tensor([0.4553, 0.6362, 0.6230, 0.1548]) tensor(1.8693)\n",
      "[1340,  1359] loss:  tensor([0.4586, 0.6370, 0.6241, 0.1536]) tensor(1.8732)\n",
      "[1360,  1379] loss:  tensor([0.4546, 0.6311, 0.6331, 0.1512]) tensor(1.8699)\n",
      "[1380,  1399] loss:  tensor([0.4660, 0.6313, 0.6307, 0.1535]) tensor(1.8815)\n",
      "[1400,  1419] loss:  tensor([0.4568, 0.6384, 0.6216, 0.1555]) tensor(1.8723)\n",
      "[1420,  1439] loss:  tensor([0.4505, 0.6389, 0.6236, 0.1529]) tensor(1.8659)\n",
      "[1440,  1459] loss:  tensor([0.4543, 0.6349, 0.6261, 0.1537]) tensor(1.8690)\n",
      "[1460,  1479] loss:  tensor([0.4633, 0.6339, 0.6271, 0.1534]) tensor(1.8777)\n",
      "[1480,  1499] loss:  tensor([0.4607, 0.6363, 0.6241, 0.1548]) tensor(1.8758)\n",
      "[1500,  1519] loss:  tensor([0.4570, 0.6375, 0.6190, 0.1542]) tensor(1.8677)\n",
      "[1520,  1539] loss:  tensor([0.4561, 0.6357, 0.6254, 0.1547]) tensor(1.8719)\n",
      "[1540,  1559] loss:  tensor([0.4480, 0.6327, 0.6270, 0.1544]) tensor(1.8621)\n",
      "validation\n"
     ]
    },
    {
     "data": {
      "application/vnd.jupyter.widget-view+json": {
       "model_id": "a38431ce4eba4e5983bfcdf00ebc2b79",
       "version_major": 2,
       "version_minor": 0
      },
      "text/plain": [
       "  0%|          | 0/125 [00:00<?, ?it/s]"
      ]
     },
     "metadata": {},
     "output_type": "display_data"
    },
    {
     "name": "stdout",
     "output_type": "stream",
     "text": [
      "validation loss for epoch 41: tensor([0.4574, 0.6350, 0.6199, 0.1603]) 1.8725335129040341\n"
     ]
    },
    {
     "data": {
      "application/vnd.jupyter.widget-view+json": {
       "model_id": "885fa3e3d4e8408b9ecb2c572e8271e1",
       "version_major": 2,
       "version_minor": 0
      },
      "text/plain": [
       "  0%|          | 0/1544 [00:00<?, ?it/s]"
      ]
     },
     "metadata": {},
     "output_type": "display_data"
    },
    {
     "name": "stdout",
     "output_type": "stream",
     "text": [
      "[20,    39] loss:  tensor([0.4581, 0.6306, 0.6329, 0.1537]) tensor(1.8753)\n",
      "[40,    59] loss:  tensor([0.4533, 0.6318, 0.6286, 0.1530]) tensor(1.8668)\n",
      "[60,    79] loss:  tensor([0.4584, 0.6365, 0.6279, 0.1509]) tensor(1.8737)\n",
      "[80,    99] loss:  tensor([0.4563, 0.6301, 0.6320, 0.1536]) tensor(1.8719)\n",
      "[100,   119] loss:  tensor([0.4541, 0.6368, 0.6198, 0.1559]) tensor(1.8665)\n",
      "[120,   139] loss:  tensor([0.4558, 0.6315, 0.6297, 0.1537]) tensor(1.8708)\n",
      "[140,   159] loss:  tensor([0.4552, 0.6379, 0.6230, 0.1533]) tensor(1.8694)\n",
      "[160,   179] loss:  tensor([0.4515, 0.6378, 0.6231, 0.1534]) tensor(1.8658)\n",
      "[180,   199] loss:  tensor([0.4562, 0.6376, 0.6237, 0.1548]) tensor(1.8723)\n",
      "[200,   219] loss:  tensor([0.4646, 0.6372, 0.6233, 0.1544]) tensor(1.8796)\n",
      "[220,   239] loss:  tensor([0.4616, 0.6340, 0.6253, 0.1553]) tensor(1.8761)\n",
      "[240,   259] loss:  tensor([0.4575, 0.6376, 0.6217, 0.1531]) tensor(1.8699)\n",
      "[260,   279] loss:  tensor([0.4535, 0.6357, 0.6229, 0.1532]) tensor(1.8653)\n",
      "[280,   299] loss:  tensor([0.4543, 0.6359, 0.6251, 0.1556]) tensor(1.8708)\n",
      "[300,   319] loss:  tensor([0.4545, 0.6385, 0.6182, 0.1535]) tensor(1.8648)\n",
      "[320,   339] loss:  tensor([0.4534, 0.6415, 0.6204, 0.1545]) tensor(1.8697)\n",
      "[340,   359] loss:  tensor([0.4566, 0.6363, 0.6230, 0.1531]) tensor(1.8690)\n",
      "[360,   379] loss:  tensor([0.4602, 0.6396, 0.6229, 0.1542]) tensor(1.8770)\n",
      "[380,   399] loss:  tensor([0.4510, 0.6335, 0.6257, 0.1556]) tensor(1.8659)\n",
      "[400,   419] loss:  tensor([0.4516, 0.6370, 0.6261, 0.1540]) tensor(1.8686)\n",
      "[420,   439] loss:  tensor([0.4612, 0.6420, 0.6193, 0.1560]) tensor(1.8785)\n",
      "[440,   459] loss:  tensor([0.4639, 0.6346, 0.6266, 0.1527]) tensor(1.8777)\n",
      "[460,   479] loss:  tensor([0.4648, 0.6349, 0.6223, 0.1547]) tensor(1.8768)\n",
      "[480,   499] loss:  tensor([0.4512, 0.6328, 0.6281, 0.1537]) tensor(1.8659)\n",
      "[500,   519] loss:  tensor([0.4501, 0.6329, 0.6268, 0.1543]) tensor(1.8641)\n",
      "[520,   539] loss:  tensor([0.4551, 0.6409, 0.6231, 0.1524]) tensor(1.8715)\n",
      "[540,   559] loss:  tensor([0.4547, 0.6343, 0.6214, 0.1538]) tensor(1.8642)\n",
      "[560,   579] loss:  tensor([0.4558, 0.6267, 0.6332, 0.1519]) tensor(1.8675)\n",
      "[580,   599] loss:  tensor([0.4590, 0.6363, 0.6239, 0.1552]) tensor(1.8744)\n",
      "[600,   619] loss:  tensor([0.4499, 0.6360, 0.6291, 0.1533]) tensor(1.8684)\n",
      "[620,   639] loss:  tensor([0.4500, 0.6382, 0.6226, 0.1542]) tensor(1.8650)\n",
      "[640,   659] loss:  tensor([0.4647, 0.6383, 0.6205, 0.1530]) tensor(1.8765)\n",
      "[660,   679] loss:  tensor([0.4573, 0.6416, 0.6195, 0.1555]) tensor(1.8738)\n",
      "[680,   699] loss:  tensor([0.4588, 0.6334, 0.6271, 0.1531]) tensor(1.8724)\n",
      "[700,   719] loss:  tensor([0.4612, 0.6388, 0.6213, 0.1537]) tensor(1.8750)\n",
      "[720,   739] loss:  tensor([0.4614, 0.6367, 0.6211, 0.1542]) tensor(1.8733)\n",
      "[740,   759] loss:  tensor([0.4556, 0.6340, 0.6233, 0.1527]) tensor(1.8657)\n",
      "[760,   779] loss:  tensor([0.4519, 0.6368, 0.6199, 0.1536]) tensor(1.8621)\n",
      "[780,   799] loss:  tensor([0.4543, 0.6300, 0.6319, 0.1541]) tensor(1.8704)\n",
      "[800,   819] loss:  tensor([0.4590, 0.6365, 0.6242, 0.1554]) tensor(1.8750)\n",
      "[820,   839] loss:  tensor([0.4530, 0.6291, 0.6316, 0.1532]) tensor(1.8669)\n",
      "[840,   859] loss:  tensor([0.4498, 0.6362, 0.6276, 0.1525]) tensor(1.8660)\n",
      "[860,   879] loss:  tensor([0.4553, 0.6322, 0.6299, 0.1544]) tensor(1.8718)\n",
      "[880,   899] loss:  tensor([0.4666, 0.6313, 0.6273, 0.1526]) tensor(1.8778)\n",
      "[900,   919] loss:  tensor([0.4584, 0.6359, 0.6229, 0.1534]) tensor(1.8706)\n",
      "[920,   939] loss:  tensor([0.4565, 0.6359, 0.6256, 0.1514]) tensor(1.8693)\n",
      "[940,   959] loss:  tensor([0.4552, 0.6342, 0.6274, 0.1559]) tensor(1.8727)\n",
      "[960,   979] loss:  tensor([0.4565, 0.6349, 0.6247, 0.1535]) tensor(1.8697)\n",
      "[980,   999] loss:  tensor([0.4522, 0.6390, 0.6203, 0.1542]) tensor(1.8658)\n",
      "[1000,  1019] loss:  tensor([0.4527, 0.6339, 0.6263, 0.1516]) tensor(1.8645)\n",
      "[1020,  1039] loss:  tensor([0.4498, 0.6282, 0.6316, 0.1538]) tensor(1.8634)\n",
      "[1040,  1059] loss:  tensor([0.4494, 0.6348, 0.6230, 0.1531]) tensor(1.8603)\n",
      "[1060,  1079] loss:  tensor([0.4556, 0.6344, 0.6276, 0.1529]) tensor(1.8706)\n",
      "[1080,  1099] loss:  tensor([0.4526, 0.6392, 0.6200, 0.1563]) tensor(1.8681)\n",
      "[1100,  1119] loss:  tensor([0.4588, 0.6342, 0.6262, 0.1526]) tensor(1.8717)\n",
      "[1120,  1139] loss:  tensor([0.4522, 0.6384, 0.6242, 0.1538]) tensor(1.8687)\n",
      "[1140,  1159] loss:  tensor([0.4575, 0.6353, 0.6253, 0.1526]) tensor(1.8708)\n",
      "[1160,  1179] loss:  tensor([0.4539, 0.6421, 0.6158, 0.1550]) tensor(1.8668)\n",
      "[1180,  1199] loss:  tensor([0.4547, 0.6386, 0.6247, 0.1519]) tensor(1.8699)\n",
      "[1200,  1219] loss:  tensor([0.4637, 0.6400, 0.6223, 0.1537]) tensor(1.8797)\n",
      "[1220,  1239] loss:  tensor([0.4569, 0.6370, 0.6284, 0.1544]) tensor(1.8766)\n",
      "[1240,  1259] loss:  tensor([0.4607, 0.6330, 0.6241, 0.1546]) tensor(1.8724)\n",
      "[1260,  1279] loss:  tensor([0.4446, 0.6347, 0.6251, 0.1553]) tensor(1.8596)\n",
      "[1280,  1299] loss:  tensor([0.4543, 0.6351, 0.6283, 0.1572]) tensor(1.8750)\n",
      "[1300,  1319] loss:  tensor([0.4494, 0.6347, 0.6219, 0.1530]) tensor(1.8591)\n",
      "[1320,  1339] loss:  tensor([0.4585, 0.6382, 0.6217, 0.1542]) tensor(1.8726)\n",
      "[1340,  1359] loss:  tensor([0.4617, 0.6356, 0.6287, 0.1528]) tensor(1.8789)\n",
      "[1360,  1379] loss:  tensor([0.4591, 0.6358, 0.6241, 0.1552]) tensor(1.8742)\n",
      "[1380,  1399] loss:  tensor([0.4545, 0.6356, 0.6241, 0.1523]) tensor(1.8665)\n",
      "[1400,  1419] loss:  tensor([0.4543, 0.6424, 0.6195, 0.1546]) tensor(1.8708)\n",
      "[1420,  1439] loss:  tensor([0.4555, 0.6321, 0.6270, 0.1534]) tensor(1.8681)\n",
      "[1440,  1459] loss:  tensor([0.4530, 0.6350, 0.6260, 0.1537]) tensor(1.8676)\n",
      "[1460,  1479] loss:  tensor([0.4550, 0.6346, 0.6291, 0.1540]) tensor(1.8727)\n",
      "[1480,  1499] loss:  tensor([0.4517, 0.6367, 0.6253, 0.1556]) tensor(1.8692)\n",
      "[1500,  1519] loss:  tensor([0.4541, 0.6375, 0.6242, 0.1541]) tensor(1.8699)\n",
      "[1520,  1539] loss:  tensor([0.4527, 0.6292, 0.6321, 0.1515]) tensor(1.8655)\n",
      "[1540,  1559] loss:  tensor([0.4640, 0.6353, 0.6245, 0.1536]) tensor(1.8773)\n",
      "validation\n"
     ]
    },
    {
     "data": {
      "application/vnd.jupyter.widget-view+json": {
       "model_id": "51e8426226cd4cc9805de2d7ce063417",
       "version_major": 2,
       "version_minor": 0
      },
      "text/plain": [
       "  0%|          | 0/125 [00:00<?, ?it/s]"
      ]
     },
     "metadata": {},
     "output_type": "display_data"
    },
    {
     "name": "stdout",
     "output_type": "stream",
     "text": [
      "validation loss for epoch 42: tensor([0.4550, 0.6364, 0.6275, 0.1554]) 1.8742123390910799\n"
     ]
    },
    {
     "data": {
      "application/vnd.jupyter.widget-view+json": {
       "model_id": "068d2f864b9049249fe628335c169893",
       "version_major": 2,
       "version_minor": 0
      },
      "text/plain": [
       "  0%|          | 0/1544 [00:00<?, ?it/s]"
      ]
     },
     "metadata": {},
     "output_type": "display_data"
    },
    {
     "name": "stdout",
     "output_type": "stream",
     "text": [
      "[20,    39] loss:  tensor([0.4499, 0.6410, 0.6246, 0.1516]) tensor(1.8671)\n",
      "[40,    59] loss:  tensor([0.4547, 0.6312, 0.6288, 0.1531]) tensor(1.8678)\n",
      "[60,    79] loss:  tensor([0.4518, 0.6377, 0.6193, 0.1543]) tensor(1.8631)\n",
      "[80,    99] loss:  tensor([0.4533, 0.6336, 0.6290, 0.1521]) tensor(1.8680)\n",
      "[100,   119] loss:  tensor([0.4577, 0.6359, 0.6277, 0.1528]) tensor(1.8741)\n",
      "[120,   139] loss:  tensor([0.4582, 0.6400, 0.6205, 0.1537]) tensor(1.8724)\n",
      "[140,   159] loss:  tensor([0.4566, 0.6297, 0.6294, 0.1535]) tensor(1.8693)\n",
      "[160,   179] loss:  tensor([0.4468, 0.6332, 0.6277, 0.1549]) tensor(1.8626)\n",
      "[180,   199] loss:  tensor([0.4520, 0.6378, 0.6214, 0.1554]) tensor(1.8666)\n",
      "[200,   219] loss:  tensor([0.4619, 0.6350, 0.6275, 0.1522]) tensor(1.8767)\n",
      "[220,   239] loss:  tensor([0.4593, 0.6373, 0.6219, 0.1524]) tensor(1.8710)\n",
      "[240,   259] loss:  tensor([0.4505, 0.6355, 0.6273, 0.1524]) tensor(1.8657)\n",
      "[260,   279] loss:  tensor([0.4565, 0.6412, 0.6173, 0.1554]) tensor(1.8703)\n",
      "[280,   299] loss:  tensor([0.4632, 0.6339, 0.6276, 0.1530]) tensor(1.8777)\n",
      "[300,   319] loss:  tensor([0.4585, 0.6369, 0.6237, 0.1565]) tensor(1.8755)\n",
      "[320,   339] loss:  tensor([0.4531, 0.6347, 0.6261, 0.1533]) tensor(1.8672)\n",
      "[340,   359] loss:  tensor([0.4562, 0.6397, 0.6217, 0.1533]) tensor(1.8710)\n",
      "[360,   379] loss:  tensor([0.4545, 0.6337, 0.6251, 0.1531]) tensor(1.8663)\n",
      "[380,   399] loss:  tensor([0.4455, 0.6288, 0.6316, 0.1515]) tensor(1.8574)\n",
      "[400,   419] loss:  tensor([0.4571, 0.6357, 0.6258, 0.1540]) tensor(1.8726)\n",
      "[420,   439] loss:  tensor([0.4549, 0.6387, 0.6240, 0.1571]) tensor(1.8746)\n",
      "[440,   459] loss:  tensor([0.4523, 0.6348, 0.6256, 0.1549]) tensor(1.8676)\n",
      "[460,   479] loss:  tensor([0.4527, 0.6358, 0.6257, 0.1522]) tensor(1.8664)\n",
      "[480,   499] loss:  tensor([0.4588, 0.6327, 0.6271, 0.1546]) tensor(1.8732)\n",
      "[500,   519] loss:  tensor([0.4515, 0.6312, 0.6306, 0.1533]) tensor(1.8666)\n",
      "[520,   539] loss:  tensor([0.4557, 0.6396, 0.6207, 0.1525]) tensor(1.8686)\n",
      "[540,   559] loss:  tensor([0.4553, 0.6368, 0.6243, 0.1554]) tensor(1.8717)\n",
      "[560,   579] loss:  tensor([0.4639, 0.6341, 0.6292, 0.1551]) tensor(1.8823)\n",
      "[580,   599] loss:  tensor([0.4563, 0.6368, 0.6254, 0.1546]) tensor(1.8730)\n",
      "[600,   619] loss:  tensor([0.4524, 0.6412, 0.6221, 0.1542]) tensor(1.8699)\n",
      "[620,   639] loss:  tensor([0.4523, 0.6377, 0.6249, 0.1538]) tensor(1.8686)\n",
      "[640,   659] loss:  tensor([0.4600, 0.6398, 0.6205, 0.1513]) tensor(1.8716)\n",
      "[660,   679] loss:  tensor([0.4580, 0.6327, 0.6272, 0.1526]) tensor(1.8706)\n",
      "[680,   699] loss:  tensor([0.4598, 0.6345, 0.6311, 0.1549]) tensor(1.8804)\n",
      "[700,   719] loss:  tensor([0.4617, 0.6353, 0.6268, 0.1556]) tensor(1.8794)\n",
      "[720,   739] loss:  tensor([0.4551, 0.6317, 0.6290, 0.1550]) tensor(1.8708)\n",
      "[740,   759] loss:  tensor([0.4488, 0.6377, 0.6227, 0.1535]) tensor(1.8627)\n",
      "[760,   779] loss:  tensor([0.4510, 0.6328, 0.6247, 0.1538]) tensor(1.8624)\n",
      "[780,   799] loss:  tensor([0.4581, 0.6334, 0.6258, 0.1565]) tensor(1.8738)\n",
      "[800,   819] loss:  tensor([0.4460, 0.6388, 0.6234, 0.1552]) tensor(1.8634)\n",
      "[820,   839] loss:  tensor([0.4573, 0.6382, 0.6211, 0.1517]) tensor(1.8683)\n",
      "[840,   859] loss:  tensor([0.4540, 0.6333, 0.6295, 0.1525]) tensor(1.8693)\n",
      "[860,   879] loss:  tensor([0.4573, 0.6377, 0.6233, 0.1538]) tensor(1.8721)\n",
      "[880,   899] loss:  tensor([0.4524, 0.6324, 0.6242, 0.1535]) tensor(1.8624)\n",
      "[900,   919] loss:  tensor([0.4544, 0.6355, 0.6255, 0.1539]) tensor(1.8693)\n",
      "[920,   939] loss:  tensor([0.4571, 0.6333, 0.6274, 0.1556]) tensor(1.8733)\n",
      "[940,   959] loss:  tensor([0.4556, 0.6353, 0.6247, 0.1539]) tensor(1.8695)\n",
      "[960,   979] loss:  tensor([0.4643, 0.6334, 0.6292, 0.1544]) tensor(1.8814)\n",
      "[980,   999] loss:  tensor([0.4529, 0.6374, 0.6260, 0.1537]) tensor(1.8700)\n",
      "[1000,  1019] loss:  tensor([0.4522, 0.6322, 0.6265, 0.1508]) tensor(1.8617)\n",
      "[1020,  1039] loss:  tensor([0.4603, 0.6372, 0.6239, 0.1502]) tensor(1.8716)\n",
      "[1040,  1059] loss:  tensor([0.4593, 0.6370, 0.6230, 0.1521]) tensor(1.8715)\n",
      "[1060,  1079] loss:  tensor([0.4524, 0.6333, 0.6250, 0.1542]) tensor(1.8650)\n",
      "[1080,  1099] loss:  tensor([0.4500, 0.6320, 0.6289, 0.1577]) tensor(1.8686)\n",
      "[1100,  1119] loss:  tensor([0.4605, 0.6358, 0.6240, 0.1552]) tensor(1.8755)\n",
      "[1120,  1139] loss:  tensor([0.4582, 0.6374, 0.6227, 0.1506]) tensor(1.8690)\n",
      "[1140,  1159] loss:  tensor([0.4598, 0.6349, 0.6263, 0.1520]) tensor(1.8730)\n",
      "[1160,  1179] loss:  tensor([0.4533, 0.6332, 0.6286, 0.1528]) tensor(1.8679)\n",
      "[1180,  1199] loss:  tensor([0.4548, 0.6347, 0.6235, 0.1549]) tensor(1.8680)\n",
      "[1200,  1219] loss:  tensor([0.4546, 0.6355, 0.6229, 0.1540]) tensor(1.8669)\n",
      "[1220,  1239] loss:  tensor([0.4577, 0.6355, 0.6255, 0.1534]) tensor(1.8721)\n",
      "[1240,  1259] loss:  tensor([0.4491, 0.6394, 0.6209, 0.1558]) tensor(1.8653)\n",
      "[1260,  1279] loss:  tensor([0.4530, 0.6386, 0.6237, 0.1569]) tensor(1.8723)\n",
      "[1280,  1299] loss:  tensor([0.4561, 0.6407, 0.6200, 0.1542]) tensor(1.8709)\n",
      "[1300,  1319] loss:  tensor([0.4584, 0.6409, 0.6205, 0.1536]) tensor(1.8734)\n",
      "[1320,  1339] loss:  tensor([0.4565, 0.6313, 0.6302, 0.1514]) tensor(1.8695)\n",
      "[1340,  1359] loss:  tensor([0.4584, 0.6416, 0.6206, 0.1541]) tensor(1.8747)\n",
      "[1360,  1379] loss:  tensor([0.4627, 0.6299, 0.6306, 0.1526]) tensor(1.8759)\n",
      "[1380,  1399] loss:  tensor([0.4572, 0.6376, 0.6242, 0.1525]) tensor(1.8715)\n",
      "[1400,  1419] loss:  tensor([0.4647, 0.6379, 0.6227, 0.1529]) tensor(1.8783)\n",
      "[1420,  1439] loss:  tensor([0.4608, 0.6330, 0.6277, 0.1516]) tensor(1.8731)\n",
      "[1440,  1459] loss:  tensor([0.4553, 0.6315, 0.6269, 0.1527]) tensor(1.8664)\n",
      "[1460,  1479] loss:  tensor([0.4543, 0.6352, 0.6249, 0.1553]) tensor(1.8696)\n",
      "[1480,  1499] loss:  tensor([0.4556, 0.6242, 0.6369, 0.1504]) tensor(1.8672)\n",
      "[1500,  1519] loss:  tensor([0.4612, 0.6378, 0.6235, 0.1525]) tensor(1.8751)\n",
      "[1520,  1539] loss:  tensor([0.4552, 0.6358, 0.6238, 0.1524]) tensor(1.8673)\n",
      "[1540,  1559] loss:  tensor([0.4539, 0.6397, 0.6204, 0.1537]) tensor(1.8676)\n",
      "validation\n"
     ]
    },
    {
     "data": {
      "application/vnd.jupyter.widget-view+json": {
       "model_id": "7f758192ec1d40198f6ddcc141a93b72",
       "version_major": 2,
       "version_minor": 0
      },
      "text/plain": [
       "  0%|          | 0/125 [00:00<?, ?it/s]"
      ]
     },
     "metadata": {},
     "output_type": "display_data"
    },
    {
     "name": "stdout",
     "output_type": "stream",
     "text": [
      "validation loss for epoch 43: tensor([0.4583, 0.6393, 0.6232, 0.1557]) 1.8764524868454022\n"
     ]
    },
    {
     "data": {
      "application/vnd.jupyter.widget-view+json": {
       "model_id": "1af5f617e8094342a249716ba68c69f4",
       "version_major": 2,
       "version_minor": 0
      },
      "text/plain": [
       "  0%|          | 0/1544 [00:00<?, ?it/s]"
      ]
     },
     "metadata": {},
     "output_type": "display_data"
    },
    {
     "name": "stdout",
     "output_type": "stream",
     "text": [
      "[20,    39] loss:  tensor([0.4589, 0.6393, 0.6216, 0.1536]) tensor(1.8734)\n",
      "[40,    59] loss:  tensor([0.4484, 0.6348, 0.6274, 0.1521]) tensor(1.8627)\n",
      "[60,    79] loss:  tensor([0.4542, 0.6404, 0.6206, 0.1506]) tensor(1.8659)\n",
      "[80,    99] loss:  tensor([0.4505, 0.6401, 0.6237, 0.1538]) tensor(1.8681)\n",
      "[100,   119] loss:  tensor([0.4566, 0.6395, 0.6222, 0.1540]) tensor(1.8723)\n",
      "[120,   139] loss:  tensor([0.4559, 0.6433, 0.6162, 0.1546]) tensor(1.8700)\n",
      "[140,   159] loss:  tensor([0.4525, 0.6367, 0.6203, 0.1541]) tensor(1.8636)\n",
      "[160,   179] loss:  tensor([0.4518, 0.6401, 0.6197, 0.1546]) tensor(1.8662)\n",
      "[180,   199] loss:  tensor([0.4534, 0.6318, 0.6286, 0.1554]) tensor(1.8691)\n",
      "[200,   219] loss:  tensor([0.4492, 0.6356, 0.6264, 0.1526]) tensor(1.8638)\n",
      "[220,   239] loss:  tensor([0.4529, 0.6296, 0.6286, 0.1550]) tensor(1.8661)\n",
      "[240,   259] loss:  tensor([0.4496, 0.6359, 0.6267, 0.1513]) tensor(1.8636)\n",
      "[260,   279] loss:  tensor([0.4635, 0.6377, 0.6228, 0.1523]) tensor(1.8764)\n",
      "[280,   299] loss:  tensor([0.4614, 0.6255, 0.6346, 0.1536]) tensor(1.8750)\n",
      "[300,   319] loss:  tensor([0.4600, 0.6400, 0.6179, 0.1516]) tensor(1.8694)\n",
      "[320,   339] loss:  tensor([0.4572, 0.6368, 0.6222, 0.1541]) tensor(1.8703)\n",
      "[340,   359] loss:  tensor([0.4552, 0.6342, 0.6266, 0.1525]) tensor(1.8685)\n",
      "[360,   379] loss:  tensor([0.4498, 0.6368, 0.6218, 0.1528]) tensor(1.8611)\n",
      "[380,   399] loss:  tensor([0.4595, 0.6372, 0.6223, 0.1530]) tensor(1.8720)\n",
      "[400,   419] loss:  tensor([0.4611, 0.6283, 0.6324, 0.1541]) tensor(1.8759)\n",
      "[420,   439] loss:  tensor([0.4555, 0.6392, 0.6189, 0.1529]) tensor(1.8665)\n",
      "[440,   459] loss:  tensor([0.4549, 0.6386, 0.6217, 0.1545]) tensor(1.8697)\n",
      "[460,   479] loss:  tensor([0.4564, 0.6331, 0.6265, 0.1533]) tensor(1.8694)\n",
      "[480,   499] loss:  tensor([0.4549, 0.6336, 0.6253, 0.1523]) tensor(1.8659)\n",
      "[500,   519] loss:  tensor([0.4513, 0.6367, 0.6280, 0.1556]) tensor(1.8716)\n",
      "[520,   539] loss:  tensor([0.4628, 0.6399, 0.6213, 0.1541]) tensor(1.8781)\n",
      "[540,   559] loss:  tensor([0.4548, 0.6345, 0.6257, 0.1552]) tensor(1.8702)\n",
      "[560,   579] loss:  tensor([0.4540, 0.6344, 0.6300, 0.1507]) tensor(1.8691)\n",
      "[580,   599] loss:  tensor([0.4520, 0.6326, 0.6276, 0.1525]) tensor(1.8647)\n",
      "[600,   619] loss:  tensor([0.4623, 0.6384, 0.6235, 0.1545]) tensor(1.8787)\n",
      "[620,   639] loss:  tensor([0.4560, 0.6374, 0.6261, 0.1544]) tensor(1.8739)\n",
      "[640,   659] loss:  tensor([0.4581, 0.6327, 0.6299, 0.1529]) tensor(1.8736)\n",
      "[660,   679] loss:  tensor([0.4523, 0.6339, 0.6257, 0.1548]) tensor(1.8667)\n",
      "[680,   699] loss:  tensor([0.4568, 0.6385, 0.6185, 0.1527]) tensor(1.8666)\n",
      "[700,   719] loss:  tensor([0.4597, 0.6342, 0.6289, 0.1529]) tensor(1.8756)\n",
      "[720,   739] loss:  tensor([0.4573, 0.6367, 0.6245, 0.1541]) tensor(1.8727)\n",
      "[740,   759] loss:  tensor([0.4588, 0.6377, 0.6278, 0.1515]) tensor(1.8759)\n",
      "[760,   779] loss:  tensor([0.4479, 0.6295, 0.6322, 0.1523]) tensor(1.8619)\n",
      "[780,   799] loss:  tensor([0.4604, 0.6384, 0.6245, 0.1544]) tensor(1.8777)\n",
      "[800,   819] loss:  tensor([0.4525, 0.6333, 0.6289, 0.1555]) tensor(1.8702)\n",
      "[820,   839] loss:  tensor([0.4556, 0.6300, 0.6313, 0.1533]) tensor(1.8702)\n",
      "[840,   859] loss:  tensor([0.4578, 0.6372, 0.6210, 0.1559]) tensor(1.8719)\n",
      "[860,   879] loss:  tensor([0.4558, 0.6358, 0.6262, 0.1528]) tensor(1.8705)\n",
      "[880,   899] loss:  tensor([0.4516, 0.6335, 0.6246, 0.1531]) tensor(1.8629)\n",
      "[900,   919] loss:  tensor([0.4623, 0.6366, 0.6282, 0.1529]) tensor(1.8801)\n",
      "[920,   939] loss:  tensor([0.4547, 0.6392, 0.6243, 0.1556]) tensor(1.8738)\n",
      "[940,   959] loss:  tensor([0.4563, 0.6365, 0.6219, 0.1521]) tensor(1.8668)\n",
      "[960,   979] loss:  tensor([0.4628, 0.6389, 0.6221, 0.1555]) tensor(1.8793)\n",
      "[980,   999] loss:  tensor([0.4530, 0.6413, 0.6169, 0.1524]) tensor(1.8636)\n",
      "[1000,  1019] loss:  tensor([0.4612, 0.6315, 0.6271, 0.1527]) tensor(1.8725)\n",
      "[1020,  1039] loss:  tensor([0.4651, 0.6345, 0.6246, 0.1529]) tensor(1.8771)\n",
      "[1040,  1059] loss:  tensor([0.4535, 0.6355, 0.6213, 0.1559]) tensor(1.8662)\n",
      "[1060,  1079] loss:  tensor([0.4650, 0.6292, 0.6287, 0.1573]) tensor(1.8802)\n",
      "[1080,  1099] loss:  tensor([0.4431, 0.6331, 0.6271, 0.1557]) tensor(1.8591)\n",
      "[1100,  1119] loss:  tensor([0.4497, 0.6355, 0.6263, 0.1538]) tensor(1.8652)\n",
      "[1120,  1139] loss:  tensor([0.4572, 0.6345, 0.6273, 0.1536]) tensor(1.8727)\n",
      "[1140,  1159] loss:  tensor([0.4562, 0.6341, 0.6236, 0.1536]) tensor(1.8676)\n",
      "[1160,  1179] loss:  tensor([0.4536, 0.6345, 0.6264, 0.1526]) tensor(1.8671)\n",
      "[1180,  1199] loss:  tensor([0.4557, 0.6372, 0.6264, 0.1522]) tensor(1.8715)\n",
      "[1200,  1219] loss:  tensor([0.4561, 0.6334, 0.6277, 0.1537]) tensor(1.8710)\n",
      "[1220,  1239] loss:  tensor([0.4590, 0.6399, 0.6241, 0.1540]) tensor(1.8770)\n",
      "[1240,  1259] loss:  tensor([0.4508, 0.6380, 0.6238, 0.1556]) tensor(1.8682)\n",
      "[1260,  1279] loss:  tensor([0.4409, 0.6341, 0.6278, 0.1529]) tensor(1.8557)\n",
      "[1280,  1299] loss:  tensor([0.4536, 0.6341, 0.6248, 0.1514]) tensor(1.8640)\n",
      "[1300,  1319] loss:  tensor([0.4493, 0.6322, 0.6283, 0.1535]) tensor(1.8633)\n",
      "[1320,  1339] loss:  tensor([0.4585, 0.6339, 0.6296, 0.1546]) tensor(1.8765)\n",
      "[1340,  1359] loss:  tensor([0.4509, 0.6328, 0.6292, 0.1534]) tensor(1.8663)\n",
      "[1360,  1379] loss:  tensor([0.4562, 0.6304, 0.6322, 0.1534]) tensor(1.8722)\n",
      "[1380,  1399] loss:  tensor([0.4522, 0.6335, 0.6244, 0.1522]) tensor(1.8623)\n",
      "[1400,  1419] loss:  tensor([0.4623, 0.6319, 0.6287, 0.1555]) tensor(1.8783)\n",
      "[1420,  1439] loss:  tensor([0.4619, 0.6369, 0.6250, 0.1540]) tensor(1.8777)\n",
      "[1440,  1459] loss:  tensor([0.4600, 0.6405, 0.6226, 0.1592]) tensor(1.8823)\n",
      "[1460,  1479] loss:  tensor([0.4571, 0.6392, 0.6254, 0.1574]) tensor(1.8791)\n",
      "[1480,  1499] loss:  tensor([0.4573, 0.6368, 0.6250, 0.1531]) tensor(1.8722)\n",
      "[1500,  1519] loss:  tensor([0.4456, 0.6374, 0.6210, 0.1550]) tensor(1.8590)\n",
      "[1520,  1539] loss:  tensor([0.4522, 0.6347, 0.6252, 0.1542]) tensor(1.8663)\n",
      "[1540,  1559] loss:  tensor([0.4534, 0.6329, 0.6293, 0.1540]) tensor(1.8696)\n",
      "validation\n"
     ]
    },
    {
     "data": {
      "application/vnd.jupyter.widget-view+json": {
       "model_id": "fccd37c256f64e93b6815fa69c8380ec",
       "version_major": 2,
       "version_minor": 0
      },
      "text/plain": [
       "  0%|          | 0/125 [00:00<?, ?it/s]"
      ]
     },
     "metadata": {},
     "output_type": "display_data"
    },
    {
     "name": "stdout",
     "output_type": "stream",
     "text": [
      "validation loss for epoch 44: tensor([0.4519, 0.6317, 0.6278, 0.1567]) 1.8681646742279503\n"
     ]
    },
    {
     "data": {
      "application/vnd.jupyter.widget-view+json": {
       "model_id": "1bd2335729964f999af041309c13abdd",
       "version_major": 2,
       "version_minor": 0
      },
      "text/plain": [
       "  0%|          | 0/1544 [00:00<?, ?it/s]"
      ]
     },
     "metadata": {},
     "output_type": "display_data"
    },
    {
     "name": "stdout",
     "output_type": "stream",
     "text": [
      "[20,    39] loss:  tensor([0.4545, 0.6307, 0.6264, 0.1541]) tensor(1.8658)\n",
      "[40,    59] loss:  tensor([0.4595, 0.6395, 0.6227, 0.1521]) tensor(1.8738)\n",
      "[60,    79] loss:  tensor([0.4491, 0.6325, 0.6298, 0.1537]) tensor(1.8651)\n",
      "[80,    99] loss:  tensor([0.4540, 0.6309, 0.6278, 0.1527]) tensor(1.8655)\n",
      "[100,   119] loss:  tensor([0.4488, 0.6326, 0.6312, 0.1544]) tensor(1.8670)\n",
      "[120,   139] loss:  tensor([0.4479, 0.6370, 0.6232, 0.1519]) tensor(1.8600)\n",
      "[140,   159] loss:  tensor([0.4538, 0.6320, 0.6280, 0.1543]) tensor(1.8681)\n",
      "[160,   179] loss:  tensor([0.4578, 0.6366, 0.6249, 0.1514]) tensor(1.8707)\n",
      "[180,   199] loss:  tensor([0.4574, 0.6378, 0.6236, 0.1514]) tensor(1.8703)\n",
      "[200,   219] loss:  tensor([0.4521, 0.6369, 0.6255, 0.1503]) tensor(1.8649)\n",
      "[220,   239] loss:  tensor([0.4563, 0.6342, 0.6288, 0.1529]) tensor(1.8722)\n",
      "[240,   259] loss:  tensor([0.4538, 0.6340, 0.6236, 0.1543]) tensor(1.8657)\n",
      "[260,   279] loss:  tensor([0.4483, 0.6385, 0.6210, 0.1521]) tensor(1.8600)\n",
      "[280,   299] loss:  tensor([0.4590, 0.6370, 0.6245, 0.1551]) tensor(1.8757)\n",
      "[300,   319] loss:  tensor([0.4601, 0.6356, 0.6261, 0.1537]) tensor(1.8754)\n",
      "[320,   339] loss:  tensor([0.4625, 0.6371, 0.6242, 0.1544]) tensor(1.8781)\n",
      "[340,   359] loss:  tensor([0.4511, 0.6336, 0.6278, 0.1522]) tensor(1.8646)\n",
      "[360,   379] loss:  tensor([0.4591, 0.6341, 0.6275, 0.1521]) tensor(1.8729)\n",
      "[380,   399] loss:  tensor([0.4545, 0.6367, 0.6252, 0.1519]) tensor(1.8683)\n",
      "[400,   419] loss:  tensor([0.4493, 0.6363, 0.6270, 0.1532]) tensor(1.8657)\n",
      "[420,   439] loss:  tensor([0.4593, 0.6329, 0.6254, 0.1504]) tensor(1.8679)\n",
      "[440,   459] loss:  tensor([0.4574, 0.6358, 0.6249, 0.1520]) tensor(1.8702)\n",
      "[460,   479] loss:  tensor([0.4564, 0.6395, 0.6246, 0.1541]) tensor(1.8745)\n",
      "[480,   499] loss:  tensor([0.4538, 0.6374, 0.6219, 0.1531]) tensor(1.8661)\n",
      "[500,   519] loss:  tensor([0.4616, 0.6303, 0.6299, 0.1529]) tensor(1.8746)\n",
      "[520,   539] loss:  tensor([0.4686, 0.6349, 0.6266, 0.1539]) tensor(1.8840)\n",
      "[540,   559] loss:  tensor([0.4611, 0.6426, 0.6205, 0.1533]) tensor(1.8774)\n",
      "[560,   579] loss:  tensor([0.4496, 0.6348, 0.6234, 0.1521]) tensor(1.8599)\n",
      "[580,   599] loss:  tensor([0.4505, 0.6365, 0.6228, 0.1558]) tensor(1.8657)\n",
      "[600,   619] loss:  tensor([0.4564, 0.6351, 0.6216, 0.1518]) tensor(1.8649)\n",
      "[620,   639] loss:  tensor([0.4570, 0.6331, 0.6281, 0.1542]) tensor(1.8724)\n",
      "[640,   659] loss:  tensor([0.4588, 0.6345, 0.6332, 0.1522]) tensor(1.8787)\n",
      "[660,   679] loss:  tensor([0.4603, 0.6324, 0.6280, 0.1541]) tensor(1.8748)\n",
      "[680,   699] loss:  tensor([0.4531, 0.6371, 0.6240, 0.1537]) tensor(1.8679)\n",
      "[700,   719] loss:  tensor([0.4560, 0.6330, 0.6248, 0.1551]) tensor(1.8689)\n",
      "[720,   739] loss:  tensor([0.4589, 0.6344, 0.6262, 0.1535]) tensor(1.8730)\n",
      "[740,   759] loss:  tensor([0.4536, 0.6346, 0.6252, 0.1533]) tensor(1.8667)\n",
      "[760,   779] loss:  tensor([0.4534, 0.6393, 0.6237, 0.1522]) tensor(1.8686)\n",
      "[780,   799] loss:  tensor([0.4529, 0.6388, 0.6195, 0.1538]) tensor(1.8649)\n",
      "[800,   819] loss:  tensor([0.4569, 0.6358, 0.6249, 0.1533]) tensor(1.8709)\n",
      "[820,   839] loss:  tensor([0.4615, 0.6376, 0.6286, 0.1520]) tensor(1.8798)\n",
      "[840,   859] loss:  tensor([0.4602, 0.6371, 0.6218, 0.1528]) tensor(1.8719)\n",
      "[860,   879] loss:  tensor([0.4565, 0.6314, 0.6286, 0.1515]) tensor(1.8680)\n",
      "[880,   899] loss:  tensor([0.4508, 0.6388, 0.6221, 0.1531]) tensor(1.8648)\n",
      "[900,   919] loss:  tensor([0.4460, 0.6318, 0.6261, 0.1535]) tensor(1.8573)\n",
      "[920,   939] loss:  tensor([0.4577, 0.6331, 0.6305, 0.1532]) tensor(1.8745)\n",
      "[940,   959] loss:  tensor([0.4522, 0.6333, 0.6279, 0.1541]) tensor(1.8676)\n",
      "[960,   979] loss:  tensor([0.4435, 0.6360, 0.6275, 0.1556]) tensor(1.8627)\n",
      "[980,   999] loss:  tensor([0.4575, 0.6316, 0.6248, 0.1531]) tensor(1.8669)\n",
      "[1000,  1019] loss:  tensor([0.4543, 0.6377, 0.6219, 0.1541]) tensor(1.8679)\n",
      "[1020,  1039] loss:  tensor([0.4546, 0.6379, 0.6244, 0.1532]) tensor(1.8701)\n",
      "[1040,  1059] loss:  tensor([0.4532, 0.6295, 0.6329, 0.1533]) tensor(1.8689)\n",
      "[1060,  1079] loss:  tensor([0.4527, 0.6345, 0.6272, 0.1540]) tensor(1.8684)\n",
      "[1080,  1099] loss:  tensor([0.4577, 0.6394, 0.6220, 0.1555]) tensor(1.8747)\n",
      "[1100,  1119] loss:  tensor([0.4595, 0.6339, 0.6289, 0.1528]) tensor(1.8752)\n",
      "[1120,  1139] loss:  tensor([0.4604, 0.6387, 0.6233, 0.1542]) tensor(1.8767)\n",
      "[1140,  1159] loss:  tensor([0.4553, 0.6400, 0.6208, 0.1537]) tensor(1.8698)\n",
      "[1160,  1179] loss:  tensor([0.4615, 0.6332, 0.6256, 0.1526]) tensor(1.8729)\n",
      "[1180,  1199] loss:  tensor([0.4689, 0.6284, 0.6322, 0.1538]) tensor(1.8832)\n",
      "[1200,  1219] loss:  tensor([0.4598, 0.6354, 0.6241, 0.1532]) tensor(1.8725)\n",
      "[1220,  1239] loss:  tensor([0.4454, 0.6350, 0.6240, 0.1528]) tensor(1.8572)\n",
      "[1240,  1259] loss:  tensor([0.4544, 0.6440, 0.6189, 0.1531]) tensor(1.8703)\n",
      "[1260,  1279] loss:  tensor([0.4551, 0.6380, 0.6236, 0.1533]) tensor(1.8700)\n",
      "[1280,  1299] loss:  tensor([0.4521, 0.6370, 0.6258, 0.1507]) tensor(1.8656)\n",
      "[1300,  1319] loss:  tensor([0.4552, 0.6383, 0.6212, 0.1527]) tensor(1.8674)\n",
      "[1320,  1339] loss:  tensor([0.4507, 0.6379, 0.6223, 0.1549]) tensor(1.8658)\n",
      "[1340,  1359] loss:  tensor([0.4534, 0.6333, 0.6268, 0.1541]) tensor(1.8676)\n",
      "[1360,  1379] loss:  tensor([0.4578, 0.6333, 0.6283, 0.1522]) tensor(1.8716)\n",
      "[1380,  1399] loss:  tensor([0.4505, 0.6343, 0.6264, 0.1517]) tensor(1.8629)\n",
      "[1400,  1419] loss:  tensor([0.4552, 0.6361, 0.6200, 0.1526]) tensor(1.8639)\n",
      "[1420,  1439] loss:  tensor([0.4517, 0.6350, 0.6258, 0.1526]) tensor(1.8651)\n",
      "[1440,  1459] loss:  tensor([0.4602, 0.6339, 0.6263, 0.1516]) tensor(1.8720)\n",
      "[1460,  1479] loss:  tensor([0.4613, 0.6375, 0.6213, 0.1524]) tensor(1.8725)\n",
      "[1480,  1499] loss:  tensor([0.4498, 0.6362, 0.6224, 0.1562]) tensor(1.8646)\n",
      "[1500,  1519] loss:  tensor([0.4573, 0.6341, 0.6273, 0.1562]) tensor(1.8749)\n",
      "[1520,  1539] loss:  tensor([0.4517, 0.6339, 0.6274, 0.1532]) tensor(1.8661)\n",
      "[1540,  1559] loss:  tensor([0.4617, 0.6370, 0.6265, 0.1540]) tensor(1.8791)\n",
      "validation\n"
     ]
    },
    {
     "data": {
      "application/vnd.jupyter.widget-view+json": {
       "model_id": "53292a2d958244bc8adec879bf68cb32",
       "version_major": 2,
       "version_minor": 0
      },
      "text/plain": [
       "  0%|          | 0/125 [00:00<?, ?it/s]"
      ]
     },
     "metadata": {},
     "output_type": "display_data"
    },
    {
     "name": "stdout",
     "output_type": "stream",
     "text": [
      "validation loss for epoch 45: tensor([0.4549, 0.6351, 0.6253, 0.1574]) 1.8727063872228138\n"
     ]
    },
    {
     "data": {
      "application/vnd.jupyter.widget-view+json": {
       "model_id": "4efe47a0c9c047a9aa0863bfb75e845f",
       "version_major": 2,
       "version_minor": 0
      },
      "text/plain": [
       "  0%|          | 0/1544 [00:00<?, ?it/s]"
      ]
     },
     "metadata": {},
     "output_type": "display_data"
    },
    {
     "name": "stdout",
     "output_type": "stream",
     "text": [
      "[20,    39] loss:  tensor([0.4566, 0.6331, 0.6268, 0.1535]) tensor(1.8700)\n",
      "[40,    59] loss:  tensor([0.4500, 0.6360, 0.6254, 0.1535]) tensor(1.8649)\n",
      "[60,    79] loss:  tensor([0.4581, 0.6354, 0.6273, 0.1558]) tensor(1.8766)\n",
      "[80,    99] loss:  tensor([0.4584, 0.6383, 0.6199, 0.1546]) tensor(1.8711)\n",
      "[100,   119] loss:  tensor([0.4541, 0.6327, 0.6253, 0.1521]) tensor(1.8643)\n",
      "[120,   139] loss:  tensor([0.4571, 0.6384, 0.6253, 0.1542]) tensor(1.8750)\n",
      "[140,   159] loss:  tensor([0.4493, 0.6321, 0.6276, 0.1539]) tensor(1.8630)\n",
      "[160,   179] loss:  tensor([0.4575, 0.6398, 0.6171, 0.1517]) tensor(1.8661)\n",
      "[180,   199] loss:  tensor([0.4588, 0.6386, 0.6218, 0.1526]) tensor(1.8719)\n",
      "[200,   219] loss:  tensor([0.4562, 0.6403, 0.6199, 0.1542]) tensor(1.8706)\n",
      "[220,   239] loss:  tensor([0.4575, 0.6360, 0.6229, 0.1541]) tensor(1.8705)\n",
      "[240,   259] loss:  tensor([0.4554, 0.6383, 0.6210, 0.1527]) tensor(1.8673)\n",
      "[260,   279] loss:  tensor([0.4573, 0.6355, 0.6251, 0.1554]) tensor(1.8733)\n",
      "[280,   299] loss:  tensor([0.4532, 0.6330, 0.6252, 0.1538]) tensor(1.8652)\n",
      "[300,   319] loss:  tensor([0.4551, 0.6359, 0.6250, 0.1537]) tensor(1.8697)\n",
      "[320,   339] loss:  tensor([0.4581, 0.6354, 0.6276, 0.1541]) tensor(1.8752)\n",
      "[340,   359] loss:  tensor([0.4538, 0.6371, 0.6281, 0.1551]) tensor(1.8741)\n",
      "[360,   379] loss:  tensor([0.4489, 0.6376, 0.6226, 0.1522]) tensor(1.8613)\n",
      "[380,   399] loss:  tensor([0.4560, 0.6336, 0.6314, 0.1534]) tensor(1.8745)\n",
      "[400,   419] loss:  tensor([0.4569, 0.6334, 0.6294, 0.1528]) tensor(1.8724)\n",
      "[420,   439] loss:  tensor([0.4580, 0.6387, 0.6231, 0.1530]) tensor(1.8728)\n",
      "[440,   459] loss:  tensor([0.4544, 0.6350, 0.6259, 0.1537]) tensor(1.8690)\n",
      "[460,   479] loss:  tensor([0.4546, 0.6395, 0.6188, 0.1529]) tensor(1.8658)\n",
      "[480,   499] loss:  tensor([0.4494, 0.6382, 0.6223, 0.1537]) tensor(1.8636)\n",
      "[500,   519] loss:  tensor([0.4543, 0.6375, 0.6191, 0.1529]) tensor(1.8637)\n",
      "[520,   539] loss:  tensor([0.4516, 0.6339, 0.6271, 0.1552]) tensor(1.8678)\n",
      "[540,   559] loss:  tensor([0.4495, 0.6348, 0.6221, 0.1523]) tensor(1.8587)\n",
      "[560,   579] loss:  tensor([0.4568, 0.6360, 0.6236, 0.1524]) tensor(1.8689)\n",
      "[580,   599] loss:  tensor([0.4596, 0.6335, 0.6290, 0.1529]) tensor(1.8751)\n",
      "[600,   619] loss:  tensor([0.4510, 0.6377, 0.6199, 0.1528]) tensor(1.8613)\n",
      "[620,   639] loss:  tensor([0.4550, 0.6352, 0.6256, 0.1511]) tensor(1.8669)\n",
      "[640,   659] loss:  tensor([0.4539, 0.6377, 0.6279, 0.1559]) tensor(1.8754)\n",
      "[660,   679] loss:  tensor([0.4596, 0.6409, 0.6196, 0.1535]) tensor(1.8736)\n",
      "[680,   699] loss:  tensor([0.4479, 0.6345, 0.6257, 0.1558]) tensor(1.8639)\n",
      "[700,   719] loss:  tensor([0.4591, 0.6331, 0.6280, 0.1539]) tensor(1.8741)\n",
      "[720,   739] loss:  tensor([0.4512, 0.6360, 0.6256, 0.1551]) tensor(1.8678)\n",
      "[740,   759] loss:  tensor([0.4505, 0.6332, 0.6256, 0.1539]) tensor(1.8632)\n",
      "[760,   779] loss:  tensor([0.4579, 0.6367, 0.6248, 0.1535]) tensor(1.8728)\n",
      "[780,   799] loss:  tensor([0.4509, 0.6358, 0.6247, 0.1515]) tensor(1.8630)\n",
      "[800,   819] loss:  tensor([0.4540, 0.6363, 0.6220, 0.1548]) tensor(1.8671)\n",
      "[820,   839] loss:  tensor([0.4514, 0.6349, 0.6258, 0.1527]) tensor(1.8647)\n",
      "[840,   859] loss:  tensor([0.4562, 0.6312, 0.6296, 0.1541]) tensor(1.8711)\n",
      "[860,   879] loss:  tensor([0.4582, 0.6368, 0.6219, 0.1572]) tensor(1.8742)\n",
      "[880,   899] loss:  tensor([0.4615, 0.6326, 0.6274, 0.1540]) tensor(1.8755)\n",
      "[900,   919] loss:  tensor([0.4519, 0.6337, 0.6248, 0.1519]) tensor(1.8623)\n",
      "[920,   939] loss:  tensor([0.4510, 0.6389, 0.6196, 0.1525]) tensor(1.8620)\n",
      "[940,   959] loss:  tensor([0.4580, 0.6376, 0.6257, 0.1519]) tensor(1.8732)\n",
      "[960,   979] loss:  tensor([0.4536, 0.6396, 0.6234, 0.1555]) tensor(1.8722)\n",
      "[980,   999] loss:  tensor([0.4546, 0.6351, 0.6216, 0.1540]) tensor(1.8654)\n",
      "[1000,  1019] loss:  tensor([0.4578, 0.6358, 0.6260, 0.1548]) tensor(1.8743)\n",
      "[1020,  1039] loss:  tensor([0.4595, 0.6432, 0.6181, 0.1527]) tensor(1.8735)\n",
      "[1040,  1059] loss:  tensor([0.4583, 0.6344, 0.6250, 0.1539]) tensor(1.8717)\n",
      "[1060,  1079] loss:  tensor([0.4604, 0.6343, 0.6284, 0.1506]) tensor(1.8737)\n",
      "[1080,  1099] loss:  tensor([0.4546, 0.6382, 0.6229, 0.1542]) tensor(1.8699)\n",
      "[1100,  1119] loss:  tensor([0.4635, 0.6417, 0.6214, 0.1544]) tensor(1.8809)\n",
      "[1120,  1139] loss:  tensor([0.4601, 0.6357, 0.6228, 0.1533]) tensor(1.8719)\n",
      "[1140,  1159] loss:  tensor([0.4608, 0.6403, 0.6163, 0.1526]) tensor(1.8700)\n",
      "[1160,  1179] loss:  tensor([0.4486, 0.6358, 0.6192, 0.1525]) tensor(1.8561)\n",
      "[1180,  1199] loss:  tensor([0.4554, 0.6355, 0.6227, 0.1552]) tensor(1.8688)\n",
      "[1200,  1219] loss:  tensor([0.4589, 0.6395, 0.6188, 0.1532]) tensor(1.8704)\n",
      "[1220,  1239] loss:  tensor([0.4465, 0.6351, 0.6240, 0.1555]) tensor(1.8610)\n",
      "[1240,  1259] loss:  tensor([0.4471, 0.6306, 0.6308, 0.1528]) tensor(1.8613)\n",
      "[1260,  1279] loss:  tensor([0.4601, 0.6405, 0.6210, 0.1535]) tensor(1.8751)\n",
      "[1280,  1299] loss:  tensor([0.4591, 0.6324, 0.6298, 0.1519]) tensor(1.8731)\n",
      "[1300,  1319] loss:  tensor([0.4557, 0.6325, 0.6269, 0.1521]) tensor(1.8672)\n",
      "[1320,  1339] loss:  tensor([0.4598, 0.6337, 0.6290, 0.1545]) tensor(1.8769)\n",
      "[1340,  1359] loss:  tensor([0.4573, 0.6366, 0.6270, 0.1529]) tensor(1.8738)\n",
      "[1360,  1379] loss:  tensor([0.4488, 0.6323, 0.6274, 0.1527]) tensor(1.8612)\n",
      "[1380,  1399] loss:  tensor([0.4582, 0.6374, 0.6230, 0.1537]) tensor(1.8723)\n",
      "[1400,  1419] loss:  tensor([0.4545, 0.6363, 0.6246, 0.1548]) tensor(1.8701)\n",
      "[1420,  1439] loss:  tensor([0.4526, 0.6361, 0.6225, 0.1535]) tensor(1.8648)\n",
      "[1440,  1459] loss:  tensor([0.4530, 0.6372, 0.6221, 0.1531]) tensor(1.8654)\n",
      "[1460,  1479] loss:  tensor([0.4439, 0.6403, 0.6191, 0.1568]) tensor(1.8601)\n",
      "[1480,  1499] loss:  tensor([0.4525, 0.6401, 0.6157, 0.1536]) tensor(1.8619)\n",
      "[1500,  1519] loss:  tensor([0.4528, 0.6359, 0.6274, 0.1526]) tensor(1.8687)\n",
      "[1520,  1539] loss:  tensor([0.4544, 0.6335, 0.6285, 0.1546]) tensor(1.8710)\n",
      "[1540,  1559] loss:  tensor([0.4487, 0.6371, 0.6254, 0.1528]) tensor(1.8639)\n",
      "validation\n"
     ]
    },
    {
     "data": {
      "application/vnd.jupyter.widget-view+json": {
       "model_id": "338a712c9e464c6c96fd807a336dbf91",
       "version_major": 2,
       "version_minor": 0
      },
      "text/plain": [
       "  0%|          | 0/125 [00:00<?, ?it/s]"
      ]
     },
     "metadata": {},
     "output_type": "display_data"
    },
    {
     "name": "stdout",
     "output_type": "stream",
     "text": [
      "validation loss for epoch 46: tensor([0.4791, 0.6313, 0.6314, 0.1560]) 1.8977048946066148\n"
     ]
    },
    {
     "data": {
      "application/vnd.jupyter.widget-view+json": {
       "model_id": "145bc4e7ee2d4a82be4dd550fe0bbee1",
       "version_major": 2,
       "version_minor": 0
      },
      "text/plain": [
       "  0%|          | 0/1544 [00:00<?, ?it/s]"
      ]
     },
     "metadata": {},
     "output_type": "display_data"
    },
    {
     "name": "stdout",
     "output_type": "stream",
     "text": [
      "[20,    39] loss:  tensor([0.4604, 0.6305, 0.6267, 0.1538]) tensor(1.8713)\n",
      "[40,    59] loss:  tensor([0.4567, 0.6353, 0.6234, 0.1567]) tensor(1.8722)\n",
      "[60,    79] loss:  tensor([0.4484, 0.6350, 0.6292, 0.1542]) tensor(1.8668)\n",
      "[80,    99] loss:  tensor([0.4507, 0.6335, 0.6274, 0.1517]) tensor(1.8634)\n",
      "[100,   119] loss:  tensor([0.4563, 0.6345, 0.6242, 0.1512]) tensor(1.8662)\n",
      "[120,   139] loss:  tensor([0.4486, 0.6377, 0.6246, 0.1541]) tensor(1.8650)\n",
      "[140,   159] loss:  tensor([0.4462, 0.6370, 0.6230, 0.1551]) tensor(1.8614)\n",
      "[160,   179] loss:  tensor([0.4454, 0.6393, 0.6241, 0.1551]) tensor(1.8639)\n",
      "[180,   199] loss:  tensor([0.4490, 0.6348, 0.6227, 0.1514]) tensor(1.8579)\n",
      "[200,   219] loss:  tensor([0.4513, 0.6363, 0.6248, 0.1541]) tensor(1.8665)\n",
      "[220,   239] loss:  tensor([0.4547, 0.6353, 0.6249, 0.1524]) tensor(1.8673)\n",
      "[240,   259] loss:  tensor([0.4569, 0.6330, 0.6276, 0.1541]) tensor(1.8716)\n",
      "[260,   279] loss:  tensor([0.4519, 0.6366, 0.6255, 0.1537]) tensor(1.8677)\n",
      "[280,   299] loss:  tensor([0.4578, 0.6386, 0.6192, 0.1548]) tensor(1.8705)\n",
      "[300,   319] loss:  tensor([0.4583, 0.6396, 0.6202, 0.1515]) tensor(1.8697)\n",
      "[320,   339] loss:  tensor([0.4566, 0.6302, 0.6288, 0.1528]) tensor(1.8684)\n",
      "[340,   359] loss:  tensor([0.4554, 0.6352, 0.6251, 0.1510]) tensor(1.8668)\n",
      "[360,   379] loss:  tensor([0.4497, 0.6402, 0.6248, 0.1542]) tensor(1.8689)\n",
      "[380,   399] loss:  tensor([0.4665, 0.6256, 0.6342, 0.1537]) tensor(1.8799)\n",
      "[400,   419] loss:  tensor([0.4526, 0.6353, 0.6266, 0.1517]) tensor(1.8663)\n"
     ]
    }
   ],
   "source": [
    "train_set = objaverse_sfm(dataset_root, 4, train=True, transform = ToTensor())\n",
    "train_dataloader = DataLoader(train_set, batch_size=512, shuffle=True, num_workers=32, drop_last=False)\n",
    "\n",
    "test_set = objaverse_sfm(dataset_root, 4, train=False, transform = ToTensor())\n",
    "test_dataloader = DataLoader(test_set, batch_size=64, shuffle=False, num_workers=16, drop_last=False)\n",
    "\n",
    "model = sfm(resnet=True).to(device)\n",
    "model.cond_net.requires_grad_(False)\n",
    "model.target_net.requires_grad_(False)\n",
    "model = torch.nn.DataParallel(model, device_ids=[0, 1])\n",
    "optimizer = torch.optim.AdamW(model.parameters(), lr=5e-4, weight_decay=0.01)\n",
    "\n",
    "for epoch in range(50):  # loop over the dataset multiple times\n",
    "\n",
    "    print('validation')\n",
    "    model.eval()\n",
    "    test_loss = torch.zeros(4).to(device)\n",
    "    with torch.no_grad():\n",
    "        for i, batch in tqdm(enumerate(test_dataloader, 0), total=len(test_dataloader)):\n",
    "            # get the inputs; data is a list of [inputs, labels]\n",
    "            image_target, image_cond, T_gt = \\\n",
    "                batch['image_target'].to(device), batch['image_cond'].to(device), batch['T'].to(device)\n",
    "\n",
    "            # forward + backward + optimize\n",
    "            T_pred = model(image_cond, image_target)\n",
    "            loss = (T_pred - T_gt).abs()\n",
    "            test_loss += loss.sum(dim=0)\n",
    "    \n",
    "    print('validation loss for epoch %d:' % epoch, test_loss.cpu() / len(test_set), test_loss.cpu().sum().item() / len(test_set))\n",
    "    \n",
    "    running_loss = torch.zeros(4).to(device)\n",
    "    \n",
    "    model.train()\n",
    "    \n",
    "    for i, batch in tqdm(enumerate(train_dataloader, 0), total=len(train_dataloader)):\n",
    "        # get the inputs; data is a list of [inputs, labels]\n",
    "        image_target, image_cond, T_gt = \\\n",
    "            batch['image_target'].to(device), batch['image_cond'].to(device), batch['T'].to(device)\n",
    "\n",
    "        # zero the parameter gradients\n",
    "        optimizer.zero_grad()\n",
    "\n",
    "        # forward + backward + optimize\n",
    "        T_pred = model(image_cond, image_target)\n",
    "        loss = (T_pred - T_gt).abs()\n",
    "        running_loss += loss.mean(dim=0)\n",
    "        loss = loss.sum()\n",
    "        loss.backward()\n",
    "        optimizer.step()\n",
    "\n",
    "        # print statistics\n",
    "        if i % 20 == 19:    # print every 2000 mini-batches\n",
    "            print(f'[{i + 1}, {i + 20:5d}] loss: ', running_loss.detach().cpu() / 20, \\\n",
    "                  running_loss.detach().cpu().sum() / 20)\n",
    "            running_loss = torch.zeros(4).to(device)\n",
    "    "
   ]
  },
  {
   "cell_type": "code",
   "execution_count": null,
   "id": "ee00ad50",
   "metadata": {},
   "outputs": [],
   "source": []
  },
  {
   "cell_type": "code",
   "execution_count": null,
   "id": "6f42d345",
   "metadata": {},
   "outputs": [],
   "source": []
  },
  {
   "cell_type": "code",
   "execution_count": null,
   "id": "b82d048b",
   "metadata": {},
   "outputs": [],
   "source": []
  },
  {
   "cell_type": "code",
   "execution_count": null,
   "id": "12a9b8f1",
   "metadata": {},
   "outputs": [],
   "source": []
  }
 ],
 "metadata": {
  "kernelspec": {
   "display_name": "glowcurve",
   "language": "python",
   "name": "glowcurve"
  },
  "language_info": {
   "codemirror_mode": {
    "name": "ipython",
    "version": 3
   },
   "file_extension": ".py",
   "mimetype": "text/x-python",
   "name": "python",
   "nbconvert_exporter": "python",
   "pygments_lexer": "ipython3",
   "version": "3.8.8"
  }
 },
 "nbformat": 4,
 "nbformat_minor": 5
}
