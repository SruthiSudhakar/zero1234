{
 "cells": [
  {
   "cell_type": "code",
   "execution_count": 4,
   "id": "38b637ac",
   "metadata": {},
   "outputs": [
    {
     "data": {
      "application/vnd.jupyter.widget-view+json": {
       "model_id": "03a32516baed482f98c77635b9f803df",
       "version_major": 2,
       "version_minor": 0
      },
      "text/plain": [
       "  0%|          | 0/798183 [00:00<?, ?it/s]"
      ]
     },
     "metadata": {},
     "output_type": "display_data"
    }
   ],
   "source": [
    "from sh import gunzip\n",
    "import json\n",
    "from tqdm.notebook import tqdm\n",
    "import os\n",
    "\n",
    "path = '/home/rliu/Desktop/cvfiler04/datasets/objaverse/hf-objaverse-v1/views_whole_sphere'\n",
    "with open('/home/rliu/Desktop/cvfiler04/datasets/objaverse/hf-objaverse-v1/views_whole_sphere/valid_paths.json') as f:\n",
    "    paths = json.load(f)\n",
    "total_view = 4\n",
    "gz = []\n",
    "for i, id in tqdm(enumerate(paths), total = len(paths)):\n",
    "    for filename in os.listdir(os.path.join(path, id)):\n",
    "        if 'gz' in filename:\n",
    "#             print(filename[:-3])\n",
    "            gz.append(id)\n",
    "#             gunzip(os.path.join(path, id, filename))"
   ]
  },
  {
   "cell_type": "code",
   "execution_count": null,
   "id": "8c3139b0",
   "metadata": {},
   "outputs": [],
   "source": []
  }
 ],
 "metadata": {
  "kernelspec": {
   "display_name": "Python 3",
   "language": "python",
   "name": "python3"
  },
  "language_info": {
   "codemirror_mode": {
    "name": "ipython",
    "version": 3
   },
   "file_extension": ".py",
   "mimetype": "text/x-python",
   "name": "python",
   "nbconvert_exporter": "python",
   "pygments_lexer": "ipython3",
   "version": "3.8.8"
  }
 },
 "nbformat": 4,
 "nbformat_minor": 5
}
