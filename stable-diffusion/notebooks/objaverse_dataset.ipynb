{
 "cells": [
  {
   "cell_type": "code",
   "execution_count": 1,
   "id": "3c62069d",
   "metadata": {},
   "outputs": [],
   "source": [
    "from typing import Dict\n",
    "import numpy as np\n",
    "# from omegaconf import DictConfig, ListConfig\n",
    "import torch\n",
    "from torch.utils.data import Dataset\n",
    "from pathlib import Path\n",
    "import json\n",
    "from PIL import Image\n",
    "from torchvision import transforms\n",
    "from einops import rearrange\n",
    "# from ldm.util import instantiate_from_config\n",
    "# from datasets import load_dataset\n",
    "import copy\n",
    "import csv\n",
    "import cv2\n",
    "import os\n",
    "import math\n",
    "import random\n",
    "import matplotlib.pyplot as plt"
   ]
  },
  {
   "cell_type": "code",
   "execution_count": 2,
   "id": "b45ecf0d",
   "metadata": {},
   "outputs": [],
   "source": [
    "def make_tranforms(image_transforms):\n",
    "#     if isinstance(image_transforms, ListConfig):\n",
    "#         image_transforms = [instantiate_from_config(tt) for tt in image_transforms]\n",
    "    image_transforms.extend([transforms.ToTensor(),\n",
    "                                transforms.Lambda(lambda x: rearrange(x * 2. - 1., 'c h w -> h w c'))])\n",
    "    image_transforms = transforms.Compose(image_transforms)\n",
    "    return image_transforms"
   ]
  },
  {
   "cell_type": "code",
   "execution_count": 9,
   "id": "393cd625",
   "metadata": {},
   "outputs": [],
   "source": [
    "class ObjaverseData(Dataset):\n",
    "    def __init__(self,\n",
    "        root_dir='/home/rliu/Desktop/cvfiler04/datasets/objaverse/hf-objaverse-v1/views',\n",
    "        image_transforms=[],\n",
    "        ext=\"png\",\n",
    "        default_trans=torch.zeros(3),\n",
    "        postprocess=None,\n",
    "        return_paths=False,\n",
    "        total_view=4,\n",
    "        validation=False,\n",
    "        ) -> None:\n",
    "        \"\"\"Create a dataset from a folder of images.\n",
    "        If you pass in a root directory it will be searched for images\n",
    "        ending in ext (ext can be a list)\n",
    "        \"\"\"\n",
    "        self.root_dir = Path(root_dir)\n",
    "        self.default_trans = default_trans\n",
    "        self.return_paths = return_paths\n",
    "#         if isinstance(postprocess, DictConfig):\n",
    "#             postprocess = instantiate_from_config(postprocess)\n",
    "        self.postprocess = postprocess\n",
    "        self.total_view = total_view\n",
    "\n",
    "        with open(os.path.join(root_dir, 'valid_paths.json')) as f:\n",
    "            self.paths = json.load(f)\n",
    "        \n",
    "#         if not isinstance(ext, (tuple, list, ListConfig)):\n",
    "#             ext = [ext]\n",
    "\n",
    "        # Only used if there is no caption file\n",
    "        self.paths = os.listdir(self.root_dir)\n",
    "        total_objects = len(self.paths)\n",
    "        if validation:\n",
    "            self.paths = self.paths[math.floor(total_objects / 100. * 99.):] # used last 1% as validation\n",
    "        else:\n",
    "            self.paths = self.paths[:math.floor(total_objects / 100. * 99.)] # used first 99% as training\n",
    "        self.tform = make_tranforms(image_transforms)\n",
    "\n",
    "    def __len__(self):\n",
    "        if self.captions is not None:\n",
    "            return len(self.captions.keys())\n",
    "        else:\n",
    "            return len(self.paths)\n",
    "        \n",
    "    def get_T(target_RT, cond_RT):\n",
    "        R, T = target_RT[:3, :3], target_RT[:, -1]\n",
    "        T_target = -R.T @ T\n",
    "\n",
    "        R, T = cond_RT[:3, :3], cond_RT[:, -1]\n",
    "        T_cond = -R.T @ T\n",
    "\n",
    "        theta_cond, azimuth_cond, z_cond = cartesian_to_spherical(T_cond[None, :])\n",
    "        theta_target, azimuth_target, z_target = cartesian_to_spherical(T_target[None, :])\n",
    "\n",
    "        d_theta = theta_target - theta_cond\n",
    "        d_azimuth = (azimuth_target - azimuth_cond) % (2 * math.pi)\n",
    "        d_z = z_target - z_cond\n",
    "\n",
    "        d_T = torch.tensor([d_theta.item(), math.sin(d_azimuth), math.cos(d_azimuth), d_z.item()])\n",
    "        return d_T\n",
    "\n",
    "    def load_im(self, path):\n",
    "        target_im = plt.imread(path)\n",
    "        target_im[target_im[:, :, -1] == 0.] = [1., 1., 1., 1.]\n",
    "        target_im = Image.fromarray(np.uint8(target_im[:, :, :3] * 255.))\n",
    "        return target_im\n",
    "\n",
    "    def __getitem__(self, index):\n",
    "        data = {}\n",
    "        index_target, index_cond = random.sample(range(self.total_view), 2) # without replacement\n",
    "        filename = os.path.join(self.root_dir, self.paths[index])\n",
    "\n",
    "        if self.return_paths:\n",
    "            data[\"path\"] = str(filename)\n",
    "            \n",
    "        target_im = self.process_im(self.load_im(os.path.join(filename, '%03d.png' % index_target)))\n",
    "        target_RT = np.load(os.path.join(filename, '%03d.npy' % index_target))\n",
    "        cond_im = self.process_im(self.load_im(os.path.join(filename, '%03d.png' % index_cond)))\n",
    "        cond_RT = np.load(os.path.join(filename, '%03d.npy' % index_cond))\n",
    "\n",
    "        data[\"image_target\"] = target_im\n",
    "        data[\"image_cond\"] = cond_im\n",
    "#         data[\"T\"] = get_T(target_RT, cond_RT)\n",
    "\n",
    "        if self.postprocess is not None:\n",
    "            data = self.postprocess(data)\n",
    "\n",
    "        return data\n",
    "\n",
    "    def process_im(self, im):\n",
    "        im = im.convert(\"RGB\")\n",
    "        return self.tform(im)"
   ]
  },
  {
   "cell_type": "code",
   "execution_count": 10,
   "id": "69999aa3",
   "metadata": {},
   "outputs": [],
   "source": [
    "dataset = ObjaverseData(root_dir='/local/vondrick/ruoshi/objaverse/views_whole_sphere_merged', return_paths=True)"
   ]
  },
  {
   "cell_type": "code",
   "execution_count": 12,
   "id": "0af9fedf",
   "metadata": {
    "scrolled": true
   },
   "outputs": [
    {
     "data": {
      "text/plain": [
       "torch.Size([512, 512, 3])"
      ]
     },
     "execution_count": 12,
     "metadata": {},
     "output_type": "execute_result"
    }
   ],
   "source": [
    "dataset[0]['image_target'].shape"
   ]
  },
  {
   "cell_type": "markdown",
   "id": "46067376",
   "metadata": {},
   "source": [
    "# representing transformation with x, y, z"
   ]
  },
  {
   "cell_type": "code",
   "execution_count": 16,
   "id": "bc8a31bf",
   "metadata": {},
   "outputs": [],
   "source": [
    "def load_im(path):\n",
    "    target_im = plt.imread(path)\n",
    "    target_im[target_im[:, :, -1] == 0.] = [1., 1., 1., 1.]\n",
    "    target_im = Image.fromarray(np.uint8(target_im[:, :, :3] * 255.))\n",
    "    return target_im\n",
    "\n",
    "def get_T(target_RT, cond_RT):\n",
    "    R, T = target_RT[:3, :3], target_RT[:, -1]\n",
    "    T_target = -R.T @ T\n",
    "\n",
    "    R, T = cond_RT[:3, :3], cond_RT[:, -1]\n",
    "    T_cond = -R.T @ T\n",
    "\n",
    "    z = -T_cond\n",
    "    x = np.cross(z, np.array([0, 0, -1]))\n",
    "    y = np.cross(z, x)\n",
    "    x = x / np.linalg.norm(x)\n",
    "    y = y / np.linalg.norm(y)\n",
    "    z = z / np.linalg.norm(z)\n",
    "\n",
    "    v = T_target - T_cond\n",
    "\n",
    "    v_x = np.dot(v, x)\n",
    "    v_y = np.dot(v, y)\n",
    "    v_z = np.dot(v, z)\n",
    "\n",
    "    return torch.tensor([v_x, v_y, v_z])"
   ]
  },
  {
   "cell_type": "code",
   "execution_count": 17,
   "id": "59438c4f",
   "metadata": {},
   "outputs": [],
   "source": [
    "index_target, index_cond = random.sample(range(4), 2)"
   ]
  },
  {
   "cell_type": "code",
   "execution_count": 18,
   "id": "16feec72",
   "metadata": {},
   "outputs": [],
   "source": [
    "root_dir = '/home/rliu/Desktop/cvfiler04/datasets/objaverse/hf-objaverse-v1/views_whole_sphere'\n",
    "filename = os.path.join(root_dir, '94d5a26aea644af2b7ad65b116dca7eb')\n",
    "target_im = load_im(os.path.join(filename, '%03d.png' % index_target))\n",
    "target_RT = np.load(os.path.join(filename, '%03d.npy' % index_target))\n",
    "cond_im = load_im(os.path.join(filename, '%03d.png' % index_cond))\n",
    "cond_RT = np.load(os.path.join(filename, '%03d.npy' % index_cond))\n",
    "T = get_T(target_RT, cond_RT)"
   ]
  },
  {
   "cell_type": "code",
   "execution_count": 19,
   "id": "e495cbd2",
   "metadata": {},
   "outputs": [
    {
     "data": {
      "image/png": "[encoded data removed]",
      "text/plain": [
       "<PIL.Image.Image image mode=RGB size=512x512 at 0x7FC185EB24C0>"
      ]
     },
     "execution_count": 19,
     "metadata": {},
     "output_type": "execute_result"
    }
   ],
   "source": [
    "target_im"
   ]
  },
  {
   "cell_type": "code",
   "execution_count": 20,
   "id": "f5eb6236",
   "metadata": {},
   "outputs": [
    {
     "data": {
      "image/png": "[encoded data removed]",
      "text/plain": [
       "<PIL.Image.Image image mode=RGB size=512x512 at 0x7FC244A27730>"
      ]
     },
     "execution_count": 20,
     "metadata": {},
     "output_type": "execute_result"
    }
   ],
   "source": [
    "cond_im"
   ]
  },
  {
   "cell_type": "code",
   "execution_count": 21,
   "id": "8a45e2ff",
   "metadata": {},
   "outputs": [
    {
     "data": {
      "text/plain": [
       "(array([-1.44681641, -0.24003703, -0.89365552]), 1.7174154069309528)"
      ]
     },
     "execution_count": 21,
     "metadata": {},
     "output_type": "execute_result"
    }
   ],
   "source": [
    "R, T = target_RT[:3, :3], target_RT[:, -1]\n",
    "T_target = -R.T @ T\n",
    "T_target, np.linalg.norm(T_target)"
   ]
  },
  {
   "cell_type": "code",
   "execution_count": 22,
   "id": "73c5c593",
   "metadata": {},
   "outputs": [
    {
     "data": {
      "text/plain": [
       "(array([-1.49810174,  0.84997026,  1.10401037]), 2.0458732077985418)"
      ]
     },
     "execution_count": 22,
     "metadata": {},
     "output_type": "execute_result"
    }
   ],
   "source": [
    "R, T = cond_RT[:3, :3], cond_RT[:, -1]\n",
    "T_cond = -R.T @ T\n",
    "T_cond, np.linalg.norm(T_cond)"
   ]
  },
  {
   "cell_type": "code",
   "execution_count": 277,
   "id": "80d49fdc",
   "metadata": {},
   "outputs": [
    {
     "data": {
      "text/plain": [
       "array([-0.40072901, -0.10735473,  0.60105934])"
      ]
     },
     "execution_count": 277,
     "metadata": {},
     "output_type": "execute_result"
    }
   ],
   "source": [
    "T_target - T_cond"
   ]
  },
  {
   "cell_type": "code",
   "execution_count": 278,
   "id": "de4a5d7a",
   "metadata": {},
   "outputs": [],
   "source": [
    "z = -T_cond\n",
    "x = np.cross(z, np.array([0, 0, -1]))\n",
    "y = np.cross(z, x)\n",
    "x = x / np.linalg.norm(x)\n",
    "y = y / np.linalg.norm(y)\n",
    "z = z / np.linalg.norm(z)"
   ]
  },
  {
   "cell_type": "code",
   "execution_count": 279,
   "id": "c3daaa16",
   "metadata": {},
   "outputs": [],
   "source": [
    "v = T_target - T_cond"
   ]
  },
  {
   "cell_type": "code",
   "execution_count": 280,
   "id": "3672a8db",
   "metadata": {},
   "outputs": [],
   "source": [
    "v_x = np.dot(v, x)\n",
    "v_y = np.dot(v, y)\n",
    "v_z = np.dot(v, z)"
   ]
  },
  {
   "cell_type": "code",
   "execution_count": 281,
   "id": "b7490047",
   "metadata": {},
   "outputs": [
    {
     "data": {
      "text/plain": [
       "(0.19118473931902488, 0.632949957336868, 0.31016745325467976)"
      ]
     },
     "execution_count": 281,
     "metadata": {},
     "output_type": "execute_result"
    }
   ],
   "source": [
    "v_x, v_y, v_z"
   ]
  },
  {
   "cell_type": "code",
   "execution_count": null,
   "id": "b3fe0d73",
   "metadata": {},
   "outputs": [],
   "source": []
  },
  {
   "cell_type": "code",
   "execution_count": 43,
   "id": "f657c44b",
   "metadata": {},
   "outputs": [
    {
     "data": {
      "text/plain": [
       "{'image_target': tensor([[[1., 1., 1.],\n",
       "          [1., 1., 1.],\n",
       "          [1., 1., 1.],\n",
       "          ...,\n",
       "          [1., 1., 1.],\n",
       "          [1., 1., 1.],\n",
       "          [1., 1., 1.]],\n",
       " \n",
       "         [[1., 1., 1.],\n",
       "          [1., 1., 1.],\n",
       "          [1., 1., 1.],\n",
       "          ...,\n",
       "          [1., 1., 1.],\n",
       "          [1., 1., 1.],\n",
       "          [1., 1., 1.]],\n",
       " \n",
       "         [[1., 1., 1.],\n",
       "          [1., 1., 1.],\n",
       "          [1., 1., 1.],\n",
       "          ...,\n",
       "          [1., 1., 1.],\n",
       "          [1., 1., 1.],\n",
       "          [1., 1., 1.]],\n",
       " \n",
       "         ...,\n",
       " \n",
       "         [[1., 1., 1.],\n",
       "          [1., 1., 1.],\n",
       "          [1., 1., 1.],\n",
       "          ...,\n",
       "          [1., 1., 1.],\n",
       "          [1., 1., 1.],\n",
       "          [1., 1., 1.]],\n",
       " \n",
       "         [[1., 1., 1.],\n",
       "          [1., 1., 1.],\n",
       "          [1., 1., 1.],\n",
       "          ...,\n",
       "          [1., 1., 1.],\n",
       "          [1., 1., 1.],\n",
       "          [1., 1., 1.]],\n",
       " \n",
       "         [[1., 1., 1.],\n",
       "          [1., 1., 1.],\n",
       "          [1., 1., 1.],\n",
       "          ...,\n",
       "          [1., 1., 1.],\n",
       "          [1., 1., 1.],\n",
       "          [1., 1., 1.]]]),\n",
       " 'image_cond': tensor([[[1., 1., 1.],\n",
       "          [1., 1., 1.],\n",
       "          [1., 1., 1.],\n",
       "          ...,\n",
       "          [1., 1., 1.],\n",
       "          [1., 1., 1.],\n",
       "          [1., 1., 1.]],\n",
       " \n",
       "         [[1., 1., 1.],\n",
       "          [1., 1., 1.],\n",
       "          [1., 1., 1.],\n",
       "          ...,\n",
       "          [1., 1., 1.],\n",
       "          [1., 1., 1.],\n",
       "          [1., 1., 1.]],\n",
       " \n",
       "         [[1., 1., 1.],\n",
       "          [1., 1., 1.],\n",
       "          [1., 1., 1.],\n",
       "          ...,\n",
       "          [1., 1., 1.],\n",
       "          [1., 1., 1.],\n",
       "          [1., 1., 1.]],\n",
       " \n",
       "         ...,\n",
       " \n",
       "         [[1., 1., 1.],\n",
       "          [1., 1., 1.],\n",
       "          [1., 1., 1.],\n",
       "          ...,\n",
       "          [1., 1., 1.],\n",
       "          [1., 1., 1.],\n",
       "          [1., 1., 1.]],\n",
       " \n",
       "         [[1., 1., 1.],\n",
       "          [1., 1., 1.],\n",
       "          [1., 1., 1.],\n",
       "          ...,\n",
       "          [1., 1., 1.],\n",
       "          [1., 1., 1.],\n",
       "          [1., 1., 1.]],\n",
       " \n",
       "         [[1., 1., 1.],\n",
       "          [1., 1., 1.],\n",
       "          [1., 1., 1.],\n",
       "          ...,\n",
       "          [1., 1., 1.],\n",
       "          [1., 1., 1.],\n",
       "          [1., 1., 1.]]]),\n",
       " 'T': array([0.02085469, 0.98113107, 0.19334382, 0.53940975])}"
      ]
     },
     "execution_count": 43,
     "metadata": {},
     "output_type": "execute_result"
    }
   ],
   "source": [
    "dataset[0]"
   ]
  },
  {
   "cell_type": "markdown",
   "id": "6551222f",
   "metadata": {},
   "source": [
    "# representing transformation with \\theta \\phi z"
   ]
  },
  {
   "cell_type": "code",
   "execution_count": 14,
   "id": "4f8d6c8b",
   "metadata": {},
   "outputs": [],
   "source": [
    "import numpy as np\n",
    "\n",
    "def cartesian_to_spherical(xyz):\n",
    "    ptsnew = np.hstack((xyz, np.zeros(xyz.shape)))\n",
    "    xy = xyz[:,0]**2 + xyz[:,1]**2\n",
    "    z = np.sqrt(xy + xyz[:,2]**2)\n",
    "    theta = np.arctan2(np.sqrt(xy), xyz[:,2]) # for elevation angle defined from Z-axis down\n",
    "    #ptsnew[:,4] = np.arctan2(xyz[:,2], np.sqrt(xy)) # for elevation angle defined from XY-plane up\n",
    "    azimuth = np.arctan2(xyz[:,1], xyz[:,0])\n",
    "    return np.array([theta, azimuth, z])\n",
    "\n",
    "def load_im(path):\n",
    "    target_im = plt.imread(path)\n",
    "    target_im[target_im[:, :, -1] == 0.] = [1., 1., 1., 1.]\n",
    "    target_im = Image.fromarray(np.uint8(target_im[:, :, :3] * 255.))\n",
    "    return target_im\n",
    "\n",
    "def get_T(target_RT, cond_RT):\n",
    "    R, T = target_RT[:3, :3], target_RT[:, -1]\n",
    "    T_target = -R.T @ T\n",
    "\n",
    "    R, T = cond_RT[:3, :3], cond_RT[:, -1]\n",
    "    T_cond = -R.T @ T\n",
    "\n",
    "    theta_cond, azimuth_cond, z_cond = cartesian_to_spherical(T_cond[None, :])\n",
    "    theta_target, azimuth_target, z_target = cartesian_to_spherical(T_target[None, :])\n",
    "    \n",
    "    d_theta = theta_target - theta_cond\n",
    "    d_azimuth = (azimuth_target - azimuth_cond) % (2 * math.pi)\n",
    "    d_z = z_target - z_cond\n",
    "    \n",
    "    d_T = torch.tensor([d_theta.item(), math.sin(d_azimuth), math.cos(d_azimuth), d_z.item()])\n",
    "    return d_T"
   ]
  },
  {
   "cell_type": "code",
   "execution_count": 83,
   "id": "3cd06c0b",
   "metadata": {},
   "outputs": [],
   "source": [
    "index_target, index_cond = random.sample(range(4), 2)"
   ]
  },
  {
   "cell_type": "code",
   "execution_count": 84,
   "id": "57477cb0",
   "metadata": {},
   "outputs": [],
   "source": [
    "root_dir = '/home/rliu/Desktop/cvfiler04/datasets/objaverse/hf-objaverse-v1/views_whole_sphere'\n",
    "# filename = os.path.join(root_dir, '58cf8b8fba1140a3ad502e162765f4cf')\n",
    "# filename = os.path.join(root_dir, 'c0c9e216178f4ba489c085c0829db562')\n",
    "filename = os.path.join(root_dir, '94d57137012148afaa9a2339a8fa30cb')\n",
    "target_im = load_im(os.path.join(filename, '%03d.png' % index_target))\n",
    "target_RT = np.load(os.path.join(filename, '%03d.npy' % index_target))\n",
    "cond_im = load_im(os.path.join(filename, '%03d.png' % index_cond))\n",
    "cond_RT = np.load(os.path.join(filename, '%03d.npy' % index_cond))\n",
    "T = get_T(target_RT, cond_RT)"
   ]
  },
  {
   "cell_type": "code",
   "execution_count": 85,
   "id": "a8b009d8",
   "metadata": {},
   "outputs": [
    {
     "data": {
      "text/plain": [
       "(array([0.76581714, 1.72942949, 0.0914474 ]), 1.8936115995820406)"
      ]
     },
     "execution_count": 85,
     "metadata": {},
     "output_type": "execute_result"
    }
   ],
   "source": [
    "R, T = target_RT[:3, :3], target_RT[:, -1]\n",
    "T_target = -R.T @ T\n",
    "T_target, np.linalg.norm(T_target)"
   ]
  },
  {
   "cell_type": "code",
   "execution_count": 86,
   "id": "ab7cc669",
   "metadata": {},
   "outputs": [
    {
     "data": {
      "text/plain": [
       "(array([ 0.47762456, -0.18480237, -1.53358741]), 1.6168387316708108)"
      ]
     },
     "execution_count": 86,
     "metadata": {},
     "output_type": "execute_result"
    }
   ],
   "source": [
    "R, T = cond_RT[:3, :3], cond_RT[:, -1]\n",
    "T_cond = -R.T @ T\n",
    "T_cond, np.linalg.norm(T_cond)"
   ]
  },
  {
   "cell_type": "code",
   "execution_count": 87,
   "id": "e4da5156",
   "metadata": {},
   "outputs": [
    {
     "name": "stdout",
     "output_type": "stream",
     "text": [
      "[ 0.47762456 -0.18480237 -1.53358741]\n"
     ]
    },
    {
     "data": {
      "image/png": "[encoded data removed]",
      "text/plain": [
       "<PIL.Image.Image image mode=RGB size=512x512 at 0x7F53AF40B7C0>"
      ]
     },
     "execution_count": 87,
     "metadata": {},
     "output_type": "execute_result"
    }
   ],
   "source": [
    "print(T_cond)\n",
    "cond_im"
   ]
  },
  {
   "cell_type": "code",
   "execution_count": 88,
   "id": "dd501fb0",
   "metadata": {},
   "outputs": [
    {
     "name": "stdout",
     "output_type": "stream",
     "text": [
      "[0.76581714 1.72942949 0.0914474 ]\n"
     ]
    },
    {
     "data": {
      "image/png": "[encoded data removed]",
      "text/plain": [
       "<PIL.Image.Image image mode=RGB size=512x512 at 0x7F547041AD30>"
      ]
     },
     "execution_count": 88,
     "metadata": {},
     "output_type": "execute_result"
    }
   ],
   "source": [
    "print(T_target)\n",
    "target_im"
   ]
  },
  {
   "cell_type": "code",
   "execution_count": 91,
   "id": "1c97be3d",
   "metadata": {},
   "outputs": [
    {
     "data": {
      "text/plain": [
       "array([-68.76560683, 267.26796124,  -2.30639766])"
      ]
     },
     "execution_count": 91,
     "metadata": {},
     "output_type": "execute_result"
    }
   ],
   "source": [
    "get_T(T_target[None, :], T_cond[None, :])"
   ]
  },
  {
   "cell_type": "code",
   "execution_count": 104,
   "id": "91ff911a",
   "metadata": {},
   "outputs": [],
   "source": [
    "T_target = np.array([-1, 1, 1.0])\n",
    "T_cond = np.array([1, 1, 1.0])"
   ]
  },
  {
   "cell_type": "code",
   "execution_count": 105,
   "id": "6a57670b",
   "metadata": {},
   "outputs": [
    {
     "data": {
      "text/plain": [
       "array([ 0., 90.,  0.])"
      ]
     },
     "execution_count": 105,
     "metadata": {},
     "output_type": "execute_result"
    }
   ],
   "source": [
    "get_T(T_target[None, :], T_cond[None, :])"
   ]
  },
  {
   "cell_type": "code",
   "execution_count": null,
   "id": "f399bceb",
   "metadata": {},
   "outputs": [],
   "source": []
  },
  {
   "cell_type": "code",
   "execution_count": 21,
   "id": "3d3a9a2a",
   "metadata": {},
   "outputs": [],
   "source": [
    "import numpy as np\n",
    "\n",
    "def cartesian_to_spherical(xyz):\n",
    "    ptsnew = np.hstack((xyz, np.zeros(xyz.shape)))\n",
    "    xy = xyz[:,0]**2 + xyz[:,1]**2\n",
    "    z = np.sqrt(xy + xyz[:,2]**2)\n",
    "    theta = np.arctan2(np.sqrt(xy), xyz[:,2]) # for elevation angle defined from Z-axis down\n",
    "    #ptsnew[:,4] = np.arctan2(xyz[:,2], np.sqrt(xy)) # for elevation angle defined from XY-plane up\n",
    "    azimuth = np.arctan2(xyz[:,1], xyz[:,0])\n",
    "    return np.array([theta, azimuth, z])"
   ]
  },
  {
   "cell_type": "code",
   "execution_count": 90,
   "id": "964cb429",
   "metadata": {},
   "outputs": [],
   "source": [
    "def get_T(target_RT, cond_RT):\n",
    "    R, T = target_RT[:3, :3], target_RT[:, -1]\n",
    "    T_target = -R.T @ T\n",
    "\n",
    "    R, T = cond_RT[:3, :3], cond_RT[:, -1]\n",
    "    T_cond = -R.T @ T\n",
    "\n",
    "    theta_cond, azimuth_cond, z_cond = cartesian_to_spherical(T_cond[None, :])\n",
    "    theta_target, azimuth_target, z_target = cartesian_to_spherical(T_target[None, :])\n",
    "    \n",
    "    d_theta = theta_target - theta_cond\n",
    "    d_azimuth = (azimuth_target - azimuth_cond) % (2 * math.pi)\n",
    "    d_z = z_target - z_cond\n",
    "    \n",
    "#     d_T = np.array([d_theta.item(), math.sin(d_azimuth), math.cos(d_azimuth), d_z.item()])\n",
    "    d_T = np.array([math.degrees(d_theta.item()), math.degrees(d_azimuth.item()), d_z.item()])\n",
    "    return d_T"
   ]
  },
  {
   "cell_type": "code",
   "execution_count": 23,
   "id": "ca4d0ede",
   "metadata": {},
   "outputs": [],
   "source": [
    "theta_cond, azimuth_cond, z_cond = cartesian_to_spherical(T_cond[None, :])"
   ]
  },
  {
   "cell_type": "code",
   "execution_count": 24,
   "id": "559515a3",
   "metadata": {},
   "outputs": [
    {
     "data": {
      "text/plain": [
       "(57.341684305802104, 150.4309471659889)"
      ]
     },
     "execution_count": 24,
     "metadata": {},
     "output_type": "execute_result"
    }
   ],
   "source": [
    "math.degrees(theta_cond), math.degrees(azimuth_cond)"
   ]
  },
  {
   "cell_type": "code",
   "execution_count": 25,
   "id": "8de7c982",
   "metadata": {},
   "outputs": [],
   "source": [
    "theta_target, azimuth_target, z_target = cartesian_to_spherical(T_target[None, :])"
   ]
  },
  {
   "cell_type": "code",
   "execution_count": 26,
   "id": "4bf3394d",
   "metadata": {},
   "outputs": [
    {
     "data": {
      "text/plain": [
       "(101.14260527202639, -151.45076483720848)"
      ]
     },
     "execution_count": 26,
     "metadata": {},
     "output_type": "execute_result"
    }
   ],
   "source": [
    "math.degrees(theta_target), math.degrees(azimuth_target)"
   ]
  },
  {
   "cell_type": "code",
   "execution_count": 194,
   "id": "bfe4ba2f",
   "metadata": {},
   "outputs": [],
   "source": [
    "d_theta = theta_target - theta_cond"
   ]
  },
  {
   "cell_type": "code",
   "execution_count": 195,
   "id": "f9bf1805",
   "metadata": {},
   "outputs": [],
   "source": [
    "d_azimuth = azimuth_target - azimuth_cond"
   ]
  },
  {
   "cell_type": "code",
   "execution_count": 196,
   "id": "79bf3a26",
   "metadata": {},
   "outputs": [
    {
     "data": {
      "text/plain": [
       "(0.1746662372477494, 0.9846276989632746)"
      ]
     },
     "execution_count": 196,
     "metadata": {},
     "output_type": "execute_result"
    }
   ],
   "source": [
    "math.sin(d_azimuth), math.cos(d_azimuth)"
   ]
  },
  {
   "cell_type": "code",
   "execution_count": 197,
   "id": "82eeee65",
   "metadata": {},
   "outputs": [],
   "source": [
    "d_z = z_target - z_cond"
   ]
  },
  {
   "cell_type": "code",
   "execution_count": 202,
   "id": "a37b69b0",
   "metadata": {},
   "outputs": [
    {
     "data": {
      "text/plain": [
       "(-0.553455004790445, 0.17556678440930673, -0.3097296822802831)"
      ]
     },
     "execution_count": 202,
     "metadata": {},
     "output_type": "execute_result"
    }
   ],
   "source": [
    "d_theta.item(), d_azimuth.item(), d_z.item()"
   ]
  },
  {
   "cell_type": "code",
   "execution_count": null,
   "id": "997b8306",
   "metadata": {},
   "outputs": [],
   "source": []
  },
  {
   "cell_type": "code",
   "execution_count": null,
   "id": "53353ffd",
   "metadata": {},
   "outputs": [],
   "source": []
  }
 ],
 "metadata": {
  "kernelspec": {
   "display_name": "Python 3 (ipykernel)",
   "language": "python",
   "name": "python3"
  },
  "language_info": {
   "codemirror_mode": {
    "name": "ipython",
    "version": 3
   },
   "file_extension": ".py",
   "mimetype": "text/x-python",
   "name": "python",
   "nbconvert_exporter": "python",
   "pygments_lexer": "ipython3",
   "version": "3.9.12"
  }
 },
 "nbformat": 4,
 "nbformat_minor": 5
}
