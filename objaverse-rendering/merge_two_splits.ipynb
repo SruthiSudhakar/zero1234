{
 "cells": [
  {
   "cell_type": "code",
   "execution_count": null,
   "id": "ba181081",
   "metadata": {},
   "outputs": [],
   "source": [
    "import os, sys, numpy as np\n",
    "from tqdm.notebook import tqdm\n",
    "import json\n",
    "import shutil"
   ]
  },
  {
   "cell_type": "code",
   "execution_count": null,
   "id": "b288acb1",
   "metadata": {},
   "outputs": [],
   "source": [
    "path = '/home/rliu/Desktop/cvfiler04/datasets/objaverse/hf-objaverse-v1/views_whole_sphere_split2'\n",
    "# path = '/local/vondrick/ruoshi/objaverse/views_whole_sphere'"
   ]
  },
  {
   "cell_type": "code",
   "execution_count": null,
   "id": "447ca30a",
   "metadata": {},
   "outputs": [],
   "source": [
    "with open('/home/rliu/Desktop/cvfiler04/datasets/objaverse/hf-objaverse-v1/object-paths.json') as f:\n",
    "    paths = json.load(f)"
   ]
  },
  {
   "cell_type": "code",
   "execution_count": null,
   "id": "b40b8fbe",
   "metadata": {},
   "outputs": [],
   "source": [
    "total_view = 8\n",
    "paths_rendered = os.listdir(path)\n",
    "paths_valid = []\n",
    "for i, id in tqdm(enumerate(paths), total = len(paths)):\n",
    "    if os.path.exists(os.path.join(path, id)):\n",
    "        if len(os.listdir(os.path.join(path, id))) == 2 * total_view:\n",
    "            paths_valid.append(id)"
   ]
  },
  {
   "cell_type": "code",
   "execution_count": null,
   "id": "81237f4d",
   "metadata": {},
   "outputs": [],
   "source": [
    "new_path = '/home/rliu/Desktop/cvfiler04/datasets/objaverse/hf-objaverse-v1/views_whole_merged'"
   ]
  },
  {
   "cell_type": "code",
   "execution_count": null,
   "id": "09eab108",
   "metadata": {},
   "outputs": [],
   "source": [
    "total_view = 8\n",
    "paths_rendered = os.listdir(path)\n",
    "paths_valid = []\n",
    "for i, id in tqdm(enumerate(paths), total = len(paths)):\n",
    "    if os.path.exists(os.path.join(path, id)):\n",
    "        if len(os.listdir(os.path.join(path, id))) == 2 * total_view:\n",
    "            new_file_path = os.path.join(new_path, id + '_1')\n",
    "            old_file_path = os.path.join(path, id)\n",
    "            try:\n",
    "                shutil.copytree(old_file_path, new_file_path)\n",
    "            except:\n",
    "                print(old_file_path)\n",
    "                continue"
   ]
  },
  {
   "cell_type": "code",
   "execution_count": null,
   "id": "c6b4bcde",
   "metadata": {},
   "outputs": [],
   "source": [
    "total_view = 8\n",
    "paths_rendered = os.listdir(new_path)\n",
    "paths_valid = []\n",
    "for i, id in tqdm(enumerate(paths), total = len(paths)):\n",
    "    if os.path.exists(os.path.join(path, id)):\n",
    "        if len(os.listdir(os.path.join(path, id))) == 2 * total_view:\n",
    "            paths_valid.append(id)"
   ]
  },
  {
   "cell_type": "code",
   "execution_count": null,
   "id": "64e2682a",
   "metadata": {},
   "outputs": [],
   "source": [
    "path = '/home/rliu/Desktop/cvfiler04/datasets/objaverse/hf-objaverse-v1/views_whole_sphere'\n",
    "new_path = '/home/rliu/Desktop/cvfiler04/datasets/objaverse/hf-objaverse-v1/views_whole_merged'\n",
    "# path = '/local/vondrick/ruoshi/objaverse/views_whole_sphere'\n",
    "total_view = 4\n",
    "paths_rendered = os.listdir(path)\n",
    "paths_valid = []\n",
    "for i, id in tqdm(enumerate(paths), total = len(paths)):\n",
    "    if os.path.exists(os.path.join(path, id)):\n",
    "        if len(os.listdir(os.path.join(path, id))) == 2 * total_view:\n",
    "            new_file_path = os.path.join(new_path, id)\n",
    "            old_file_path = os.path.join(path, id)\n",
    "            try:\n",
    "                shutil.copytree(old_file_path, new_file_path)\n",
    "            except:\n",
    "                print(old_file_path)\n",
    "                continue\n",
    "            print(id)\n",
    "#             break"
   ]
  },
  {
   "cell_type": "code",
   "execution_count": null,
   "id": "5cd0c7ea",
   "metadata": {},
   "outputs": [],
   "source": [
    "path = '/home/rliu/Desktop/cvfiler04/datasets/objaverse/hf-objaverse-v1/views_whole_sphere_merged'\n",
    "total_view = 8\n",
    "paths_rendered = os.listdir(path)\n",
    "paths_valid = []\n",
    "for i, id in tqdm(enumerate(paths_rendered), total = len(paths_rendered)):\n",
    "    if os.path.exists(os.path.join(path, id)):\n",
    "        if len(os.listdir(os.path.join(path, id))) == 16 or \\\n",
    "           len(os.listdir(os.path.join(path, id))) == 8 :\n",
    "            paths_valid.append(id)"
   ]
  },
  {
   "cell_type": "code",
   "execution_count": 43,
   "id": "4a7687d3",
   "metadata": {},
   "outputs": [
    {
     "data": {
      "application/vnd.jupyter.widget-view+json": {
       "model_id": "7d7c7f0921a44c4caf9413fff922ea5d",
       "version_major": 2,
       "version_minor": 0
      },
      "text/plain": [
       "  0%|          | 0/1593826 [00:00<?, ?it/s]"
      ]
     },
     "metadata": {},
     "output_type": "display_data"
    }
   ],
   "source": [
    "path = '/home/rliu/Desktop/cvfiler04/datasets/objaverse/hf-objaverse-v1/views_whole_sphere_merged'\n",
    "total_view = 8\n",
    "with open('/home/rliu/Desktop/cvfiler04/datasets/objaverse/hf-objaverse-v1/views_whole_sphere_merged/valid_paths.json') as f:\n",
    "    paths_rendered = json.load(f)\n",
    "paths_valid = []\n",
    "for i, id in tqdm(enumerate(paths_rendered), total = len(paths_rendered)):\n",
    "    if os.path.exists(os.path.join(path, id)):\n",
    "        for file in os.listdir(os.path.join(path, id)):\n",
    "            if file[-4:] != '.npy' and file[-4:] != '.png':\n",
    "                print(file)"
   ]
  },
  {
   "cell_type": "code",
   "execution_count": null,
   "id": "db4b010b",
   "metadata": {},
   "outputs": [],
   "source": [
    "with open(os.path.join(path, 'valid_paths.json'), 'w') as f:\n",
    "    json.dump(paths_valid, f)"
   ]
  },
  {
   "cell_type": "code",
   "execution_count": null,
   "id": "e17ca9d4",
   "metadata": {},
   "outputs": [],
   "source": [
    "id + '_1'\n",
    "new_file_path = os.path.join(new_path, id + '_1')\n",
    "old_file_path = os.path.join(path, id)\n",
    "shutil.copytree(old_file_path, new_file_path)"
   ]
  },
  {
   "cell_type": "code",
   "execution_count": null,
   "id": "2b1399f7",
   "metadata": {},
   "outputs": [],
   "source": [
    "index, postfix = filename.split('.')\n",
    "newname = '%.3d.%s' % (int(index) + 4, postfix)"
   ]
  },
  {
   "cell_type": "code",
   "execution_count": null,
   "id": "36fa45cf",
   "metadata": {},
   "outputs": [],
   "source": [
    "new_path"
   ]
  },
  {
   "cell_type": "code",
   "execution_count": null,
   "id": "7c2a5609",
   "metadata": {},
   "outputs": [],
   "source": [
    "old_path"
   ]
  },
  {
   "cell_type": "code",
   "execution_count": null,
   "id": "fbb0daa0",
   "metadata": {},
   "outputs": [],
   "source": []
  }
 ],
 "metadata": {
  "kernelspec": {
   "display_name": "Python 3",
   "language": "python",
   "name": "python3"
  },
  "language_info": {
   "codemirror_mode": {
    "name": "ipython",
    "version": 3
   },
   "file_extension": ".py",
   "mimetype": "text/x-python",
   "name": "python",
   "nbconvert_exporter": "python",
   "pygments_lexer": "ipython3",
   "version": "3.8.8"
  }
 },
 "nbformat": 4,
 "nbformat_minor": 5
}
