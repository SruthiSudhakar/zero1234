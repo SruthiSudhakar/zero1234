{
 "cells": [
  {
   "cell_type": "code",
   "execution_count": 34,
   "id": "f470f37c",
   "metadata": {},
   "outputs": [],
   "source": [
    "import os, sys, numpy as np\n",
    "from tqdm.notebook import tqdm\n",
    "import json\n",
    "import shutil"
   ]
  },
  {
   "cell_type": "code",
   "execution_count": 16,
   "id": "3d60784f",
   "metadata": {},
   "outputs": [],
   "source": [
    "path = '/home/rliu/Desktop/cvfiler04/datasets/objaverse/hf-objaverse-v1/views_whole_sphere_split2'\n",
    "# path = '/local/vondrick/ruoshi/objaverse/views_whole_sphere'"
   ]
  },
  {
   "cell_type": "code",
   "execution_count": 17,
   "id": "c935e8aa",
   "metadata": {},
   "outputs": [],
   "source": [
    "with open('/home/rliu/Desktop/cvfiler04/datasets/objaverse/hf-objaverse-v1/object-paths.json') as f:\n",
    "    paths = json.load(f)"
   ]
  },
  {
   "cell_type": "code",
   "execution_count": 40,
   "id": "de552964",
   "metadata": {},
   "outputs": [
    {
     "data": {
      "application/vnd.jupyter.widget-view+json": {
       "model_id": "2e610ca46eeb4cc49ac3a01cc9e21d70",
       "version_major": 2,
       "version_minor": 0
      },
      "text/plain": [
       "  0%|          | 0/798759 [00:00<?, ?it/s]"
      ]
     },
     "metadata": {},
     "output_type": "display_data"
    }
   ],
   "source": [
    "total_view = 8\n",
    "paths_rendered = os.listdir(path)\n",
    "paths_valid = []\n",
    "for i, id in tqdm(enumerate(paths), total = len(paths)):\n",
    "    if os.path.exists(os.path.join(path, id)):\n",
    "        if len(os.listdir(os.path.join(path, id))) == 2 * total_view:\n",
    "            paths_valid.append(id)"
   ]
  },
  {
   "cell_type": "code",
   "execution_count": 18,
   "id": "d4b2a772",
   "metadata": {},
   "outputs": [],
   "source": [
    "with open(os.path.join(path, 'valid_paths.json'), 'w') as f:\n",
    "    json.dump(paths_valid, f)"
   ]
  },
  {
   "cell_type": "code",
   "execution_count": 37,
   "id": "95a547f5",
   "metadata": {},
   "outputs": [
    {
     "data": {
      "text/plain": [
       "'/home/rliu/Desktop/cvfiler04/datasets/objaverse/hf-objaverse-v1/views_whole_sphere_split2/f186421680c74ff4919dc79866bcbe48'"
      ]
     },
     "execution_count": 37,
     "metadata": {},
     "output_type": "execute_result"
    }
   ],
   "source": [
    "os.path.join(path, paths_valid[-1])"
   ]
  },
  {
   "cell_type": "code",
   "execution_count": 41,
   "id": "cd144dac",
   "metadata": {},
   "outputs": [
    {
     "data": {
      "text/plain": [
       "365114"
      ]
     },
     "execution_count": 41,
     "metadata": {},
     "output_type": "execute_result"
    }
   ],
   "source": [
    "len(paths_valid)"
   ]
  },
  {
   "cell_type": "code",
   "execution_count": 44,
   "id": "5c9f3558",
   "metadata": {},
   "outputs": [],
   "source": [
    "missing = paths.keys() - paths_valid"
   ]
  },
  {
   "cell_type": "code",
   "execution_count": 46,
   "id": "a3e6cc41",
   "metadata": {},
   "outputs": [
    {
     "data": {
      "application/vnd.jupyter.widget-view+json": {
       "model_id": "a7e76b6ebf8b48379afba65a555f8484",
       "version_major": 2,
       "version_minor": 0
      },
      "text/plain": [
       "  0%|          | 0/433645 [00:00<?, ?it/s]"
      ]
     },
     "metadata": {},
     "output_type": "display_data"
    }
   ],
   "source": [
    "for i, id in tqdm(enumerate(missing), total = len(missing)):\n",
    "    file_path = os.path.join(path, id)\n",
    "    if os.path.exists(file_path):\n",
    "        shutil.rmtree(file_path)"
   ]
  },
  {
   "cell_type": "code",
   "execution_count": 8,
   "id": "8f13e2a2",
   "metadata": {},
   "outputs": [
    {
     "data": {
      "application/vnd.jupyter.widget-view+json": {
       "model_id": "4339f4a794d14833b678df68911982b3",
       "version_major": 2,
       "version_minor": 0
      },
      "text/plain": [
       "  0%|          | 0/798759 [00:00<?, ?it/s]"
      ]
     },
     "metadata": {},
     "output_type": "display_data"
    }
   ],
   "source": [
    "missing_index = []\n",
    "for i, id in tqdm(enumerate(paths.keys()), total=len(paths.keys())):\n",
    "    if id in missing:\n",
    "        missing_index.append(i)"
   ]
  },
  {
   "cell_type": "code",
   "execution_count": 9,
   "id": "8846724b",
   "metadata": {},
   "outputs": [
    {
     "data": {
      "text/plain": [
       "(array([  0.,   0.,   0.,   1.,   0.,   0.,   2.,   1.,   0.,   0.,   0.,\n",
       "          0.,   0.,  13.,   1.,   0.,   1.,   0.,   0.,   0.,   1.,   0.,\n",
       "          1.,   0.,   0.,   0.,   0.,   0.,   0.,   2.,   1.,   0.,   1.,\n",
       "          0.,   0.,   0.,   0.,   0.,   0.,   0.,   1.,   0.,  15.,   0.,\n",
       "          1.,   0.,   0.,   0.,   0.,   0.,   0.,   0., 544.,   1.,   1.,\n",
       "          1.,   9.,   0.,   1.,   0.,   0.,   0.,   2.,   0.,   0.,   0.,\n",
       "          8.,   0.,   1.,   0.,   2.,   0.,   0.,   0.,   1.,   0.,   1.,\n",
       "          0.,   0.,   0.,   1.,  11.,   0.,   0.,   0.,   0.,   0.,   0.,\n",
       "          1.,   0.,   1.,   0.,   0.,   1.,   0.,  12.,   0.,   0.,   0.,\n",
       "         32.]),\n",
       " array([     0.  ,   7987.59,  15975.18,  23962.77,  31950.36,  39937.95,\n",
       "         47925.54,  55913.13,  63900.72,  71888.31,  79875.9 ,  87863.49,\n",
       "         95851.08, 103838.67, 111826.26, 119813.85, 127801.44, 135789.03,\n",
       "        143776.62, 151764.21, 159751.8 , 167739.39, 175726.98, 183714.57,\n",
       "        191702.16, 199689.75, 207677.34, 215664.93, 223652.52, 231640.11,\n",
       "        239627.7 , 247615.29, 255602.88, 263590.47, 271578.06, 279565.65,\n",
       "        287553.24, 295540.83, 303528.42, 311516.01, 319503.6 , 327491.19,\n",
       "        335478.78, 343466.37, 351453.96, 359441.55, 367429.14, 375416.73,\n",
       "        383404.32, 391391.91, 399379.5 , 407367.09, 415354.68, 423342.27,\n",
       "        431329.86, 439317.45, 447305.04, 455292.63, 463280.22, 471267.81,\n",
       "        479255.4 , 487242.99, 495230.58, 503218.17, 511205.76, 519193.35,\n",
       "        527180.94, 535168.53, 543156.12, 551143.71, 559131.3 , 567118.89,\n",
       "        575106.48, 583094.07, 591081.66, 599069.25, 607056.84, 615044.43,\n",
       "        623032.02, 631019.61, 639007.2 , 646994.79, 654982.38, 662969.97,\n",
       "        670957.56, 678945.15, 686932.74, 694920.33, 702907.92, 710895.51,\n",
       "        718883.1 , 726870.69, 734858.28, 742845.87, 750833.46, 758821.05,\n",
       "        766808.64, 774796.23, 782783.82, 790771.41, 798759.  ]),\n",
       " <BarContainer object of 100 artists>)"
      ]
     },
     "execution_count": 9,
     "metadata": {},
     "output_type": "execute_result"
    },
    {
     "data": {
      "image/png": "[encoded data removed]",
      "text/plain": [
       "<Figure size 432x288 with 1 Axes>"
      ]
     },
     "metadata": {
      "needs_background": "light"
     },
     "output_type": "display_data"
    }
   ],
   "source": [
    "import matplotlib.pyplot as plt\n",
    "plt.hist(missing_index, range=(0, len(paths)), bins=100)"
   ]
  },
  {
   "cell_type": "code",
   "execution_count": 15,
   "id": "de9ad67c",
   "metadata": {},
   "outputs": [
    {
     "data": {
      "application/vnd.jupyter.widget-view+json": {
       "model_id": "5d902c0571c24b1f923e8923ca8cfab2",
       "version_major": 2,
       "version_minor": 0
      },
      "text/plain": [
       "  0%|          | 0/772875 [00:00<?, ?it/s]"
      ]
     },
     "metadata": {},
     "output_type": "display_data"
    }
   ],
   "source": [
    "total_view = 4\n",
    "paths = os.listdir(path)\n",
    "paths_valid = []\n",
    "for i, id in tqdm(enumerate(paths), total = len(paths)):\n",
    "    if os.path.exists(os.path.join(path, id)):\n",
    "        if len(os.listdir(os.path.join(path, id))) == 2 * total_view:\n",
    "            paths_valid.append(id)"
   ]
  },
  {
   "cell_type": "code",
   "execution_count": 24,
   "id": "8bdb8acb",
   "metadata": {},
   "outputs": [
    {
     "data": {
      "text/plain": [
       "798759"
      ]
     },
     "execution_count": 24,
     "metadata": {},
     "output_type": "execute_result"
    }
   ],
   "source": [
    "len(paths)"
   ]
  },
  {
   "cell_type": "code",
   "execution_count": 18,
   "id": "93c6aeb0",
   "metadata": {},
   "outputs": [
    {
     "data": {
      "text/plain": [
       "772870"
      ]
     },
     "execution_count": 18,
     "metadata": {},
     "output_type": "execute_result"
    }
   ],
   "source": [
    "len(paths_valid)"
   ]
  },
  {
   "cell_type": "code",
   "execution_count": 22,
   "id": "a2c43110",
   "metadata": {},
   "outputs": [],
   "source": [
    "with open(os.path.join(path, 'valid_paths.json'), 'w') as f:\n",
    "    json.dump(paths_valid, f)"
   ]
  },
  {
   "cell_type": "code",
   "execution_count": 25,
   "id": "c8507e43",
   "metadata": {},
   "outputs": [
    {
     "data": {
      "application/vnd.jupyter.widget-view+json": {
       "model_id": "477f3c6597aa45cbb84cc5c32d0aa51d",
       "version_major": 2,
       "version_minor": 0
      },
      "text/plain": [
       "  0%|          | 0/798759 [00:00<?, ?it/s]"
      ]
     },
     "metadata": {},
     "output_type": "display_data"
    }
   ],
   "source": [
    "missing = []\n",
    "missing_index = []\n",
    "for i, id in tqdm(enumerate(paths.keys()), total = len(paths.keys())):\n",
    "    id_path = os.path.join(path, id)\n",
    "    if os.path.exists(id_path) and os.path.exists(os.path.join(id_path, '000.npy')) \\\n",
    "     and os.path.exists(os.path.join(id_path, '001.npy'))\\\n",
    "     and os.path.exists(os.path.join(id_path, '002.npy'))\\\n",
    "     and os.path.exists(os.path.join(id_path, '003.npy'))\\\n",
    "     and os.path.exists(os.path.join(id_path, '000.png'))\\\n",
    "     and os.path.exists(os.path.join(id_path, '001.png'))\\\n",
    "     and os.path.exists(os.path.join(id_path, '002.png'))\\\n",
    "     and os.path.exists(os.path.join(id_path, '003.png')):\n",
    "        continue\n",
    "    else:\n",
    "        missing.append(id)\n",
    "        missing_index.append(i)"
   ]
  },
  {
   "cell_type": "code",
   "execution_count": 30,
   "id": "46af5b89",
   "metadata": {},
   "outputs": [
    {
     "data": {
      "text/plain": [
       "(array([0.000e+00, 0.000e+00, 0.000e+00, 1.000e+00, 0.000e+00, 0.000e+00,\n",
       "        2.000e+00, 1.000e+00, 0.000e+00, 0.000e+00, 0.000e+00, 0.000e+00,\n",
       "        0.000e+00, 0.000e+00, 1.000e+00, 0.000e+00, 2.000e+00, 6.000e+00,\n",
       "        0.000e+00, 1.794e+03, 1.000e+00, 0.000e+00, 1.000e+00, 0.000e+00,\n",
       "        0.000e+00, 0.000e+00, 0.000e+00, 0.000e+00, 0.000e+00, 2.000e+00,\n",
       "        1.000e+00, 0.000e+00, 1.000e+00, 0.000e+00, 0.000e+00, 0.000e+00,\n",
       "        0.000e+00, 0.000e+00, 0.000e+00, 0.000e+00, 1.000e+00, 0.000e+00,\n",
       "        0.000e+00, 0.000e+00, 1.000e+00, 0.000e+00, 0.000e+00, 0.000e+00,\n",
       "        0.000e+00, 0.000e+00, 0.000e+00, 0.000e+00, 5.440e+02, 1.000e+00,\n",
       "        1.000e+00, 1.000e+00, 2.000e+00, 0.000e+00, 1.000e+00, 0.000e+00,\n",
       "        0.000e+00, 0.000e+00, 2.000e+00, 0.000e+00, 0.000e+00, 0.000e+00,\n",
       "        0.000e+00, 0.000e+00, 1.000e+00, 0.000e+00, 2.000e+00, 0.000e+00,\n",
       "        0.000e+00, 0.000e+00, 1.000e+00, 0.000e+00, 1.000e+00, 0.000e+00,\n",
       "        0.000e+00, 0.000e+00, 1.000e+00, 0.000e+00, 0.000e+00, 0.000e+00,\n",
       "        0.000e+00, 0.000e+00, 0.000e+00, 0.000e+00, 1.000e+00, 1.000e+00,\n",
       "        3.020e+03, 2.468e+03, 2.262e+03, 3.093e+03, 2.960e+03, 1.955e+03,\n",
       "        2.372e+03, 2.631e+03, 2.455e+03, 2.093e+03]),\n",
       " array([     0.  ,   7987.59,  15975.18,  23962.77,  31950.36,  39937.95,\n",
       "         47925.54,  55913.13,  63900.72,  71888.31,  79875.9 ,  87863.49,\n",
       "         95851.08, 103838.67, 111826.26, 119813.85, 127801.44, 135789.03,\n",
       "        143776.62, 151764.21, 159751.8 , 167739.39, 175726.98, 183714.57,\n",
       "        191702.16, 199689.75, 207677.34, 215664.93, 223652.52, 231640.11,\n",
       "        239627.7 , 247615.29, 255602.88, 263590.47, 271578.06, 279565.65,\n",
       "        287553.24, 295540.83, 303528.42, 311516.01, 319503.6 , 327491.19,\n",
       "        335478.78, 343466.37, 351453.96, 359441.55, 367429.14, 375416.73,\n",
       "        383404.32, 391391.91, 399379.5 , 407367.09, 415354.68, 423342.27,\n",
       "        431329.86, 439317.45, 447305.04, 455292.63, 463280.22, 471267.81,\n",
       "        479255.4 , 487242.99, 495230.58, 503218.17, 511205.76, 519193.35,\n",
       "        527180.94, 535168.53, 543156.12, 551143.71, 559131.3 , 567118.89,\n",
       "        575106.48, 583094.07, 591081.66, 599069.25, 607056.84, 615044.43,\n",
       "        623032.02, 631019.61, 639007.2 , 646994.79, 654982.38, 662969.97,\n",
       "        670957.56, 678945.15, 686932.74, 694920.33, 702907.92, 710895.51,\n",
       "        718883.1 , 726870.69, 734858.28, 742845.87, 750833.46, 758821.05,\n",
       "        766808.64, 774796.23, 782783.82, 790771.41, 798759.  ]),\n",
       " <a list of 100 Patch objects>)"
      ]
     },
     "execution_count": 30,
     "metadata": {},
     "output_type": "execute_result"
    },
    {
     "data": {
      "image/png": "[encoded data removed]",
      "text/plain": [
       "<Figure size 432x288 with 1 Axes>"
      ]
     },
     "metadata": {
      "needs_background": "light"
     },
     "output_type": "display_data"
    }
   ],
   "source": [
    "import matplotlib.pyplot as plt\n",
    "plt.hist(missing_index, range=(0, len(paths.keys())), bins=100)"
   ]
  },
  {
   "cell_type": "code",
   "execution_count": 28,
   "id": "9ac7c9b1",
   "metadata": {},
   "outputs": [
    {
     "data": {
      "text/plain": [
       "27684"
      ]
     },
     "execution_count": 28,
     "metadata": {},
     "output_type": "execute_result"
    }
   ],
   "source": [
    "len(missing_index)"
   ]
  },
  {
   "cell_type": "code",
   "execution_count": null,
   "id": "86a37d9f",
   "metadata": {},
   "outputs": [],
   "source": []
  }
 ],
 "metadata": {
  "kernelspec": {
   "display_name": "Python 3",
   "language": "python",
   "name": "python3"
  },
  "language_info": {
   "codemirror_mode": {
    "name": "ipython",
    "version": 3
   },
   "file_extension": ".py",
   "mimetype": "text/x-python",
   "name": "python",
   "nbconvert_exporter": "python",
   "pygments_lexer": "ipython3",
   "version": "3.8.8"
  }
 },
 "nbformat": 4,
 "nbformat_minor": 5
}
